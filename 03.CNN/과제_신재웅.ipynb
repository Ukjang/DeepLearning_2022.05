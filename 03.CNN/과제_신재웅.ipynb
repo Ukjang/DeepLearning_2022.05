{
  "nbformat": 4,
  "nbformat_minor": 0,
  "metadata": {
    "colab": {
      "name": "과제_신재웅.ipynb",
      "provenance": []
    },
    "kernelspec": {
      "name": "python3",
      "display_name": "Python 3"
    },
    "language_info": {
      "name": "python"
    },
    "accelerator": "GPU"
  },
  "cells": [
    {
      "cell_type": "code",
      "execution_count": 1,
      "metadata": {
        "id": "MAa7mgHqFrMu"
      },
      "outputs": [],
      "source": [
        "import numpy as np\n",
        "import pandas as pd\n",
        "import matplotlib.pyplot as plt\n",
        "import tensorflow as tf\n",
        "seed = 2022\n",
        "np.random.seed(seed)\n",
        "tf.random.set_seed(seed)"
      ]
    },
    {
      "cell_type": "code",
      "source": [
        "from tensorflow.keras.datasets import cifar100\n",
        "(X_train, y_train), (X_test, y_test) = cifar100.load_data()\n",
        "X_train.shape , y_train.shape , X_test.shape, y_test.shape"
      ],
      "metadata": {
        "colab": {
          "base_uri": "https://localhost:8080/"
        },
        "id": "vv3g6J_uF5Ty",
        "outputId": "eec8fd38-8fc1-40fc-fe10-072237671730"
      },
      "execution_count": 2,
      "outputs": [
        {
          "output_type": "stream",
          "name": "stdout",
          "text": [
            "Downloading data from https://www.cs.toronto.edu/~kriz/cifar-100-python.tar.gz\n",
            "169009152/169001437 [==============================] - 3s 0us/step\n",
            "169017344/169001437 [==============================] - 3s 0us/step\n"
          ]
        },
        {
          "output_type": "execute_result",
          "data": {
            "text/plain": [
              "((50000, 32, 32, 3), (50000, 1), (10000, 32, 32, 3), (10000, 1))"
            ]
          },
          "metadata": {},
          "execution_count": 2
        }
      ]
    },
    {
      "cell_type": "code",
      "source": [
        "class_names=['apple','aquarium_fish','baby','bear','beaver','bed','bee','beetle','bicycle','bottle','bowl','boy','bridge','bus','butterfly','camel','can','castle','caterpillar','cattle','chair','chimpanzee','clock','cloud','cockroach','couch','crab','crocodile','cup','dinosaur','dolphin','elephant','flatfish','forest','fox','girl','hamster','house','kangaroo','keyboard','lamp','lawn_mower','leopard','lion','lizard','lobster','man','maple_tree','motorcycle','mountain','mouse','mushroom','oak_tree','orange','orchid','otter','palm_tree','pear','pickup_truck','pine_tree','plain','plate','poppy','porcupine','possum','rabbit','raccoon','ray','road','rocket','rose','sea','seal','shark','shrew','skunk','skyscraper','snail','snake','spider','squirrel','streetcar','sunflower','sweet_pepper','table','tank','telephone','television','tiger','tractor','train','trout','tulip','turtle','wardrobe','whale','willow_tree','wolf','woman','worm']\n"
      ],
      "metadata": {
        "id": "yrqyJ1jXGW7f"
      },
      "execution_count": 3,
      "outputs": []
    },
    {
      "cell_type": "code",
      "source": [
        "X_train = X_train / 255.\n",
        "X_test = X_test / 255."
      ],
      "metadata": {
        "id": "bx2zwwrEGbRL"
      },
      "execution_count": 4,
      "outputs": []
    },
    {
      "cell_type": "code",
      "source": [
        "from tensorflow.keras.utils import to_categorical\n",
        "Y_train = to_categorical(y_train)\n",
        "Y_test = to_categorical(y_test)"
      ],
      "metadata": {
        "id": "bq-ZWtECGoFv"
      },
      "execution_count": 5,
      "outputs": []
    },
    {
      "cell_type": "code",
      "source": [
        "from tensorflow.keras.models import Sequential, load_model\n",
        "from tensorflow.keras.layers import Dense, Conv2D, Flatten, MaxPooling2D, Dropout\n",
        "from tensorflow.keras.callbacks import ModelCheckpoint, EarlyStopping\n",
        "from tensorflow.keras.optimizers import RMSprop"
      ],
      "metadata": {
        "id": "MIMLU6MfG79A"
      },
      "execution_count": 6,
      "outputs": []
    },
    {
      "cell_type": "code",
      "source": [
        "np.unique(y_train)"
      ],
      "metadata": {
        "colab": {
          "base_uri": "https://localhost:8080/"
        },
        "id": "aHGC_j4PHdJx",
        "outputId": "3a3380d9-9db1-42f3-9e11-a4206f585982"
      },
      "execution_count": 7,
      "outputs": [
        {
          "output_type": "execute_result",
          "data": {
            "text/plain": [
              "array([ 0,  1,  2,  3,  4,  5,  6,  7,  8,  9, 10, 11, 12, 13, 14, 15, 16,\n",
              "       17, 18, 19, 20, 21, 22, 23, 24, 25, 26, 27, 28, 29, 30, 31, 32, 33,\n",
              "       34, 35, 36, 37, 38, 39, 40, 41, 42, 43, 44, 45, 46, 47, 48, 49, 50,\n",
              "       51, 52, 53, 54, 55, 56, 57, 58, 59, 60, 61, 62, 63, 64, 65, 66, 67,\n",
              "       68, 69, 70, 71, 72, 73, 74, 75, 76, 77, 78, 79, 80, 81, 82, 83, 84,\n",
              "       85, 86, 87, 88, 89, 90, 91, 92, 93, 94, 95, 96, 97, 98, 99])"
            ]
          },
          "metadata": {},
          "execution_count": 7
        }
      ]
    },
    {
      "cell_type": "code",
      "source": [
        "model = Sequential([\n",
        "    Conv2D(32, (3,3), input_shape=(32, 32, 3), padding='same',activation='relu'),\n",
        "    Conv2D(32, (3,3), activation='relu'),\n",
        "    MaxPooling2D(),\n",
        "    Dropout(0.25),\n",
        "    Conv2D(64, (3,3), padding='same', activation='relu'),\n",
        "    Conv2D(64, (3,3), activation='relu'),\n",
        "    MaxPooling2D(),\n",
        "    Dropout(0.25),\n",
        "    Flatten(),\n",
        "    Dense(512, activation='relu'),\n",
        "    Dropout(0.5),\n",
        "    Dense(100, activation='softmax')\n",
        "])\n",
        "model.summary()"
      ],
      "metadata": {
        "colab": {
          "base_uri": "https://localhost:8080/"
        },
        "id": "bxLMfanFGwL6",
        "outputId": "14ad469e-4f63-4d13-ed3e-a4a05c2dc4cc"
      },
      "execution_count": 12,
      "outputs": [
        {
          "output_type": "stream",
          "name": "stdout",
          "text": [
            "Model: \"sequential_1\"\n",
            "_________________________________________________________________\n",
            " Layer (type)                Output Shape              Param #   \n",
            "=================================================================\n",
            " conv2d_4 (Conv2D)           (None, 32, 32, 32)        896       \n",
            "                                                                 \n",
            " conv2d_5 (Conv2D)           (None, 30, 30, 32)        9248      \n",
            "                                                                 \n",
            " max_pooling2d_2 (MaxPooling  (None, 15, 15, 32)       0         \n",
            " 2D)                                                             \n",
            "                                                                 \n",
            " dropout_3 (Dropout)         (None, 15, 15, 32)        0         \n",
            "                                                                 \n",
            " conv2d_6 (Conv2D)           (None, 15, 15, 64)        18496     \n",
            "                                                                 \n",
            " conv2d_7 (Conv2D)           (None, 13, 13, 64)        36928     \n",
            "                                                                 \n",
            " max_pooling2d_3 (MaxPooling  (None, 6, 6, 64)         0         \n",
            " 2D)                                                             \n",
            "                                                                 \n",
            " dropout_4 (Dropout)         (None, 6, 6, 64)          0         \n",
            "                                                                 \n",
            " flatten_1 (Flatten)         (None, 2304)              0         \n",
            "                                                                 \n",
            " dense_2 (Dense)             (None, 512)               1180160   \n",
            "                                                                 \n",
            " dropout_5 (Dropout)         (None, 512)               0         \n",
            "                                                                 \n",
            " dense_3 (Dense)             (None, 100)               51300     \n",
            "                                                                 \n",
            "=================================================================\n",
            "Total params: 1,297,028\n",
            "Trainable params: 1,297,028\n",
            "Non-trainable params: 0\n",
            "_________________________________________________________________\n"
          ]
        }
      ]
    },
    {
      "cell_type": "code",
      "source": [
        "model.compile(\n",
        "    optimizer=RMSprop(learning_rate=0.0001, decay=1e-6),\n",
        "    loss = 'categorical_crossentropy',\n",
        "    metrics = ['accuracy']\n",
        ")"
      ],
      "metadata": {
        "id": "Hd8nAt-uHoPs"
      },
      "execution_count": 13,
      "outputs": []
    },
    {
      "cell_type": "code",
      "source": [
        "model_path = 'best-cifar10-v1.h5'\n",
        "mc = ModelCheckpoint(model_path, verbose=1, save_best_only=True)\n",
        "es = EarlyStopping(patience=10)"
      ],
      "metadata": {
        "id": "oxIReU-jH62R"
      },
      "execution_count": 14,
      "outputs": []
    },
    {
      "cell_type": "code",
      "source": [
        "hist1 = model.fit(X_train, Y_train, validation_split = 0.2,\n",
        "                  epochs = 100, batch_size = 32,\n",
        "                  callbacks=[mc, es])"
      ],
      "metadata": {
        "colab": {
          "base_uri": "https://localhost:8080/"
        },
        "id": "YXoc6esYH8nY",
        "outputId": "fb7c07cc-bb10-4127-cfce-817ce728f10b"
      },
      "execution_count": 15,
      "outputs": [
        {
          "output_type": "stream",
          "name": "stdout",
          "text": [
            "Epoch 1/100\n",
            "1249/1250 [============================>.] - ETA: 0s - loss: 4.3768 - accuracy: 0.0367\n",
            "Epoch 1: val_loss improved from inf to 4.09259, saving model to best-cifar10-v1.h5\n",
            "1250/1250 [==============================] - 9s 7ms/step - loss: 4.3765 - accuracy: 0.0367 - val_loss: 4.0926 - val_accuracy: 0.0881\n",
            "Epoch 2/100\n",
            "1250/1250 [==============================] - ETA: 0s - loss: 3.9612 - accuracy: 0.0964\n",
            "Epoch 2: val_loss improved from 4.09259 to 3.71452, saving model to best-cifar10-v1.h5\n",
            "1250/1250 [==============================] - 8s 7ms/step - loss: 3.9612 - accuracy: 0.0964 - val_loss: 3.7145 - val_accuracy: 0.1518\n",
            "Epoch 3/100\n",
            "1246/1250 [============================>.] - ETA: 0s - loss: 3.6985 - accuracy: 0.1359\n",
            "Epoch 3: val_loss improved from 3.71452 to 3.50149, saving model to best-cifar10-v1.h5\n",
            "1250/1250 [==============================] - 8s 6ms/step - loss: 3.6984 - accuracy: 0.1360 - val_loss: 3.5015 - val_accuracy: 0.1858\n",
            "Epoch 4/100\n",
            "1244/1250 [============================>.] - ETA: 0s - loss: 3.5145 - accuracy: 0.1693\n",
            "Epoch 4: val_loss improved from 3.50149 to 3.35758, saving model to best-cifar10-v1.h5\n",
            "1250/1250 [==============================] - 8s 7ms/step - loss: 3.5139 - accuracy: 0.1694 - val_loss: 3.3576 - val_accuracy: 0.2050\n",
            "Epoch 5/100\n",
            "1241/1250 [============================>.] - ETA: 0s - loss: 3.3832 - accuracy: 0.1928\n",
            "Epoch 5: val_loss improved from 3.35758 to 3.26514, saving model to best-cifar10-v1.h5\n",
            "1250/1250 [==============================] - 8s 6ms/step - loss: 3.3830 - accuracy: 0.1928 - val_loss: 3.2651 - val_accuracy: 0.2216\n",
            "Epoch 6/100\n",
            "1248/1250 [============================>.] - ETA: 0s - loss: 3.2835 - accuracy: 0.2118\n",
            "Epoch 6: val_loss improved from 3.26514 to 3.14106, saving model to best-cifar10-v1.h5\n",
            "1250/1250 [==============================] - 8s 6ms/step - loss: 3.2835 - accuracy: 0.2119 - val_loss: 3.1411 - val_accuracy: 0.2493\n",
            "Epoch 7/100\n",
            "1250/1250 [==============================] - ETA: 0s - loss: 3.1901 - accuracy: 0.2287\n",
            "Epoch 7: val_loss improved from 3.14106 to 3.06872, saving model to best-cifar10-v1.h5\n",
            "1250/1250 [==============================] - 8s 6ms/step - loss: 3.1901 - accuracy: 0.2287 - val_loss: 3.0687 - val_accuracy: 0.2639\n",
            "Epoch 8/100\n",
            "1241/1250 [============================>.] - ETA: 0s - loss: 3.1085 - accuracy: 0.2436\n",
            "Epoch 8: val_loss improved from 3.06872 to 2.99600, saving model to best-cifar10-v1.h5\n",
            "1250/1250 [==============================] - 7s 6ms/step - loss: 3.1082 - accuracy: 0.2437 - val_loss: 2.9960 - val_accuracy: 0.2714\n",
            "Epoch 9/100\n",
            "1242/1250 [============================>.] - ETA: 0s - loss: 3.0395 - accuracy: 0.2557\n",
            "Epoch 9: val_loss improved from 2.99600 to 2.92910, saving model to best-cifar10-v1.h5\n",
            "1250/1250 [==============================] - 7s 6ms/step - loss: 3.0397 - accuracy: 0.2556 - val_loss: 2.9291 - val_accuracy: 0.2876\n",
            "Epoch 10/100\n",
            "1245/1250 [============================>.] - ETA: 0s - loss: 2.9784 - accuracy: 0.2692\n",
            "Epoch 10: val_loss improved from 2.92910 to 2.87893, saving model to best-cifar10-v1.h5\n",
            "1250/1250 [==============================] - 8s 6ms/step - loss: 2.9777 - accuracy: 0.2694 - val_loss: 2.8789 - val_accuracy: 0.2996\n",
            "Epoch 11/100\n",
            "1249/1250 [============================>.] - ETA: 0s - loss: 2.9247 - accuracy: 0.2779\n",
            "Epoch 11: val_loss improved from 2.87893 to 2.80592, saving model to best-cifar10-v1.h5\n",
            "1250/1250 [==============================] - 8s 7ms/step - loss: 2.9243 - accuracy: 0.2779 - val_loss: 2.8059 - val_accuracy: 0.3102\n",
            "Epoch 12/100\n",
            "1250/1250 [==============================] - ETA: 0s - loss: 2.8655 - accuracy: 0.2912\n",
            "Epoch 12: val_loss improved from 2.80592 to 2.79511, saving model to best-cifar10-v1.h5\n",
            "1250/1250 [==============================] - 8s 6ms/step - loss: 2.8655 - accuracy: 0.2912 - val_loss: 2.7951 - val_accuracy: 0.3161\n",
            "Epoch 13/100\n",
            "1250/1250 [==============================] - ETA: 0s - loss: 2.8173 - accuracy: 0.3020\n",
            "Epoch 13: val_loss improved from 2.79511 to 2.78189, saving model to best-cifar10-v1.h5\n",
            "1250/1250 [==============================] - 8s 6ms/step - loss: 2.8173 - accuracy: 0.3020 - val_loss: 2.7819 - val_accuracy: 0.3210\n",
            "Epoch 14/100\n",
            "1246/1250 [============================>.] - ETA: 0s - loss: 2.7678 - accuracy: 0.3096\n",
            "Epoch 14: val_loss improved from 2.78189 to 2.73836, saving model to best-cifar10-v1.h5\n",
            "1250/1250 [==============================] - 10s 8ms/step - loss: 2.7674 - accuracy: 0.3095 - val_loss: 2.7384 - val_accuracy: 0.3237\n",
            "Epoch 15/100\n",
            "1247/1250 [============================>.] - ETA: 0s - loss: 2.7219 - accuracy: 0.3206\n",
            "Epoch 15: val_loss improved from 2.73836 to 2.65496, saving model to best-cifar10-v1.h5\n",
            "1250/1250 [==============================] - 12s 10ms/step - loss: 2.7213 - accuracy: 0.3207 - val_loss: 2.6550 - val_accuracy: 0.3425\n",
            "Epoch 16/100\n",
            "1245/1250 [============================>.] - ETA: 0s - loss: 2.6784 - accuracy: 0.3292\n",
            "Epoch 16: val_loss improved from 2.65496 to 2.61876, saving model to best-cifar10-v1.h5\n",
            "1250/1250 [==============================] - 9s 7ms/step - loss: 2.6790 - accuracy: 0.3291 - val_loss: 2.6188 - val_accuracy: 0.3522\n",
            "Epoch 17/100\n",
            "1241/1250 [============================>.] - ETA: 0s - loss: 2.6407 - accuracy: 0.3384\n",
            "Epoch 17: val_loss improved from 2.61876 to 2.59874, saving model to best-cifar10-v1.h5\n",
            "1250/1250 [==============================] - 8s 7ms/step - loss: 2.6407 - accuracy: 0.3385 - val_loss: 2.5987 - val_accuracy: 0.3529\n",
            "Epoch 18/100\n",
            "1240/1250 [============================>.] - ETA: 0s - loss: 2.6089 - accuracy: 0.3437\n",
            "Epoch 18: val_loss improved from 2.59874 to 2.57682, saving model to best-cifar10-v1.h5\n",
            "1250/1250 [==============================] - 9s 7ms/step - loss: 2.6098 - accuracy: 0.3437 - val_loss: 2.5768 - val_accuracy: 0.3596\n",
            "Epoch 19/100\n",
            "1242/1250 [============================>.] - ETA: 0s - loss: 2.5720 - accuracy: 0.3519\n",
            "Epoch 19: val_loss improved from 2.57682 to 2.53156, saving model to best-cifar10-v1.h5\n",
            "1250/1250 [==============================] - 8s 6ms/step - loss: 2.5725 - accuracy: 0.3517 - val_loss: 2.5316 - val_accuracy: 0.3712\n",
            "Epoch 20/100\n",
            "1243/1250 [============================>.] - ETA: 0s - loss: 2.5457 - accuracy: 0.3560\n",
            "Epoch 20: val_loss improved from 2.53156 to 2.52620, saving model to best-cifar10-v1.h5\n",
            "1250/1250 [==============================] - 8s 6ms/step - loss: 2.5469 - accuracy: 0.3559 - val_loss: 2.5262 - val_accuracy: 0.3705\n",
            "Epoch 21/100\n",
            "1250/1250 [==============================] - ETA: 0s - loss: 2.5164 - accuracy: 0.3638\n",
            "Epoch 21: val_loss improved from 2.52620 to 2.49316, saving model to best-cifar10-v1.h5\n",
            "1250/1250 [==============================] - 9s 7ms/step - loss: 2.5164 - accuracy: 0.3638 - val_loss: 2.4932 - val_accuracy: 0.3762\n",
            "Epoch 22/100\n",
            "1246/1250 [============================>.] - ETA: 0s - loss: 2.4866 - accuracy: 0.3701\n",
            "Epoch 22: val_loss improved from 2.49316 to 2.47914, saving model to best-cifar10-v1.h5\n",
            "1250/1250 [==============================] - 8s 6ms/step - loss: 2.4866 - accuracy: 0.3702 - val_loss: 2.4791 - val_accuracy: 0.3784\n",
            "Epoch 23/100\n",
            "1245/1250 [============================>.] - ETA: 0s - loss: 2.4616 - accuracy: 0.3754\n",
            "Epoch 23: val_loss improved from 2.47914 to 2.44435, saving model to best-cifar10-v1.h5\n",
            "1250/1250 [==============================] - 8s 7ms/step - loss: 2.4610 - accuracy: 0.3756 - val_loss: 2.4444 - val_accuracy: 0.3872\n",
            "Epoch 24/100\n",
            "1247/1250 [============================>.] - ETA: 0s - loss: 2.4441 - accuracy: 0.3760\n",
            "Epoch 24: val_loss did not improve from 2.44435\n",
            "1250/1250 [==============================] - 8s 6ms/step - loss: 2.4437 - accuracy: 0.3760 - val_loss: 2.4845 - val_accuracy: 0.3816\n",
            "Epoch 25/100\n",
            "1246/1250 [============================>.] - ETA: 0s - loss: 2.4178 - accuracy: 0.3848\n",
            "Epoch 25: val_loss improved from 2.44435 to 2.41991, saving model to best-cifar10-v1.h5\n",
            "1250/1250 [==============================] - 7s 6ms/step - loss: 2.4176 - accuracy: 0.3847 - val_loss: 2.4199 - val_accuracy: 0.3882\n",
            "Epoch 26/100\n",
            "1246/1250 [============================>.] - ETA: 0s - loss: 2.4002 - accuracy: 0.3887\n",
            "Epoch 26: val_loss improved from 2.41991 to 2.41049, saving model to best-cifar10-v1.h5\n",
            "1250/1250 [==============================] - 8s 6ms/step - loss: 2.4014 - accuracy: 0.3885 - val_loss: 2.4105 - val_accuracy: 0.3933\n",
            "Epoch 27/100\n",
            "1246/1250 [============================>.] - ETA: 0s - loss: 2.3790 - accuracy: 0.3954\n",
            "Epoch 27: val_loss did not improve from 2.41049\n",
            "1250/1250 [==============================] - 9s 7ms/step - loss: 2.3797 - accuracy: 0.3953 - val_loss: 2.4166 - val_accuracy: 0.3945\n",
            "Epoch 28/100\n",
            "1244/1250 [============================>.] - ETA: 0s - loss: 2.3697 - accuracy: 0.3940\n",
            "Epoch 28: val_loss improved from 2.41049 to 2.36964, saving model to best-cifar10-v1.h5\n",
            "1250/1250 [==============================] - 10s 8ms/step - loss: 2.3708 - accuracy: 0.3938 - val_loss: 2.3696 - val_accuracy: 0.4068\n",
            "Epoch 29/100\n",
            "1248/1250 [============================>.] - ETA: 0s - loss: 2.3496 - accuracy: 0.4006\n",
            "Epoch 29: val_loss did not improve from 2.36964\n",
            "1250/1250 [==============================] - 7s 6ms/step - loss: 2.3506 - accuracy: 0.4004 - val_loss: 2.4032 - val_accuracy: 0.3949\n",
            "Epoch 30/100\n",
            "1247/1250 [============================>.] - ETA: 0s - loss: 2.3381 - accuracy: 0.4057\n",
            "Epoch 30: val_loss improved from 2.36964 to 2.36933, saving model to best-cifar10-v1.h5\n",
            "1250/1250 [==============================] - 11s 8ms/step - loss: 2.3386 - accuracy: 0.4057 - val_loss: 2.3693 - val_accuracy: 0.4005\n",
            "Epoch 31/100\n",
            "1250/1250 [==============================] - ETA: 0s - loss: 2.3275 - accuracy: 0.4070\n",
            "Epoch 31: val_loss did not improve from 2.36933\n",
            "1250/1250 [==============================] - 9s 7ms/step - loss: 2.3275 - accuracy: 0.4070 - val_loss: 2.3711 - val_accuracy: 0.3971\n",
            "Epoch 32/100\n",
            "1247/1250 [============================>.] - ETA: 0s - loss: 2.3156 - accuracy: 0.4075\n",
            "Epoch 32: val_loss improved from 2.36933 to 2.36637, saving model to best-cifar10-v1.h5\n",
            "1250/1250 [==============================] - 9s 7ms/step - loss: 2.3155 - accuracy: 0.4076 - val_loss: 2.3664 - val_accuracy: 0.4043\n",
            "Epoch 33/100\n",
            "1250/1250 [==============================] - ETA: 0s - loss: 2.2983 - accuracy: 0.4105\n",
            "Epoch 33: val_loss improved from 2.36637 to 2.32336, saving model to best-cifar10-v1.h5\n",
            "1250/1250 [==============================] - 7s 6ms/step - loss: 2.2983 - accuracy: 0.4105 - val_loss: 2.3234 - val_accuracy: 0.4132\n",
            "Epoch 34/100\n",
            "1242/1250 [============================>.] - ETA: 0s - loss: 2.2954 - accuracy: 0.4136\n",
            "Epoch 34: val_loss improved from 2.32336 to 2.29373, saving model to best-cifar10-v1.h5\n",
            "1250/1250 [==============================] - 10s 8ms/step - loss: 2.2950 - accuracy: 0.4136 - val_loss: 2.2937 - val_accuracy: 0.4196\n",
            "Epoch 35/100\n",
            "1243/1250 [============================>.] - ETA: 0s - loss: 2.2860 - accuracy: 0.4159\n",
            "Epoch 35: val_loss did not improve from 2.29373\n",
            "1250/1250 [==============================] - 8s 6ms/step - loss: 2.2877 - accuracy: 0.4156 - val_loss: 2.3049 - val_accuracy: 0.4115\n",
            "Epoch 36/100\n",
            "1242/1250 [============================>.] - ETA: 0s - loss: 2.2779 - accuracy: 0.4172\n",
            "Epoch 36: val_loss did not improve from 2.29373\n",
            "1250/1250 [==============================] - 8s 7ms/step - loss: 2.2774 - accuracy: 0.4173 - val_loss: 2.3217 - val_accuracy: 0.4121\n",
            "Epoch 37/100\n",
            "1246/1250 [============================>.] - ETA: 0s - loss: 2.2620 - accuracy: 0.4230\n",
            "Epoch 37: val_loss improved from 2.29373 to 2.27885, saving model to best-cifar10-v1.h5\n",
            "1250/1250 [==============================] - 9s 7ms/step - loss: 2.2612 - accuracy: 0.4230 - val_loss: 2.2788 - val_accuracy: 0.4177\n",
            "Epoch 38/100\n",
            "1245/1250 [============================>.] - ETA: 0s - loss: 2.2569 - accuracy: 0.4219\n",
            "Epoch 38: val_loss improved from 2.27885 to 2.27343, saving model to best-cifar10-v1.h5\n",
            "1250/1250 [==============================] - 8s 6ms/step - loss: 2.2566 - accuracy: 0.4220 - val_loss: 2.2734 - val_accuracy: 0.4204\n",
            "Epoch 39/100\n",
            "1246/1250 [============================>.] - ETA: 0s - loss: 2.2528 - accuracy: 0.4247\n",
            "Epoch 39: val_loss improved from 2.27343 to 2.25626, saving model to best-cifar10-v1.h5\n",
            "1250/1250 [==============================] - 8s 6ms/step - loss: 2.2529 - accuracy: 0.4248 - val_loss: 2.2563 - val_accuracy: 0.4282\n",
            "Epoch 40/100\n",
            "1246/1250 [============================>.] - ETA: 0s - loss: 2.2419 - accuracy: 0.4266\n",
            "Epoch 40: val_loss improved from 2.25626 to 2.24584, saving model to best-cifar10-v1.h5\n",
            "1250/1250 [==============================] - 8s 6ms/step - loss: 2.2427 - accuracy: 0.4263 - val_loss: 2.2458 - val_accuracy: 0.4256\n",
            "Epoch 41/100\n",
            "1249/1250 [============================>.] - ETA: 0s - loss: 2.2357 - accuracy: 0.4284\n",
            "Epoch 41: val_loss improved from 2.24584 to 2.23506, saving model to best-cifar10-v1.h5\n",
            "1250/1250 [==============================] - 8s 6ms/step - loss: 2.2356 - accuracy: 0.4284 - val_loss: 2.2351 - val_accuracy: 0.4324\n",
            "Epoch 42/100\n",
            "1246/1250 [============================>.] - ETA: 0s - loss: 2.2244 - accuracy: 0.4293\n",
            "Epoch 42: val_loss did not improve from 2.23506\n",
            "1250/1250 [==============================] - 8s 6ms/step - loss: 2.2250 - accuracy: 0.4291 - val_loss: 2.3037 - val_accuracy: 0.4240\n",
            "Epoch 43/100\n",
            "1250/1250 [==============================] - ETA: 0s - loss: 2.2335 - accuracy: 0.4290\n",
            "Epoch 43: val_loss did not improve from 2.23506\n",
            "1250/1250 [==============================] - 9s 7ms/step - loss: 2.2335 - accuracy: 0.4290 - val_loss: 2.2587 - val_accuracy: 0.4249\n",
            "Epoch 44/100\n",
            "1247/1250 [============================>.] - ETA: 0s - loss: 2.2307 - accuracy: 0.4305\n",
            "Epoch 44: val_loss improved from 2.23506 to 2.23465, saving model to best-cifar10-v1.h5\n",
            "1250/1250 [==============================] - 8s 6ms/step - loss: 2.2304 - accuracy: 0.4305 - val_loss: 2.2346 - val_accuracy: 0.4316\n",
            "Epoch 45/100\n",
            "1240/1250 [============================>.] - ETA: 0s - loss: 2.2123 - accuracy: 0.4377\n",
            "Epoch 45: val_loss did not improve from 2.23465\n",
            "1250/1250 [==============================] - 8s 7ms/step - loss: 2.2116 - accuracy: 0.4378 - val_loss: 2.2561 - val_accuracy: 0.4282\n",
            "Epoch 46/100\n",
            "1248/1250 [============================>.] - ETA: 0s - loss: 2.2085 - accuracy: 0.4334\n",
            "Epoch 46: val_loss did not improve from 2.23465\n",
            "1250/1250 [==============================] - 7s 6ms/step - loss: 2.2084 - accuracy: 0.4335 - val_loss: 2.2367 - val_accuracy: 0.4273\n",
            "Epoch 47/100\n",
            "1249/1250 [============================>.] - ETA: 0s - loss: 2.2058 - accuracy: 0.4354\n",
            "Epoch 47: val_loss did not improve from 2.23465\n",
            "1250/1250 [==============================] - 8s 7ms/step - loss: 2.2058 - accuracy: 0.4354 - val_loss: 2.2357 - val_accuracy: 0.4306\n",
            "Epoch 48/100\n",
            "1246/1250 [============================>.] - ETA: 0s - loss: 2.2099 - accuracy: 0.4367\n",
            "Epoch 48: val_loss did not improve from 2.23465\n",
            "1250/1250 [==============================] - 8s 6ms/step - loss: 2.2103 - accuracy: 0.4366 - val_loss: 2.2450 - val_accuracy: 0.4321\n",
            "Epoch 49/100\n",
            "1246/1250 [============================>.] - ETA: 0s - loss: 2.1966 - accuracy: 0.4373\n",
            "Epoch 49: val_loss improved from 2.23465 to 2.23347, saving model to best-cifar10-v1.h5\n",
            "1250/1250 [==============================] - 8s 6ms/step - loss: 2.1976 - accuracy: 0.4372 - val_loss: 2.2335 - val_accuracy: 0.4314\n",
            "Epoch 50/100\n",
            "1247/1250 [============================>.] - ETA: 0s - loss: 2.1977 - accuracy: 0.4383\n",
            "Epoch 50: val_loss improved from 2.23347 to 2.21848, saving model to best-cifar10-v1.h5\n",
            "1250/1250 [==============================] - 8s 6ms/step - loss: 2.1972 - accuracy: 0.4383 - val_loss: 2.2185 - val_accuracy: 0.4303\n",
            "Epoch 51/100\n",
            "1247/1250 [============================>.] - ETA: 0s - loss: 2.1988 - accuracy: 0.4396\n",
            "Epoch 51: val_loss did not improve from 2.21848\n",
            "1250/1250 [==============================] - 8s 6ms/step - loss: 2.1986 - accuracy: 0.4396 - val_loss: 2.2556 - val_accuracy: 0.4235\n",
            "Epoch 52/100\n",
            "1246/1250 [============================>.] - ETA: 0s - loss: 2.1821 - accuracy: 0.4410\n",
            "Epoch 52: val_loss improved from 2.21848 to 2.20805, saving model to best-cifar10-v1.h5\n",
            "1250/1250 [==============================] - 8s 7ms/step - loss: 2.1822 - accuracy: 0.4410 - val_loss: 2.2081 - val_accuracy: 0.4400\n",
            "Epoch 53/100\n",
            "1250/1250 [==============================] - ETA: 0s - loss: 2.1858 - accuracy: 0.4398\n",
            "Epoch 53: val_loss did not improve from 2.20805\n",
            "1250/1250 [==============================] - 8s 7ms/step - loss: 2.1858 - accuracy: 0.4398 - val_loss: 2.2643 - val_accuracy: 0.4286\n",
            "Epoch 54/100\n",
            "1249/1250 [============================>.] - ETA: 0s - loss: 2.1801 - accuracy: 0.4429\n",
            "Epoch 54: val_loss did not improve from 2.20805\n",
            "1250/1250 [==============================] - 7s 6ms/step - loss: 2.1802 - accuracy: 0.4428 - val_loss: 2.2316 - val_accuracy: 0.4338\n",
            "Epoch 55/100\n",
            "1242/1250 [============================>.] - ETA: 0s - loss: 2.1700 - accuracy: 0.4470\n",
            "Epoch 55: val_loss did not improve from 2.20805\n",
            "1250/1250 [==============================] - 8s 7ms/step - loss: 2.1703 - accuracy: 0.4468 - val_loss: 2.2290 - val_accuracy: 0.4321\n",
            "Epoch 56/100\n",
            "1247/1250 [============================>.] - ETA: 0s - loss: 2.1748 - accuracy: 0.4448\n",
            "Epoch 56: val_loss did not improve from 2.20805\n",
            "1250/1250 [==============================] - 8s 7ms/step - loss: 2.1756 - accuracy: 0.4446 - val_loss: 2.2443 - val_accuracy: 0.4395\n",
            "Epoch 57/100\n",
            "1250/1250 [==============================] - ETA: 0s - loss: 2.1784 - accuracy: 0.4442\n",
            "Epoch 57: val_loss did not improve from 2.20805\n",
            "1250/1250 [==============================] - 8s 6ms/step - loss: 2.1784 - accuracy: 0.4442 - val_loss: 2.2150 - val_accuracy: 0.4380\n",
            "Epoch 58/100\n",
            "1248/1250 [============================>.] - ETA: 0s - loss: 2.1704 - accuracy: 0.4427\n",
            "Epoch 58: val_loss did not improve from 2.20805\n",
            "1250/1250 [==============================] - 8s 6ms/step - loss: 2.1709 - accuracy: 0.4425 - val_loss: 2.2527 - val_accuracy: 0.4258\n",
            "Epoch 59/100\n",
            "1246/1250 [============================>.] - ETA: 0s - loss: 2.1737 - accuracy: 0.4445\n",
            "Epoch 59: val_loss did not improve from 2.20805\n",
            "1250/1250 [==============================] - 7s 6ms/step - loss: 2.1744 - accuracy: 0.4444 - val_loss: 2.2361 - val_accuracy: 0.4389\n",
            "Epoch 60/100\n",
            "1247/1250 [============================>.] - ETA: 0s - loss: 2.1664 - accuracy: 0.4486\n",
            "Epoch 60: val_loss did not improve from 2.20805\n",
            "1250/1250 [==============================] - 8s 6ms/step - loss: 2.1662 - accuracy: 0.4487 - val_loss: 2.2302 - val_accuracy: 0.4351\n",
            "Epoch 61/100\n",
            "1248/1250 [============================>.] - ETA: 0s - loss: 2.1638 - accuracy: 0.4470\n",
            "Epoch 61: val_loss did not improve from 2.20805\n",
            "1250/1250 [==============================] - 7s 6ms/step - loss: 2.1647 - accuracy: 0.4468 - val_loss: 2.2109 - val_accuracy: 0.4358\n",
            "Epoch 62/100\n",
            "1243/1250 [============================>.] - ETA: 0s - loss: 2.1661 - accuracy: 0.4456\n",
            "Epoch 62: val_loss did not improve from 2.20805\n",
            "1250/1250 [==============================] - 7s 6ms/step - loss: 2.1662 - accuracy: 0.4455 - val_loss: 2.2582 - val_accuracy: 0.4371\n"
          ]
        }
      ]
    },
    {
      "cell_type": "code",
      "source": [
        "best_model = load_model(model_path)\n",
        "best_model.evaluate(X_test, Y_test)"
      ],
      "metadata": {
        "colab": {
          "base_uri": "https://localhost:8080/"
        },
        "id": "I27Xf7-TIOiL",
        "outputId": "62eacc6c-906b-4c7a-e3e8-abe84db98a2c"
      },
      "execution_count": 16,
      "outputs": [
        {
          "output_type": "stream",
          "name": "stdout",
          "text": [
            "313/313 [==============================] - 1s 4ms/step - loss: 2.1846 - accuracy: 0.4444\n"
          ]
        },
        {
          "output_type": "execute_result",
          "data": {
            "text/plain": [
              "[2.1846444606781006, 0.44440001249313354]"
            ]
          },
          "metadata": {},
          "execution_count": 16
        }
      ]
    },
    {
      "cell_type": "code",
      "source": [
        "y_acc1 = hist1.history['accuracy']\n",
        "y_vloss1 = hist1.history['val_loss']\n",
        "xs1 = np.arange(1, len(y_acc1) + 1)"
      ],
      "metadata": {
        "id": "d4D77jS4IO9N"
      },
      "execution_count": 17,
      "outputs": []
    },
    {
      "cell_type": "code",
      "source": [
        "plt.figure(figsize=(20, 8))\n",
        "plt.plot(xs1, y_acc1, label='train.accuracy')\n",
        "plt.plot(xs1, y_vloss1, label='validation loss')\n",
        "plt.legend(), plt.grid()\n",
        "# plt.ylim([0,1.2])\n",
        "plt.xlabel('Epoch')\n",
        "plt.title('model_32_64')\n",
        "plt.show()"
      ],
      "metadata": {
        "colab": {
          "base_uri": "https://localhost:8080/",
          "height": 290
        },
        "id": "kZ9hQaF-IO_Z",
        "outputId": "5f0be964-b868-4050-8dc9-65bef9596e62"
      },
      "execution_count": 19,
      "outputs": [
        {
          "output_type": "display_data",
          "data": {
            "text/plain": [
              "<Figure size 1440x576 with 1 Axes>"
            ],
            "image/png": "[encoded data removed]"
          },
          "metadata": {
            "needs_background": "light"
          }
        }
      ]
    },
    {
      "cell_type": "markdown",
      "source": [
        "- 64 / 128"
      ],
      "metadata": {
        "id": "FyoeL9kHIxzJ"
      }
    },
    {
      "cell_type": "code",
      "source": [
        "model_64_128 = Sequential([\n",
        "    Conv2D(64, (3,3), input_shape=(32, 32, 3), padding='same',activation='relu'),\n",
        "    Conv2D(64, (3,3), activation='relu'),\n",
        "    MaxPooling2D(),\n",
        "    Dropout(0.25),\n",
        "    Conv2D(128, (3,3), padding='same', activation='relu'),\n",
        "    Conv2D(128, (3,3), activation='relu'),\n",
        "    MaxPooling2D(),\n",
        "    Dropout(0.25),\n",
        "    Flatten(),\n",
        "    Dense(512, activation='relu'),\n",
        "    Dropout(0.5),\n",
        "    Dense(100, activation='softmax')\n",
        "])\n",
        "model_64_128.summary()"
      ],
      "metadata": {
        "colab": {
          "base_uri": "https://localhost:8080/"
        },
        "id": "ITrlfndBIPBm",
        "outputId": "f0e51696-ed6d-4f41-beed-00a6173cc597"
      },
      "execution_count": 22,
      "outputs": [
        {
          "output_type": "stream",
          "name": "stdout",
          "text": [
            "Model: \"sequential_2\"\n",
            "_________________________________________________________________\n",
            " Layer (type)                Output Shape              Param #   \n",
            "=================================================================\n",
            " conv2d_8 (Conv2D)           (None, 32, 32, 64)        1792      \n",
            "                                                                 \n",
            " conv2d_9 (Conv2D)           (None, 30, 30, 64)        36928     \n",
            "                                                                 \n",
            " max_pooling2d_4 (MaxPooling  (None, 15, 15, 64)       0         \n",
            " 2D)                                                             \n",
            "                                                                 \n",
            " dropout_6 (Dropout)         (None, 15, 15, 64)        0         \n",
            "                                                                 \n",
            " conv2d_10 (Conv2D)          (None, 15, 15, 128)       73856     \n",
            "                                                                 \n",
            " conv2d_11 (Conv2D)          (None, 13, 13, 128)       147584    \n",
            "                                                                 \n",
            " max_pooling2d_5 (MaxPooling  (None, 6, 6, 128)        0         \n",
            " 2D)                                                             \n",
            "                                                                 \n",
            " dropout_7 (Dropout)         (None, 6, 6, 128)         0         \n",
            "                                                                 \n",
            " flatten_2 (Flatten)         (None, 4608)              0         \n",
            "                                                                 \n",
            " dense_4 (Dense)             (None, 512)               2359808   \n",
            "                                                                 \n",
            " dropout_8 (Dropout)         (None, 512)               0         \n",
            "                                                                 \n",
            " dense_5 (Dense)             (None, 100)               51300     \n",
            "                                                                 \n",
            "=================================================================\n",
            "Total params: 2,671,268\n",
            "Trainable params: 2,671,268\n",
            "Non-trainable params: 0\n",
            "_________________________________________________________________\n"
          ]
        }
      ]
    },
    {
      "cell_type": "code",
      "source": [
        "model_64_128.compile(\n",
        "    optimizer=RMSprop(learning_rate=0.0001, decay=1e-6),\n",
        "    loss = 'categorical_crossentropy',\n",
        "    metrics = ['accuracy']\n",
        ")\n",
        "\n",
        "model_64_128_path = 'best-cifar10-v2.h5'\n",
        "mc = ModelCheckpoint(model_64_128_path, verbose=1, save_best_only=True)\n",
        "es = EarlyStopping(patience=10)\n",
        "\n",
        "hist2 = model_64_128.fit(X_train, Y_train, validation_split = 0.2,\n",
        "                  epochs = 100, batch_size = 32,\n",
        "                  callbacks=[mc, es])"
      ],
      "metadata": {
        "colab": {
          "base_uri": "https://localhost:8080/"
        },
        "id": "tBSTDCePII_6",
        "outputId": "107ef2fc-227b-40c8-c549-77f1b700c88d"
      },
      "execution_count": 23,
      "outputs": [
        {
          "output_type": "stream",
          "name": "stdout",
          "text": [
            "Epoch 1/100\n",
            "1245/1250 [============================>.] - ETA: 0s - loss: 4.2890 - accuracy: 0.0511\n",
            "Epoch 1: val_loss improved from inf to 3.96890, saving model to best-cifar10-v2.h5\n",
            "1250/1250 [==============================] - 13s 9ms/step - loss: 4.2882 - accuracy: 0.0512 - val_loss: 3.9689 - val_accuracy: 0.1128\n",
            "Epoch 2/100\n",
            "1247/1250 [============================>.] - ETA: 0s - loss: 3.8030 - accuracy: 0.1218\n",
            "Epoch 2: val_loss improved from 3.96890 to 3.53459, saving model to best-cifar10-v2.h5\n",
            "1250/1250 [==============================] - 11s 9ms/step - loss: 3.8029 - accuracy: 0.1218 - val_loss: 3.5346 - val_accuracy: 0.1763\n",
            "Epoch 3/100\n",
            "1246/1250 [============================>.] - ETA: 0s - loss: 3.5216 - accuracy: 0.1684\n",
            "Epoch 3: val_loss improved from 3.53459 to 3.28126, saving model to best-cifar10-v2.h5\n",
            "1250/1250 [==============================] - 11s 9ms/step - loss: 3.5212 - accuracy: 0.1685 - val_loss: 3.2813 - val_accuracy: 0.2192\n",
            "Epoch 4/100\n",
            "1247/1250 [============================>.] - ETA: 0s - loss: 3.3015 - accuracy: 0.2088\n",
            "Epoch 4: val_loss improved from 3.28126 to 3.12026, saving model to best-cifar10-v2.h5\n",
            "1250/1250 [==============================] - 11s 9ms/step - loss: 3.3014 - accuracy: 0.2088 - val_loss: 3.1203 - val_accuracy: 0.2470\n",
            "Epoch 5/100\n",
            "1245/1250 [============================>.] - ETA: 0s - loss: 3.1487 - accuracy: 0.2347\n",
            "Epoch 5: val_loss improved from 3.12026 to 2.99857, saving model to best-cifar10-v2.h5\n",
            "1250/1250 [==============================] - 11s 9ms/step - loss: 3.1484 - accuracy: 0.2348 - val_loss: 2.9986 - val_accuracy: 0.2750\n",
            "Epoch 6/100\n",
            "1249/1250 [============================>.] - ETA: 0s - loss: 2.9977 - accuracy: 0.2653\n",
            "Epoch 6: val_loss improved from 2.99857 to 2.89796, saving model to best-cifar10-v2.h5\n",
            "1250/1250 [==============================] - 11s 9ms/step - loss: 2.9977 - accuracy: 0.2653 - val_loss: 2.8980 - val_accuracy: 0.2927\n",
            "Epoch 7/100\n",
            "1247/1250 [============================>.] - ETA: 0s - loss: 2.8778 - accuracy: 0.2875\n",
            "Epoch 7: val_loss improved from 2.89796 to 2.79381, saving model to best-cifar10-v2.h5\n",
            "1250/1250 [==============================] - 11s 9ms/step - loss: 2.8782 - accuracy: 0.2875 - val_loss: 2.7938 - val_accuracy: 0.3103\n",
            "Epoch 8/100\n",
            "1250/1250 [==============================] - ETA: 0s - loss: 2.7736 - accuracy: 0.3086\n",
            "Epoch 8: val_loss improved from 2.79381 to 2.67936, saving model to best-cifar10-v2.h5\n",
            "1250/1250 [==============================] - 11s 9ms/step - loss: 2.7736 - accuracy: 0.3086 - val_loss: 2.6794 - val_accuracy: 0.3371\n",
            "Epoch 9/100\n",
            "1247/1250 [============================>.] - ETA: 0s - loss: 2.6776 - accuracy: 0.3303\n",
            "Epoch 9: val_loss improved from 2.67936 to 2.62465, saving model to best-cifar10-v2.h5\n",
            "1250/1250 [==============================] - 11s 9ms/step - loss: 2.6775 - accuracy: 0.3304 - val_loss: 2.6247 - val_accuracy: 0.3438\n",
            "Epoch 10/100\n",
            "1245/1250 [============================>.] - ETA: 0s - loss: 2.5978 - accuracy: 0.3448\n",
            "Epoch 10: val_loss improved from 2.62465 to 2.55741, saving model to best-cifar10-v2.h5\n",
            "1250/1250 [==============================] - 11s 9ms/step - loss: 2.5972 - accuracy: 0.3451 - val_loss: 2.5574 - val_accuracy: 0.3627\n",
            "Epoch 11/100\n",
            "1246/1250 [============================>.] - ETA: 0s - loss: 2.5196 - accuracy: 0.3622\n",
            "Epoch 11: val_loss improved from 2.55741 to 2.47966, saving model to best-cifar10-v2.h5\n",
            "1250/1250 [==============================] - 11s 9ms/step - loss: 2.5199 - accuracy: 0.3621 - val_loss: 2.4797 - val_accuracy: 0.3799\n",
            "Epoch 12/100\n",
            "1244/1250 [============================>.] - ETA: 0s - loss: 2.4469 - accuracy: 0.3782\n",
            "Epoch 12: val_loss improved from 2.47966 to 2.45946, saving model to best-cifar10-v2.h5\n",
            "1250/1250 [==============================] - 11s 9ms/step - loss: 2.4476 - accuracy: 0.3780 - val_loss: 2.4595 - val_accuracy: 0.3900\n",
            "Epoch 13/100\n",
            "1247/1250 [============================>.] - ETA: 0s - loss: 2.3857 - accuracy: 0.3920\n",
            "Epoch 13: val_loss improved from 2.45946 to 2.40601, saving model to best-cifar10-v2.h5\n",
            "1250/1250 [==============================] - 11s 9ms/step - loss: 2.3849 - accuracy: 0.3922 - val_loss: 2.4060 - val_accuracy: 0.3939\n",
            "Epoch 14/100\n",
            "1249/1250 [============================>.] - ETA: 0s - loss: 2.3360 - accuracy: 0.4015\n",
            "Epoch 14: val_loss did not improve from 2.40601\n",
            "1250/1250 [==============================] - 11s 9ms/step - loss: 2.3361 - accuracy: 0.4013 - val_loss: 2.4104 - val_accuracy: 0.3901\n",
            "Epoch 15/100\n",
            "1245/1250 [============================>.] - ETA: 0s - loss: 2.2799 - accuracy: 0.4158\n",
            "Epoch 15: val_loss improved from 2.40601 to 2.35429, saving model to best-cifar10-v2.h5\n",
            "1250/1250 [==============================] - 11s 9ms/step - loss: 2.2798 - accuracy: 0.4159 - val_loss: 2.3543 - val_accuracy: 0.4085\n",
            "Epoch 16/100\n",
            "1245/1250 [============================>.] - ETA: 0s - loss: 2.2266 - accuracy: 0.4256\n",
            "Epoch 16: val_loss improved from 2.35429 to 2.27942, saving model to best-cifar10-v2.h5\n",
            "1250/1250 [==============================] - 11s 9ms/step - loss: 2.2273 - accuracy: 0.4256 - val_loss: 2.2794 - val_accuracy: 0.4196\n",
            "Epoch 17/100\n",
            "1246/1250 [============================>.] - ETA: 0s - loss: 2.1878 - accuracy: 0.4357\n",
            "Epoch 17: val_loss improved from 2.27942 to 2.24005, saving model to best-cifar10-v2.h5\n",
            "1250/1250 [==============================] - 11s 9ms/step - loss: 2.1886 - accuracy: 0.4354 - val_loss: 2.2400 - val_accuracy: 0.4264\n",
            "Epoch 18/100\n",
            "1249/1250 [============================>.] - ETA: 0s - loss: 2.1496 - accuracy: 0.4433\n",
            "Epoch 18: val_loss did not improve from 2.24005\n",
            "1250/1250 [==============================] - 12s 9ms/step - loss: 2.1500 - accuracy: 0.4433 - val_loss: 2.2594 - val_accuracy: 0.4278\n",
            "Epoch 19/100\n",
            "1244/1250 [============================>.] - ETA: 0s - loss: 2.1102 - accuracy: 0.4529\n",
            "Epoch 19: val_loss improved from 2.24005 to 2.21220, saving model to best-cifar10-v2.h5\n",
            "1250/1250 [==============================] - 11s 9ms/step - loss: 2.1106 - accuracy: 0.4528 - val_loss: 2.2122 - val_accuracy: 0.4348\n",
            "Epoch 20/100\n",
            "1246/1250 [============================>.] - ETA: 0s - loss: 2.0860 - accuracy: 0.4580\n",
            "Epoch 20: val_loss improved from 2.21220 to 2.19207, saving model to best-cifar10-v2.h5\n",
            "1250/1250 [==============================] - 11s 9ms/step - loss: 2.0872 - accuracy: 0.4579 - val_loss: 2.1921 - val_accuracy: 0.4375\n",
            "Epoch 21/100\n",
            "1246/1250 [============================>.] - ETA: 0s - loss: 2.0615 - accuracy: 0.4656\n",
            "Epoch 21: val_loss improved from 2.19207 to 2.15880, saving model to best-cifar10-v2.h5\n",
            "1250/1250 [==============================] - 11s 9ms/step - loss: 2.0620 - accuracy: 0.4656 - val_loss: 2.1588 - val_accuracy: 0.4469\n",
            "Epoch 22/100\n",
            "1245/1250 [============================>.] - ETA: 0s - loss: 2.0312 - accuracy: 0.4723\n",
            "Epoch 22: val_loss did not improve from 2.15880\n",
            "1250/1250 [==============================] - 11s 9ms/step - loss: 2.0315 - accuracy: 0.4721 - val_loss: 2.1671 - val_accuracy: 0.4427\n",
            "Epoch 23/100\n",
            "1244/1250 [============================>.] - ETA: 0s - loss: 2.0089 - accuracy: 0.4779\n",
            "Epoch 23: val_loss did not improve from 2.15880\n",
            "1250/1250 [==============================] - 11s 9ms/step - loss: 2.0087 - accuracy: 0.4779 - val_loss: 2.1782 - val_accuracy: 0.4478\n",
            "Epoch 24/100\n",
            "1245/1250 [============================>.] - ETA: 0s - loss: 1.9931 - accuracy: 0.4819\n",
            "Epoch 24: val_loss improved from 2.15880 to 2.15186, saving model to best-cifar10-v2.h5\n",
            "1250/1250 [==============================] - 11s 9ms/step - loss: 1.9931 - accuracy: 0.4819 - val_loss: 2.1519 - val_accuracy: 0.4517\n",
            "Epoch 25/100\n",
            "1245/1250 [============================>.] - ETA: 0s - loss: 1.9762 - accuracy: 0.4860\n",
            "Epoch 25: val_loss did not improve from 2.15186\n",
            "1250/1250 [==============================] - 11s 9ms/step - loss: 1.9761 - accuracy: 0.4861 - val_loss: 2.1738 - val_accuracy: 0.4544\n",
            "Epoch 26/100\n",
            "1245/1250 [============================>.] - ETA: 0s - loss: 1.9544 - accuracy: 0.4910\n",
            "Epoch 26: val_loss improved from 2.15186 to 2.12092, saving model to best-cifar10-v2.h5\n",
            "1250/1250 [==============================] - 11s 9ms/step - loss: 1.9550 - accuracy: 0.4908 - val_loss: 2.1209 - val_accuracy: 0.4549\n",
            "Epoch 27/100\n",
            "1246/1250 [============================>.] - ETA: 0s - loss: 1.9392 - accuracy: 0.4930\n",
            "Epoch 27: val_loss improved from 2.12092 to 2.10531, saving model to best-cifar10-v2.h5\n",
            "1250/1250 [==============================] - 11s 9ms/step - loss: 1.9398 - accuracy: 0.4929 - val_loss: 2.1053 - val_accuracy: 0.4585\n",
            "Epoch 28/100\n",
            "1249/1250 [============================>.] - ETA: 0s - loss: 1.9380 - accuracy: 0.4964\n",
            "Epoch 28: val_loss did not improve from 2.10531\n",
            "1250/1250 [==============================] - 11s 9ms/step - loss: 1.9375 - accuracy: 0.4965 - val_loss: 2.1453 - val_accuracy: 0.4638\n",
            "Epoch 29/100\n",
            "1248/1250 [============================>.] - ETA: 0s - loss: 1.9134 - accuracy: 0.5007\n",
            "Epoch 29: val_loss did not improve from 2.10531\n",
            "1250/1250 [==============================] - 11s 9ms/step - loss: 1.9146 - accuracy: 0.5004 - val_loss: 2.1573 - val_accuracy: 0.4624\n",
            "Epoch 30/100\n",
            "1247/1250 [============================>.] - ETA: 0s - loss: 1.9020 - accuracy: 0.5066\n",
            "Epoch 30: val_loss did not improve from 2.10531\n",
            "1250/1250 [==============================] - 11s 9ms/step - loss: 1.9020 - accuracy: 0.5066 - val_loss: 2.1562 - val_accuracy: 0.4653\n",
            "Epoch 31/100\n",
            "1250/1250 [==============================] - ETA: 0s - loss: 1.8914 - accuracy: 0.5075\n",
            "Epoch 31: val_loss did not improve from 2.10531\n",
            "1250/1250 [==============================] - 11s 9ms/step - loss: 1.8914 - accuracy: 0.5075 - val_loss: 2.1866 - val_accuracy: 0.4628\n",
            "Epoch 32/100\n",
            "1244/1250 [============================>.] - ETA: 0s - loss: 1.8844 - accuracy: 0.5104\n",
            "Epoch 32: val_loss improved from 2.10531 to 2.09699, saving model to best-cifar10-v2.h5\n",
            "1250/1250 [==============================] - 11s 9ms/step - loss: 1.8849 - accuracy: 0.5103 - val_loss: 2.0970 - val_accuracy: 0.4696\n",
            "Epoch 33/100\n",
            "1246/1250 [============================>.] - ETA: 0s - loss: 1.8777 - accuracy: 0.5111\n",
            "Epoch 33: val_loss improved from 2.09699 to 2.06638, saving model to best-cifar10-v2.h5\n",
            "1250/1250 [==============================] - 11s 9ms/step - loss: 1.8782 - accuracy: 0.5110 - val_loss: 2.0664 - val_accuracy: 0.4727\n",
            "Epoch 34/100\n",
            "1249/1250 [============================>.] - ETA: 0s - loss: 1.8646 - accuracy: 0.5140\n",
            "Epoch 34: val_loss improved from 2.06638 to 2.04160, saving model to best-cifar10-v2.h5\n",
            "1250/1250 [==============================] - 11s 9ms/step - loss: 1.8646 - accuracy: 0.5140 - val_loss: 2.0416 - val_accuracy: 0.4793\n",
            "Epoch 35/100\n",
            "1247/1250 [============================>.] - ETA: 0s - loss: 1.8643 - accuracy: 0.5177\n",
            "Epoch 35: val_loss did not improve from 2.04160\n",
            "1250/1250 [==============================] - 11s 9ms/step - loss: 1.8643 - accuracy: 0.5177 - val_loss: 2.0896 - val_accuracy: 0.4772\n",
            "Epoch 36/100\n",
            "1248/1250 [============================>.] - ETA: 0s - loss: 1.8488 - accuracy: 0.5173\n",
            "Epoch 36: val_loss did not improve from 2.04160\n",
            "1250/1250 [==============================] - 11s 9ms/step - loss: 1.8489 - accuracy: 0.5173 - val_loss: 2.0900 - val_accuracy: 0.4762\n",
            "Epoch 37/100\n",
            "1247/1250 [============================>.] - ETA: 0s - loss: 1.8394 - accuracy: 0.5179\n",
            "Epoch 37: val_loss did not improve from 2.04160\n",
            "1250/1250 [==============================] - 12s 9ms/step - loss: 1.8392 - accuracy: 0.5180 - val_loss: 2.0911 - val_accuracy: 0.4768\n",
            "Epoch 38/100\n",
            "1250/1250 [==============================] - ETA: 0s - loss: 1.8419 - accuracy: 0.5237\n",
            "Epoch 38: val_loss improved from 2.04160 to 2.02840, saving model to best-cifar10-v2.h5\n",
            "1250/1250 [==============================] - 11s 9ms/step - loss: 1.8419 - accuracy: 0.5237 - val_loss: 2.0284 - val_accuracy: 0.4831\n",
            "Epoch 39/100\n",
            "1250/1250 [==============================] - ETA: 0s - loss: 1.8289 - accuracy: 0.5212\n",
            "Epoch 39: val_loss did not improve from 2.02840\n",
            "1250/1250 [==============================] - 11s 9ms/step - loss: 1.8289 - accuracy: 0.5212 - val_loss: 2.1253 - val_accuracy: 0.4677\n",
            "Epoch 40/100\n",
            "1246/1250 [============================>.] - ETA: 0s - loss: 1.8353 - accuracy: 0.5229\n",
            "Epoch 40: val_loss did not improve from 2.02840\n",
            "1250/1250 [==============================] - 11s 9ms/step - loss: 1.8356 - accuracy: 0.5229 - val_loss: 2.0323 - val_accuracy: 0.4852\n",
            "Epoch 41/100\n",
            "1246/1250 [============================>.] - ETA: 0s - loss: 1.8225 - accuracy: 0.5271\n",
            "Epoch 41: val_loss improved from 2.02840 to 2.01661, saving model to best-cifar10-v2.h5\n",
            "1250/1250 [==============================] - 11s 9ms/step - loss: 1.8229 - accuracy: 0.5272 - val_loss: 2.0166 - val_accuracy: 0.4851\n",
            "Epoch 42/100\n",
            "1245/1250 [============================>.] - ETA: 0s - loss: 1.8276 - accuracy: 0.5261\n",
            "Epoch 42: val_loss did not improve from 2.01661\n",
            "1250/1250 [==============================] - 11s 9ms/step - loss: 1.8286 - accuracy: 0.5258 - val_loss: 2.0519 - val_accuracy: 0.4846\n",
            "Epoch 43/100\n",
            "1246/1250 [============================>.] - ETA: 0s - loss: 1.8143 - accuracy: 0.5268\n",
            "Epoch 43: val_loss did not improve from 2.01661\n",
            "1250/1250 [==============================] - 11s 9ms/step - loss: 1.8146 - accuracy: 0.5266 - val_loss: 2.0439 - val_accuracy: 0.4847\n",
            "Epoch 44/100\n",
            "1250/1250 [==============================] - ETA: 0s - loss: 1.8158 - accuracy: 0.5282\n",
            "Epoch 44: val_loss did not improve from 2.01661\n",
            "1250/1250 [==============================] - 11s 9ms/step - loss: 1.8158 - accuracy: 0.5282 - val_loss: 2.0297 - val_accuracy: 0.4874\n",
            "Epoch 45/100\n",
            "1246/1250 [============================>.] - ETA: 0s - loss: 1.8201 - accuracy: 0.5260\n",
            "Epoch 45: val_loss did not improve from 2.01661\n",
            "1250/1250 [==============================] - 11s 9ms/step - loss: 1.8196 - accuracy: 0.5260 - val_loss: 2.1803 - val_accuracy: 0.4776\n",
            "Epoch 46/100\n",
            "1245/1250 [============================>.] - ETA: 0s - loss: 1.8165 - accuracy: 0.5297\n",
            "Epoch 46: val_loss did not improve from 2.01661\n",
            "1250/1250 [==============================] - 11s 9ms/step - loss: 1.8163 - accuracy: 0.5298 - val_loss: 2.0523 - val_accuracy: 0.4866\n",
            "Epoch 47/100\n",
            "1250/1250 [==============================] - ETA: 0s - loss: 1.8133 - accuracy: 0.5298\n",
            "Epoch 47: val_loss did not improve from 2.01661\n",
            "1250/1250 [==============================] - 11s 9ms/step - loss: 1.8133 - accuracy: 0.5298 - val_loss: 2.0689 - val_accuracy: 0.4788\n",
            "Epoch 48/100\n",
            "1249/1250 [============================>.] - ETA: 0s - loss: 1.8114 - accuracy: 0.5303\n",
            "Epoch 48: val_loss did not improve from 2.01661\n",
            "1250/1250 [==============================] - 11s 9ms/step - loss: 1.8114 - accuracy: 0.5303 - val_loss: 2.0675 - val_accuracy: 0.4827\n",
            "Epoch 49/100\n",
            "1244/1250 [============================>.] - ETA: 0s - loss: 1.8104 - accuracy: 0.5315\n",
            "Epoch 49: val_loss did not improve from 2.01661\n",
            "1250/1250 [==============================] - 12s 10ms/step - loss: 1.8113 - accuracy: 0.5313 - val_loss: 2.0490 - val_accuracy: 0.4886\n",
            "Epoch 50/100\n",
            "1249/1250 [============================>.] - ETA: 0s - loss: 1.8124 - accuracy: 0.5287\n",
            "Epoch 50: val_loss did not improve from 2.01661\n",
            "1250/1250 [==============================] - 11s 9ms/step - loss: 1.8121 - accuracy: 0.5288 - val_loss: 2.0231 - val_accuracy: 0.4906\n",
            "Epoch 51/100\n",
            "1247/1250 [============================>.] - ETA: 0s - loss: 1.8034 - accuracy: 0.5295\n",
            "Epoch 51: val_loss did not improve from 2.01661\n",
            "1250/1250 [==============================] - 11s 9ms/step - loss: 1.8039 - accuracy: 0.5295 - val_loss: 2.0312 - val_accuracy: 0.4844\n"
          ]
        }
      ]
    },
    {
      "cell_type": "code",
      "source": [
        "best_model = load_model(model_64_128_path)\n",
        "best_model.evaluate(X_test, Y_test)"
      ],
      "metadata": {
        "colab": {
          "base_uri": "https://localhost:8080/"
        },
        "id": "Gb_aXGDpIpbS",
        "outputId": "862c94ab-3dc1-456d-9977-04bb311087be"
      },
      "execution_count": 25,
      "outputs": [
        {
          "output_type": "stream",
          "name": "stdout",
          "text": [
            "313/313 [==============================] - 1s 4ms/step - loss: 1.9959 - accuracy: 0.4862\n"
          ]
        },
        {
          "output_type": "execute_result",
          "data": {
            "text/plain": [
              "[1.9959417581558228, 0.4862000048160553]"
            ]
          },
          "metadata": {},
          "execution_count": 25
        }
      ]
    },
    {
      "cell_type": "code",
      "source": [
        "y_acc2 = hist2.history['accuracy']\n",
        "y_vloss2 = hist2.history['val_loss']\n",
        "xs2 = np.arange(1, len(y_acc2) + 1)"
      ],
      "metadata": {
        "id": "VCS3EOTWJGD8"
      },
      "execution_count": 30,
      "outputs": []
    },
    {
      "cell_type": "code",
      "source": [
        "plt.figure(figsize=(20, 8))\n",
        "plt.plot(xs2, y_acc2, label='train.accuracy')\n",
        "plt.plot(xs2, y_vloss2, label='validation loss')\n",
        "plt.legend(), plt.grid()\n",
        "# plt.ylim([0,1.2])\n",
        "plt.xlabel('Epoch')\n",
        "plt.title('model_64_128')\n",
        "plt.show()"
      ],
      "metadata": {
        "colab": {
          "base_uri": "https://localhost:8080/",
          "height": 290
        },
        "id": "BgIfbHN5JOP3",
        "outputId": "6861e58e-6634-445c-aff8-292a4600c41b"
      },
      "execution_count": 31,
      "outputs": [
        {
          "output_type": "display_data",
          "data": {
            "text/plain": [
              "<Figure size 1440x576 with 1 Axes>"
            ],
            "image/png": "[encoded data removed]"
          },
          "metadata": {
            "needs_background": "light"
          }
        }
      ]
    },
    {
      "cell_type": "markdown",
      "source": [
        "- 32 / 128"
      ],
      "metadata": {
        "id": "d2yv1xZLI2TL"
      }
    },
    {
      "cell_type": "code",
      "source": [
        "model_32_128 = Sequential([\n",
        "    Conv2D(64, (3,3), input_shape=(32, 32, 3), padding='same',activation='relu'),\n",
        "    Conv2D(64, (3,3), activation='relu'),\n",
        "    MaxPooling2D(),\n",
        "    Dropout(0.25),\n",
        "    Conv2D(128, (3,3), padding='same', activation='relu'),\n",
        "    Conv2D(128, (3,3), activation='relu'),\n",
        "    MaxPooling2D(),\n",
        "    Dropout(0.25),\n",
        "    Flatten(),\n",
        "    Dense(512, activation='relu'),\n",
        "    Dropout(0.5),\n",
        "    Dense(100, activation='softmax')\n",
        "])\n",
        "model_32_128.summary()"
      ],
      "metadata": {
        "colab": {
          "base_uri": "https://localhost:8080/"
        },
        "id": "bF_SYI5vI3zR",
        "outputId": "0c90967c-4a76-4595-a374-bd0e47200fde"
      },
      "execution_count": 32,
      "outputs": [
        {
          "output_type": "stream",
          "name": "stdout",
          "text": [
            "Model: \"sequential_3\"\n",
            "_________________________________________________________________\n",
            " Layer (type)                Output Shape              Param #   \n",
            "=================================================================\n",
            " conv2d_12 (Conv2D)          (None, 32, 32, 64)        1792      \n",
            "                                                                 \n",
            " conv2d_13 (Conv2D)          (None, 30, 30, 64)        36928     \n",
            "                                                                 \n",
            " max_pooling2d_6 (MaxPooling  (None, 15, 15, 64)       0         \n",
            " 2D)                                                             \n",
            "                                                                 \n",
            " dropout_9 (Dropout)         (None, 15, 15, 64)        0         \n",
            "                                                                 \n",
            " conv2d_14 (Conv2D)          (None, 15, 15, 128)       73856     \n",
            "                                                                 \n",
            " conv2d_15 (Conv2D)          (None, 13, 13, 128)       147584    \n",
            "                                                                 \n",
            " max_pooling2d_7 (MaxPooling  (None, 6, 6, 128)        0         \n",
            " 2D)                                                             \n",
            "                                                                 \n",
            " dropout_10 (Dropout)        (None, 6, 6, 128)         0         \n",
            "                                                                 \n",
            " flatten_3 (Flatten)         (None, 4608)              0         \n",
            "                                                                 \n",
            " dense_6 (Dense)             (None, 512)               2359808   \n",
            "                                                                 \n",
            " dropout_11 (Dropout)        (None, 512)               0         \n",
            "                                                                 \n",
            " dense_7 (Dense)             (None, 100)               51300     \n",
            "                                                                 \n",
            "=================================================================\n",
            "Total params: 2,671,268\n",
            "Trainable params: 2,671,268\n",
            "Non-trainable params: 0\n",
            "_________________________________________________________________\n"
          ]
        }
      ]
    },
    {
      "cell_type": "code",
      "source": [
        "model_32_128.compile(\n",
        "    optimizer=RMSprop(learning_rate=0.0001, decay=1e-6),\n",
        "    loss = 'categorical_crossentropy',\n",
        "    metrics = ['accuracy']\n",
        ")\n",
        "\n",
        "model_32_128_path = 'best-cifar10-v3.h5'\n",
        "mc = ModelCheckpoint(model_32_128_path, verbose=1, save_best_only=True)\n",
        "es = EarlyStopping(patience=10)\n",
        "\n",
        "hist3 = model_32_128.fit(X_train, Y_train, validation_split = 0.2,\n",
        "                  epochs = 100, batch_size = 32,\n",
        "                  callbacks=[mc, es])"
      ],
      "metadata": {
        "colab": {
          "base_uri": "https://localhost:8080/"
        },
        "id": "rkHfZ24_I43o",
        "outputId": "0d4c7700-9073-41dd-9df9-4725098bc89e"
      },
      "execution_count": 33,
      "outputs": [
        {
          "output_type": "stream",
          "name": "stdout",
          "text": [
            "Epoch 1/100\n",
            "1247/1250 [============================>.] - ETA: 0s - loss: 4.2914 - accuracy: 0.0479\n",
            "Epoch 1: val_loss improved from inf to 3.93842, saving model to best-cifar10-v3.h5\n",
            "1250/1250 [==============================] - 13s 9ms/step - loss: 4.2911 - accuracy: 0.0481 - val_loss: 3.9384 - val_accuracy: 0.1161\n",
            "Epoch 2/100\n",
            "1246/1250 [============================>.] - ETA: 0s - loss: 3.8005 - accuracy: 0.1193\n",
            "Epoch 2: val_loss improved from 3.93842 to 3.51129, saving model to best-cifar10-v3.h5\n",
            "1250/1250 [==============================] - 11s 9ms/step - loss: 3.8004 - accuracy: 0.1194 - val_loss: 3.5113 - val_accuracy: 0.1839\n",
            "Epoch 3/100\n",
            "1245/1250 [============================>.] - ETA: 0s - loss: 3.5139 - accuracy: 0.1674\n",
            "Epoch 3: val_loss improved from 3.51129 to 3.32008, saving model to best-cifar10-v3.h5\n",
            "1250/1250 [==============================] - 11s 9ms/step - loss: 3.5138 - accuracy: 0.1675 - val_loss: 3.3201 - val_accuracy: 0.2112\n",
            "Epoch 4/100\n",
            "1244/1250 [============================>.] - ETA: 0s - loss: 3.3131 - accuracy: 0.2049\n",
            "Epoch 4: val_loss improved from 3.32008 to 3.10396, saving model to best-cifar10-v3.h5\n",
            "1250/1250 [==============================] - 11s 9ms/step - loss: 3.3129 - accuracy: 0.2049 - val_loss: 3.1040 - val_accuracy: 0.2511\n",
            "Epoch 5/100\n",
            "1248/1250 [============================>.] - ETA: 0s - loss: 3.1509 - accuracy: 0.2378\n",
            "Epoch 5: val_loss improved from 3.10396 to 3.01515, saving model to best-cifar10-v3.h5\n",
            "1250/1250 [==============================] - 11s 9ms/step - loss: 3.1511 - accuracy: 0.2377 - val_loss: 3.0151 - val_accuracy: 0.2738\n",
            "Epoch 6/100\n",
            "1247/1250 [============================>.] - ETA: 0s - loss: 3.0109 - accuracy: 0.2634\n",
            "Epoch 6: val_loss improved from 3.01515 to 2.87913, saving model to best-cifar10-v3.h5\n",
            "1250/1250 [==============================] - 11s 9ms/step - loss: 3.0104 - accuracy: 0.2636 - val_loss: 2.8791 - val_accuracy: 0.2976\n",
            "Epoch 7/100\n",
            "1244/1250 [============================>.] - ETA: 0s - loss: 2.8910 - accuracy: 0.2891\n",
            "Epoch 7: val_loss improved from 2.87913 to 2.78368, saving model to best-cifar10-v3.h5\n",
            "1250/1250 [==============================] - 11s 9ms/step - loss: 2.8914 - accuracy: 0.2891 - val_loss: 2.7837 - val_accuracy: 0.3164\n",
            "Epoch 8/100\n",
            "1247/1250 [============================>.] - ETA: 0s - loss: 2.7795 - accuracy: 0.3053\n",
            "Epoch 8: val_loss improved from 2.78368 to 2.66698, saving model to best-cifar10-v3.h5\n",
            "1250/1250 [==============================] - 11s 9ms/step - loss: 2.7794 - accuracy: 0.3056 - val_loss: 2.6670 - val_accuracy: 0.3380\n",
            "Epoch 9/100\n",
            "1245/1250 [============================>.] - ETA: 0s - loss: 2.6826 - accuracy: 0.3276\n",
            "Epoch 9: val_loss improved from 2.66698 to 2.61848, saving model to best-cifar10-v3.h5\n",
            "1250/1250 [==============================] - 11s 9ms/step - loss: 2.6825 - accuracy: 0.3278 - val_loss: 2.6185 - val_accuracy: 0.3458\n",
            "Epoch 10/100\n",
            "1249/1250 [============================>.] - ETA: 0s - loss: 2.5991 - accuracy: 0.3429\n",
            "Epoch 10: val_loss improved from 2.61848 to 2.55591, saving model to best-cifar10-v3.h5\n",
            "1250/1250 [==============================] - 11s 9ms/step - loss: 2.5992 - accuracy: 0.3429 - val_loss: 2.5559 - val_accuracy: 0.3602\n",
            "Epoch 11/100\n",
            "1247/1250 [============================>.] - ETA: 0s - loss: 2.5165 - accuracy: 0.3620\n",
            "Epoch 11: val_loss improved from 2.55591 to 2.47724, saving model to best-cifar10-v3.h5\n",
            "1250/1250 [==============================] - 11s 9ms/step - loss: 2.5170 - accuracy: 0.3619 - val_loss: 2.4772 - val_accuracy: 0.3762\n",
            "Epoch 12/100\n",
            "1247/1250 [============================>.] - ETA: 0s - loss: 2.4367 - accuracy: 0.3800\n",
            "Epoch 12: val_loss improved from 2.47724 to 2.43260, saving model to best-cifar10-v3.h5\n",
            "1250/1250 [==============================] - 11s 9ms/step - loss: 2.4373 - accuracy: 0.3800 - val_loss: 2.4326 - val_accuracy: 0.3890\n",
            "Epoch 13/100\n",
            "1247/1250 [============================>.] - ETA: 0s - loss: 2.3786 - accuracy: 0.3924\n",
            "Epoch 13: val_loss improved from 2.43260 to 2.42743, saving model to best-cifar10-v3.h5\n",
            "1250/1250 [==============================] - 11s 9ms/step - loss: 2.3779 - accuracy: 0.3927 - val_loss: 2.4274 - val_accuracy: 0.3903\n",
            "Epoch 14/100\n",
            "1249/1250 [============================>.] - ETA: 0s - loss: 2.3197 - accuracy: 0.4054\n",
            "Epoch 14: val_loss improved from 2.42743 to 2.40259, saving model to best-cifar10-v3.h5\n",
            "1250/1250 [==============================] - 11s 9ms/step - loss: 2.3195 - accuracy: 0.4055 - val_loss: 2.4026 - val_accuracy: 0.3920\n",
            "Epoch 15/100\n",
            "1249/1250 [============================>.] - ETA: 0s - loss: 2.2761 - accuracy: 0.4145\n",
            "Epoch 15: val_loss improved from 2.40259 to 2.33126, saving model to best-cifar10-v3.h5\n",
            "1250/1250 [==============================] - 11s 9ms/step - loss: 2.2761 - accuracy: 0.4146 - val_loss: 2.3313 - val_accuracy: 0.4108\n",
            "Epoch 16/100\n",
            "1247/1250 [============================>.] - ETA: 0s - loss: 2.2306 - accuracy: 0.4250\n",
            "Epoch 16: val_loss improved from 2.33126 to 2.28049, saving model to best-cifar10-v3.h5\n",
            "1250/1250 [==============================] - 11s 9ms/step - loss: 2.2308 - accuracy: 0.4248 - val_loss: 2.2805 - val_accuracy: 0.4136\n",
            "Epoch 17/100\n",
            "1248/1250 [============================>.] - ETA: 0s - loss: 2.1920 - accuracy: 0.4343\n",
            "Epoch 17: val_loss improved from 2.28049 to 2.26405, saving model to best-cifar10-v3.h5\n",
            "1250/1250 [==============================] - 11s 9ms/step - loss: 2.1920 - accuracy: 0.4342 - val_loss: 2.2641 - val_accuracy: 0.4198\n",
            "Epoch 18/100\n",
            "1250/1250 [==============================] - ETA: 0s - loss: 2.1599 - accuracy: 0.4428\n",
            "Epoch 18: val_loss did not improve from 2.26405\n",
            "1250/1250 [==============================] - 11s 9ms/step - loss: 2.1599 - accuracy: 0.4428 - val_loss: 2.2732 - val_accuracy: 0.4253\n",
            "Epoch 19/100\n",
            "1249/1250 [============================>.] - ETA: 0s - loss: 2.1208 - accuracy: 0.4492\n",
            "Epoch 19: val_loss improved from 2.26405 to 2.23973, saving model to best-cifar10-v3.h5\n",
            "1250/1250 [==============================] - 11s 9ms/step - loss: 2.1209 - accuracy: 0.4493 - val_loss: 2.2397 - val_accuracy: 0.4291\n",
            "Epoch 20/100\n",
            "1245/1250 [============================>.] - ETA: 0s - loss: 2.0857 - accuracy: 0.4608\n",
            "Epoch 20: val_loss improved from 2.23973 to 2.22467, saving model to best-cifar10-v3.h5\n",
            "1250/1250 [==============================] - 11s 9ms/step - loss: 2.0867 - accuracy: 0.4604 - val_loss: 2.2247 - val_accuracy: 0.4310\n",
            "Epoch 21/100\n",
            "1245/1250 [============================>.] - ETA: 0s - loss: 2.0709 - accuracy: 0.4639\n",
            "Epoch 21: val_loss improved from 2.22467 to 2.16391, saving model to best-cifar10-v3.h5\n",
            "1250/1250 [==============================] - 11s 9ms/step - loss: 2.0706 - accuracy: 0.4638 - val_loss: 2.1639 - val_accuracy: 0.4481\n",
            "Epoch 22/100\n",
            "1244/1250 [============================>.] - ETA: 0s - loss: 2.0470 - accuracy: 0.4690\n",
            "Epoch 22: val_loss did not improve from 2.16391\n",
            "1250/1250 [==============================] - 11s 9ms/step - loss: 2.0467 - accuracy: 0.4688 - val_loss: 2.1846 - val_accuracy: 0.4394\n",
            "Epoch 23/100\n",
            "1248/1250 [============================>.] - ETA: 0s - loss: 2.0209 - accuracy: 0.4738\n",
            "Epoch 23: val_loss improved from 2.16391 to 2.14054, saving model to best-cifar10-v3.h5\n",
            "1250/1250 [==============================] - 11s 9ms/step - loss: 2.0213 - accuracy: 0.4737 - val_loss: 2.1405 - val_accuracy: 0.4500\n",
            "Epoch 24/100\n",
            "1250/1250 [==============================] - ETA: 0s - loss: 1.9970 - accuracy: 0.4793\n",
            "Epoch 24: val_loss did not improve from 2.14054\n",
            "1250/1250 [==============================] - 11s 9ms/step - loss: 1.9970 - accuracy: 0.4793 - val_loss: 2.1856 - val_accuracy: 0.4484\n",
            "Epoch 25/100\n",
            "1249/1250 [============================>.] - ETA: 0s - loss: 1.9884 - accuracy: 0.4836\n",
            "Epoch 25: val_loss improved from 2.14054 to 2.12712, saving model to best-cifar10-v3.h5\n",
            "1250/1250 [==============================] - 11s 9ms/step - loss: 1.9883 - accuracy: 0.4836 - val_loss: 2.1271 - val_accuracy: 0.4530\n",
            "Epoch 26/100\n",
            "1246/1250 [============================>.] - ETA: 0s - loss: 1.9735 - accuracy: 0.4886\n",
            "Epoch 26: val_loss did not improve from 2.12712\n",
            "1250/1250 [==============================] - 11s 9ms/step - loss: 1.9743 - accuracy: 0.4884 - val_loss: 2.1450 - val_accuracy: 0.4574\n",
            "Epoch 27/100\n",
            "1248/1250 [============================>.] - ETA: 0s - loss: 1.9529 - accuracy: 0.4933\n",
            "Epoch 27: val_loss improved from 2.12712 to 2.10442, saving model to best-cifar10-v3.h5\n",
            "1250/1250 [==============================] - 11s 9ms/step - loss: 1.9537 - accuracy: 0.4932 - val_loss: 2.1044 - val_accuracy: 0.4613\n",
            "Epoch 28/100\n",
            "1244/1250 [============================>.] - ETA: 0s - loss: 1.9439 - accuracy: 0.4969\n",
            "Epoch 28: val_loss did not improve from 2.10442\n",
            "1250/1250 [==============================] - 11s 9ms/step - loss: 1.9439 - accuracy: 0.4969 - val_loss: 2.1237 - val_accuracy: 0.4609\n",
            "Epoch 29/100\n",
            "1245/1250 [============================>.] - ETA: 0s - loss: 1.9237 - accuracy: 0.5005\n",
            "Epoch 29: val_loss did not improve from 2.10442\n",
            "1250/1250 [==============================] - 11s 9ms/step - loss: 1.9247 - accuracy: 0.5003 - val_loss: 2.1385 - val_accuracy: 0.4596\n",
            "Epoch 30/100\n",
            "1245/1250 [============================>.] - ETA: 0s - loss: 1.9146 - accuracy: 0.5031\n",
            "Epoch 30: val_loss did not improve from 2.10442\n",
            "1250/1250 [==============================] - 11s 9ms/step - loss: 1.9153 - accuracy: 0.5029 - val_loss: 2.1190 - val_accuracy: 0.4603\n",
            "Epoch 31/100\n",
            "1247/1250 [============================>.] - ETA: 0s - loss: 1.8996 - accuracy: 0.5053\n",
            "Epoch 31: val_loss did not improve from 2.10442\n",
            "1250/1250 [==============================] - 11s 9ms/step - loss: 1.8990 - accuracy: 0.5054 - val_loss: 2.1185 - val_accuracy: 0.4610\n",
            "Epoch 32/100\n",
            "1245/1250 [============================>.] - ETA: 0s - loss: 1.8940 - accuracy: 0.5076\n",
            "Epoch 32: val_loss improved from 2.10442 to 2.06234, saving model to best-cifar10-v3.h5\n",
            "1250/1250 [==============================] - 11s 9ms/step - loss: 1.8940 - accuracy: 0.5076 - val_loss: 2.0623 - val_accuracy: 0.4709\n",
            "Epoch 33/100\n",
            "1247/1250 [============================>.] - ETA: 0s - loss: 1.8824 - accuracy: 0.5111\n",
            "Epoch 33: val_loss did not improve from 2.06234\n",
            "1250/1250 [==============================] - 11s 9ms/step - loss: 1.8830 - accuracy: 0.5109 - val_loss: 2.0772 - val_accuracy: 0.4675\n",
            "Epoch 34/100\n",
            "1245/1250 [============================>.] - ETA: 0s - loss: 1.8830 - accuracy: 0.5113\n",
            "Epoch 34: val_loss did not improve from 2.06234\n",
            "1250/1250 [==============================] - 11s 9ms/step - loss: 1.8835 - accuracy: 0.5113 - val_loss: 2.0637 - val_accuracy: 0.4713\n",
            "Epoch 35/100\n",
            "1250/1250 [==============================] - ETA: 0s - loss: 1.8776 - accuracy: 0.5155\n",
            "Epoch 35: val_loss did not improve from 2.06234\n",
            "1250/1250 [==============================] - 11s 9ms/step - loss: 1.8776 - accuracy: 0.5155 - val_loss: 2.1102 - val_accuracy: 0.4652\n",
            "Epoch 36/100\n",
            "1249/1250 [============================>.] - ETA: 0s - loss: 1.8682 - accuracy: 0.5186\n",
            "Epoch 36: val_loss improved from 2.06234 to 2.05253, saving model to best-cifar10-v3.h5\n",
            "1250/1250 [==============================] - 11s 9ms/step - loss: 1.8681 - accuracy: 0.5186 - val_loss: 2.0525 - val_accuracy: 0.4757\n",
            "Epoch 37/100\n",
            "1249/1250 [============================>.] - ETA: 0s - loss: 1.8607 - accuracy: 0.5185\n",
            "Epoch 37: val_loss did not improve from 2.05253\n",
            "1250/1250 [==============================] - 11s 9ms/step - loss: 1.8604 - accuracy: 0.5186 - val_loss: 2.0904 - val_accuracy: 0.4793\n",
            "Epoch 38/100\n",
            "1246/1250 [============================>.] - ETA: 0s - loss: 1.8520 - accuracy: 0.5196\n",
            "Epoch 38: val_loss did not improve from 2.05253\n",
            "1250/1250 [==============================] - 11s 9ms/step - loss: 1.8531 - accuracy: 0.5194 - val_loss: 2.0693 - val_accuracy: 0.4753\n",
            "Epoch 39/100\n",
            "1247/1250 [============================>.] - ETA: 0s - loss: 1.8460 - accuracy: 0.5216\n",
            "Epoch 39: val_loss did not improve from 2.05253\n",
            "1250/1250 [==============================] - 11s 9ms/step - loss: 1.8454 - accuracy: 0.5217 - val_loss: 2.1302 - val_accuracy: 0.4739\n",
            "Epoch 40/100\n",
            "1245/1250 [============================>.] - ETA: 0s - loss: 1.8472 - accuracy: 0.5222\n",
            "Epoch 40: val_loss did not improve from 2.05253\n",
            "1250/1250 [==============================] - 11s 9ms/step - loss: 1.8479 - accuracy: 0.5221 - val_loss: 2.1382 - val_accuracy: 0.4768\n",
            "Epoch 41/100\n",
            "1244/1250 [============================>.] - ETA: 0s - loss: 1.8385 - accuracy: 0.5220\n",
            "Epoch 41: val_loss did not improve from 2.05253\n",
            "1250/1250 [==============================] - 11s 9ms/step - loss: 1.8389 - accuracy: 0.5219 - val_loss: 2.0855 - val_accuracy: 0.4722\n",
            "Epoch 42/100\n",
            "1247/1250 [============================>.] - ETA: 0s - loss: 1.8343 - accuracy: 0.5268\n",
            "Epoch 42: val_loss did not improve from 2.05253\n",
            "1250/1250 [==============================] - 11s 9ms/step - loss: 1.8345 - accuracy: 0.5268 - val_loss: 2.0601 - val_accuracy: 0.4771\n",
            "Epoch 43/100\n",
            "1248/1250 [============================>.] - ETA: 0s - loss: 1.8267 - accuracy: 0.5281\n",
            "Epoch 43: val_loss did not improve from 2.05253\n",
            "1250/1250 [==============================] - 11s 9ms/step - loss: 1.8275 - accuracy: 0.5280 - val_loss: 2.0912 - val_accuracy: 0.4800\n",
            "Epoch 44/100\n",
            "1249/1250 [============================>.] - ETA: 0s - loss: 1.8311 - accuracy: 0.5263\n",
            "Epoch 44: val_loss did not improve from 2.05253\n",
            "1250/1250 [==============================] - 11s 9ms/step - loss: 1.8310 - accuracy: 0.5262 - val_loss: 2.1282 - val_accuracy: 0.4750\n",
            "Epoch 45/100\n",
            "1246/1250 [============================>.] - ETA: 0s - loss: 1.8383 - accuracy: 0.5241\n",
            "Epoch 45: val_loss did not improve from 2.05253\n",
            "1250/1250 [==============================] - 11s 9ms/step - loss: 1.8377 - accuracy: 0.5242 - val_loss: 2.1822 - val_accuracy: 0.4743\n",
            "Epoch 46/100\n",
            "1249/1250 [============================>.] - ETA: 0s - loss: 1.8335 - accuracy: 0.5296\n",
            "Epoch 46: val_loss did not improve from 2.05253\n",
            "1250/1250 [==============================] - 11s 9ms/step - loss: 1.8336 - accuracy: 0.5296 - val_loss: 2.0743 - val_accuracy: 0.4736\n"
          ]
        }
      ]
    },
    {
      "cell_type": "code",
      "source": [
        "best_model = load_model(model_32_128_path)\n",
        "best_model.evaluate(X_test, Y_test)\n"
      ],
      "metadata": {
        "colab": {
          "base_uri": "https://localhost:8080/"
        },
        "id": "qtiWsrh_Jojx",
        "outputId": "5097f012-eb5e-4258-b2c3-9ef2ff5db6e8"
      },
      "execution_count": 34,
      "outputs": [
        {
          "output_type": "stream",
          "name": "stdout",
          "text": [
            "313/313 [==============================] - 2s 4ms/step - loss: 2.0233 - accuracy: 0.4846\n"
          ]
        },
        {
          "output_type": "execute_result",
          "data": {
            "text/plain": [
              "[2.0232608318328857, 0.4846000075340271]"
            ]
          },
          "metadata": {},
          "execution_count": 34
        }
      ]
    },
    {
      "cell_type": "code",
      "source": [
        "y_acc3 = hist3.history['accuracy']\n",
        "y_vloss3 = hist3.history['val_loss']\n",
        "xs3 = np.arange(1, len(y_acc3) + 1)\n",
        "\n",
        "plt.figure(figsize=(20, 8))\n",
        "plt.plot(xs3, y_acc3, label='train.accuracy')\n",
        "plt.plot(xs3, y_vloss3, label='validation loss')\n",
        "plt.legend(), plt.grid()\n",
        "# plt.ylim([0,1.2])\n",
        "plt.xlabel('Epoch')\n",
        "plt.title('model_32_128')\n",
        "plt.show()"
      ],
      "metadata": {
        "colab": {
          "base_uri": "https://localhost:8080/",
          "height": 290
        },
        "id": "6w2q2k-rJsRR",
        "outputId": "ba7ec182-79c7-4ae7-8776-9283f61d74d1"
      },
      "execution_count": 35,
      "outputs": [
        {
          "output_type": "display_data",
          "data": {
            "text/plain": [
              "<Figure size 1440x576 with 1 Axes>"
            ],
            "image/png": "[encoded data removed]"
          },
          "metadata": {
            "needs_background": "light"
          }
        }
      ]
    },
    {
      "cell_type": "markdown",
      "source": [
        "- 128 / 256"
      ],
      "metadata": {
        "id": "Sj7CTLjOI5DR"
      }
    },
    {
      "cell_type": "code",
      "source": [
        "model_128_256 = Sequential([\n",
        "    Conv2D(128, (3,3), input_shape=(32, 32, 3), padding='same',activation='relu'),\n",
        "    Conv2D(128, (3,3), activation='relu'),\n",
        "    MaxPooling2D(),\n",
        "    Dropout(0.25),\n",
        "    Conv2D(256, (3,3), padding='same', activation='relu'),\n",
        "    Conv2D(256, (3,3), activation='relu'),\n",
        "    MaxPooling2D(),\n",
        "    Dropout(0.25),\n",
        "    Flatten(),\n",
        "    Dense(512, activation='relu'),\n",
        "    Dropout(0.5),\n",
        "    Dense(100, activation='softmax')\n",
        "])\n",
        "model_128_256.summary()"
      ],
      "metadata": {
        "colab": {
          "base_uri": "https://localhost:8080/"
        },
        "id": "nSvH1RKPI7cD",
        "outputId": "008f7518-843f-45f3-e2fa-acac1edd5194"
      },
      "execution_count": 38,
      "outputs": [
        {
          "output_type": "stream",
          "name": "stdout",
          "text": [
            "Model: \"sequential_5\"\n",
            "_________________________________________________________________\n",
            " Layer (type)                Output Shape              Param #   \n",
            "=================================================================\n",
            " conv2d_20 (Conv2D)          (None, 32, 32, 128)       3584      \n",
            "                                                                 \n",
            " conv2d_21 (Conv2D)          (None, 30, 30, 128)       147584    \n",
            "                                                                 \n",
            " max_pooling2d_10 (MaxPoolin  (None, 15, 15, 128)      0         \n",
            " g2D)                                                            \n",
            "                                                                 \n",
            " dropout_15 (Dropout)        (None, 15, 15, 128)       0         \n",
            "                                                                 \n",
            " conv2d_22 (Conv2D)          (None, 15, 15, 256)       295168    \n",
            "                                                                 \n",
            " conv2d_23 (Conv2D)          (None, 13, 13, 256)       590080    \n",
            "                                                                 \n",
            " max_pooling2d_11 (MaxPoolin  (None, 6, 6, 256)        0         \n",
            " g2D)                                                            \n",
            "                                                                 \n",
            " dropout_16 (Dropout)        (None, 6, 6, 256)         0         \n",
            "                                                                 \n",
            " flatten_5 (Flatten)         (None, 9216)              0         \n",
            "                                                                 \n",
            " dense_10 (Dense)            (None, 512)               4719104   \n",
            "                                                                 \n",
            " dropout_17 (Dropout)        (None, 512)               0         \n",
            "                                                                 \n",
            " dense_11 (Dense)            (None, 100)               51300     \n",
            "                                                                 \n",
            "=================================================================\n",
            "Total params: 5,806,820\n",
            "Trainable params: 5,806,820\n",
            "Non-trainable params: 0\n",
            "_________________________________________________________________\n"
          ]
        }
      ]
    },
    {
      "cell_type": "code",
      "source": [
        "model_128_256.compile(\n",
        "    optimizer=RMSprop(learning_rate=0.0001, decay=1e-6),\n",
        "    loss = 'categorical_crossentropy',\n",
        "    metrics = ['accuracy']\n",
        ")\n",
        "\n",
        "model_128_256_path = 'best-cifar10-v4.h5'\n",
        "mc = ModelCheckpoint(model_128_256_path, verbose=1, save_best_only=True)\n",
        "es = EarlyStopping(patience=10)\n",
        "\n",
        "hist4 = model_128_256.fit(X_train, Y_train, validation_split = 0.2,\n",
        "                  epochs = 100, batch_size = 32,\n",
        "                  callbacks=[mc, es])"
      ],
      "metadata": {
        "colab": {
          "base_uri": "https://localhost:8080/"
        },
        "id": "YkP0vuAuJ7OD",
        "outputId": "b20898e8-df94-4291-92fc-c9174e235715"
      },
      "execution_count": 39,
      "outputs": [
        {
          "output_type": "stream",
          "name": "stdout",
          "text": [
            "Epoch 1/100\n",
            "1249/1250 [============================>.] - ETA: 0s - loss: 4.2306 - accuracy: 0.0601\n",
            "Epoch 1: val_loss improved from inf to 3.82893, saving model to best-cifar10-v4.h5\n",
            "1250/1250 [==============================] - 22s 17ms/step - loss: 4.2303 - accuracy: 0.0601 - val_loss: 3.8289 - val_accuracy: 0.1316\n",
            "Epoch 2/100\n",
            "1249/1250 [============================>.] - ETA: 0s - loss: 3.6673 - accuracy: 0.1453\n",
            "Epoch 2: val_loss improved from 3.82893 to 3.32174, saving model to best-cifar10-v4.h5\n",
            "1250/1250 [==============================] - 22s 17ms/step - loss: 3.6673 - accuracy: 0.1452 - val_loss: 3.3217 - val_accuracy: 0.2101\n",
            "Epoch 3/100\n",
            "1249/1250 [============================>.] - ETA: 0s - loss: 3.3387 - accuracy: 0.2025\n",
            "Epoch 3: val_loss improved from 3.32174 to 3.08515, saving model to best-cifar10-v4.h5\n",
            "1250/1250 [==============================] - 21s 17ms/step - loss: 3.3386 - accuracy: 0.2025 - val_loss: 3.0852 - val_accuracy: 0.2588\n",
            "Epoch 4/100\n",
            "1249/1250 [============================>.] - ETA: 0s - loss: 3.0793 - accuracy: 0.2485\n",
            "Epoch 4: val_loss improved from 3.08515 to 2.86013, saving model to best-cifar10-v4.h5\n",
            "1250/1250 [==============================] - 21s 17ms/step - loss: 3.0792 - accuracy: 0.2485 - val_loss: 2.8601 - val_accuracy: 0.3022\n",
            "Epoch 5/100\n",
            "1247/1250 [============================>.] - ETA: 0s - loss: 2.8693 - accuracy: 0.2923\n",
            "Epoch 5: val_loss improved from 2.86013 to 2.76458, saving model to best-cifar10-v4.h5\n",
            "1250/1250 [==============================] - 21s 17ms/step - loss: 2.8692 - accuracy: 0.2922 - val_loss: 2.7646 - val_accuracy: 0.3212\n",
            "Epoch 6/100\n",
            "1250/1250 [==============================] - ETA: 0s - loss: 2.6889 - accuracy: 0.3292\n",
            "Epoch 6: val_loss improved from 2.76458 to 2.59637, saving model to best-cifar10-v4.h5\n",
            "1250/1250 [==============================] - 21s 16ms/step - loss: 2.6889 - accuracy: 0.3292 - val_loss: 2.5964 - val_accuracy: 0.3552\n",
            "Epoch 7/100\n",
            "1248/1250 [============================>.] - ETA: 0s - loss: 2.5323 - accuracy: 0.3591\n",
            "Epoch 7: val_loss improved from 2.59637 to 2.47838, saving model to best-cifar10-v4.h5\n",
            "1250/1250 [==============================] - 21s 17ms/step - loss: 2.5325 - accuracy: 0.3591 - val_loss: 2.4784 - val_accuracy: 0.3775\n",
            "Epoch 8/100\n",
            "1248/1250 [============================>.] - ETA: 0s - loss: 2.4009 - accuracy: 0.3897\n",
            "Epoch 8: val_loss improved from 2.47838 to 2.36870, saving model to best-cifar10-v4.h5\n",
            "1250/1250 [==============================] - 21s 17ms/step - loss: 2.4004 - accuracy: 0.3899 - val_loss: 2.3687 - val_accuracy: 0.4042\n",
            "Epoch 9/100\n",
            "1248/1250 [============================>.] - ETA: 0s - loss: 2.2944 - accuracy: 0.4122\n",
            "Epoch 9: val_loss improved from 2.36870 to 2.33997, saving model to best-cifar10-v4.h5\n",
            "1250/1250 [==============================] - 21s 17ms/step - loss: 2.2939 - accuracy: 0.4123 - val_loss: 2.3400 - val_accuracy: 0.4006\n",
            "Epoch 10/100\n",
            "1249/1250 [============================>.] - ETA: 0s - loss: 2.2007 - accuracy: 0.4294\n",
            "Epoch 10: val_loss improved from 2.33997 to 2.25434, saving model to best-cifar10-v4.h5\n",
            "1250/1250 [==============================] - 21s 17ms/step - loss: 2.2005 - accuracy: 0.4295 - val_loss: 2.2543 - val_accuracy: 0.4195\n",
            "Epoch 11/100\n",
            "1250/1250 [==============================] - ETA: 0s - loss: 2.1120 - accuracy: 0.4500\n",
            "Epoch 11: val_loss did not improve from 2.25434\n",
            "1250/1250 [==============================] - 21s 17ms/step - loss: 2.1120 - accuracy: 0.4500 - val_loss: 2.2833 - val_accuracy: 0.4252\n",
            "Epoch 12/100\n",
            "1250/1250 [==============================] - ETA: 0s - loss: 2.0398 - accuracy: 0.4721\n",
            "Epoch 12: val_loss improved from 2.25434 to 2.16406, saving model to best-cifar10-v4.h5\n",
            "1250/1250 [==============================] - 21s 17ms/step - loss: 2.0398 - accuracy: 0.4721 - val_loss: 2.1641 - val_accuracy: 0.4453\n",
            "Epoch 13/100\n",
            "1249/1250 [============================>.] - ETA: 0s - loss: 1.9767 - accuracy: 0.4854\n",
            "Epoch 13: val_loss did not improve from 2.16406\n",
            "1250/1250 [==============================] - 21s 17ms/step - loss: 1.9762 - accuracy: 0.4855 - val_loss: 2.1998 - val_accuracy: 0.4494\n",
            "Epoch 14/100\n",
            "1247/1250 [============================>.] - ETA: 0s - loss: 1.9144 - accuracy: 0.4985\n",
            "Epoch 14: val_loss did not improve from 2.16406\n",
            "1250/1250 [==============================] - 21s 16ms/step - loss: 1.9140 - accuracy: 0.4986 - val_loss: 2.2569 - val_accuracy: 0.4377\n",
            "Epoch 15/100\n",
            "1249/1250 [============================>.] - ETA: 0s - loss: 1.8702 - accuracy: 0.5097\n",
            "Epoch 15: val_loss did not improve from 2.16406\n",
            "1250/1250 [==============================] - 21s 16ms/step - loss: 1.8705 - accuracy: 0.5096 - val_loss: 2.1649 - val_accuracy: 0.4597\n",
            "Epoch 16/100\n",
            "1247/1250 [============================>.] - ETA: 0s - loss: 1.8292 - accuracy: 0.5253\n",
            "Epoch 16: val_loss improved from 2.16406 to 2.04371, saving model to best-cifar10-v4.h5\n",
            "1250/1250 [==============================] - 21s 17ms/step - loss: 1.8296 - accuracy: 0.5252 - val_loss: 2.0437 - val_accuracy: 0.4751\n",
            "Epoch 17/100\n",
            "1248/1250 [============================>.] - ETA: 0s - loss: 1.7894 - accuracy: 0.5332\n",
            "Epoch 17: val_loss improved from 2.04371 to 2.02562, saving model to best-cifar10-v4.h5\n",
            "1250/1250 [==============================] - 21s 17ms/step - loss: 1.7895 - accuracy: 0.5331 - val_loss: 2.0256 - val_accuracy: 0.4772\n",
            "Epoch 18/100\n",
            "1247/1250 [============================>.] - ETA: 0s - loss: 1.7700 - accuracy: 0.5360\n",
            "Epoch 18: val_loss did not improve from 2.02562\n",
            "1250/1250 [==============================] - 20s 16ms/step - loss: 1.7705 - accuracy: 0.5357 - val_loss: 2.0354 - val_accuracy: 0.4854\n",
            "Epoch 19/100\n",
            "1250/1250 [==============================] - ETA: 0s - loss: 1.7295 - accuracy: 0.5476\n",
            "Epoch 19: val_loss did not improve from 2.02562\n",
            "1250/1250 [==============================] - 21s 17ms/step - loss: 1.7295 - accuracy: 0.5476 - val_loss: 2.0379 - val_accuracy: 0.4835\n",
            "Epoch 20/100\n",
            "1250/1250 [==============================] - ETA: 0s - loss: 1.7046 - accuracy: 0.5548\n",
            "Epoch 20: val_loss did not improve from 2.02562\n",
            "1250/1250 [==============================] - 20s 16ms/step - loss: 1.7046 - accuracy: 0.5548 - val_loss: 2.0285 - val_accuracy: 0.4871\n",
            "Epoch 21/100\n",
            "1248/1250 [============================>.] - ETA: 0s - loss: 1.6827 - accuracy: 0.5599\n",
            "Epoch 21: val_loss improved from 2.02562 to 2.02381, saving model to best-cifar10-v4.h5\n",
            "1250/1250 [==============================] - 21s 17ms/step - loss: 1.6828 - accuracy: 0.5598 - val_loss: 2.0238 - val_accuracy: 0.4864\n",
            "Epoch 22/100\n",
            "1250/1250 [==============================] - ETA: 0s - loss: 1.6646 - accuracy: 0.5610\n",
            "Epoch 22: val_loss did not improve from 2.02381\n",
            "1250/1250 [==============================] - 21s 17ms/step - loss: 1.6646 - accuracy: 0.5610 - val_loss: 2.1077 - val_accuracy: 0.4879\n",
            "Epoch 23/100\n",
            "1249/1250 [============================>.] - ETA: 0s - loss: 1.6504 - accuracy: 0.5729\n",
            "Epoch 23: val_loss did not improve from 2.02381\n",
            "1250/1250 [==============================] - 21s 16ms/step - loss: 1.6507 - accuracy: 0.5728 - val_loss: 2.0314 - val_accuracy: 0.4854\n",
            "Epoch 24/100\n",
            "1247/1250 [============================>.] - ETA: 0s - loss: 1.6188 - accuracy: 0.5774\n",
            "Epoch 24: val_loss did not improve from 2.02381\n",
            "1250/1250 [==============================] - 21s 16ms/step - loss: 1.6188 - accuracy: 0.5774 - val_loss: 2.1026 - val_accuracy: 0.4741\n",
            "Epoch 25/100\n",
            "1249/1250 [============================>.] - ETA: 0s - loss: 1.6133 - accuracy: 0.5780\n",
            "Epoch 25: val_loss did not improve from 2.02381\n",
            "1250/1250 [==============================] - 21s 17ms/step - loss: 1.6131 - accuracy: 0.5780 - val_loss: 2.0526 - val_accuracy: 0.5013\n",
            "Epoch 26/100\n",
            "1250/1250 [==============================] - ETA: 0s - loss: 1.6037 - accuracy: 0.5812\n",
            "Epoch 26: val_loss improved from 2.02381 to 1.97229, saving model to best-cifar10-v4.h5\n",
            "1250/1250 [==============================] - 22s 17ms/step - loss: 1.6037 - accuracy: 0.5812 - val_loss: 1.9723 - val_accuracy: 0.4986\n",
            "Epoch 27/100\n",
            "1250/1250 [==============================] - ETA: 0s - loss: 1.5970 - accuracy: 0.5874\n",
            "Epoch 27: val_loss did not improve from 1.97229\n",
            "1250/1250 [==============================] - 21s 17ms/step - loss: 1.5970 - accuracy: 0.5874 - val_loss: 2.0905 - val_accuracy: 0.4892\n",
            "Epoch 28/100\n",
            "1248/1250 [============================>.] - ETA: 0s - loss: 1.5681 - accuracy: 0.5875\n",
            "Epoch 28: val_loss did not improve from 1.97229\n",
            "1250/1250 [==============================] - 21s 17ms/step - loss: 1.5683 - accuracy: 0.5875 - val_loss: 2.0022 - val_accuracy: 0.4924\n",
            "Epoch 29/100\n",
            "1247/1250 [============================>.] - ETA: 0s - loss: 1.5735 - accuracy: 0.5913\n",
            "Epoch 29: val_loss did not improve from 1.97229\n",
            "1250/1250 [==============================] - 21s 16ms/step - loss: 1.5741 - accuracy: 0.5913 - val_loss: 2.0010 - val_accuracy: 0.4927\n",
            "Epoch 30/100\n",
            "1250/1250 [==============================] - ETA: 0s - loss: 1.5497 - accuracy: 0.5950\n",
            "Epoch 30: val_loss did not improve from 1.97229\n",
            "1250/1250 [==============================] - 21s 16ms/step - loss: 1.5497 - accuracy: 0.5950 - val_loss: 2.1859 - val_accuracy: 0.5009\n",
            "Epoch 31/100\n",
            "1249/1250 [============================>.] - ETA: 0s - loss: 1.5562 - accuracy: 0.5943\n",
            "Epoch 31: val_loss did not improve from 1.97229\n",
            "1250/1250 [==============================] - 21s 16ms/step - loss: 1.5556 - accuracy: 0.5944 - val_loss: 2.3805 - val_accuracy: 0.4869\n",
            "Epoch 32/100\n",
            "1248/1250 [============================>.] - ETA: 0s - loss: 1.5442 - accuracy: 0.5974\n",
            "Epoch 32: val_loss did not improve from 1.97229\n",
            "1250/1250 [==============================] - 21s 17ms/step - loss: 1.5442 - accuracy: 0.5975 - val_loss: 2.0142 - val_accuracy: 0.4934\n",
            "Epoch 33/100\n",
            "1247/1250 [============================>.] - ETA: 0s - loss: 1.5371 - accuracy: 0.5974\n",
            "Epoch 33: val_loss did not improve from 1.97229\n",
            "1250/1250 [==============================] - 21s 17ms/step - loss: 1.5371 - accuracy: 0.5973 - val_loss: 2.0360 - val_accuracy: 0.5057\n",
            "Epoch 34/100\n",
            "1248/1250 [============================>.] - ETA: 0s - loss: 1.5386 - accuracy: 0.5993\n",
            "Epoch 34: val_loss did not improve from 1.97229\n",
            "1250/1250 [==============================] - 21s 17ms/step - loss: 1.5388 - accuracy: 0.5993 - val_loss: 2.0103 - val_accuracy: 0.5034\n",
            "Epoch 35/100\n",
            "1247/1250 [============================>.] - ETA: 0s - loss: 1.5355 - accuracy: 0.6003\n",
            "Epoch 35: val_loss did not improve from 1.97229\n",
            "1250/1250 [==============================] - 21s 17ms/step - loss: 1.5356 - accuracy: 0.6003 - val_loss: 2.0512 - val_accuracy: 0.5082\n",
            "Epoch 36/100\n",
            "1249/1250 [============================>.] - ETA: 0s - loss: 1.5339 - accuracy: 0.5991\n",
            "Epoch 36: val_loss did not improve from 1.97229\n",
            "1250/1250 [==============================] - 21s 17ms/step - loss: 1.5336 - accuracy: 0.5992 - val_loss: 2.0812 - val_accuracy: 0.5048\n"
          ]
        }
      ]
    },
    {
      "cell_type": "code",
      "source": [
        "best_model = load_model(model_128_256_path)\n",
        "best_model.evaluate(X_test, Y_test)"
      ],
      "metadata": {
        "colab": {
          "base_uri": "https://localhost:8080/"
        },
        "id": "-LCFK_TSJ9eC",
        "outputId": "4a260fca-0706-40eb-cb88-353f30fa63fc"
      },
      "execution_count": 40,
      "outputs": [
        {
          "output_type": "stream",
          "name": "stdout",
          "text": [
            "313/313 [==============================] - 2s 6ms/step - loss: 1.9647 - accuracy: 0.4963\n"
          ]
        },
        {
          "output_type": "execute_result",
          "data": {
            "text/plain": [
              "[1.96467924118042, 0.49630001187324524]"
            ]
          },
          "metadata": {},
          "execution_count": 40
        }
      ]
    },
    {
      "cell_type": "code",
      "source": [
        "y_acc4 = hist4.history['accuracy']\n",
        "y_vloss4 = hist4.history['val_loss']\n",
        "xs4 = np.arange(1, len(y_acc4) + 1)\n",
        "\n",
        "plt.figure(figsize=(20, 8))\n",
        "plt.plot(xs4, y_acc4, label='train.accuracy')\n",
        "plt.plot(xs4, y_vloss4, label='validation loss')\n",
        "plt.legend(), plt.grid()\n",
        "# plt.ylim([0,1.2])\n",
        "plt.xlabel('Epoch')\n",
        "plt.title('model_128_256')\n",
        "plt.show()"
      ],
      "metadata": {
        "colab": {
          "base_uri": "https://localhost:8080/",
          "height": 290
        },
        "id": "m-GZMlhVJ-3a",
        "outputId": "b0fad61f-bf18-477e-aaa0-9beb4f62b955"
      },
      "execution_count": 43,
      "outputs": [
        {
          "output_type": "display_data",
          "data": {
            "text/plain": [
              "<Figure size 1440x576 with 1 Axes>"
            ],
            "image/png": "[encoded data removed]"
          },
          "metadata": {
            "needs_background": "light"
          }
        }
      ]
    },
    {
      "cell_type": "markdown",
      "source": [
        "- 64/128/256"
      ],
      "metadata": {
        "id": "Wiak3BWTKJpN"
      }
    },
    {
      "cell_type": "code",
      "source": [
        "model_all = Sequential([\n",
        "    Conv2D(64, (3,3), input_shape=(32, 32, 3), padding='same',activation='relu'),\n",
        "    Conv2D(64, (3,3), activation='relu'),\n",
        "    MaxPooling2D(),\n",
        "    Conv2D(128, (3,3), padding='same', activation='relu'),\n",
        "    Conv2D(128, (3,3), activation='relu'),\n",
        "    MaxPooling2D(),\n",
        "    # Conv2D(128, (3,3), padding='same', activation='relu'),\n",
        "    # Conv2D(128, (3,3), activation='relu'),\n",
        "    # MaxPooling2D(),\n",
        "    Conv2D(256, (3,3), padding='same', activation='relu'),\n",
        "    Conv2D(256, (3,3), activation='relu'),\n",
        "    MaxPooling2D(),\n",
        "    Dropout(0.25),\n",
        "    Flatten(),\n",
        "    Dense(512, activation='relu'),\n",
        "    Dropout(0.5),\n",
        "    Dense(100, activation='softmax')\n",
        "])\n",
        "model_all.summary()"
      ],
      "metadata": {
        "colab": {
          "base_uri": "https://localhost:8080/"
        },
        "id": "RbXYKEhETLUs",
        "outputId": "6aa84c10-e46e-423a-a619-da5ae76ce1d9"
      },
      "execution_count": 55,
      "outputs": [
        {
          "output_type": "stream",
          "name": "stdout",
          "text": [
            "Model: \"sequential_17\"\n",
            "_________________________________________________________________\n",
            " Layer (type)                Output Shape              Param #   \n",
            "=================================================================\n",
            " conv2d_98 (Conv2D)          (None, 32, 32, 64)        1792      \n",
            "                                                                 \n",
            " conv2d_99 (Conv2D)          (None, 30, 30, 64)        36928     \n",
            "                                                                 \n",
            " max_pooling2d_50 (MaxPoolin  (None, 15, 15, 64)       0         \n",
            " g2D)                                                            \n",
            "                                                                 \n",
            " conv2d_100 (Conv2D)         (None, 15, 15, 128)       73856     \n",
            "                                                                 \n",
            " conv2d_101 (Conv2D)         (None, 13, 13, 128)       147584    \n",
            "                                                                 \n",
            " max_pooling2d_51 (MaxPoolin  (None, 6, 6, 128)        0         \n",
            " g2D)                                                            \n",
            "                                                                 \n",
            " conv2d_102 (Conv2D)         (None, 6, 6, 256)         295168    \n",
            "                                                                 \n",
            " conv2d_103 (Conv2D)         (None, 4, 4, 256)         590080    \n",
            "                                                                 \n",
            " max_pooling2d_52 (MaxPoolin  (None, 2, 2, 256)        0         \n",
            " g2D)                                                            \n",
            "                                                                 \n",
            " dropout_48 (Dropout)        (None, 2, 2, 256)         0         \n",
            "                                                                 \n",
            " flatten_17 (Flatten)        (None, 1024)              0         \n",
            "                                                                 \n",
            " dense_34 (Dense)            (None, 512)               524800    \n",
            "                                                                 \n",
            " dropout_49 (Dropout)        (None, 512)               0         \n",
            "                                                                 \n",
            " dense_35 (Dense)            (None, 100)               51300     \n",
            "                                                                 \n",
            "=================================================================\n",
            "Total params: 1,721,508\n",
            "Trainable params: 1,721,508\n",
            "Non-trainable params: 0\n",
            "_________________________________________________________________\n"
          ]
        }
      ]
    },
    {
      "cell_type": "code",
      "source": [
        "model_all.compile(\n",
        "    optimizer=RMSprop(learning_rate=0.0001, decay=1e-6),\n",
        "    loss = 'categorical_crossentropy',\n",
        "    metrics = ['accuracy']\n",
        ")\n",
        "\n",
        "model_all_path = 'best-cifar10-v5.h5'\n",
        "mc = ModelCheckpoint(model_all_path, verbose=1, save_best_only=True)\n",
        "es = EarlyStopping(patience=10)\n",
        "\n",
        "hist5 = model_all.fit(X_train, Y_train, validation_split = 0.2,\n",
        "                  epochs = 100, batch_size = 32,\n",
        "                  callbacks=[mc, es])"
      ],
      "metadata": {
        "colab": {
          "base_uri": "https://localhost:8080/"
        },
        "id": "estFbL9zTa18",
        "outputId": "7dbefa5c-af10-4a2f-c0de-1c671386cdb8"
      },
      "execution_count": 56,
      "outputs": [
        {
          "output_type": "stream",
          "name": "stdout",
          "text": [
            "Epoch 1/100\n",
            "1249/1250 [============================>.] - ETA: 0s - loss: 4.3797 - accuracy: 0.0323\n",
            "Epoch 1: val_loss improved from inf to 4.16788, saving model to best-cifar10-v5.h5\n",
            "1250/1250 [==============================] - 13s 10ms/step - loss: 4.3795 - accuracy: 0.0322 - val_loss: 4.1679 - val_accuracy: 0.0608\n",
            "Epoch 2/100\n",
            "1246/1250 [============================>.] - ETA: 0s - loss: 3.9742 - accuracy: 0.0877\n",
            "Epoch 2: val_loss improved from 4.16788 to 3.68969, saving model to best-cifar10-v5.h5\n",
            "1250/1250 [==============================] - 12s 10ms/step - loss: 3.9741 - accuracy: 0.0877 - val_loss: 3.6897 - val_accuracy: 0.1406\n",
            "Epoch 3/100\n",
            "1246/1250 [============================>.] - ETA: 0s - loss: 3.6956 - accuracy: 0.1299\n",
            "Epoch 3: val_loss improved from 3.68969 to 3.53610, saving model to best-cifar10-v5.h5\n",
            "1250/1250 [==============================] - 12s 10ms/step - loss: 3.6951 - accuracy: 0.1300 - val_loss: 3.5361 - val_accuracy: 0.1662\n",
            "Epoch 4/100\n",
            "1247/1250 [============================>.] - ETA: 0s - loss: 3.4944 - accuracy: 0.1659\n",
            "Epoch 4: val_loss improved from 3.53610 to 3.34490, saving model to best-cifar10-v5.h5\n",
            "1250/1250 [==============================] - 12s 10ms/step - loss: 3.4941 - accuracy: 0.1659 - val_loss: 3.3449 - val_accuracy: 0.2007\n",
            "Epoch 5/100\n",
            "1249/1250 [============================>.] - ETA: 0s - loss: 3.3256 - accuracy: 0.1959\n",
            "Epoch 5: val_loss improved from 3.34490 to 3.14429, saving model to best-cifar10-v5.h5\n",
            "1250/1250 [==============================] - 12s 10ms/step - loss: 3.3255 - accuracy: 0.1959 - val_loss: 3.1443 - val_accuracy: 0.2316\n",
            "Epoch 6/100\n",
            "1247/1250 [============================>.] - ETA: 0s - loss: 3.1691 - accuracy: 0.2257\n",
            "Epoch 6: val_loss improved from 3.14429 to 3.01093, saving model to best-cifar10-v5.h5\n",
            "1250/1250 [==============================] - 14s 11ms/step - loss: 3.1689 - accuracy: 0.2257 - val_loss: 3.0109 - val_accuracy: 0.2615\n",
            "Epoch 7/100\n",
            "1250/1250 [==============================] - ETA: 0s - loss: 3.0266 - accuracy: 0.2514\n",
            "Epoch 7: val_loss improved from 3.01093 to 2.89835, saving model to best-cifar10-v5.h5\n",
            "1250/1250 [==============================] - 12s 10ms/step - loss: 3.0266 - accuracy: 0.2514 - val_loss: 2.8984 - val_accuracy: 0.2817\n",
            "Epoch 8/100\n",
            "1245/1250 [============================>.] - ETA: 0s - loss: 2.9011 - accuracy: 0.2751\n",
            "Epoch 8: val_loss improved from 2.89835 to 2.76846, saving model to best-cifar10-v5.h5\n",
            "1250/1250 [==============================] - 13s 10ms/step - loss: 2.9010 - accuracy: 0.2751 - val_loss: 2.7685 - val_accuracy: 0.3023\n",
            "Epoch 9/100\n",
            "1245/1250 [============================>.] - ETA: 0s - loss: 2.7819 - accuracy: 0.2996\n",
            "Epoch 9: val_loss improved from 2.76846 to 2.67988, saving model to best-cifar10-v5.h5\n",
            "1250/1250 [==============================] - 13s 11ms/step - loss: 2.7815 - accuracy: 0.2998 - val_loss: 2.6799 - val_accuracy: 0.3248\n",
            "Epoch 10/100\n",
            "1246/1250 [============================>.] - ETA: 0s - loss: 2.6761 - accuracy: 0.3188\n",
            "Epoch 10: val_loss improved from 2.67988 to 2.58369, saving model to best-cifar10-v5.h5\n",
            "1250/1250 [==============================] - 12s 10ms/step - loss: 2.6762 - accuracy: 0.3191 - val_loss: 2.5837 - val_accuracy: 0.3439\n",
            "Epoch 11/100\n",
            "1250/1250 [==============================] - ETA: 0s - loss: 2.5711 - accuracy: 0.3399\n",
            "Epoch 11: val_loss improved from 2.58369 to 2.55054, saving model to best-cifar10-v5.h5\n",
            "1250/1250 [==============================] - 12s 10ms/step - loss: 2.5711 - accuracy: 0.3399 - val_loss: 2.5505 - val_accuracy: 0.3535\n",
            "Epoch 12/100\n",
            "1248/1250 [============================>.] - ETA: 0s - loss: 2.4787 - accuracy: 0.3586\n",
            "Epoch 12: val_loss improved from 2.55054 to 2.45477, saving model to best-cifar10-v5.h5\n",
            "1250/1250 [==============================] - 13s 10ms/step - loss: 2.4790 - accuracy: 0.3586 - val_loss: 2.4548 - val_accuracy: 0.3721\n",
            "Epoch 13/100\n",
            "1248/1250 [============================>.] - ETA: 0s - loss: 2.3917 - accuracy: 0.3798\n",
            "Epoch 13: val_loss improved from 2.45477 to 2.41482, saving model to best-cifar10-v5.h5\n",
            "1250/1250 [==============================] - 13s 10ms/step - loss: 2.3911 - accuracy: 0.3799 - val_loss: 2.4148 - val_accuracy: 0.3802\n",
            "Epoch 14/100\n",
            "1245/1250 [============================>.] - ETA: 0s - loss: 2.3026 - accuracy: 0.3946\n",
            "Epoch 14: val_loss improved from 2.41482 to 2.36007, saving model to best-cifar10-v5.h5\n",
            "1250/1250 [==============================] - 13s 11ms/step - loss: 2.3023 - accuracy: 0.3946 - val_loss: 2.3601 - val_accuracy: 0.3926\n",
            "Epoch 15/100\n",
            "1250/1250 [==============================] - ETA: 0s - loss: 2.2220 - accuracy: 0.4146\n",
            "Epoch 15: val_loss improved from 2.36007 to 2.34042, saving model to best-cifar10-v5.h5\n",
            "1250/1250 [==============================] - 12s 10ms/step - loss: 2.2220 - accuracy: 0.4146 - val_loss: 2.3404 - val_accuracy: 0.3994\n",
            "Epoch 16/100\n",
            "1246/1250 [============================>.] - ETA: 0s - loss: 2.1522 - accuracy: 0.4269\n",
            "Epoch 16: val_loss improved from 2.34042 to 2.22018, saving model to best-cifar10-v5.h5\n",
            "1250/1250 [==============================] - 12s 10ms/step - loss: 2.1522 - accuracy: 0.4271 - val_loss: 2.2202 - val_accuracy: 0.4205\n",
            "Epoch 17/100\n",
            "1245/1250 [============================>.] - ETA: 0s - loss: 2.0742 - accuracy: 0.4443\n",
            "Epoch 17: val_loss did not improve from 2.22018\n",
            "1250/1250 [==============================] - 12s 10ms/step - loss: 2.0741 - accuracy: 0.4444 - val_loss: 2.2369 - val_accuracy: 0.4200\n",
            "Epoch 18/100\n",
            "1245/1250 [============================>.] - ETA: 0s - loss: 2.0079 - accuracy: 0.4621\n",
            "Epoch 18: val_loss did not improve from 2.22018\n",
            "1250/1250 [==============================] - 12s 10ms/step - loss: 2.0087 - accuracy: 0.4618 - val_loss: 2.2416 - val_accuracy: 0.4195\n",
            "Epoch 19/100\n",
            "1249/1250 [============================>.] - ETA: 0s - loss: 1.9396 - accuracy: 0.4734\n",
            "Epoch 19: val_loss improved from 2.22018 to 2.14608, saving model to best-cifar10-v5.h5\n",
            "1250/1250 [==============================] - 12s 10ms/step - loss: 1.9398 - accuracy: 0.4734 - val_loss: 2.1461 - val_accuracy: 0.4364\n",
            "Epoch 20/100\n",
            "1245/1250 [============================>.] - ETA: 0s - loss: 1.8649 - accuracy: 0.4890\n",
            "Epoch 20: val_loss improved from 2.14608 to 2.11576, saving model to best-cifar10-v5.h5\n",
            "1250/1250 [==============================] - 12s 10ms/step - loss: 1.8656 - accuracy: 0.4889 - val_loss: 2.1158 - val_accuracy: 0.4457\n",
            "Epoch 21/100\n",
            "1249/1250 [============================>.] - ETA: 0s - loss: 1.8072 - accuracy: 0.5027\n",
            "Epoch 21: val_loss improved from 2.11576 to 2.05456, saving model to best-cifar10-v5.h5\n",
            "1250/1250 [==============================] - 12s 10ms/step - loss: 1.8067 - accuracy: 0.5029 - val_loss: 2.0546 - val_accuracy: 0.4586\n",
            "Epoch 22/100\n",
            "1245/1250 [============================>.] - ETA: 0s - loss: 1.7517 - accuracy: 0.5168\n",
            "Epoch 22: val_loss did not improve from 2.05456\n",
            "1250/1250 [==============================] - 12s 10ms/step - loss: 1.7515 - accuracy: 0.5170 - val_loss: 2.1104 - val_accuracy: 0.4538\n",
            "Epoch 23/100\n",
            "1245/1250 [============================>.] - ETA: 0s - loss: 1.6921 - accuracy: 0.5308\n",
            "Epoch 23: val_loss did not improve from 2.05456\n",
            "1250/1250 [==============================] - 13s 10ms/step - loss: 1.6919 - accuracy: 0.5308 - val_loss: 2.0656 - val_accuracy: 0.4625\n",
            "Epoch 24/100\n",
            "1246/1250 [============================>.] - ETA: 0s - loss: 1.6385 - accuracy: 0.5441\n",
            "Epoch 24: val_loss did not improve from 2.05456\n",
            "1250/1250 [==============================] - 12s 10ms/step - loss: 1.6381 - accuracy: 0.5440 - val_loss: 2.0970 - val_accuracy: 0.4639\n",
            "Epoch 25/100\n",
            "1245/1250 [============================>.] - ETA: 0s - loss: 1.5774 - accuracy: 0.5604\n",
            "Epoch 25: val_loss did not improve from 2.05456\n",
            "1250/1250 [==============================] - 12s 10ms/step - loss: 1.5772 - accuracy: 0.5604 - val_loss: 2.0592 - val_accuracy: 0.4736\n",
            "Epoch 26/100\n",
            "1249/1250 [============================>.] - ETA: 0s - loss: 1.5237 - accuracy: 0.5708\n",
            "Epoch 26: val_loss improved from 2.05456 to 2.02939, saving model to best-cifar10-v5.h5\n",
            "1250/1250 [==============================] - 12s 10ms/step - loss: 1.5240 - accuracy: 0.5707 - val_loss: 2.0294 - val_accuracy: 0.4742\n",
            "Epoch 27/100\n",
            "1246/1250 [============================>.] - ETA: 0s - loss: 1.4746 - accuracy: 0.5825\n",
            "Epoch 27: val_loss did not improve from 2.02939\n",
            "1250/1250 [==============================] - 12s 10ms/step - loss: 1.4750 - accuracy: 0.5824 - val_loss: 2.0407 - val_accuracy: 0.4739\n",
            "Epoch 28/100\n",
            "1245/1250 [============================>.] - ETA: 0s - loss: 1.4256 - accuracy: 0.5916\n",
            "Epoch 28: val_loss did not improve from 2.02939\n",
            "1250/1250 [==============================] - 12s 10ms/step - loss: 1.4261 - accuracy: 0.5917 - val_loss: 2.0302 - val_accuracy: 0.4795\n",
            "Epoch 29/100\n",
            "1250/1250 [==============================] - ETA: 0s - loss: 1.3748 - accuracy: 0.6088\n",
            "Epoch 29: val_loss did not improve from 2.02939\n",
            "1250/1250 [==============================] - 12s 10ms/step - loss: 1.3748 - accuracy: 0.6088 - val_loss: 2.1132 - val_accuracy: 0.4747\n",
            "Epoch 30/100\n",
            "1248/1250 [============================>.] - ETA: 0s - loss: 1.3259 - accuracy: 0.6169\n",
            "Epoch 30: val_loss did not improve from 2.02939\n",
            "1250/1250 [==============================] - 12s 10ms/step - loss: 1.3261 - accuracy: 0.6169 - val_loss: 2.1592 - val_accuracy: 0.4734\n",
            "Epoch 31/100\n",
            "1247/1250 [============================>.] - ETA: 0s - loss: 1.2862 - accuracy: 0.6268\n",
            "Epoch 31: val_loss did not improve from 2.02939\n",
            "1250/1250 [==============================] - 12s 10ms/step - loss: 1.2856 - accuracy: 0.6269 - val_loss: 2.2769 - val_accuracy: 0.4664\n",
            "Epoch 32/100\n",
            "1246/1250 [============================>.] - ETA: 0s - loss: 1.2400 - accuracy: 0.6398\n",
            "Epoch 32: val_loss did not improve from 2.02939\n",
            "1250/1250 [==============================] - 12s 10ms/step - loss: 1.2399 - accuracy: 0.6398 - val_loss: 2.0847 - val_accuracy: 0.4807\n",
            "Epoch 33/100\n",
            "1248/1250 [============================>.] - ETA: 0s - loss: 1.1997 - accuracy: 0.6465\n",
            "Epoch 33: val_loss did not improve from 2.02939\n",
            "1250/1250 [==============================] - 12s 10ms/step - loss: 1.1997 - accuracy: 0.6464 - val_loss: 2.2422 - val_accuracy: 0.4866\n",
            "Epoch 34/100\n",
            "1246/1250 [============================>.] - ETA: 0s - loss: 1.1589 - accuracy: 0.6604\n",
            "Epoch 34: val_loss did not improve from 2.02939\n",
            "1250/1250 [==============================] - 12s 10ms/step - loss: 1.1592 - accuracy: 0.6603 - val_loss: 2.2479 - val_accuracy: 0.4826\n",
            "Epoch 35/100\n",
            "1248/1250 [============================>.] - ETA: 0s - loss: 1.1280 - accuracy: 0.6657\n",
            "Epoch 35: val_loss did not improve from 2.02939\n",
            "1250/1250 [==============================] - 12s 10ms/step - loss: 1.1278 - accuracy: 0.6658 - val_loss: 2.1795 - val_accuracy: 0.4793\n",
            "Epoch 36/100\n",
            "1247/1250 [============================>.] - ETA: 0s - loss: 1.0848 - accuracy: 0.6797\n",
            "Epoch 36: val_loss did not improve from 2.02939\n",
            "1250/1250 [==============================] - 12s 10ms/step - loss: 1.0842 - accuracy: 0.6798 - val_loss: 2.2411 - val_accuracy: 0.4739\n"
          ]
        }
      ]
    },
    {
      "cell_type": "code",
      "source": [
        "best_model = load_model(model_all_path)\n",
        "best_model.evaluate(X_test, Y_test)"
      ],
      "metadata": {
        "colab": {
          "base_uri": "https://localhost:8080/"
        },
        "id": "mE0ami-QTfY3",
        "outputId": "2b3a8bdf-6efd-4553-fa4d-1f600734d76d"
      },
      "execution_count": 58,
      "outputs": [
        {
          "output_type": "stream",
          "name": "stdout",
          "text": [
            "313/313 [==============================] - 2s 5ms/step - loss: 1.9805 - accuracy: 0.4752\n"
          ]
        },
        {
          "output_type": "execute_result",
          "data": {
            "text/plain": [
              "[1.9804943799972534, 0.47519999742507935]"
            ]
          },
          "metadata": {},
          "execution_count": 58
        }
      ]
    },
    {
      "cell_type": "code",
      "source": [
        "y_acc5 = hist5.history['accuracy']\n",
        "y_vloss5 = hist5.history['val_loss']\n",
        "xs5 = np.arange(1, len(y_acc5) + 1)\n",
        "\n",
        "plt.figure(figsize=(20, 8))\n",
        "plt.plot(xs5, y_acc5, label='train.accuracy')\n",
        "plt.plot(xs5, y_vloss5, label='validation loss')\n",
        "plt.legend(), plt.grid()\n",
        "# plt.ylim([0,1.2])\n",
        "plt.xlabel('Epoch')\n",
        "plt.title('model_32_128')\n",
        "plt.show()"
      ],
      "metadata": {
        "colab": {
          "base_uri": "https://localhost:8080/",
          "height": 292
        },
        "id": "0QK7NtErTi19",
        "outputId": "63cb3f30-5abc-4766-9abf-2c86ffb44820"
      },
      "execution_count": 59,
      "outputs": [
        {
          "output_type": "display_data",
          "data": {
            "text/plain": [
              "<Figure size 1440x576 with 1 Axes>"
            ],
            "image/png": "[encoded data removed]"
          },
          "metadata": {
            "needs_background": "light"
          }
        }
      ]
    },
    {
      "cell_type": "markdown",
      "source": [
        "- 256/512"
      ],
      "metadata": {
        "id": "SD4U9HTXVSAk"
      }
    },
    {
      "cell_type": "code",
      "source": [
        "model_256_512 = Sequential([\n",
        "    Conv2D(256, (3,3), input_shape=(32, 32, 3), padding='same',activation='relu'),\n",
        "    Conv2D(256, (3,3), activation='relu'),\n",
        "    MaxPooling2D(),\n",
        "    Dropout(0.25),\n",
        "    Conv2D(512, (3,3), padding='same', activation='relu'),\n",
        "    Conv2D(512, (3,3), activation='relu'),\n",
        "    MaxPooling2D(),\n",
        "    Dropout(0.25),\n",
        "    Flatten(),\n",
        "    Dense(512, activation='relu'),\n",
        "    Dropout(0.5),\n",
        "    Dense(100, activation='softmax')\n",
        "])\n",
        "model_256_512.summary()"
      ],
      "metadata": {
        "colab": {
          "base_uri": "https://localhost:8080/"
        },
        "id": "it9KPyMJVUVk",
        "outputId": "5d27def1-d8fb-49fd-9cf6-e0bfd9f28bdc"
      },
      "execution_count": 60,
      "outputs": [
        {
          "output_type": "stream",
          "name": "stdout",
          "text": [
            "Model: \"sequential_18\"\n",
            "_________________________________________________________________\n",
            " Layer (type)                Output Shape              Param #   \n",
            "=================================================================\n",
            " conv2d_104 (Conv2D)         (None, 32, 32, 256)       7168      \n",
            "                                                                 \n",
            " conv2d_105 (Conv2D)         (None, 30, 30, 256)       590080    \n",
            "                                                                 \n",
            " max_pooling2d_53 (MaxPoolin  (None, 15, 15, 256)      0         \n",
            " g2D)                                                            \n",
            "                                                                 \n",
            " dropout_50 (Dropout)        (None, 15, 15, 256)       0         \n",
            "                                                                 \n",
            " conv2d_106 (Conv2D)         (None, 15, 15, 512)       1180160   \n",
            "                                                                 \n",
            " conv2d_107 (Conv2D)         (None, 13, 13, 512)       2359808   \n",
            "                                                                 \n",
            " max_pooling2d_54 (MaxPoolin  (None, 6, 6, 512)        0         \n",
            " g2D)                                                            \n",
            "                                                                 \n",
            " dropout_51 (Dropout)        (None, 6, 6, 512)         0         \n",
            "                                                                 \n",
            " flatten_18 (Flatten)        (None, 18432)             0         \n",
            "                                                                 \n",
            " dense_36 (Dense)            (None, 512)               9437696   \n",
            "                                                                 \n",
            " dropout_52 (Dropout)        (None, 512)               0         \n",
            "                                                                 \n",
            " dense_37 (Dense)            (None, 100)               51300     \n",
            "                                                                 \n",
            "=================================================================\n",
            "Total params: 13,626,212\n",
            "Trainable params: 13,626,212\n",
            "Non-trainable params: 0\n",
            "_________________________________________________________________\n"
          ]
        }
      ]
    },
    {
      "cell_type": "code",
      "source": [
        "model_256_512.compile(\n",
        "    optimizer=RMSprop(learning_rate=0.0001, decay=1e-6),\n",
        "    loss = 'categorical_crossentropy',\n",
        "    metrics = ['accuracy']\n",
        ")\n",
        "\n",
        "model_256_512_path = 'best-cifar10-v4.h6'\n",
        "mc = ModelCheckpoint(model_256_512_path, verbose=1, save_best_only=True)\n",
        "es = EarlyStopping(patience=10)\n",
        "\n",
        "hist4 = model_256_512.fit(X_train, Y_train, validation_split = 0.2,\n",
        "                  epochs = 100, batch_size = 32,\n",
        "                  callbacks=[mc, es])"
      ],
      "metadata": {
        "colab": {
          "base_uri": "https://localhost:8080/"
        },
        "id": "29IfgeWFVnlu",
        "outputId": "f01d7f7e-87ef-40f1-f126-ebd32b46916b"
      },
      "execution_count": 61,
      "outputs": [
        {
          "output_type": "stream",
          "name": "stdout",
          "text": [
            "Epoch 1/100\n",
            "1249/1250 [============================>.] - ETA: 0s - loss: 4.1509 - accuracy: 0.0707\n",
            "Epoch 1: val_loss improved from inf to 3.67182, saving model to best-cifar10-v4.h6\n",
            "INFO:tensorflow:Assets written to: best-cifar10-v4.h6/assets\n",
            "1250/1250 [==============================] - 53s 41ms/step - loss: 4.1506 - accuracy: 0.0707 - val_loss: 3.6718 - val_accuracy: 0.1559\n",
            "Epoch 2/100\n",
            "1249/1250 [============================>.] - ETA: 0s - loss: 3.4971 - accuracy: 0.1753\n",
            "Epoch 2: val_loss improved from 3.67182 to 3.11465, saving model to best-cifar10-v4.h6\n",
            "INFO:tensorflow:Assets written to: best-cifar10-v4.h6/assets\n",
            "1250/1250 [==============================] - 52s 42ms/step - loss: 3.4973 - accuracy: 0.1752 - val_loss: 3.1147 - val_accuracy: 0.2569\n",
            "Epoch 3/100\n",
            "1249/1250 [============================>.] - ETA: 0s - loss: 3.0882 - accuracy: 0.2504\n",
            "Epoch 3: val_loss improved from 3.11465 to 2.77904, saving model to best-cifar10-v4.h6\n",
            "INFO:tensorflow:Assets written to: best-cifar10-v4.h6/assets\n",
            "1250/1250 [==============================] - 52s 42ms/step - loss: 3.0883 - accuracy: 0.2504 - val_loss: 2.7790 - val_accuracy: 0.3147\n",
            "Epoch 4/100\n",
            "1249/1250 [============================>.] - ETA: 0s - loss: 2.7600 - accuracy: 0.3156\n",
            "Epoch 4: val_loss improved from 2.77904 to 2.55135, saving model to best-cifar10-v4.h6\n",
            "INFO:tensorflow:Assets written to: best-cifar10-v4.h6/assets\n",
            "1250/1250 [==============================] - 54s 43ms/step - loss: 2.7598 - accuracy: 0.3156 - val_loss: 2.5513 - val_accuracy: 0.3636\n",
            "Epoch 5/100\n",
            "1249/1250 [============================>.] - ETA: 0s - loss: 2.5095 - accuracy: 0.3656\n",
            "Epoch 5: val_loss improved from 2.55135 to 2.47018, saving model to best-cifar10-v4.h6\n",
            "INFO:tensorflow:Assets written to: best-cifar10-v4.h6/assets\n",
            "1250/1250 [==============================] - 54s 43ms/step - loss: 2.5093 - accuracy: 0.3657 - val_loss: 2.4702 - val_accuracy: 0.3769\n",
            "Epoch 6/100\n",
            "1249/1250 [============================>.] - ETA: 0s - loss: 2.3023 - accuracy: 0.4090\n",
            "Epoch 6: val_loss improved from 2.47018 to 2.30175, saving model to best-cifar10-v4.h6\n",
            "INFO:tensorflow:Assets written to: best-cifar10-v4.h6/assets\n",
            "1250/1250 [==============================] - 54s 43ms/step - loss: 2.3022 - accuracy: 0.4090 - val_loss: 2.3018 - val_accuracy: 0.4113\n",
            "Epoch 7/100\n",
            "1249/1250 [============================>.] - ETA: 0s - loss: 2.1184 - accuracy: 0.4509\n",
            "Epoch 7: val_loss improved from 2.30175 to 2.18774, saving model to best-cifar10-v4.h6\n",
            "INFO:tensorflow:Assets written to: best-cifar10-v4.h6/assets\n",
            "1250/1250 [==============================] - 53s 42ms/step - loss: 2.1183 - accuracy: 0.4509 - val_loss: 2.1877 - val_accuracy: 0.4389\n",
            "Epoch 8/100\n",
            "1249/1250 [============================>.] - ETA: 0s - loss: 1.9907 - accuracy: 0.4804\n",
            "Epoch 8: val_loss improved from 2.18774 to 2.12154, saving model to best-cifar10-v4.h6\n",
            "INFO:tensorflow:Assets written to: best-cifar10-v4.h6/assets\n",
            "1250/1250 [==============================] - 54s 43ms/step - loss: 1.9905 - accuracy: 0.4805 - val_loss: 2.1215 - val_accuracy: 0.4585\n",
            "Epoch 9/100\n",
            "1249/1250 [============================>.] - ETA: 0s - loss: 1.8672 - accuracy: 0.5130\n",
            "Epoch 9: val_loss improved from 2.12154 to 2.07217, saving model to best-cifar10-v4.h6\n",
            "INFO:tensorflow:Assets written to: best-cifar10-v4.h6/assets\n",
            "1250/1250 [==============================] - 54s 43ms/step - loss: 1.8668 - accuracy: 0.5131 - val_loss: 2.0722 - val_accuracy: 0.4648\n",
            "Epoch 10/100\n",
            "1249/1250 [============================>.] - ETA: 0s - loss: 1.7634 - accuracy: 0.5373\n",
            "Epoch 10: val_loss improved from 2.07217 to 2.04146, saving model to best-cifar10-v4.h6\n",
            "INFO:tensorflow:Assets written to: best-cifar10-v4.h6/assets\n",
            "1250/1250 [==============================] - 53s 42ms/step - loss: 1.7637 - accuracy: 0.5372 - val_loss: 2.0415 - val_accuracy: 0.4708\n",
            "Epoch 11/100\n",
            "1249/1250 [============================>.] - ETA: 0s - loss: 1.6863 - accuracy: 0.5562\n",
            "Epoch 11: val_loss did not improve from 2.04146\n",
            "1250/1250 [==============================] - 51s 41ms/step - loss: 1.6865 - accuracy: 0.5561 - val_loss: 2.1509 - val_accuracy: 0.4675\n",
            "Epoch 12/100\n",
            "1249/1250 [============================>.] - ETA: 0s - loss: 1.6248 - accuracy: 0.5712\n",
            "Epoch 12: val_loss improved from 2.04146 to 2.01987, saving model to best-cifar10-v4.h6\n",
            "INFO:tensorflow:Assets written to: best-cifar10-v4.h6/assets\n",
            "1250/1250 [==============================] - 53s 42ms/step - loss: 1.6250 - accuracy: 0.5712 - val_loss: 2.0199 - val_accuracy: 0.4866\n",
            "Epoch 13/100\n",
            "1249/1250 [============================>.] - ETA: 0s - loss: 1.5658 - accuracy: 0.5896\n",
            "Epoch 13: val_loss did not improve from 2.01987\n",
            "1250/1250 [==============================] - 53s 42ms/step - loss: 1.5659 - accuracy: 0.5896 - val_loss: 2.0279 - val_accuracy: 0.4944\n",
            "Epoch 14/100\n",
            "1249/1250 [============================>.] - ETA: 0s - loss: 1.5165 - accuracy: 0.6022\n",
            "Epoch 14: val_loss did not improve from 2.01987\n",
            "1250/1250 [==============================] - 51s 41ms/step - loss: 1.5163 - accuracy: 0.6023 - val_loss: 2.1412 - val_accuracy: 0.5005\n",
            "Epoch 15/100\n",
            "1249/1250 [============================>.] - ETA: 0s - loss: 1.4823 - accuracy: 0.6118\n",
            "Epoch 15: val_loss improved from 2.01987 to 1.99539, saving model to best-cifar10-v4.h6\n",
            "INFO:tensorflow:Assets written to: best-cifar10-v4.h6/assets\n",
            "1250/1250 [==============================] - 54s 43ms/step - loss: 1.4825 - accuracy: 0.6117 - val_loss: 1.9954 - val_accuracy: 0.5050\n",
            "Epoch 16/100\n",
            "1249/1250 [============================>.] - ETA: 0s - loss: 1.4448 - accuracy: 0.6247\n",
            "Epoch 16: val_loss did not improve from 1.99539\n",
            "1250/1250 [==============================] - 51s 41ms/step - loss: 1.4444 - accuracy: 0.6248 - val_loss: 2.0161 - val_accuracy: 0.5070\n",
            "Epoch 17/100\n",
            "1249/1250 [============================>.] - ETA: 0s - loss: 1.4304 - accuracy: 0.6291\n",
            "Epoch 17: val_loss did not improve from 1.99539\n",
            "1250/1250 [==============================] - 51s 41ms/step - loss: 1.4306 - accuracy: 0.6290 - val_loss: 2.0509 - val_accuracy: 0.5051\n",
            "Epoch 18/100\n",
            "1249/1250 [============================>.] - ETA: 0s - loss: 1.4071 - accuracy: 0.6329\n",
            "Epoch 18: val_loss did not improve from 1.99539\n",
            "1250/1250 [==============================] - 51s 41ms/step - loss: 1.4076 - accuracy: 0.6327 - val_loss: 2.4281 - val_accuracy: 0.5067\n",
            "Epoch 19/100\n",
            "1249/1250 [============================>.] - ETA: 0s - loss: 1.3831 - accuracy: 0.6425\n",
            "Epoch 19: val_loss did not improve from 1.99539\n",
            "1250/1250 [==============================] - 51s 41ms/step - loss: 1.3834 - accuracy: 0.6424 - val_loss: 2.0332 - val_accuracy: 0.5068\n",
            "Epoch 20/100\n",
            "1249/1250 [============================>.] - ETA: 0s - loss: 1.3676 - accuracy: 0.6435\n",
            "Epoch 20: val_loss did not improve from 1.99539\n",
            "1250/1250 [==============================] - 53s 42ms/step - loss: 1.3680 - accuracy: 0.6434 - val_loss: 2.1079 - val_accuracy: 0.4891\n",
            "Epoch 21/100\n",
            "1249/1250 [============================>.] - ETA: 0s - loss: 1.3655 - accuracy: 0.6465\n",
            "Epoch 21: val_loss did not improve from 1.99539\n",
            "1250/1250 [==============================] - 53s 42ms/step - loss: 1.3650 - accuracy: 0.6466 - val_loss: 2.1082 - val_accuracy: 0.5183\n",
            "Epoch 22/100\n",
            "1249/1250 [============================>.] - ETA: 0s - loss: 1.3620 - accuracy: 0.6505\n",
            "Epoch 22: val_loss did not improve from 1.99539\n",
            "1250/1250 [==============================] - 51s 41ms/step - loss: 1.3623 - accuracy: 0.6505 - val_loss: 2.0344 - val_accuracy: 0.5005\n",
            "Epoch 23/100\n",
            "1249/1250 [============================>.] - ETA: 0s - loss: 1.3494 - accuracy: 0.6509\n",
            "Epoch 23: val_loss improved from 1.99539 to 1.95947, saving model to best-cifar10-v4.h6\n",
            "INFO:tensorflow:Assets written to: best-cifar10-v4.h6/assets\n",
            "1250/1250 [==============================] - 54s 43ms/step - loss: 1.3498 - accuracy: 0.6509 - val_loss: 1.9595 - val_accuracy: 0.5085\n",
            "Epoch 24/100\n",
            "1250/1250 [==============================] - ETA: 0s - loss: 1.3368 - accuracy: 0.6526\n",
            "Epoch 24: val_loss did not improve from 1.95947\n",
            "1250/1250 [==============================] - 53s 42ms/step - loss: 1.3368 - accuracy: 0.6526 - val_loss: 1.9897 - val_accuracy: 0.5092\n",
            "Epoch 25/100\n",
            "1249/1250 [============================>.] - ETA: 0s - loss: 1.3473 - accuracy: 0.6512\n",
            "Epoch 25: val_loss did not improve from 1.95947\n",
            "1250/1250 [==============================] - 53s 42ms/step - loss: 1.3474 - accuracy: 0.6512 - val_loss: 1.9983 - val_accuracy: 0.5183\n",
            "Epoch 26/100\n",
            "1249/1250 [============================>.] - ETA: 0s - loss: 1.3535 - accuracy: 0.6542\n",
            "Epoch 26: val_loss did not improve from 1.95947\n",
            "1250/1250 [==============================] - 53s 42ms/step - loss: 1.3534 - accuracy: 0.6543 - val_loss: 2.0842 - val_accuracy: 0.5140\n",
            "Epoch 27/100\n",
            "1249/1250 [============================>.] - ETA: 0s - loss: 1.3413 - accuracy: 0.6539\n",
            "Epoch 27: val_loss did not improve from 1.95947\n",
            "1250/1250 [==============================] - 51s 41ms/step - loss: 1.3424 - accuracy: 0.6538 - val_loss: 2.0764 - val_accuracy: 0.5005\n",
            "Epoch 28/100\n",
            "1249/1250 [============================>.] - ETA: 0s - loss: 1.3463 - accuracy: 0.6541\n",
            "Epoch 28: val_loss did not improve from 1.95947\n",
            "1250/1250 [==============================] - 53s 42ms/step - loss: 1.3462 - accuracy: 0.6541 - val_loss: 2.0047 - val_accuracy: 0.5228\n",
            "Epoch 29/100\n",
            "1249/1250 [============================>.] - ETA: 0s - loss: 1.3318 - accuracy: 0.6545\n",
            "Epoch 29: val_loss did not improve from 1.95947\n",
            "1250/1250 [==============================] - 53s 42ms/step - loss: 1.3321 - accuracy: 0.6544 - val_loss: 1.9940 - val_accuracy: 0.5101\n",
            "Epoch 30/100\n",
            "1249/1250 [============================>.] - ETA: 0s - loss: 1.3373 - accuracy: 0.6586\n",
            "Epoch 30: val_loss did not improve from 1.95947\n",
            "1250/1250 [==============================] - 53s 42ms/step - loss: 1.3375 - accuracy: 0.6586 - val_loss: 2.1503 - val_accuracy: 0.5114\n",
            "Epoch 31/100\n",
            "1249/1250 [============================>.] - ETA: 0s - loss: 1.3483 - accuracy: 0.6549\n",
            "Epoch 31: val_loss did not improve from 1.95947\n",
            "1250/1250 [==============================] - 53s 42ms/step - loss: 1.3485 - accuracy: 0.6549 - val_loss: 2.0665 - val_accuracy: 0.5099\n",
            "Epoch 32/100\n",
            "1249/1250 [============================>.] - ETA: 0s - loss: 1.3470 - accuracy: 0.6548\n",
            "Epoch 32: val_loss did not improve from 1.95947\n",
            "1250/1250 [==============================] - 53s 42ms/step - loss: 1.3469 - accuracy: 0.6549 - val_loss: 2.1310 - val_accuracy: 0.5062\n",
            "Epoch 33/100\n",
            "1249/1250 [============================>.] - ETA: 0s - loss: 1.3397 - accuracy: 0.6554\n",
            "Epoch 33: val_loss did not improve from 1.95947\n",
            "1250/1250 [==============================] - 52s 42ms/step - loss: 1.3396 - accuracy: 0.6554 - val_loss: 2.3185 - val_accuracy: 0.5187\n"
          ]
        }
      ]
    },
    {
      "cell_type": "code",
      "source": [
        "best_model = load_model(model_256_512_path)\n",
        "best_model.evaluate(X_test, Y_test)"
      ],
      "metadata": {
        "colab": {
          "base_uri": "https://localhost:8080/"
        },
        "id": "FJ41IqUTVXpd",
        "outputId": "5bd4deca-80af-4f80-a389-98e46324dcb8"
      },
      "execution_count": 62,
      "outputs": [
        {
          "output_type": "stream",
          "name": "stdout",
          "text": [
            "313/313 [==============================] - 4s 13ms/step - loss: 1.9149 - accuracy: 0.5204\n"
          ]
        },
        {
          "output_type": "execute_result",
          "data": {
            "text/plain": [
              "[1.9149316549301147, 0.5203999876976013]"
            ]
          },
          "metadata": {},
          "execution_count": 62
        }
      ]
    },
    {
      "cell_type": "code",
      "source": [
        "y_acc6 = hist4.history['accuracy']\n",
        "y_vloss6 = hist4.history['val_loss']\n",
        "xs6 = np.arange(1, len(y_acc6) + 1)\n",
        "\n",
        "plt.figure(figsize=(20, 8))\n",
        "plt.plot(xs6, y_acc6, label='train.accuracy')\n",
        "plt.plot(xs6, y_vloss6, label='validation loss')\n",
        "plt.legend(), plt.grid()\n",
        "# plt.ylim([0,1.2])\n",
        "plt.xlabel('Epoch')\n",
        "plt.title('model_128_256')\n",
        "plt.show()"
      ],
      "metadata": {
        "colab": {
          "base_uri": "https://localhost:8080/",
          "height": 290
        },
        "id": "QFQIA8ZsVZ4r",
        "outputId": "67e51fcd-db36-44f3-a968-a3e4ea57aac3"
      },
      "execution_count": 64,
      "outputs": [
        {
          "output_type": "display_data",
          "data": {
            "text/plain": [
              "<Figure size 1440x576 with 1 Axes>"
            ],
            "image/png": "[encoded data removed]"
          },
          "metadata": {
            "needs_background": "light"
          }
        }
      ]
    }
  ]
}