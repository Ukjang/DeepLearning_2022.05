{
  "nbformat": 4,
  "nbformat_minor": 0,
  "metadata": {
    "colab": {
      "name": "03_MNIST_v3.ipynb",
      "provenance": []
    },
    "kernelspec": {
      "name": "python3",
      "display_name": "Python 3"
    },
    "language_info": {
      "name": "python"
    },
    "accelerator": "GPU"
  },
  "cells": [
    {
      "cell_type": "markdown",
      "source": [
        "# MNIST 손글씨 - CNN v3\n",
        "\n",
        "\n",
        "\n",
        "- 2 x conv2D layers\n",
        "- 1 FCN layer\n",
        "- 1 Dropput\n",
        "- MaxPooling2D\n",
        "- l output layer"
      ],
      "metadata": {
        "id": "zoHWEFn_dzbh"
      }
    },
    {
      "cell_type": "code",
      "source": [
        "import numpy as np\n",
        "import pandas as pd\n",
        "import matplotlib.pyplot as plt\n",
        "import tensorflow as tf\n",
        "seed = 2022\n",
        "np.random.seed(seed)\n",
        "tf.random.set_seed(seed)"
      ],
      "metadata": {
        "id": "fPiV1_t_d-7k"
      },
      "execution_count": 1,
      "outputs": []
    },
    {
      "cell_type": "code",
      "source": [
        "from tensorflow.keras.datasets import mnist\n",
        "(X_train, Y_train), (X_test, Y_test) = mnist.load_data()\n",
        "X_train.shape"
      ],
      "metadata": {
        "colab": {
          "base_uri": "https://localhost:8080/"
        },
        "id": "9YvqvxYjeRD-",
        "outputId": "6fdcb631-a2d7-4b6a-bfb9-10cdd3f20f4c"
      },
      "execution_count": 2,
      "outputs": [
        {
          "output_type": "stream",
          "name": "stdout",
          "text": [
            "Downloading data from https://storage.googleapis.com/tensorflow/tf-keras-datasets/mnist.npz\n",
            "11493376/11490434 [==============================] - 0s 0us/step\n",
            "11501568/11490434 [==============================] - 0s 0us/step\n"
          ]
        },
        {
          "output_type": "execute_result",
          "data": {
            "text/plain": [
              "(60000, 28, 28)"
            ]
          },
          "metadata": {},
          "execution_count": 2
        }
      ]
    },
    {
      "cell_type": "markdown",
      "source": [
        "- 데이터 전처리"
      ],
      "metadata": {
        "id": "cxRKmFJMfNTa"
      }
    },
    {
      "cell_type": "code",
      "source": [
        "# X_train, X_test 정규화(0~1), 이미지 차원 변경\n",
        "\n",
        "X_train = X_train.reshape(-1, 28, 28, 1) / 255.\n",
        "X_test = X_test.reshape(-1, 28, 28, 1) / 255.\n",
        "X_train.shape, X_test.shape"
      ],
      "metadata": {
        "colab": {
          "base_uri": "https://localhost:8080/"
        },
        "id": "bVpYUKEOeSMP",
        "outputId": "92088c20-33db-4052-9eb2-230d5a7f652f"
      },
      "execution_count": 3,
      "outputs": [
        {
          "output_type": "execute_result",
          "data": {
            "text/plain": [
              "((60000, 28, 28, 1), (10000, 28, 28, 1))"
            ]
          },
          "metadata": {},
          "execution_count": 3
        }
      ]
    },
    {
      "cell_type": "code",
      "source": [
        "from tensorflow.keras.utils import to_categorical\n",
        "Y_train = to_categorical(Y_train)\n",
        "Y_test = to_categorical(Y_test)\n",
        "Y_train.shape, Y_test.shape"
      ],
      "metadata": {
        "colab": {
          "base_uri": "https://localhost:8080/"
        },
        "id": "DKb5R_oge485",
        "outputId": "e763c7f9-9710-462a-df8c-b3ec680d7f86"
      },
      "execution_count": 4,
      "outputs": [
        {
          "output_type": "execute_result",
          "data": {
            "text/plain": [
              "((60000, 10), (10000, 10))"
            ]
          },
          "metadata": {},
          "execution_count": 4
        }
      ]
    },
    {
      "cell_type": "markdown",
      "source": [
        " - 모델 정의 / 설정/ 학습 / 평가"
      ],
      "metadata": {
        "id": "owj6mswVfHcc"
      }
    },
    {
      "cell_type": "code",
      "source": [
        "from tensorflow.keras.models import Sequential\n",
        "from tensorflow.keras.layers import Dense, Conv2D, Flatten, MaxPooling2D, Dropout\n",
        "from tensorflow.keras.callbacks import ModelCheckpoint, EarlyStopping"
      ],
      "metadata": {
        "id": "slZpyfGnfRIc"
      },
      "execution_count": 5,
      "outputs": []
    },
    {
      "cell_type": "code",
      "source": [
        "model = Sequential([\n",
        "    Conv2D(32, kernel_size=(3,3), input_shape=(28,28,1), activation='relu'),\n",
        "    Conv2D(64, (3,3), activation='relu'),\n",
        "    MaxPooling2D(), # MaxPooling2D(poll_size=(2,2))\n",
        "    Dropout(0.25),\n",
        "    Flatten(),\n",
        "    Dense(512, activation='relu'),\n",
        "    Dropout(0.5),\n",
        "    Dense(10, activation='softmax')\n",
        "])\n",
        "\n",
        "model.summary()"
      ],
      "metadata": {
        "colab": {
          "base_uri": "https://localhost:8080/"
        },
        "id": "L04EG_6hf02-",
        "outputId": "b08f4d28-0e5f-481b-a017-aff3301a770e"
      },
      "execution_count": 6,
      "outputs": [
        {
          "output_type": "stream",
          "name": "stdout",
          "text": [
            "Model: \"sequential\"\n",
            "_________________________________________________________________\n",
            " Layer (type)                Output Shape              Param #   \n",
            "=================================================================\n",
            " conv2d (Conv2D)             (None, 26, 26, 32)        320       \n",
            "                                                                 \n",
            " conv2d_1 (Conv2D)           (None, 24, 24, 64)        18496     \n",
            "                                                                 \n",
            " max_pooling2d (MaxPooling2D  (None, 12, 12, 64)       0         \n",
            " )                                                               \n",
            "                                                                 \n",
            " dropout (Dropout)           (None, 12, 12, 64)        0         \n",
            "                                                                 \n",
            " flatten (Flatten)           (None, 9216)              0         \n",
            "                                                                 \n",
            " dense (Dense)               (None, 512)               4719104   \n",
            "                                                                 \n",
            " dropout_1 (Dropout)         (None, 512)               0         \n",
            "                                                                 \n",
            " dense_1 (Dense)             (None, 10)                5130      \n",
            "                                                                 \n",
            "=================================================================\n",
            "Total params: 4,743,050\n",
            "Trainable params: 4,743,050\n",
            "Non-trainable params: 0\n",
            "_________________________________________________________________\n"
          ]
        }
      ]
    },
    {
      "cell_type": "code",
      "source": [
        "model.compile('adam', 'categorical_crossentropy', ['accuracy'])"
      ],
      "metadata": {
        "id": "A8LUMNNihbS5"
      },
      "execution_count": 7,
      "outputs": []
    },
    {
      "cell_type": "code",
      "source": [
        "model_path = 'best_mnist_cnn_v3.h5'\n",
        "mc = ModelCheckpoint(model_path, save_best_only=True, verbose=1)\n",
        "es = EarlyStopping(patience=10)"
      ],
      "metadata": {
        "id": "Kqi9ah75lSXs"
      },
      "execution_count": 8,
      "outputs": []
    },
    {
      "cell_type": "code",
      "source": [
        "hist1 = model.fit(X_train, Y_train, validation_split=0.2,\n",
        "          epochs=10000, batch_size=200,\n",
        "          callbacks = [mc,es])"
      ],
      "metadata": {
        "colab": {
          "base_uri": "https://localhost:8080/"
        },
        "id": "NPf9MGIZi3D6",
        "outputId": "3ba52790-3b5a-4433-fb22-66e68ee5bdcb"
      },
      "execution_count": 9,
      "outputs": [
        {
          "output_type": "stream",
          "name": "stdout",
          "text": [
            "Epoch 1/10000\n",
            "240/240 [==============================] - ETA: 0s - loss: 0.2198 - accuracy: 0.9317\n",
            "Epoch 1: val_loss improved from inf to 0.05678, saving model to best_mnist_cnn_v2.h5\n",
            "240/240 [==============================] - 15s 17ms/step - loss: 0.2198 - accuracy: 0.9317 - val_loss: 0.0568 - val_accuracy: 0.9835\n",
            "Epoch 2/10000\n",
            "240/240 [==============================] - ETA: 0s - loss: 0.0624 - accuracy: 0.9812\n",
            "Epoch 2: val_loss improved from 0.05678 to 0.05105, saving model to best_mnist_cnn_v2.h5\n",
            "240/240 [==============================] - 4s 16ms/step - loss: 0.0624 - accuracy: 0.9812 - val_loss: 0.0511 - val_accuracy: 0.9855\n",
            "Epoch 3/10000\n",
            "237/240 [============================>.] - ETA: 0s - loss: 0.0428 - accuracy: 0.9868\n",
            "Epoch 3: val_loss improved from 0.05105 to 0.03993, saving model to best_mnist_cnn_v2.h5\n",
            "240/240 [==============================] - 4s 16ms/step - loss: 0.0428 - accuracy: 0.9868 - val_loss: 0.0399 - val_accuracy: 0.9884\n",
            "Epoch 4/10000\n",
            "237/240 [============================>.] - ETA: 0s - loss: 0.0333 - accuracy: 0.9893\n",
            "Epoch 4: val_loss improved from 0.03993 to 0.03868, saving model to best_mnist_cnn_v2.h5\n",
            "240/240 [==============================] - 4s 16ms/step - loss: 0.0333 - accuracy: 0.9893 - val_loss: 0.0387 - val_accuracy: 0.9892\n",
            "Epoch 5/10000\n",
            "237/240 [============================>.] - ETA: 0s - loss: 0.0282 - accuracy: 0.9906\n",
            "Epoch 5: val_loss did not improve from 0.03868\n",
            "240/240 [==============================] - 4s 17ms/step - loss: 0.0281 - accuracy: 0.9906 - val_loss: 0.0412 - val_accuracy: 0.9888\n",
            "Epoch 6/10000\n",
            "240/240 [==============================] - ETA: 0s - loss: 0.0241 - accuracy: 0.9920\n",
            "Epoch 6: val_loss improved from 0.03868 to 0.03583, saving model to best_mnist_cnn_v2.h5\n",
            "240/240 [==============================] - 4s 16ms/step - loss: 0.0241 - accuracy: 0.9920 - val_loss: 0.0358 - val_accuracy: 0.9898\n",
            "Epoch 7/10000\n",
            "237/240 [============================>.] - ETA: 0s - loss: 0.0192 - accuracy: 0.9936\n",
            "Epoch 7: val_loss improved from 0.03583 to 0.03558, saving model to best_mnist_cnn_v2.h5\n",
            "240/240 [==============================] - 4s 16ms/step - loss: 0.0190 - accuracy: 0.9937 - val_loss: 0.0356 - val_accuracy: 0.9904\n",
            "Epoch 8/10000\n",
            "240/240 [==============================] - ETA: 0s - loss: 0.0162 - accuracy: 0.9943\n",
            "Epoch 8: val_loss improved from 0.03558 to 0.03282, saving model to best_mnist_cnn_v2.h5\n",
            "240/240 [==============================] - 4s 16ms/step - loss: 0.0162 - accuracy: 0.9943 - val_loss: 0.0328 - val_accuracy: 0.9912\n",
            "Epoch 9/10000\n",
            "240/240 [==============================] - ETA: 0s - loss: 0.0152 - accuracy: 0.9949\n",
            "Epoch 9: val_loss did not improve from 0.03282\n",
            "240/240 [==============================] - 4s 15ms/step - loss: 0.0152 - accuracy: 0.9949 - val_loss: 0.0349 - val_accuracy: 0.9904\n",
            "Epoch 10/10000\n",
            "240/240 [==============================] - ETA: 0s - loss: 0.0128 - accuracy: 0.9957\n",
            "Epoch 10: val_loss did not improve from 0.03282\n",
            "240/240 [==============================] - 4s 15ms/step - loss: 0.0128 - accuracy: 0.9957 - val_loss: 0.0364 - val_accuracy: 0.9902\n",
            "Epoch 11/10000\n",
            "237/240 [============================>.] - ETA: 0s - loss: 0.0127 - accuracy: 0.9956\n",
            "Epoch 11: val_loss did not improve from 0.03282\n",
            "240/240 [==============================] - 4s 15ms/step - loss: 0.0126 - accuracy: 0.9956 - val_loss: 0.0391 - val_accuracy: 0.9908\n",
            "Epoch 12/10000\n",
            "240/240 [==============================] - ETA: 0s - loss: 0.0124 - accuracy: 0.9956\n",
            "Epoch 12: val_loss did not improve from 0.03282\n",
            "240/240 [==============================] - 4s 15ms/step - loss: 0.0124 - accuracy: 0.9956 - val_loss: 0.0346 - val_accuracy: 0.9909\n",
            "Epoch 13/10000\n",
            "240/240 [==============================] - ETA: 0s - loss: 0.0104 - accuracy: 0.9964\n",
            "Epoch 13: val_loss did not improve from 0.03282\n",
            "240/240 [==============================] - 4s 15ms/step - loss: 0.0104 - accuracy: 0.9964 - val_loss: 0.0380 - val_accuracy: 0.9918\n",
            "Epoch 14/10000\n",
            "240/240 [==============================] - ETA: 0s - loss: 0.0096 - accuracy: 0.9968\n",
            "Epoch 14: val_loss did not improve from 0.03282\n",
            "240/240 [==============================] - 4s 15ms/step - loss: 0.0096 - accuracy: 0.9968 - val_loss: 0.0373 - val_accuracy: 0.9918\n",
            "Epoch 15/10000\n",
            "240/240 [==============================] - ETA: 0s - loss: 0.0100 - accuracy: 0.9965\n",
            "Epoch 15: val_loss did not improve from 0.03282\n",
            "240/240 [==============================] - 4s 15ms/step - loss: 0.0100 - accuracy: 0.9965 - val_loss: 0.0357 - val_accuracy: 0.9912\n",
            "Epoch 16/10000\n",
            "238/240 [============================>.] - ETA: 0s - loss: 0.0071 - accuracy: 0.9976\n",
            "Epoch 16: val_loss did not improve from 0.03282\n",
            "240/240 [==============================] - 4s 15ms/step - loss: 0.0071 - accuracy: 0.9977 - val_loss: 0.0439 - val_accuracy: 0.9910\n",
            "Epoch 17/10000\n",
            "237/240 [============================>.] - ETA: 0s - loss: 0.0085 - accuracy: 0.9970\n",
            "Epoch 17: val_loss did not improve from 0.03282\n",
            "240/240 [==============================] - 4s 15ms/step - loss: 0.0085 - accuracy: 0.9970 - val_loss: 0.0393 - val_accuracy: 0.9913\n",
            "Epoch 18/10000\n",
            "237/240 [============================>.] - ETA: 0s - loss: 0.0064 - accuracy: 0.9975\n",
            "Epoch 18: val_loss did not improve from 0.03282\n",
            "240/240 [==============================] - 4s 15ms/step - loss: 0.0064 - accuracy: 0.9975 - val_loss: 0.0416 - val_accuracy: 0.9908\n"
          ]
        }
      ]
    },
    {
      "cell_type": "code",
      "source": [
        "model.evaluate(X_test, Y_test)"
      ],
      "metadata": {
        "colab": {
          "base_uri": "https://localhost:8080/"
        },
        "id": "JBD0xowHllOK",
        "outputId": "c4189010-5b17-48df-9b0d-c41b07ed2ca0"
      },
      "execution_count": 10,
      "outputs": [
        {
          "output_type": "stream",
          "name": "stdout",
          "text": [
            "313/313 [==============================] - 2s 4ms/step - loss: 0.0328 - accuracy: 0.9919\n"
          ]
        },
        {
          "output_type": "execute_result",
          "data": {
            "text/plain": [
              "[0.03282271325588226, 0.9919000267982483]"
            ]
          },
          "metadata": {},
          "execution_count": 10
        }
      ]
    },
    {
      "cell_type": "code",
      "source": [
        "model.summary()"
      ],
      "metadata": {
        "colab": {
          "base_uri": "https://localhost:8080/"
        },
        "id": "Mi236Ad4m4iO",
        "outputId": "984ad1f8-fe2d-4c4d-a4f6-bcb6b408308c"
      },
      "execution_count": 11,
      "outputs": [
        {
          "output_type": "stream",
          "name": "stdout",
          "text": [
            "Model: \"sequential\"\n",
            "_________________________________________________________________\n",
            " Layer (type)                Output Shape              Param #   \n",
            "=================================================================\n",
            " conv2d (Conv2D)             (None, 26, 26, 32)        320       \n",
            "                                                                 \n",
            " conv2d_1 (Conv2D)           (None, 24, 24, 64)        18496     \n",
            "                                                                 \n",
            " max_pooling2d (MaxPooling2D  (None, 12, 12, 64)       0         \n",
            " )                                                               \n",
            "                                                                 \n",
            " dropout (Dropout)           (None, 12, 12, 64)        0         \n",
            "                                                                 \n",
            " flatten (Flatten)           (None, 9216)              0         \n",
            "                                                                 \n",
            " dense (Dense)               (None, 512)               4719104   \n",
            "                                                                 \n",
            " dropout_1 (Dropout)         (None, 512)               0         \n",
            "                                                                 \n",
            " dense_1 (Dense)             (None, 10)                5130      \n",
            "                                                                 \n",
            "=================================================================\n",
            "Total params: 4,743,050\n",
            "Trainable params: 4,743,050\n",
            "Non-trainable params: 0\n",
            "_________________________________________________________________\n"
          ]
        }
      ]
    },
    {
      "cell_type": "code",
      "source": [
        "y_acc1 = hist1.history['accuracy']\n",
        "y_vloss1 = hist1.history['val_loss']\n",
        "xs1 = np.arange(1, len(y_acc1) + 1)"
      ],
      "metadata": {
        "id": "RYVfDKKDnc1y"
      },
      "execution_count": 12,
      "outputs": []
    },
    {
      "cell_type": "code",
      "source": [
        "plt.figure(figsize=(20, 8))\n",
        "plt.plot(xs1, y_acc1, label='train.accuracy')\n",
        "plt.plot(xs1, y_vloss1, label='validation loss')\n",
        "plt.legend(), plt.grid()\n",
        "plt.ylim([0,1.2])\n",
        "plt.xlabel('Epoch')\n",
        "plt.show()"
      ],
      "metadata": {
        "colab": {
          "base_uri": "https://localhost:8080/",
          "height": 290
        },
        "id": "x86MBV2onftz",
        "outputId": "8a7b8889-9a56-44a5-9890-99dab30cb048"
      },
      "execution_count": 13,
      "outputs": [
        {
          "output_type": "display_data",
          "data": {
            "text/plain": [
              "<Figure size 1440x576 with 1 Axes>"
            ],
            "image/png": "[encoded data removed]"
          },
          "metadata": {
            "needs_background": "light"
          }
        }
      ]
    },
    {
      "cell_type": "code",
      "source": [
        ""
      ],
      "metadata": {
        "id": "avCe8J_Xniyp"
      },
      "execution_count": 13,
      "outputs": []
    }
  ]
}