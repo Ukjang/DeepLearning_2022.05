{
  "nbformat": 4,
  "nbformat_minor": 0,
  "metadata": {
    "colab": {
      "name": "33_다각형 분류_ 데이터부풀리기.ipynb",
      "provenance": []
    },
    "kernelspec": {
      "name": "python3",
      "display_name": "Python 3"
    },
    "language_info": {
      "name": "python"
    }
  },
  "cells": [
    {
      "cell_type": "markdown",
      "source": [
        "# 원, 사각형, 삼각형, 구분하기\n",
        "- 어려운 테스트 문제를 데이터 부풀리기를 이용하여 데이터를 많이 생성\n",
        "- 기존 CNN 모델 사용"
      ],
      "metadata": {
        "id": "qLKPJAGli5A3"
      }
    },
    {
      "cell_type": "code",
      "source": [
        "from google.colab import files\n",
        "up = files.upload()"
      ],
      "metadata": {
        "colab": {
          "resources": {
            "http://localhost:8080/nbextensions/google.colab/files.js": {
              "data": "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",
              "ok": true,
              "headers": [
                [
                  "content-type",
                  "application/javascript"
                ]
              ],
              "status": 200,
              "status_text": ""
            }
          },
          "base_uri": "https://localhost:8080/",
          "height": 350
        },
        "id": "-Gf0egqXi9ws",
        "outputId": "162882dd-622f-4ead-983a-888f4db3754f"
      },
      "execution_count": 1,
      "outputs": [
        {
          "output_type": "display_data",
          "data": {
            "text/plain": [
              "<IPython.core.display.HTML object>"
            ],
            "text/html": [
              "\n",
              "     <input type=\"file\" id=\"files-dde093a0-eca5-40e8-acf8-1e5d6c08d842\" name=\"files[]\" multiple disabled\n",
              "        style=\"border:none\" />\n",
              "     <output id=\"result-dde093a0-eca5-40e8-acf8-1e5d6c08d842\">\n",
              "      Upload widget is only available when the cell has been executed in the\n",
              "      current browser session. Please rerun this cell to enable.\n",
              "      </output>\n",
              "      <script src=\"/nbextensions/google.colab/files.js\"></script> "
            ]
          },
          "metadata": {}
        },
        {
          "output_type": "error",
          "ename": "KeyboardInterrupt",
          "evalue": "ignored",
          "traceback": [
            "\u001b[0;31m---------------------------------------------------------------------------\u001b[0m",
            "\u001b[0;31mKeyboardInterrupt\u001b[0m                         Traceback (most recent call last)",
            "\u001b[0;32m<ipython-input-1-5e684e50ea9c>\u001b[0m in \u001b[0;36m<module>\u001b[0;34m()\u001b[0m\n\u001b[1;32m      1\u001b[0m \u001b[0;32mfrom\u001b[0m \u001b[0mgoogle\u001b[0m\u001b[0;34m.\u001b[0m\u001b[0mcolab\u001b[0m \u001b[0;32mimport\u001b[0m \u001b[0mfiles\u001b[0m\u001b[0;34m\u001b[0m\u001b[0;34m\u001b[0m\u001b[0m\n\u001b[0;32m----> 2\u001b[0;31m \u001b[0mup\u001b[0m \u001b[0;34m=\u001b[0m \u001b[0mfiles\u001b[0m\u001b[0;34m.\u001b[0m\u001b[0mupload\u001b[0m\u001b[0;34m(\u001b[0m\u001b[0;34m)\u001b[0m\u001b[0;34m\u001b[0m\u001b[0;34m\u001b[0m\u001b[0m\n\u001b[0m",
            "\u001b[0;32m/usr/local/lib/python3.7/dist-packages/google/colab/files.py\u001b[0m in \u001b[0;36mupload\u001b[0;34m()\u001b[0m\n\u001b[1;32m     44\u001b[0m   \"\"\"\n\u001b[1;32m     45\u001b[0m \u001b[0;34m\u001b[0m\u001b[0m\n\u001b[0;32m---> 46\u001b[0;31m   \u001b[0muploaded_files\u001b[0m \u001b[0;34m=\u001b[0m \u001b[0m_upload_files\u001b[0m\u001b[0;34m(\u001b[0m\u001b[0mmultiple\u001b[0m\u001b[0;34m=\u001b[0m\u001b[0;32mTrue\u001b[0m\u001b[0;34m)\u001b[0m\u001b[0;34m\u001b[0m\u001b[0;34m\u001b[0m\u001b[0m\n\u001b[0m\u001b[1;32m     47\u001b[0m   \u001b[0;31m# Mapping from original filename to filename as saved locally.\u001b[0m\u001b[0;34m\u001b[0m\u001b[0;34m\u001b[0m\u001b[0;34m\u001b[0m\u001b[0m\n\u001b[1;32m     48\u001b[0m   \u001b[0mlocal_filenames\u001b[0m \u001b[0;34m=\u001b[0m \u001b[0mdict\u001b[0m\u001b[0;34m(\u001b[0m\u001b[0;34m)\u001b[0m\u001b[0;34m\u001b[0m\u001b[0;34m\u001b[0m\u001b[0m\n",
            "\u001b[0;32m/usr/local/lib/python3.7/dist-packages/google/colab/files.py\u001b[0m in \u001b[0;36m_upload_files\u001b[0;34m(multiple)\u001b[0m\n\u001b[1;32m    121\u001b[0m   result = _output.eval_js(\n\u001b[1;32m    122\u001b[0m       'google.colab._files._uploadFiles(\"{input_id}\", \"{output_id}\")'.format(\n\u001b[0;32m--> 123\u001b[0;31m           input_id=input_id, output_id=output_id))\n\u001b[0m\u001b[1;32m    124\u001b[0m   \u001b[0mfiles\u001b[0m \u001b[0;34m=\u001b[0m \u001b[0m_collections\u001b[0m\u001b[0;34m.\u001b[0m\u001b[0mdefaultdict\u001b[0m\u001b[0;34m(\u001b[0m\u001b[0m_six\u001b[0m\u001b[0;34m.\u001b[0m\u001b[0mbinary_type\u001b[0m\u001b[0;34m)\u001b[0m\u001b[0;34m\u001b[0m\u001b[0;34m\u001b[0m\u001b[0m\n\u001b[1;32m    125\u001b[0m \u001b[0;34m\u001b[0m\u001b[0m\n",
            "\u001b[0;32m/usr/local/lib/python3.7/dist-packages/google/colab/output/_js.py\u001b[0m in \u001b[0;36meval_js\u001b[0;34m(script, ignore_result, timeout_sec)\u001b[0m\n\u001b[1;32m     38\u001b[0m   \u001b[0;32mif\u001b[0m \u001b[0mignore_result\u001b[0m\u001b[0;34m:\u001b[0m\u001b[0;34m\u001b[0m\u001b[0;34m\u001b[0m\u001b[0m\n\u001b[1;32m     39\u001b[0m     \u001b[0;32mreturn\u001b[0m\u001b[0;34m\u001b[0m\u001b[0;34m\u001b[0m\u001b[0m\n\u001b[0;32m---> 40\u001b[0;31m   \u001b[0;32mreturn\u001b[0m \u001b[0m_message\u001b[0m\u001b[0;34m.\u001b[0m\u001b[0mread_reply_from_input\u001b[0m\u001b[0;34m(\u001b[0m\u001b[0mrequest_id\u001b[0m\u001b[0;34m,\u001b[0m \u001b[0mtimeout_sec\u001b[0m\u001b[0;34m)\u001b[0m\u001b[0;34m\u001b[0m\u001b[0;34m\u001b[0m\u001b[0m\n\u001b[0m\u001b[1;32m     41\u001b[0m \u001b[0;34m\u001b[0m\u001b[0m\n\u001b[1;32m     42\u001b[0m \u001b[0;34m\u001b[0m\u001b[0m\n",
            "\u001b[0;32m/usr/local/lib/python3.7/dist-packages/google/colab/_message.py\u001b[0m in \u001b[0;36mread_reply_from_input\u001b[0;34m(message_id, timeout_sec)\u001b[0m\n\u001b[1;32m     99\u001b[0m     \u001b[0mreply\u001b[0m \u001b[0;34m=\u001b[0m \u001b[0m_read_next_input_message\u001b[0m\u001b[0;34m(\u001b[0m\u001b[0;34m)\u001b[0m\u001b[0;34m\u001b[0m\u001b[0;34m\u001b[0m\u001b[0m\n\u001b[1;32m    100\u001b[0m     \u001b[0;32mif\u001b[0m \u001b[0mreply\u001b[0m \u001b[0;34m==\u001b[0m \u001b[0m_NOT_READY\u001b[0m \u001b[0;32mor\u001b[0m \u001b[0;32mnot\u001b[0m \u001b[0misinstance\u001b[0m\u001b[0;34m(\u001b[0m\u001b[0mreply\u001b[0m\u001b[0;34m,\u001b[0m \u001b[0mdict\u001b[0m\u001b[0;34m)\u001b[0m\u001b[0;34m:\u001b[0m\u001b[0;34m\u001b[0m\u001b[0;34m\u001b[0m\u001b[0m\n\u001b[0;32m--> 101\u001b[0;31m       \u001b[0mtime\u001b[0m\u001b[0;34m.\u001b[0m\u001b[0msleep\u001b[0m\u001b[0;34m(\u001b[0m\u001b[0;36m0.025\u001b[0m\u001b[0;34m)\u001b[0m\u001b[0;34m\u001b[0m\u001b[0;34m\u001b[0m\u001b[0m\n\u001b[0m\u001b[1;32m    102\u001b[0m       \u001b[0;32mcontinue\u001b[0m\u001b[0;34m\u001b[0m\u001b[0;34m\u001b[0m\u001b[0m\n\u001b[1;32m    103\u001b[0m     if (reply.get('type') == 'colab_reply' and\n",
            "\u001b[0;31mKeyboardInterrupt\u001b[0m: "
          ]
        }
      ]
    },
    {
      "cell_type": "code",
      "source": [
        "!unzip hard_handwriting_shape.zip > /dev/null"
      ],
      "metadata": {
        "id": "_nopGsOgjjDr"
      },
      "execution_count": null,
      "outputs": []
    },
    {
      "cell_type": "code",
      "source": [
        "from PIL import Image\n",
        "from glob import glob\n",
        "import matplotlib.pyplot as plt\n"
      ],
      "metadata": {
        "id": "jg0Mc1BFjuKH"
      },
      "execution_count": 1,
      "outputs": []
    },
    {
      "cell_type": "markdown",
      "source": [
        "- 데이터 생성하기"
      ],
      "metadata": {
        "id": "SJ841WVTjyto"
      }
    },
    {
      "cell_type": "code",
      "source": [
        "from tensorflow.keras.preprocessing.image import ImageDataGenerator\n",
        "\n",
        "train_datagen = ImageDataGenerator(\n",
        "    rescale= 1/255.,\n",
        "    rotation_range = 15,         # randomly rotate images in the range (deg 0 to 180) width_shift_range=0.1, \n",
        "    width_shift_range = 0.1,     # randomly shift images horizontally height_shift_range=0.1, \n",
        "    height_shift_range = 0.1,    # randomly shift images vertically\n",
        "    shear_range = 0.5,           # 도형의 기울기\n",
        "    zoom_range= [0.8, 1.5],      # set range for random zoom\n",
        "    horizontal_flip=True,        # randomly flip images \n",
        "    vertical_flip=False,         # randomly flip images\n",
        "    fill_mode='nearest',         # set mode for filling points outside the input boundaries\n",
        ")\n",
        "\n"
      ],
      "metadata": {
        "id": "N74XClMUjzqH"
      },
      "execution_count": 2,
      "outputs": []
    },
    {
      "cell_type": "code",
      "source": [
        "from tensorflow.keras.preprocessing.image import img_to_array, load_img\n",
        "\n",
        "img = load_img('/content/train/triangle/triangle001.png')\n",
        "x = img_to_array(img)\n",
        "x.shape"
      ],
      "metadata": {
        "id": "f1HHN5u2kOo6",
        "colab": {
          "base_uri": "https://localhost:8080/"
        },
        "outputId": "7c9e520b-83c7-4458-9cac-3902be54512c"
      },
      "execution_count": 3,
      "outputs": [
        {
          "output_type": "execute_result",
          "data": {
            "text/plain": [
              "(24, 24, 3)"
            ]
          },
          "metadata": {},
          "execution_count": 3
        }
      ]
    },
    {
      "cell_type": "code",
      "source": [
        "# x.reshape(1, 24, 24, 3)\n",
        "x= x.reshape((1,) + x.shape)\n",
        "x.shape"
      ],
      "metadata": {
        "colab": {
          "base_uri": "https://localhost:8080/"
        },
        "id": "Cv-jeKs5l0wo",
        "outputId": "1bfda0d2-8a3e-48d1-988f-91c555256863"
      },
      "execution_count": 4,
      "outputs": [
        {
          "output_type": "execute_result",
          "data": {
            "text/plain": [
              "(1, 24, 24, 3)"
            ]
          },
          "metadata": {},
          "execution_count": 4
        }
      ]
    },
    {
      "cell_type": "code",
      "source": [
        "import os\n",
        "if not os.path.exists('preview'):\n",
        "    os.mkdir('preview')"
      ],
      "metadata": {
        "id": "3HHGvHdqmDj1"
      },
      "execution_count": 5,
      "outputs": []
    },
    {
      "cell_type": "code",
      "source": [
        "train_datagen.flow(x, batch_size=1, save_to_dir='preview', save_prefix='pre')"
      ],
      "metadata": {
        "colab": {
          "base_uri": "https://localhost:8080/"
        },
        "id": "0V_DNjBrnEpH",
        "outputId": "cfc7a28c-befc-4962-a5cc-510b47902f00"
      },
      "execution_count": 6,
      "outputs": [
        {
          "output_type": "execute_result",
          "data": {
            "text/plain": [
              "<keras.preprocessing.image.NumpyArrayIterator at 0x7f37884bfcd0>"
            ]
          },
          "metadata": {},
          "execution_count": 6
        }
      ]
    },
    {
      "cell_type": "code",
      "source": [
        "count = 0\n",
        "for _ in train_datagen.flow(x, batch_size=1, save_to_dir='preview', save_prefix='pre'):\n",
        "    count += 1\n",
        "    if count >= 30:\n",
        "        break"
      ],
      "metadata": {
        "id": "CrKwOWHanW0W"
      },
      "execution_count": 7,
      "outputs": []
    },
    {
      "cell_type": "code",
      "source": [
        "!ls -l preview"
      ],
      "metadata": {
        "id": "geP4F7PNo0Gb"
      },
      "execution_count": null,
      "outputs": []
    },
    {
      "cell_type": "code",
      "source": [
        "plt.figure(figsize=(10,3))\n",
        "for i, fname in enumerate(glob('preview/*.png')):\n",
        "    img = Image.open(fname)\n",
        "    plt.subplot(3, 10, i+1)\n",
        "    plt.imshow(img), plt.xticks([]), plt.yticks([])\n",
        "\n",
        "plt.show()"
      ],
      "metadata": {
        "colab": {
          "base_uri": "https://localhost:8080/",
          "height": 561
        },
        "id": "dvVtkks_vX5M",
        "outputId": "e99b0ae0-88a3-497a-d713-5123752e9511"
      },
      "execution_count": 12,
      "outputs": [
        {
          "output_type": "error",
          "ename": "ValueError",
          "evalue": "ignored",
          "traceback": [
            "\u001b[0;31m---------------------------------------------------------------------------\u001b[0m",
            "\u001b[0;31mValueError\u001b[0m                                Traceback (most recent call last)",
            "\u001b[0;32m<ipython-input-12-17b541ffd405>\u001b[0m in \u001b[0;36m<module>\u001b[0;34m()\u001b[0m\n\u001b[1;32m      2\u001b[0m \u001b[0;32mfor\u001b[0m \u001b[0mi\u001b[0m\u001b[0;34m,\u001b[0m \u001b[0mfname\u001b[0m \u001b[0;32min\u001b[0m \u001b[0menumerate\u001b[0m\u001b[0;34m(\u001b[0m\u001b[0mglob\u001b[0m\u001b[0;34m(\u001b[0m\u001b[0;34m'preview/*.png'\u001b[0m\u001b[0;34m)\u001b[0m\u001b[0;34m)\u001b[0m\u001b[0;34m:\u001b[0m\u001b[0;34m\u001b[0m\u001b[0;34m\u001b[0m\u001b[0m\n\u001b[1;32m      3\u001b[0m     \u001b[0mimg\u001b[0m \u001b[0;34m=\u001b[0m \u001b[0mImage\u001b[0m\u001b[0;34m.\u001b[0m\u001b[0mopen\u001b[0m\u001b[0;34m(\u001b[0m\u001b[0mfname\u001b[0m\u001b[0;34m)\u001b[0m\u001b[0;34m\u001b[0m\u001b[0;34m\u001b[0m\u001b[0m\n\u001b[0;32m----> 4\u001b[0;31m     \u001b[0mplt\u001b[0m\u001b[0;34m.\u001b[0m\u001b[0msubplot\u001b[0m\u001b[0;34m(\u001b[0m\u001b[0;36m3\u001b[0m\u001b[0;34m,\u001b[0m \u001b[0;36m10\u001b[0m\u001b[0;34m,\u001b[0m \u001b[0mi\u001b[0m\u001b[0;34m+\u001b[0m\u001b[0;36m1\u001b[0m\u001b[0;34m)\u001b[0m\u001b[0;34m\u001b[0m\u001b[0;34m\u001b[0m\u001b[0m\n\u001b[0m\u001b[1;32m      5\u001b[0m     \u001b[0mplt\u001b[0m\u001b[0;34m.\u001b[0m\u001b[0mimshow\u001b[0m\u001b[0;34m(\u001b[0m\u001b[0mimg\u001b[0m\u001b[0;34m)\u001b[0m\u001b[0;34m,\u001b[0m \u001b[0mplt\u001b[0m\u001b[0;34m.\u001b[0m\u001b[0mxticks\u001b[0m\u001b[0;34m(\u001b[0m\u001b[0;34m[\u001b[0m\u001b[0;34m]\u001b[0m\u001b[0;34m)\u001b[0m\u001b[0;34m,\u001b[0m \u001b[0mplt\u001b[0m\u001b[0;34m.\u001b[0m\u001b[0myticks\u001b[0m\u001b[0;34m(\u001b[0m\u001b[0;34m[\u001b[0m\u001b[0;34m]\u001b[0m\u001b[0;34m)\u001b[0m\u001b[0;34m\u001b[0m\u001b[0;34m\u001b[0m\u001b[0m\n\u001b[1;32m      6\u001b[0m \u001b[0;34m\u001b[0m\u001b[0m\n",
            "\u001b[0;32m/usr/local/lib/python3.7/dist-packages/matplotlib/pyplot.py\u001b[0m in \u001b[0;36msubplot\u001b[0;34m(*args, **kwargs)\u001b[0m\n\u001b[1;32m   1028\u001b[0m \u001b[0;34m\u001b[0m\u001b[0m\n\u001b[1;32m   1029\u001b[0m     \u001b[0mfig\u001b[0m \u001b[0;34m=\u001b[0m \u001b[0mgcf\u001b[0m\u001b[0;34m(\u001b[0m\u001b[0;34m)\u001b[0m\u001b[0;34m\u001b[0m\u001b[0;34m\u001b[0m\u001b[0m\n\u001b[0;32m-> 1030\u001b[0;31m     \u001b[0ma\u001b[0m \u001b[0;34m=\u001b[0m \u001b[0mfig\u001b[0m\u001b[0;34m.\u001b[0m\u001b[0madd_subplot\u001b[0m\u001b[0;34m(\u001b[0m\u001b[0;34m*\u001b[0m\u001b[0margs\u001b[0m\u001b[0;34m,\u001b[0m \u001b[0;34m**\u001b[0m\u001b[0mkwargs\u001b[0m\u001b[0;34m)\u001b[0m\u001b[0;34m\u001b[0m\u001b[0;34m\u001b[0m\u001b[0m\n\u001b[0m\u001b[1;32m   1031\u001b[0m     \u001b[0mbbox\u001b[0m \u001b[0;34m=\u001b[0m \u001b[0ma\u001b[0m\u001b[0;34m.\u001b[0m\u001b[0mbbox\u001b[0m\u001b[0;34m\u001b[0m\u001b[0;34m\u001b[0m\u001b[0m\n\u001b[1;32m   1032\u001b[0m     \u001b[0mbyebye\u001b[0m \u001b[0;34m=\u001b[0m \u001b[0;34m[\u001b[0m\u001b[0;34m]\u001b[0m\u001b[0;34m\u001b[0m\u001b[0;34m\u001b[0m\u001b[0m\n",
            "\u001b[0;32m/usr/local/lib/python3.7/dist-packages/matplotlib/figure.py\u001b[0m in \u001b[0;36madd_subplot\u001b[0;34m(self, *args, **kwargs)\u001b[0m\n\u001b[1;32m   1417\u001b[0m                     \u001b[0mself\u001b[0m\u001b[0;34m.\u001b[0m\u001b[0m_axstack\u001b[0m\u001b[0;34m.\u001b[0m\u001b[0mremove\u001b[0m\u001b[0;34m(\u001b[0m\u001b[0max\u001b[0m\u001b[0;34m)\u001b[0m\u001b[0;34m\u001b[0m\u001b[0;34m\u001b[0m\u001b[0m\n\u001b[1;32m   1418\u001b[0m \u001b[0;34m\u001b[0m\u001b[0m\n\u001b[0;32m-> 1419\u001b[0;31m             \u001b[0ma\u001b[0m \u001b[0;34m=\u001b[0m \u001b[0msubplot_class_factory\u001b[0m\u001b[0;34m(\u001b[0m\u001b[0mprojection_class\u001b[0m\u001b[0;34m)\u001b[0m\u001b[0;34m(\u001b[0m\u001b[0mself\u001b[0m\u001b[0;34m,\u001b[0m \u001b[0;34m*\u001b[0m\u001b[0margs\u001b[0m\u001b[0;34m,\u001b[0m \u001b[0;34m**\u001b[0m\u001b[0mkwargs\u001b[0m\u001b[0;34m)\u001b[0m\u001b[0;34m\u001b[0m\u001b[0;34m\u001b[0m\u001b[0m\n\u001b[0m\u001b[1;32m   1420\u001b[0m \u001b[0;34m\u001b[0m\u001b[0m\n\u001b[1;32m   1421\u001b[0m         \u001b[0;32mreturn\u001b[0m \u001b[0mself\u001b[0m\u001b[0;34m.\u001b[0m\u001b[0m_add_axes_internal\u001b[0m\u001b[0;34m(\u001b[0m\u001b[0mkey\u001b[0m\u001b[0;34m,\u001b[0m \u001b[0ma\u001b[0m\u001b[0;34m)\u001b[0m\u001b[0;34m\u001b[0m\u001b[0;34m\u001b[0m\u001b[0m\n",
            "\u001b[0;32m/usr/local/lib/python3.7/dist-packages/matplotlib/axes/_subplots.py\u001b[0m in \u001b[0;36m__init__\u001b[0;34m(self, fig, *args, **kwargs)\u001b[0m\n\u001b[1;32m     64\u001b[0m                 \u001b[0;32mif\u001b[0m \u001b[0mnum\u001b[0m \u001b[0;34m<\u001b[0m \u001b[0;36m1\u001b[0m \u001b[0;32mor\u001b[0m \u001b[0mnum\u001b[0m \u001b[0;34m>\u001b[0m \u001b[0mrows\u001b[0m\u001b[0;34m*\u001b[0m\u001b[0mcols\u001b[0m\u001b[0;34m:\u001b[0m\u001b[0;34m\u001b[0m\u001b[0;34m\u001b[0m\u001b[0m\n\u001b[1;32m     65\u001b[0m                     raise ValueError(\n\u001b[0;32m---> 66\u001b[0;31m                         f\"num must be 1 <= num <= {rows*cols}, not {num}\")\n\u001b[0m\u001b[1;32m     67\u001b[0m                 self._subplotspec = GridSpec(\n\u001b[1;32m     68\u001b[0m                         rows, cols, figure=self.figure)[int(num) - 1]\n",
            "\u001b[0;31mValueError\u001b[0m: num must be 1 <= num <= 30, not 31"
          ]
        },
        {
          "output_type": "display_data",
          "data": {
            "text/plain": [
              "<Figure size 720x216 with 30 Axes>"
            ],
            "image/png": "[encoded data removed]"
          },
          "metadata": {}
        }
      ]
    },
    {
      "cell_type": "code",
      "source": [
        "train_data_generator = train_datagen.flow_from_directory(\n",
        "    'train', target_size=(24, 24),\n",
        "    batch_size = 3, class_mode='categorical'\n",
        ")"
      ],
      "metadata": {
        "colab": {
          "base_uri": "https://localhost:8080/"
        },
        "id": "ygGh63gxrAO0",
        "outputId": "5431538e-2fb5-4d0d-c8a7-958e97c87254"
      },
      "execution_count": 13,
      "outputs": [
        {
          "output_type": "stream",
          "name": "stdout",
          "text": [
            "Found 45 images belonging to 3 classes.\n"
          ]
        }
      ]
    },
    {
      "cell_type": "code",
      "source": [
        "test_datagen = ImageDataGenerator(rescale=1/255.)\n",
        "test_data_generator = test_datagen.flow_from_directory(\n",
        "    'test', target_size=(24, 24),\n",
        "    batch_size = 3, class_mode='categorical'\n",
        ")"
      ],
      "metadata": {
        "colab": {
          "base_uri": "https://localhost:8080/"
        },
        "id": "TaymBRdurUIm",
        "outputId": "3a30f767-770f-42e9-dd02-c5b978b55164"
      },
      "execution_count": 14,
      "outputs": [
        {
          "output_type": "stream",
          "name": "stdout",
          "text": [
            "Found 15 images belonging to 3 classes.\n"
          ]
        }
      ]
    },
    {
      "cell_type": "code",
      "source": [
        "\n",
        "from tensorflow.keras.models import Sequential\n",
        "from tensorflow.keras.layers import Conv2D, MaxPooling2D, Flatten, Dense"
      ],
      "metadata": {
        "id": "ot29ajxAr6a0"
      },
      "execution_count": 15,
      "outputs": []
    },
    {
      "cell_type": "code",
      "source": [
        "model = Sequential([ \n",
        "    Conv2D(32, (3,3), input_shape=(24,24,3), activation='relu'),\n",
        "    Conv2D(64, (3,3), activation='relu'),\n",
        "    MaxPooling2D(),\n",
        "    Flatten(),\n",
        "    Dense(128, activation='relu'),\n",
        "    Dense(3, activation='softmax')\n",
        "])\n",
        "model.summary()"
      ],
      "metadata": {
        "colab": {
          "base_uri": "https://localhost:8080/"
        },
        "id": "f58PzPAGrigc",
        "outputId": "e2d8f5b9-aad0-45b3-d4da-7c048accdafd"
      },
      "execution_count": 16,
      "outputs": [
        {
          "output_type": "stream",
          "name": "stdout",
          "text": [
            "Model: \"sequential\"\n",
            "_________________________________________________________________\n",
            " Layer (type)                Output Shape              Param #   \n",
            "=================================================================\n",
            " conv2d (Conv2D)             (None, 22, 22, 32)        896       \n",
            "                                                                 \n",
            " conv2d_1 (Conv2D)           (None, 20, 20, 64)        18496     \n",
            "                                                                 \n",
            " max_pooling2d (MaxPooling2D  (None, 10, 10, 64)       0         \n",
            " )                                                               \n",
            "                                                                 \n",
            " flatten (Flatten)           (None, 6400)              0         \n",
            "                                                                 \n",
            " dense (Dense)               (None, 128)               819328    \n",
            "                                                                 \n",
            " dense_1 (Dense)             (None, 3)                 387       \n",
            "                                                                 \n",
            "=================================================================\n",
            "Total params: 839,107\n",
            "Trainable params: 839,107\n",
            "Non-trainable params: 0\n",
            "_________________________________________________________________\n"
          ]
        }
      ]
    },
    {
      "cell_type": "code",
      "source": [
        "model.compile('adam', 'categorical_crossentropy', ['accuracy'])"
      ],
      "metadata": {
        "id": "Qz-aGPUIranY"
      },
      "execution_count": 17,
      "outputs": []
    },
    {
      "cell_type": "code",
      "source": [
        "model.fit(\n",
        "    train_data_generator, steps_per_epoch=15, epochs=300,\n",
        "    validation_data=test_data_generator, validation_steps=5\n",
        ")"
      ],
      "metadata": {
        "colab": {
          "base_uri": "https://localhost:8080/"
        },
        "id": "-jJyt6e_r8Qy",
        "outputId": "71bcfc31-333b-44aa-e8c1-e6e5b443b29e"
      },
      "execution_count": 18,
      "outputs": [
        {
          "output_type": "stream",
          "name": "stdout",
          "text": [
            "Epoch 1/300\n",
            "15/15 [==============================] - 1s 39ms/step - loss: 1.1443 - accuracy: 0.3778 - val_loss: 1.0613 - val_accuracy: 0.5333\n",
            "Epoch 2/300\n",
            "15/15 [==============================] - 0s 25ms/step - loss: 0.8556 - accuracy: 0.6667 - val_loss: 1.2495 - val_accuracy: 0.4667\n",
            "Epoch 3/300\n",
            "15/15 [==============================] - 0s 29ms/step - loss: 0.6684 - accuracy: 0.6444 - val_loss: 0.9830 - val_accuracy: 0.6000\n",
            "Epoch 4/300\n",
            "15/15 [==============================] - 0s 25ms/step - loss: 0.6498 - accuracy: 0.7556 - val_loss: 1.5252 - val_accuracy: 0.3333\n",
            "Epoch 5/300\n",
            "15/15 [==============================] - 0s 27ms/step - loss: 0.4870 - accuracy: 0.7556 - val_loss: 1.8061 - val_accuracy: 0.4667\n",
            "Epoch 6/300\n",
            "15/15 [==============================] - 0s 24ms/step - loss: 0.3614 - accuracy: 0.8222 - val_loss: 2.2912 - val_accuracy: 0.4667\n",
            "Epoch 7/300\n",
            "15/15 [==============================] - 0s 24ms/step - loss: 0.2620 - accuracy: 0.8889 - val_loss: 1.2629 - val_accuracy: 0.6667\n",
            "Epoch 8/300\n",
            "15/15 [==============================] - 0s 25ms/step - loss: 0.1144 - accuracy: 0.9778 - val_loss: 3.1091 - val_accuracy: 0.4667\n",
            "Epoch 9/300\n",
            "15/15 [==============================] - 0s 24ms/step - loss: 0.2718 - accuracy: 0.9111 - val_loss: 2.6005 - val_accuracy: 0.4000\n",
            "Epoch 10/300\n",
            "15/15 [==============================] - 0s 27ms/step - loss: 0.1882 - accuracy: 0.9333 - val_loss: 1.8215 - val_accuracy: 0.4000\n",
            "Epoch 11/300\n",
            "15/15 [==============================] - 0s 26ms/step - loss: 0.1045 - accuracy: 1.0000 - val_loss: 1.1396 - val_accuracy: 0.6667\n",
            "Epoch 12/300\n",
            "15/15 [==============================] - 0s 27ms/step - loss: 0.1028 - accuracy: 0.9556 - val_loss: 2.2363 - val_accuracy: 0.6000\n",
            "Epoch 13/300\n",
            "15/15 [==============================] - 0s 24ms/step - loss: 0.1371 - accuracy: 0.9556 - val_loss: 2.7936 - val_accuracy: 0.4000\n",
            "Epoch 14/300\n",
            "15/15 [==============================] - 0s 24ms/step - loss: 0.1714 - accuracy: 0.9111 - val_loss: 1.6540 - val_accuracy: 0.6000\n",
            "Epoch 15/300\n",
            "15/15 [==============================] - 0s 24ms/step - loss: 0.2011 - accuracy: 0.9111 - val_loss: 1.5108 - val_accuracy: 0.6667\n",
            "Epoch 16/300\n",
            "15/15 [==============================] - 0s 24ms/step - loss: 0.1289 - accuracy: 0.9111 - val_loss: 2.6881 - val_accuracy: 0.6000\n",
            "Epoch 17/300\n",
            "15/15 [==============================] - 0s 26ms/step - loss: 0.0425 - accuracy: 0.9778 - val_loss: 2.0166 - val_accuracy: 0.4667\n",
            "Epoch 18/300\n",
            "15/15 [==============================] - 0s 25ms/step - loss: 0.1104 - accuracy: 0.9556 - val_loss: 2.1842 - val_accuracy: 0.6000\n",
            "Epoch 19/300\n",
            "15/15 [==============================] - 0s 25ms/step - loss: 0.2135 - accuracy: 0.9556 - val_loss: 4.3702 - val_accuracy: 0.3333\n",
            "Epoch 20/300\n",
            "15/15 [==============================] - 0s 25ms/step - loss: 0.1374 - accuracy: 0.9556 - val_loss: 2.1371 - val_accuracy: 0.5333\n",
            "Epoch 21/300\n",
            "15/15 [==============================] - 0s 26ms/step - loss: 0.0830 - accuracy: 0.9556 - val_loss: 1.9287 - val_accuracy: 0.6667\n",
            "Epoch 22/300\n",
            "15/15 [==============================] - 0s 30ms/step - loss: 0.0968 - accuracy: 0.9333 - val_loss: 2.7870 - val_accuracy: 0.5333\n",
            "Epoch 23/300\n",
            "15/15 [==============================] - 0s 25ms/step - loss: 0.0060 - accuracy: 1.0000 - val_loss: 2.7195 - val_accuracy: 0.5333\n",
            "Epoch 24/300\n",
            "15/15 [==============================] - 0s 28ms/step - loss: 0.1232 - accuracy: 0.9556 - val_loss: 3.2208 - val_accuracy: 0.4667\n",
            "Epoch 25/300\n",
            "15/15 [==============================] - 0s 27ms/step - loss: 0.2264 - accuracy: 0.9556 - val_loss: 2.8797 - val_accuracy: 0.4667\n",
            "Epoch 26/300\n",
            "15/15 [==============================] - 0s 27ms/step - loss: 0.1794 - accuracy: 0.9333 - val_loss: 2.3517 - val_accuracy: 0.5333\n",
            "Epoch 27/300\n",
            "15/15 [==============================] - 0s 25ms/step - loss: 0.0714 - accuracy: 0.9778 - val_loss: 2.4283 - val_accuracy: 0.6000\n",
            "Epoch 28/300\n",
            "15/15 [==============================] - 0s 25ms/step - loss: 0.1609 - accuracy: 0.9333 - val_loss: 2.6110 - val_accuracy: 0.6667\n",
            "Epoch 29/300\n",
            "15/15 [==============================] - 0s 25ms/step - loss: 0.0348 - accuracy: 1.0000 - val_loss: 2.6393 - val_accuracy: 0.5333\n",
            "Epoch 30/300\n",
            "15/15 [==============================] - 0s 28ms/step - loss: 0.0460 - accuracy: 1.0000 - val_loss: 3.1790 - val_accuracy: 0.4667\n",
            "Epoch 31/300\n",
            "15/15 [==============================] - 0s 27ms/step - loss: 0.0070 - accuracy: 1.0000 - val_loss: 3.2444 - val_accuracy: 0.4667\n",
            "Epoch 32/300\n",
            "15/15 [==============================] - 0s 27ms/step - loss: 0.0931 - accuracy: 0.9556 - val_loss: 2.8861 - val_accuracy: 0.5333\n",
            "Epoch 33/300\n",
            "15/15 [==============================] - 0s 24ms/step - loss: 0.0778 - accuracy: 0.9778 - val_loss: 2.3941 - val_accuracy: 0.5333\n",
            "Epoch 34/300\n",
            "15/15 [==============================] - 0s 26ms/step - loss: 0.0880 - accuracy: 0.9556 - val_loss: 2.5053 - val_accuracy: 0.6667\n",
            "Epoch 35/300\n",
            "15/15 [==============================] - 0s 25ms/step - loss: 0.1976 - accuracy: 0.9111 - val_loss: 2.4333 - val_accuracy: 0.5333\n",
            "Epoch 36/300\n",
            "15/15 [==============================] - 0s 27ms/step - loss: 0.1054 - accuracy: 0.9778 - val_loss: 2.2273 - val_accuracy: 0.5333\n",
            "Epoch 37/300\n",
            "15/15 [==============================] - 0s 26ms/step - loss: 0.0309 - accuracy: 1.0000 - val_loss: 2.4421 - val_accuracy: 0.5333\n",
            "Epoch 38/300\n",
            "15/15 [==============================] - 0s 27ms/step - loss: 0.0341 - accuracy: 1.0000 - val_loss: 2.8585 - val_accuracy: 0.5333\n",
            "Epoch 39/300\n",
            "15/15 [==============================] - 0s 25ms/step - loss: 0.0404 - accuracy: 0.9778 - val_loss: 2.9862 - val_accuracy: 0.5333\n",
            "Epoch 40/300\n",
            "15/15 [==============================] - 0s 25ms/step - loss: 0.0056 - accuracy: 1.0000 - val_loss: 3.0067 - val_accuracy: 0.5333\n",
            "Epoch 41/300\n",
            "15/15 [==============================] - 0s 27ms/step - loss: 0.0185 - accuracy: 1.0000 - val_loss: 3.1119 - val_accuracy: 0.5333\n",
            "Epoch 42/300\n",
            "15/15 [==============================] - 0s 27ms/step - loss: 0.0306 - accuracy: 0.9778 - val_loss: 2.9735 - val_accuracy: 0.6000\n",
            "Epoch 43/300\n",
            "15/15 [==============================] - 0s 27ms/step - loss: 0.2581 - accuracy: 0.9111 - val_loss: 3.7731 - val_accuracy: 0.4667\n",
            "Epoch 44/300\n",
            "15/15 [==============================] - 0s 26ms/step - loss: 0.0659 - accuracy: 0.9778 - val_loss: 2.1114 - val_accuracy: 0.6000\n",
            "Epoch 45/300\n",
            "15/15 [==============================] - 0s 25ms/step - loss: 0.1239 - accuracy: 0.9556 - val_loss: 2.4621 - val_accuracy: 0.5333\n",
            "Epoch 46/300\n",
            "15/15 [==============================] - 0s 27ms/step - loss: 0.1030 - accuracy: 0.9556 - val_loss: 2.9176 - val_accuracy: 0.5333\n",
            "Epoch 47/300\n",
            "15/15 [==============================] - 0s 26ms/step - loss: 0.0509 - accuracy: 0.9778 - val_loss: 2.2822 - val_accuracy: 0.5333\n",
            "Epoch 48/300\n",
            "15/15 [==============================] - 0s 24ms/step - loss: 0.0247 - accuracy: 1.0000 - val_loss: 2.5602 - val_accuracy: 0.5333\n",
            "Epoch 49/300\n",
            "15/15 [==============================] - 0s 25ms/step - loss: 0.0137 - accuracy: 1.0000 - val_loss: 2.7957 - val_accuracy: 0.5333\n",
            "Epoch 50/300\n",
            "15/15 [==============================] - 0s 25ms/step - loss: 0.0187 - accuracy: 1.0000 - val_loss: 2.5739 - val_accuracy: 0.5333\n",
            "Epoch 51/300\n",
            "15/15 [==============================] - 0s 27ms/step - loss: 0.0024 - accuracy: 1.0000 - val_loss: 2.4420 - val_accuracy: 0.5333\n",
            "Epoch 52/300\n",
            "15/15 [==============================] - 0s 25ms/step - loss: 0.0459 - accuracy: 0.9778 - val_loss: 2.5439 - val_accuracy: 0.5333\n",
            "Epoch 53/300\n",
            "15/15 [==============================] - 0s 24ms/step - loss: 0.0115 - accuracy: 1.0000 - val_loss: 2.6740 - val_accuracy: 0.5333\n",
            "Epoch 54/300\n",
            "15/15 [==============================] - 0s 25ms/step - loss: 0.0106 - accuracy: 1.0000 - val_loss: 2.6051 - val_accuracy: 0.5333\n",
            "Epoch 55/300\n",
            "15/15 [==============================] - 0s 27ms/step - loss: 0.0200 - accuracy: 1.0000 - val_loss: 2.7697 - val_accuracy: 0.6667\n",
            "Epoch 56/300\n",
            "15/15 [==============================] - 0s 25ms/step - loss: 0.0166 - accuracy: 1.0000 - val_loss: 2.7341 - val_accuracy: 0.6000\n",
            "Epoch 57/300\n",
            "15/15 [==============================] - 0s 28ms/step - loss: 0.0125 - accuracy: 1.0000 - val_loss: 2.8181 - val_accuracy: 0.5333\n",
            "Epoch 58/300\n",
            "15/15 [==============================] - 0s 26ms/step - loss: 4.8316e-04 - accuracy: 1.0000 - val_loss: 2.8619 - val_accuracy: 0.5333\n",
            "Epoch 59/300\n",
            "15/15 [==============================] - 0s 25ms/step - loss: 3.6659e-04 - accuracy: 1.0000 - val_loss: 2.8867 - val_accuracy: 0.5333\n",
            "Epoch 60/300\n",
            "15/15 [==============================] - 0s 27ms/step - loss: 0.0020 - accuracy: 1.0000 - val_loss: 2.9386 - val_accuracy: 0.5333\n",
            "Epoch 61/300\n",
            "15/15 [==============================] - 0s 25ms/step - loss: 0.0626 - accuracy: 0.9778 - val_loss: 2.9035 - val_accuracy: 0.5333\n",
            "Epoch 62/300\n",
            "15/15 [==============================] - 0s 26ms/step - loss: 0.0467 - accuracy: 0.9778 - val_loss: 2.5128 - val_accuracy: 0.6000\n",
            "Epoch 63/300\n",
            "15/15 [==============================] - 0s 29ms/step - loss: 0.2128 - accuracy: 0.9333 - val_loss: 2.6385 - val_accuracy: 0.5333\n",
            "Epoch 64/300\n",
            "15/15 [==============================] - 0s 26ms/step - loss: 0.0945 - accuracy: 0.9556 - val_loss: 2.5824 - val_accuracy: 0.6000\n",
            "Epoch 65/300\n",
            "15/15 [==============================] - 0s 25ms/step - loss: 0.2370 - accuracy: 0.9111 - val_loss: 2.0441 - val_accuracy: 0.5333\n",
            "Epoch 66/300\n",
            "15/15 [==============================] - 0s 26ms/step - loss: 0.0091 - accuracy: 1.0000 - val_loss: 1.8419 - val_accuracy: 0.7333\n",
            "Epoch 67/300\n",
            "15/15 [==============================] - 0s 25ms/step - loss: 0.0279 - accuracy: 1.0000 - val_loss: 1.9194 - val_accuracy: 0.5333\n",
            "Epoch 68/300\n",
            "15/15 [==============================] - 0s 25ms/step - loss: 0.0048 - accuracy: 1.0000 - val_loss: 2.0202 - val_accuracy: 0.6000\n",
            "Epoch 69/300\n",
            "15/15 [==============================] - 0s 25ms/step - loss: 0.0569 - accuracy: 0.9778 - val_loss: 2.0119 - val_accuracy: 0.7333\n",
            "Epoch 70/300\n",
            "15/15 [==============================] - 0s 28ms/step - loss: 0.0475 - accuracy: 0.9778 - val_loss: 2.0002 - val_accuracy: 0.6667\n",
            "Epoch 71/300\n",
            "15/15 [==============================] - 0s 25ms/step - loss: 0.0091 - accuracy: 1.0000 - val_loss: 2.1045 - val_accuracy: 0.7333\n",
            "Epoch 72/300\n",
            "15/15 [==============================] - 0s 25ms/step - loss: 0.0349 - accuracy: 0.9778 - val_loss: 2.1765 - val_accuracy: 0.6667\n",
            "Epoch 73/300\n",
            "15/15 [==============================] - 0s 27ms/step - loss: 0.0826 - accuracy: 0.9778 - val_loss: 2.4612 - val_accuracy: 0.5333\n",
            "Epoch 74/300\n",
            "15/15 [==============================] - 0s 28ms/step - loss: 0.0393 - accuracy: 0.9778 - val_loss: 2.7362 - val_accuracy: 0.5333\n",
            "Epoch 75/300\n",
            "15/15 [==============================] - 0s 25ms/step - loss: 0.0036 - accuracy: 1.0000 - val_loss: 2.7953 - val_accuracy: 0.7333\n",
            "Epoch 76/300\n",
            "15/15 [==============================] - 0s 28ms/step - loss: 0.0067 - accuracy: 1.0000 - val_loss: 2.6846 - val_accuracy: 0.7333\n",
            "Epoch 77/300\n",
            "15/15 [==============================] - 0s 28ms/step - loss: 0.0069 - accuracy: 1.0000 - val_loss: 2.6083 - val_accuracy: 0.7333\n",
            "Epoch 78/300\n",
            "15/15 [==============================] - 0s 25ms/step - loss: 0.0041 - accuracy: 1.0000 - val_loss: 2.6371 - val_accuracy: 0.7333\n",
            "Epoch 79/300\n",
            "15/15 [==============================] - 0s 26ms/step - loss: 0.0268 - accuracy: 0.9778 - val_loss: 2.5532 - val_accuracy: 0.6000\n",
            "Epoch 80/300\n",
            "15/15 [==============================] - 0s 25ms/step - loss: 0.0015 - accuracy: 1.0000 - val_loss: 2.6005 - val_accuracy: 0.6000\n",
            "Epoch 81/300\n",
            "15/15 [==============================] - 0s 27ms/step - loss: 0.0017 - accuracy: 1.0000 - val_loss: 2.6326 - val_accuracy: 0.6000\n",
            "Epoch 82/300\n",
            "15/15 [==============================] - 0s 28ms/step - loss: 0.0012 - accuracy: 1.0000 - val_loss: 2.6746 - val_accuracy: 0.6000\n",
            "Epoch 83/300\n",
            "15/15 [==============================] - 0s 26ms/step - loss: 0.0012 - accuracy: 1.0000 - val_loss: 2.8189 - val_accuracy: 0.6000\n",
            "Epoch 84/300\n",
            "15/15 [==============================] - 0s 26ms/step - loss: 0.0816 - accuracy: 0.9778 - val_loss: 4.0135 - val_accuracy: 0.5333\n",
            "Epoch 85/300\n",
            "15/15 [==============================] - 0s 26ms/step - loss: 0.1887 - accuracy: 0.9556 - val_loss: 1.9168 - val_accuracy: 0.6667\n",
            "Epoch 86/300\n",
            "15/15 [==============================] - 0s 26ms/step - loss: 0.0803 - accuracy: 0.9333 - val_loss: 1.8624 - val_accuracy: 0.6667\n",
            "Epoch 87/300\n",
            "15/15 [==============================] - 0s 25ms/step - loss: 0.0181 - accuracy: 1.0000 - val_loss: 1.7569 - val_accuracy: 0.6667\n",
            "Epoch 88/300\n",
            "15/15 [==============================] - 0s 25ms/step - loss: 0.0191 - accuracy: 1.0000 - val_loss: 2.3373 - val_accuracy: 0.5333\n",
            "Epoch 89/300\n",
            "15/15 [==============================] - 0s 29ms/step - loss: 0.0113 - accuracy: 1.0000 - val_loss: 2.2541 - val_accuracy: 0.6000\n",
            "Epoch 90/300\n",
            "15/15 [==============================] - 0s 26ms/step - loss: 6.4457e-04 - accuracy: 1.0000 - val_loss: 2.3090 - val_accuracy: 0.6000\n",
            "Epoch 91/300\n",
            "15/15 [==============================] - 0s 27ms/step - loss: 0.0386 - accuracy: 0.9778 - val_loss: 1.5715 - val_accuracy: 0.7333\n",
            "Epoch 92/300\n",
            "15/15 [==============================] - 0s 25ms/step - loss: 0.0309 - accuracy: 1.0000 - val_loss: 1.6750 - val_accuracy: 0.7333\n",
            "Epoch 93/300\n",
            "15/15 [==============================] - 0s 27ms/step - loss: 0.1885 - accuracy: 0.9778 - val_loss: 1.8010 - val_accuracy: 0.6667\n",
            "Epoch 94/300\n",
            "15/15 [==============================] - 0s 24ms/step - loss: 0.0121 - accuracy: 1.0000 - val_loss: 2.1011 - val_accuracy: 0.6000\n",
            "Epoch 95/300\n",
            "15/15 [==============================] - 0s 27ms/step - loss: 0.0171 - accuracy: 1.0000 - val_loss: 2.2372 - val_accuracy: 0.6000\n",
            "Epoch 96/300\n",
            "15/15 [==============================] - 0s 25ms/step - loss: 0.0529 - accuracy: 0.9778 - val_loss: 1.7622 - val_accuracy: 0.6000\n",
            "Epoch 97/300\n",
            "15/15 [==============================] - 0s 25ms/step - loss: 0.0401 - accuracy: 0.9778 - val_loss: 1.7692 - val_accuracy: 0.6000\n",
            "Epoch 98/300\n",
            "15/15 [==============================] - 0s 26ms/step - loss: 0.0047 - accuracy: 1.0000 - val_loss: 2.0163 - val_accuracy: 0.6667\n",
            "Epoch 99/300\n",
            "15/15 [==============================] - 0s 25ms/step - loss: 0.0102 - accuracy: 1.0000 - val_loss: 2.0105 - val_accuracy: 0.6667\n",
            "Epoch 100/300\n",
            "15/15 [==============================] - 0s 25ms/step - loss: 8.8727e-04 - accuracy: 1.0000 - val_loss: 1.9832 - val_accuracy: 0.6667\n",
            "Epoch 101/300\n",
            "15/15 [==============================] - 0s 26ms/step - loss: 0.0011 - accuracy: 1.0000 - val_loss: 2.0288 - val_accuracy: 0.6667\n",
            "Epoch 102/300\n",
            "15/15 [==============================] - 0s 27ms/step - loss: 3.7824e-04 - accuracy: 1.0000 - val_loss: 2.0558 - val_accuracy: 0.6667\n",
            "Epoch 103/300\n",
            "15/15 [==============================] - 0s 26ms/step - loss: 6.8160e-04 - accuracy: 1.0000 - val_loss: 2.0710 - val_accuracy: 0.6667\n",
            "Epoch 104/300\n",
            "15/15 [==============================] - 0s 29ms/step - loss: 0.0024 - accuracy: 1.0000 - val_loss: 2.1092 - val_accuracy: 0.6000\n",
            "Epoch 105/300\n",
            "15/15 [==============================] - 0s 26ms/step - loss: 0.0726 - accuracy: 0.9778 - val_loss: 1.6927 - val_accuracy: 0.6667\n",
            "Epoch 106/300\n",
            "15/15 [==============================] - 0s 29ms/step - loss: 0.0859 - accuracy: 0.9556 - val_loss: 2.0984 - val_accuracy: 0.6667\n",
            "Epoch 107/300\n",
            "15/15 [==============================] - 0s 26ms/step - loss: 0.0046 - accuracy: 1.0000 - val_loss: 5.4357 - val_accuracy: 0.4667\n",
            "Epoch 108/300\n",
            "15/15 [==============================] - 0s 28ms/step - loss: 0.0563 - accuracy: 0.9778 - val_loss: 2.4802 - val_accuracy: 0.6000\n",
            "Epoch 109/300\n",
            "15/15 [==============================] - 0s 27ms/step - loss: 0.0017 - accuracy: 1.0000 - val_loss: 2.8730 - val_accuracy: 0.5333\n",
            "Epoch 110/300\n",
            "15/15 [==============================] - 0s 30ms/step - loss: 0.0016 - accuracy: 1.0000 - val_loss: 2.8497 - val_accuracy: 0.5333\n",
            "Epoch 111/300\n",
            "15/15 [==============================] - 0s 26ms/step - loss: 0.0063 - accuracy: 1.0000 - val_loss: 2.9034 - val_accuracy: 0.5333\n",
            "Epoch 112/300\n",
            "15/15 [==============================] - 0s 24ms/step - loss: 0.0655 - accuracy: 0.9778 - val_loss: 2.5907 - val_accuracy: 0.6667\n",
            "Epoch 113/300\n",
            "15/15 [==============================] - 0s 25ms/step - loss: 0.1856 - accuracy: 0.9333 - val_loss: 2.1108 - val_accuracy: 0.6667\n",
            "Epoch 114/300\n",
            "15/15 [==============================] - 0s 24ms/step - loss: 0.0666 - accuracy: 0.9778 - val_loss: 1.9288 - val_accuracy: 0.6667\n",
            "Epoch 115/300\n",
            "15/15 [==============================] - 0s 26ms/step - loss: 0.0395 - accuracy: 0.9778 - val_loss: 2.1997 - val_accuracy: 0.6667\n",
            "Epoch 116/300\n",
            "15/15 [==============================] - 0s 27ms/step - loss: 0.0075 - accuracy: 1.0000 - val_loss: 2.4075 - val_accuracy: 0.6000\n",
            "Epoch 117/300\n",
            "15/15 [==============================] - 0s 25ms/step - loss: 0.0793 - accuracy: 0.9778 - val_loss: 2.2741 - val_accuracy: 0.6667\n",
            "Epoch 118/300\n",
            "15/15 [==============================] - 0s 26ms/step - loss: 0.0047 - accuracy: 1.0000 - val_loss: 2.5587 - val_accuracy: 0.6000\n",
            "Epoch 119/300\n",
            "15/15 [==============================] - 0s 26ms/step - loss: 0.0026 - accuracy: 1.0000 - val_loss: 2.9149 - val_accuracy: 0.5333\n",
            "Epoch 120/300\n",
            "15/15 [==============================] - 0s 25ms/step - loss: 0.0157 - accuracy: 1.0000 - val_loss: 2.2771 - val_accuracy: 0.6667\n",
            "Epoch 121/300\n",
            "15/15 [==============================] - 0s 27ms/step - loss: 0.0832 - accuracy: 0.9778 - val_loss: 2.2333 - val_accuracy: 0.6667\n",
            "Epoch 122/300\n",
            "15/15 [==============================] - 0s 26ms/step - loss: 0.0200 - accuracy: 1.0000 - val_loss: 2.9701 - val_accuracy: 0.6000\n",
            "Epoch 123/300\n",
            "15/15 [==============================] - 0s 24ms/step - loss: 0.0015 - accuracy: 1.0000 - val_loss: 3.3033 - val_accuracy: 0.6000\n",
            "Epoch 124/300\n",
            "15/15 [==============================] - 0s 26ms/step - loss: 0.0138 - accuracy: 1.0000 - val_loss: 2.2303 - val_accuracy: 0.6667\n",
            "Epoch 125/300\n",
            "15/15 [==============================] - 0s 25ms/step - loss: 0.1991 - accuracy: 0.9778 - val_loss: 1.9925 - val_accuracy: 0.6000\n",
            "Epoch 126/300\n",
            "15/15 [==============================] - 0s 27ms/step - loss: 0.0267 - accuracy: 1.0000 - val_loss: 2.1975 - val_accuracy: 0.5333\n",
            "Epoch 127/300\n",
            "15/15 [==============================] - 0s 25ms/step - loss: 0.0158 - accuracy: 1.0000 - val_loss: 1.9329 - val_accuracy: 0.5333\n",
            "Epoch 128/300\n",
            "15/15 [==============================] - 0s 25ms/step - loss: 0.0239 - accuracy: 0.9778 - val_loss: 1.7407 - val_accuracy: 0.6000\n",
            "Epoch 129/300\n",
            "15/15 [==============================] - 0s 27ms/step - loss: 0.0093 - accuracy: 1.0000 - val_loss: 1.7482 - val_accuracy: 0.6667\n",
            "Epoch 130/300\n",
            "15/15 [==============================] - 0s 25ms/step - loss: 0.0010 - accuracy: 1.0000 - val_loss: 1.8099 - val_accuracy: 0.5333\n",
            "Epoch 131/300\n",
            "15/15 [==============================] - 0s 25ms/step - loss: 0.0067 - accuracy: 1.0000 - val_loss: 1.8025 - val_accuracy: 0.6667\n",
            "Epoch 132/300\n",
            "15/15 [==============================] - 0s 26ms/step - loss: 0.0031 - accuracy: 1.0000 - val_loss: 1.8283 - val_accuracy: 0.6667\n",
            "Epoch 133/300\n",
            "15/15 [==============================] - 0s 26ms/step - loss: 0.0097 - accuracy: 1.0000 - val_loss: 1.8502 - val_accuracy: 0.6667\n",
            "Epoch 134/300\n",
            "15/15 [==============================] - 0s 27ms/step - loss: 0.0059 - accuracy: 1.0000 - val_loss: 1.8212 - val_accuracy: 0.6667\n",
            "Epoch 135/300\n",
            "15/15 [==============================] - 0s 25ms/step - loss: 0.0066 - accuracy: 1.0000 - val_loss: 1.8646 - val_accuracy: 0.6667\n",
            "Epoch 136/300\n",
            "15/15 [==============================] - 0s 28ms/step - loss: 0.0020 - accuracy: 1.0000 - val_loss: 1.9647 - val_accuracy: 0.6667\n",
            "Epoch 137/300\n",
            "15/15 [==============================] - 0s 27ms/step - loss: 0.0049 - accuracy: 1.0000 - val_loss: 1.9597 - val_accuracy: 0.6667\n",
            "Epoch 138/300\n",
            "15/15 [==============================] - 0s 27ms/step - loss: 0.0142 - accuracy: 1.0000 - val_loss: 2.0920 - val_accuracy: 0.5333\n",
            "Epoch 139/300\n",
            "15/15 [==============================] - 0s 29ms/step - loss: 0.0116 - accuracy: 1.0000 - val_loss: 2.1461 - val_accuracy: 0.5333\n",
            "Epoch 140/300\n",
            "15/15 [==============================] - 0s 27ms/step - loss: 3.0719e-04 - accuracy: 1.0000 - val_loss: 2.0774 - val_accuracy: 0.5333\n",
            "Epoch 141/300\n",
            "15/15 [==============================] - 0s 27ms/step - loss: 0.0012 - accuracy: 1.0000 - val_loss: 2.0626 - val_accuracy: 0.5333\n",
            "Epoch 142/300\n",
            "15/15 [==============================] - 0s 26ms/step - loss: 5.1003e-04 - accuracy: 1.0000 - val_loss: 2.0682 - val_accuracy: 0.5333\n",
            "Epoch 143/300\n",
            "15/15 [==============================] - 0s 25ms/step - loss: 0.0056 - accuracy: 1.0000 - val_loss: 1.9461 - val_accuracy: 0.6667\n",
            "Epoch 144/300\n",
            "15/15 [==============================] - 0s 25ms/step - loss: 0.0012 - accuracy: 1.0000 - val_loss: 1.9616 - val_accuracy: 0.6667\n",
            "Epoch 145/300\n",
            "15/15 [==============================] - 0s 26ms/step - loss: 2.5778e-04 - accuracy: 1.0000 - val_loss: 1.9719 - val_accuracy: 0.6667\n",
            "Epoch 146/300\n",
            "15/15 [==============================] - 0s 24ms/step - loss: 0.0020 - accuracy: 1.0000 - val_loss: 1.9837 - val_accuracy: 0.6667\n",
            "Epoch 147/300\n",
            "15/15 [==============================] - 0s 28ms/step - loss: 0.0013 - accuracy: 1.0000 - val_loss: 1.9968 - val_accuracy: 0.6667\n",
            "Epoch 148/300\n",
            "15/15 [==============================] - 0s 26ms/step - loss: 4.4275e-04 - accuracy: 1.0000 - val_loss: 2.0034 - val_accuracy: 0.6667\n",
            "Epoch 149/300\n",
            "15/15 [==============================] - 0s 25ms/step - loss: 0.0011 - accuracy: 1.0000 - val_loss: 2.0270 - val_accuracy: 0.6667\n",
            "Epoch 150/300\n",
            "15/15 [==============================] - 0s 27ms/step - loss: 0.0062 - accuracy: 1.0000 - val_loss: 1.9780 - val_accuracy: 0.6667\n",
            "Epoch 151/300\n",
            "15/15 [==============================] - 0s 28ms/step - loss: 0.0118 - accuracy: 1.0000 - val_loss: 2.3864 - val_accuracy: 0.5333\n",
            "Epoch 152/300\n",
            "15/15 [==============================] - 0s 28ms/step - loss: 0.0968 - accuracy: 0.9778 - val_loss: 2.2892 - val_accuracy: 0.6667\n",
            "Epoch 153/300\n",
            "15/15 [==============================] - 0s 27ms/step - loss: 0.0965 - accuracy: 0.9778 - val_loss: 2.1832 - val_accuracy: 0.6667\n",
            "Epoch 154/300\n",
            "15/15 [==============================] - 0s 28ms/step - loss: 0.0707 - accuracy: 0.9778 - val_loss: 2.0909 - val_accuracy: 0.6000\n",
            "Epoch 155/300\n",
            "15/15 [==============================] - 0s 27ms/step - loss: 0.0385 - accuracy: 0.9778 - val_loss: 2.3121 - val_accuracy: 0.5333\n",
            "Epoch 156/300\n",
            "15/15 [==============================] - 0s 28ms/step - loss: 0.0377 - accuracy: 1.0000 - val_loss: 2.5241 - val_accuracy: 0.5333\n",
            "Epoch 157/300\n",
            "15/15 [==============================] - 0s 31ms/step - loss: 0.0156 - accuracy: 1.0000 - val_loss: 2.6004 - val_accuracy: 0.5333\n",
            "Epoch 158/300\n",
            "15/15 [==============================] - 0s 27ms/step - loss: 0.0153 - accuracy: 1.0000 - val_loss: 2.7242 - val_accuracy: 0.5333\n",
            "Epoch 159/300\n",
            "15/15 [==============================] - 0s 28ms/step - loss: 0.0877 - accuracy: 0.9778 - val_loss: 2.6334 - val_accuracy: 0.5333\n",
            "Epoch 160/300\n",
            "15/15 [==============================] - 0s 31ms/step - loss: 0.0515 - accuracy: 0.9778 - val_loss: 2.1228 - val_accuracy: 0.6000\n",
            "Epoch 161/300\n",
            "15/15 [==============================] - 0s 28ms/step - loss: 0.0273 - accuracy: 1.0000 - val_loss: 2.2246 - val_accuracy: 0.7333\n",
            "Epoch 162/300\n",
            "15/15 [==============================] - 0s 27ms/step - loss: 0.0353 - accuracy: 0.9778 - val_loss: 1.9116 - val_accuracy: 0.6667\n",
            "Epoch 163/300\n",
            "15/15 [==============================] - 0s 28ms/step - loss: 0.0213 - accuracy: 0.9778 - val_loss: 1.9021 - val_accuracy: 0.7333\n",
            "Epoch 164/300\n",
            "15/15 [==============================] - 0s 28ms/step - loss: 0.0017 - accuracy: 1.0000 - val_loss: 1.9660 - val_accuracy: 0.7333\n",
            "Epoch 165/300\n",
            "15/15 [==============================] - 0s 29ms/step - loss: 0.0154 - accuracy: 1.0000 - val_loss: 1.8781 - val_accuracy: 0.6667\n",
            "Epoch 166/300\n",
            "15/15 [==============================] - 0s 28ms/step - loss: 0.0024 - accuracy: 1.0000 - val_loss: 1.8718 - val_accuracy: 0.6667\n",
            "Epoch 167/300\n",
            "15/15 [==============================] - 0s 29ms/step - loss: 0.0104 - accuracy: 1.0000 - val_loss: 1.9433 - val_accuracy: 0.6667\n",
            "Epoch 168/300\n",
            "15/15 [==============================] - 0s 28ms/step - loss: 0.0316 - accuracy: 1.0000 - val_loss: 2.3518 - val_accuracy: 0.7333\n",
            "Epoch 169/300\n",
            "15/15 [==============================] - 0s 28ms/step - loss: 0.0593 - accuracy: 0.9556 - val_loss: 2.4563 - val_accuracy: 0.5333\n",
            "Epoch 170/300\n",
            "15/15 [==============================] - 0s 27ms/step - loss: 0.0210 - accuracy: 1.0000 - val_loss: 2.6884 - val_accuracy: 0.5333\n",
            "Epoch 171/300\n",
            "15/15 [==============================] - 0s 29ms/step - loss: 0.0440 - accuracy: 0.9778 - val_loss: 2.6310 - val_accuracy: 0.7333\n",
            "Epoch 172/300\n",
            "15/15 [==============================] - 0s 28ms/step - loss: 0.0043 - accuracy: 1.0000 - val_loss: 2.5253 - val_accuracy: 0.7333\n",
            "Epoch 173/300\n",
            "15/15 [==============================] - 0s 27ms/step - loss: 7.9892e-04 - accuracy: 1.0000 - val_loss: 2.5378 - val_accuracy: 0.7333\n",
            "Epoch 174/300\n",
            "15/15 [==============================] - 0s 27ms/step - loss: 0.1279 - accuracy: 0.9778 - val_loss: 2.4354 - val_accuracy: 0.7333\n",
            "Epoch 175/300\n",
            "15/15 [==============================] - 0s 26ms/step - loss: 0.0389 - accuracy: 0.9778 - val_loss: 2.2459 - val_accuracy: 0.7333\n",
            "Epoch 176/300\n",
            "15/15 [==============================] - 0s 28ms/step - loss: 0.0865 - accuracy: 0.9778 - val_loss: 2.8099 - val_accuracy: 0.5333\n",
            "Epoch 177/300\n",
            "15/15 [==============================] - 0s 28ms/step - loss: 0.0752 - accuracy: 0.9778 - val_loss: 2.7810 - val_accuracy: 0.6000\n",
            "Epoch 178/300\n",
            "15/15 [==============================] - 0s 27ms/step - loss: 0.0051 - accuracy: 1.0000 - val_loss: 2.0914 - val_accuracy: 0.6667\n",
            "Epoch 179/300\n",
            "15/15 [==============================] - 0s 29ms/step - loss: 0.1307 - accuracy: 0.9778 - val_loss: 2.5059 - val_accuracy: 0.6667\n",
            "Epoch 180/300\n",
            "15/15 [==============================] - 0s 32ms/step - loss: 0.0103 - accuracy: 1.0000 - val_loss: 2.5545 - val_accuracy: 0.7333\n",
            "Epoch 181/300\n",
            "15/15 [==============================] - 0s 29ms/step - loss: 0.0511 - accuracy: 0.9778 - val_loss: 2.3566 - val_accuracy: 0.6667\n",
            "Epoch 182/300\n",
            "15/15 [==============================] - 0s 27ms/step - loss: 0.0515 - accuracy: 0.9778 - val_loss: 2.7036 - val_accuracy: 0.6667\n",
            "Epoch 183/300\n",
            "15/15 [==============================] - 0s 26ms/step - loss: 0.0098 - accuracy: 1.0000 - val_loss: 2.9969 - val_accuracy: 0.6000\n",
            "Epoch 184/300\n",
            "15/15 [==============================] - 0s 27ms/step - loss: 0.1411 - accuracy: 0.9778 - val_loss: 2.1742 - val_accuracy: 0.6667\n",
            "Epoch 185/300\n",
            "15/15 [==============================] - 0s 28ms/step - loss: 0.0099 - accuracy: 1.0000 - val_loss: 2.1431 - val_accuracy: 0.6667\n",
            "Epoch 186/300\n",
            "15/15 [==============================] - 0s 26ms/step - loss: 0.0019 - accuracy: 1.0000 - val_loss: 2.2911 - val_accuracy: 0.6667\n",
            "Epoch 187/300\n",
            "15/15 [==============================] - 0s 30ms/step - loss: 0.0160 - accuracy: 1.0000 - val_loss: 2.3347 - val_accuracy: 0.6667\n",
            "Epoch 188/300\n",
            "15/15 [==============================] - 0s 26ms/step - loss: 0.0025 - accuracy: 1.0000 - val_loss: 2.1588 - val_accuracy: 0.6667\n",
            "Epoch 189/300\n",
            "15/15 [==============================] - 0s 28ms/step - loss: 0.0604 - accuracy: 0.9778 - val_loss: 2.6882 - val_accuracy: 0.6000\n",
            "Epoch 190/300\n",
            "15/15 [==============================] - 0s 26ms/step - loss: 0.1720 - accuracy: 0.9556 - val_loss: 2.0120 - val_accuracy: 0.6667\n",
            "Epoch 191/300\n",
            "15/15 [==============================] - 0s 27ms/step - loss: 0.0118 - accuracy: 1.0000 - val_loss: 1.8742 - val_accuracy: 0.6667\n",
            "Epoch 192/300\n",
            "15/15 [==============================] - 0s 28ms/step - loss: 0.0090 - accuracy: 1.0000 - val_loss: 1.9525 - val_accuracy: 0.6667\n",
            "Epoch 193/300\n",
            "15/15 [==============================] - 0s 27ms/step - loss: 0.0019 - accuracy: 1.0000 - val_loss: 1.9850 - val_accuracy: 0.6667\n",
            "Epoch 194/300\n",
            "15/15 [==============================] - 0s 29ms/step - loss: 0.0014 - accuracy: 1.0000 - val_loss: 2.0046 - val_accuracy: 0.6667\n",
            "Epoch 195/300\n",
            "15/15 [==============================] - 0s 27ms/step - loss: 0.0019 - accuracy: 1.0000 - val_loss: 2.0281 - val_accuracy: 0.6667\n",
            "Epoch 196/300\n",
            "15/15 [==============================] - 0s 26ms/step - loss: 4.1558e-04 - accuracy: 1.0000 - val_loss: 2.0389 - val_accuracy: 0.6667\n",
            "Epoch 197/300\n",
            "15/15 [==============================] - 0s 26ms/step - loss: 0.0213 - accuracy: 1.0000 - val_loss: 1.8768 - val_accuracy: 0.6667\n",
            "Epoch 198/300\n",
            "15/15 [==============================] - 0s 28ms/step - loss: 8.7718e-04 - accuracy: 1.0000 - val_loss: 1.7953 - val_accuracy: 0.6667\n",
            "Epoch 199/300\n",
            "15/15 [==============================] - 0s 29ms/step - loss: 0.0016 - accuracy: 1.0000 - val_loss: 1.8204 - val_accuracy: 0.6667\n",
            "Epoch 200/300\n",
            "15/15 [==============================] - 0s 30ms/step - loss: 0.0093 - accuracy: 1.0000 - val_loss: 2.0398 - val_accuracy: 0.6667\n",
            "Epoch 201/300\n",
            "15/15 [==============================] - 0s 29ms/step - loss: 0.0799 - accuracy: 0.9778 - val_loss: 2.1300 - val_accuracy: 0.6667\n",
            "Epoch 202/300\n",
            "15/15 [==============================] - 0s 31ms/step - loss: 0.0133 - accuracy: 1.0000 - val_loss: 1.8989 - val_accuracy: 0.7333\n",
            "Epoch 203/300\n",
            "15/15 [==============================] - 0s 28ms/step - loss: 0.0154 - accuracy: 1.0000 - val_loss: 1.8810 - val_accuracy: 0.6667\n",
            "Epoch 204/300\n",
            "15/15 [==============================] - 0s 27ms/step - loss: 0.0304 - accuracy: 1.0000 - val_loss: 2.0642 - val_accuracy: 0.6667\n",
            "Epoch 205/300\n",
            "15/15 [==============================] - 0s 27ms/step - loss: 0.0015 - accuracy: 1.0000 - val_loss: 1.8797 - val_accuracy: 0.6667\n",
            "Epoch 206/300\n",
            "15/15 [==============================] - 0s 29ms/step - loss: 0.0467 - accuracy: 0.9778 - val_loss: 2.5157 - val_accuracy: 0.5333\n",
            "Epoch 207/300\n",
            "15/15 [==============================] - 0s 28ms/step - loss: 3.8225e-04 - accuracy: 1.0000 - val_loss: 3.0529 - val_accuracy: 0.4667\n",
            "Epoch 208/300\n",
            "15/15 [==============================] - 0s 29ms/step - loss: 0.0917 - accuracy: 0.9778 - val_loss: 2.3185 - val_accuracy: 0.5333\n",
            "Epoch 209/300\n",
            "15/15 [==============================] - 0s 26ms/step - loss: 0.0079 - accuracy: 1.0000 - val_loss: 1.8864 - val_accuracy: 0.5333\n",
            "Epoch 210/300\n",
            "15/15 [==============================] - 0s 27ms/step - loss: 0.0014 - accuracy: 1.0000 - val_loss: 1.8165 - val_accuracy: 0.6000\n",
            "Epoch 211/300\n",
            "15/15 [==============================] - 0s 27ms/step - loss: 0.0031 - accuracy: 1.0000 - val_loss: 1.8007 - val_accuracy: 0.6667\n",
            "Epoch 212/300\n",
            "15/15 [==============================] - 0s 27ms/step - loss: 0.0320 - accuracy: 0.9778 - val_loss: 1.6870 - val_accuracy: 0.6667\n",
            "Epoch 213/300\n",
            "15/15 [==============================] - 0s 27ms/step - loss: 0.0240 - accuracy: 0.9778 - val_loss: 2.0416 - val_accuracy: 0.6667\n",
            "Epoch 214/300\n",
            "15/15 [==============================] - 0s 29ms/step - loss: 0.0017 - accuracy: 1.0000 - val_loss: 2.1572 - val_accuracy: 0.6000\n",
            "Epoch 215/300\n",
            "15/15 [==============================] - 0s 29ms/step - loss: 0.0016 - accuracy: 1.0000 - val_loss: 2.1253 - val_accuracy: 0.6667\n",
            "Epoch 216/300\n",
            "15/15 [==============================] - 0s 29ms/step - loss: 0.0022 - accuracy: 1.0000 - val_loss: 2.0995 - val_accuracy: 0.6667\n",
            "Epoch 217/300\n",
            "15/15 [==============================] - 0s 27ms/step - loss: 6.2179e-04 - accuracy: 1.0000 - val_loss: 2.0748 - val_accuracy: 0.6667\n",
            "Epoch 218/300\n",
            "15/15 [==============================] - 0s 29ms/step - loss: 0.0087 - accuracy: 1.0000 - val_loss: 2.1301 - val_accuracy: 0.6000\n",
            "Epoch 219/300\n",
            "15/15 [==============================] - 0s 26ms/step - loss: 3.7540e-04 - accuracy: 1.0000 - val_loss: 2.2626 - val_accuracy: 0.5333\n",
            "Epoch 220/300\n",
            "15/15 [==============================] - 0s 29ms/step - loss: 0.1060 - accuracy: 0.9778 - val_loss: 1.9395 - val_accuracy: 0.6667\n",
            "Epoch 221/300\n",
            "15/15 [==============================] - 0s 29ms/step - loss: 0.0034 - accuracy: 1.0000 - val_loss: 1.9992 - val_accuracy: 0.6667\n",
            "Epoch 222/300\n",
            "15/15 [==============================] - 0s 26ms/step - loss: 0.0124 - accuracy: 1.0000 - val_loss: 2.0703 - val_accuracy: 0.6000\n",
            "Epoch 223/300\n",
            "15/15 [==============================] - 0s 27ms/step - loss: 0.0050 - accuracy: 1.0000 - val_loss: 1.8500 - val_accuracy: 0.6667\n",
            "Epoch 224/300\n",
            "15/15 [==============================] - 0s 25ms/step - loss: 4.5153e-04 - accuracy: 1.0000 - val_loss: 1.7922 - val_accuracy: 0.6000\n",
            "Epoch 225/300\n",
            "15/15 [==============================] - 0s 25ms/step - loss: 4.2619e-04 - accuracy: 1.0000 - val_loss: 1.7813 - val_accuracy: 0.6000\n",
            "Epoch 226/300\n",
            "15/15 [==============================] - 0s 27ms/step - loss: 0.0038 - accuracy: 1.0000 - val_loss: 1.7323 - val_accuracy: 0.6667\n",
            "Epoch 227/300\n",
            "15/15 [==============================] - 0s 25ms/step - loss: 2.4349e-04 - accuracy: 1.0000 - val_loss: 1.7213 - val_accuracy: 0.6667\n",
            "Epoch 228/300\n",
            "15/15 [==============================] - 0s 30ms/step - loss: 5.4881e-04 - accuracy: 1.0000 - val_loss: 1.7210 - val_accuracy: 0.6667\n",
            "Epoch 229/300\n",
            "15/15 [==============================] - 0s 29ms/step - loss: 0.0025 - accuracy: 1.0000 - val_loss: 1.7701 - val_accuracy: 0.6667\n",
            "Epoch 230/300\n",
            "15/15 [==============================] - 0s 26ms/step - loss: 0.0016 - accuracy: 1.0000 - val_loss: 1.8074 - val_accuracy: 0.6667\n",
            "Epoch 231/300\n",
            "15/15 [==============================] - 0s 25ms/step - loss: 9.7086e-04 - accuracy: 1.0000 - val_loss: 1.7960 - val_accuracy: 0.6667\n",
            "Epoch 232/300\n",
            "15/15 [==============================] - 0s 28ms/step - loss: 0.0016 - accuracy: 1.0000 - val_loss: 1.8764 - val_accuracy: 0.6667\n",
            "Epoch 233/300\n",
            "15/15 [==============================] - 0s 27ms/step - loss: 5.0200e-04 - accuracy: 1.0000 - val_loss: 1.9113 - val_accuracy: 0.6667\n",
            "Epoch 234/300\n",
            "15/15 [==============================] - 0s 26ms/step - loss: 1.7663e-04 - accuracy: 1.0000 - val_loss: 1.9217 - val_accuracy: 0.6667\n",
            "Epoch 235/300\n",
            "15/15 [==============================] - 0s 25ms/step - loss: 5.4690e-04 - accuracy: 1.0000 - val_loss: 1.9479 - val_accuracy: 0.6667\n",
            "Epoch 236/300\n",
            "15/15 [==============================] - 0s 26ms/step - loss: 4.9490e-04 - accuracy: 1.0000 - val_loss: 1.9743 - val_accuracy: 0.6667\n",
            "Epoch 237/300\n",
            "15/15 [==============================] - 0s 28ms/step - loss: 2.3017e-04 - accuracy: 1.0000 - val_loss: 1.9940 - val_accuracy: 0.6667\n",
            "Epoch 238/300\n",
            "15/15 [==============================] - 0s 28ms/step - loss: 5.0847e-04 - accuracy: 1.0000 - val_loss: 1.9946 - val_accuracy: 0.6667\n",
            "Epoch 239/300\n",
            "15/15 [==============================] - 0s 25ms/step - loss: 0.0019 - accuracy: 1.0000 - val_loss: 1.9513 - val_accuracy: 0.6667\n",
            "Epoch 240/300\n",
            "15/15 [==============================] - 0s 29ms/step - loss: 1.3814e-04 - accuracy: 1.0000 - val_loss: 1.9426 - val_accuracy: 0.6667\n",
            "Epoch 241/300\n",
            "15/15 [==============================] - 0s 28ms/step - loss: 3.7819e-04 - accuracy: 1.0000 - val_loss: 1.9407 - val_accuracy: 0.6667\n",
            "Epoch 242/300\n",
            "15/15 [==============================] - 0s 28ms/step - loss: 1.5122e-04 - accuracy: 1.0000 - val_loss: 1.9477 - val_accuracy: 0.6667\n",
            "Epoch 243/300\n",
            "15/15 [==============================] - 0s 27ms/step - loss: 0.0014 - accuracy: 1.0000 - val_loss: 1.9708 - val_accuracy: 0.6667\n",
            "Epoch 244/300\n",
            "15/15 [==============================] - 0s 28ms/step - loss: 0.0022 - accuracy: 1.0000 - val_loss: 2.0435 - val_accuracy: 0.6667\n",
            "Epoch 245/300\n",
            "15/15 [==============================] - 0s 30ms/step - loss: 1.1043e-04 - accuracy: 1.0000 - val_loss: 2.1181 - val_accuracy: 0.6000\n",
            "Epoch 246/300\n",
            "15/15 [==============================] - 0s 26ms/step - loss: 4.1225e-04 - accuracy: 1.0000 - val_loss: 2.1224 - val_accuracy: 0.6000\n",
            "Epoch 247/300\n",
            "15/15 [==============================] - 0s 29ms/step - loss: 0.0219 - accuracy: 0.9778 - val_loss: 2.0078 - val_accuracy: 0.6667\n",
            "Epoch 248/300\n",
            "15/15 [==============================] - 0s 26ms/step - loss: 0.0055 - accuracy: 1.0000 - val_loss: 2.0846 - val_accuracy: 0.6667\n",
            "Epoch 249/300\n",
            "15/15 [==============================] - 0s 27ms/step - loss: 0.0018 - accuracy: 1.0000 - val_loss: 1.9454 - val_accuracy: 0.6667\n",
            "Epoch 250/300\n",
            "15/15 [==============================] - 0s 26ms/step - loss: 0.0016 - accuracy: 1.0000 - val_loss: 1.9187 - val_accuracy: 0.7333\n",
            "Epoch 251/300\n",
            "15/15 [==============================] - 0s 28ms/step - loss: 0.0023 - accuracy: 1.0000 - val_loss: 1.9157 - val_accuracy: 0.7333\n",
            "Epoch 252/300\n",
            "15/15 [==============================] - 0s 25ms/step - loss: 0.1411 - accuracy: 0.9778 - val_loss: 1.7412 - val_accuracy: 0.7333\n",
            "Epoch 253/300\n",
            "15/15 [==============================] - 0s 27ms/step - loss: 0.0676 - accuracy: 0.9778 - val_loss: 2.4250 - val_accuracy: 0.6667\n",
            "Epoch 254/300\n",
            "15/15 [==============================] - 0s 25ms/step - loss: 0.0052 - accuracy: 1.0000 - val_loss: 1.9080 - val_accuracy: 0.7333\n",
            "Epoch 255/300\n",
            "15/15 [==============================] - 0s 25ms/step - loss: 0.1013 - accuracy: 0.9778 - val_loss: 2.0902 - val_accuracy: 0.7333\n",
            "Epoch 256/300\n",
            "15/15 [==============================] - 0s 25ms/step - loss: 0.0886 - accuracy: 0.9556 - val_loss: 2.2089 - val_accuracy: 0.5333\n",
            "Epoch 257/300\n",
            "15/15 [==============================] - 0s 28ms/step - loss: 0.0778 - accuracy: 0.9556 - val_loss: 3.9289 - val_accuracy: 0.4667\n",
            "Epoch 258/300\n",
            "15/15 [==============================] - 0s 25ms/step - loss: 0.0037 - accuracy: 1.0000 - val_loss: 3.5940 - val_accuracy: 0.5333\n",
            "Epoch 259/300\n",
            "15/15 [==============================] - 0s 27ms/step - loss: 0.0012 - accuracy: 1.0000 - val_loss: 3.1371 - val_accuracy: 0.5333\n",
            "Epoch 260/300\n",
            "15/15 [==============================] - 0s 28ms/step - loss: 0.0088 - accuracy: 1.0000 - val_loss: 2.8442 - val_accuracy: 0.5333\n",
            "Epoch 261/300\n",
            "15/15 [==============================] - 0s 27ms/step - loss: 0.0736 - accuracy: 0.9556 - val_loss: 2.8473 - val_accuracy: 0.5333\n",
            "Epoch 262/300\n",
            "15/15 [==============================] - 0s 28ms/step - loss: 0.0031 - accuracy: 1.0000 - val_loss: 2.8868 - val_accuracy: 0.5333\n",
            "Epoch 263/300\n",
            "15/15 [==============================] - 0s 29ms/step - loss: 0.0414 - accuracy: 0.9778 - val_loss: 2.8385 - val_accuracy: 0.4667\n",
            "Epoch 264/300\n",
            "15/15 [==============================] - 0s 28ms/step - loss: 0.0365 - accuracy: 0.9778 - val_loss: 2.5599 - val_accuracy: 0.4667\n",
            "Epoch 265/300\n",
            "15/15 [==============================] - 0s 26ms/step - loss: 0.0019 - accuracy: 1.0000 - val_loss: 2.4687 - val_accuracy: 0.5333\n",
            "Epoch 266/300\n",
            "15/15 [==============================] - 0s 26ms/step - loss: 0.0017 - accuracy: 1.0000 - val_loss: 2.5921 - val_accuracy: 0.5333\n",
            "Epoch 267/300\n",
            "15/15 [==============================] - 0s 27ms/step - loss: 5.6751e-04 - accuracy: 1.0000 - val_loss: 2.6100 - val_accuracy: 0.5333\n",
            "Epoch 268/300\n",
            "15/15 [==============================] - 0s 27ms/step - loss: 0.0012 - accuracy: 1.0000 - val_loss: 2.3918 - val_accuracy: 0.6000\n",
            "Epoch 269/300\n",
            "15/15 [==============================] - 0s 27ms/step - loss: 0.0013 - accuracy: 1.0000 - val_loss: 2.4254 - val_accuracy: 0.6000\n",
            "Epoch 270/300\n",
            "15/15 [==============================] - 0s 26ms/step - loss: 0.0690 - accuracy: 0.9778 - val_loss: 2.2943 - val_accuracy: 0.5333\n",
            "Epoch 271/300\n",
            "15/15 [==============================] - 0s 28ms/step - loss: 0.0013 - accuracy: 1.0000 - val_loss: 2.3099 - val_accuracy: 0.6000\n",
            "Epoch 272/300\n",
            "15/15 [==============================] - 0s 26ms/step - loss: 0.1486 - accuracy: 0.9778 - val_loss: 1.8390 - val_accuracy: 0.6000\n",
            "Epoch 273/300\n",
            "15/15 [==============================] - 0s 28ms/step - loss: 0.0118 - accuracy: 1.0000 - val_loss: 1.8869 - val_accuracy: 0.6667\n",
            "Epoch 274/300\n",
            "15/15 [==============================] - 0s 27ms/step - loss: 9.3799e-04 - accuracy: 1.0000 - val_loss: 1.9424 - val_accuracy: 0.6667\n",
            "Epoch 275/300\n",
            "15/15 [==============================] - 0s 29ms/step - loss: 0.0014 - accuracy: 1.0000 - val_loss: 2.3091 - val_accuracy: 0.6667\n",
            "Epoch 276/300\n",
            "15/15 [==============================] - 0s 28ms/step - loss: 0.0027 - accuracy: 1.0000 - val_loss: 1.9849 - val_accuracy: 0.6667\n",
            "Epoch 277/300\n",
            "15/15 [==============================] - 0s 27ms/step - loss: 0.0080 - accuracy: 1.0000 - val_loss: 2.2101 - val_accuracy: 0.6667\n",
            "Epoch 278/300\n",
            "15/15 [==============================] - 0s 27ms/step - loss: 0.0022 - accuracy: 1.0000 - val_loss: 2.4642 - val_accuracy: 0.6000\n",
            "Epoch 279/300\n",
            "15/15 [==============================] - 0s 26ms/step - loss: 2.1607e-04 - accuracy: 1.0000 - val_loss: 2.5200 - val_accuracy: 0.6000\n",
            "Epoch 280/300\n",
            "15/15 [==============================] - 0s 26ms/step - loss: 6.4257e-04 - accuracy: 1.0000 - val_loss: 2.5037 - val_accuracy: 0.6000\n",
            "Epoch 281/300\n",
            "15/15 [==============================] - 0s 26ms/step - loss: 3.8697e-04 - accuracy: 1.0000 - val_loss: 2.5035 - val_accuracy: 0.6000\n",
            "Epoch 282/300\n",
            "15/15 [==============================] - 0s 26ms/step - loss: 1.5704e-04 - accuracy: 1.0000 - val_loss: 2.5324 - val_accuracy: 0.6000\n",
            "Epoch 283/300\n",
            "15/15 [==============================] - 0s 26ms/step - loss: 3.0112e-05 - accuracy: 1.0000 - val_loss: 2.5460 - val_accuracy: 0.6000\n",
            "Epoch 284/300\n",
            "15/15 [==============================] - 0s 27ms/step - loss: 2.4443e-04 - accuracy: 1.0000 - val_loss: 2.5350 - val_accuracy: 0.6000\n",
            "Epoch 285/300\n",
            "15/15 [==============================] - 0s 29ms/step - loss: 5.6626e-05 - accuracy: 1.0000 - val_loss: 2.5610 - val_accuracy: 0.6000\n",
            "Epoch 286/300\n",
            "15/15 [==============================] - 0s 30ms/step - loss: 0.0028 - accuracy: 1.0000 - val_loss: 2.6032 - val_accuracy: 0.6000\n",
            "Epoch 287/300\n",
            "15/15 [==============================] - 0s 26ms/step - loss: 0.0060 - accuracy: 1.0000 - val_loss: 2.5184 - val_accuracy: 0.6000\n",
            "Epoch 288/300\n",
            "15/15 [==============================] - 0s 26ms/step - loss: 2.7740e-05 - accuracy: 1.0000 - val_loss: 2.3623 - val_accuracy: 0.6000\n",
            "Epoch 289/300\n",
            "15/15 [==============================] - 0s 28ms/step - loss: 0.0013 - accuracy: 1.0000 - val_loss: 2.3501 - val_accuracy: 0.6000\n",
            "Epoch 290/300\n",
            "15/15 [==============================] - 0s 26ms/step - loss: 0.0016 - accuracy: 1.0000 - val_loss: 2.3292 - val_accuracy: 0.6000\n",
            "Epoch 291/300\n",
            "15/15 [==============================] - 0s 28ms/step - loss: 0.1456 - accuracy: 0.9556 - val_loss: 2.6195 - val_accuracy: 0.6000\n",
            "Epoch 292/300\n",
            "15/15 [==============================] - 0s 26ms/step - loss: 0.0688 - accuracy: 0.9778 - val_loss: 2.5181 - val_accuracy: 0.5333\n",
            "Epoch 293/300\n",
            "15/15 [==============================] - 0s 30ms/step - loss: 0.0033 - accuracy: 1.0000 - val_loss: 2.6623 - val_accuracy: 0.5333\n",
            "Epoch 294/300\n",
            "15/15 [==============================] - 0s 26ms/step - loss: 1.8850e-04 - accuracy: 1.0000 - val_loss: 2.7680 - val_accuracy: 0.5333\n",
            "Epoch 295/300\n",
            "15/15 [==============================] - 0s 26ms/step - loss: 3.6776e-04 - accuracy: 1.0000 - val_loss: 2.7745 - val_accuracy: 0.5333\n",
            "Epoch 296/300\n",
            "15/15 [==============================] - 0s 27ms/step - loss: 0.0066 - accuracy: 1.0000 - val_loss: 2.9599 - val_accuracy: 0.5333\n",
            "Epoch 297/300\n",
            "15/15 [==============================] - 0s 26ms/step - loss: 7.0532e-04 - accuracy: 1.0000 - val_loss: 3.0726 - val_accuracy: 0.6000\n",
            "Epoch 298/300\n",
            "15/15 [==============================] - 0s 28ms/step - loss: 0.0042 - accuracy: 1.0000 - val_loss: 2.7453 - val_accuracy: 0.5333\n",
            "Epoch 299/300\n",
            "15/15 [==============================] - 0s 30ms/step - loss: 7.4611e-05 - accuracy: 1.0000 - val_loss: 2.6635 - val_accuracy: 0.5333\n",
            "Epoch 300/300\n",
            "15/15 [==============================] - 0s 30ms/step - loss: 8.5504e-05 - accuracy: 1.0000 - val_loss: 2.6812 - val_accuracy: 0.5333\n"
          ]
        },
        {
          "output_type": "execute_result",
          "data": {
            "text/plain": [
              "<keras.callbacks.History at 0x7f37803806d0>"
            ]
          },
          "metadata": {},
          "execution_count": 18
        }
      ]
    },
    {
      "cell_type": "code",
      "source": [
        ""
      ],
      "metadata": {
        "id": "O9WbEe5Er-8H"
      },
      "execution_count": null,
      "outputs": []
    }
  ]
}