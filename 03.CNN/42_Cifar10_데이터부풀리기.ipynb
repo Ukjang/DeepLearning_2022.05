{
  "nbformat": 4,
  "nbformat_minor": 0,
  "metadata": {
    "colab": {
      "name": "42_Cifar10_데이터부풀리기.ipynb",
      "provenance": []
    },
    "kernelspec": {
      "name": "python3",
      "display_name": "Python 3"
    },
    "language_info": {
      "name": "python"
    },
    "accelerator": "GPU"
  },
  "cells": [
    {
      "cell_type": "markdown",
      "source": [
        "### Cifar-10 이미지 분류 - v2\n",
        "- 데이터 부풀리기\n"
      ],
      "metadata": {
        "id": "QwvNpPlh8HFm"
      }
    },
    {
      "cell_type": "code",
      "source": [
        "import numpy as np\n",
        "import pandas as pd\n",
        "import matplotlib.pyplot as plt\n",
        "import tensorflow as tf\n",
        "seed = 2022\n",
        "np.random.seed(seed)\n",
        "tf.random.set_seed(seed)"
      ],
      "metadata": {
        "id": "C3PNYctz8YRs"
      },
      "execution_count": 1,
      "outputs": []
    },
    {
      "cell_type": "markdown",
      "source": [
        "- 데이터전처리"
      ],
      "metadata": {
        "id": "iXrx_B148e9i"
      }
    },
    {
      "cell_type": "code",
      "source": [
        "from tensorflow.keras.datasets import cifar10\n",
        "(X_train, y_train), (X_test, y_test) = cifar10.load_data()"
      ],
      "metadata": {
        "colab": {
          "base_uri": "https://localhost:8080/"
        },
        "id": "IsOAY6zf8gWk",
        "outputId": "a885feff-524a-4549-8417-c780315497bc"
      },
      "execution_count": 2,
      "outputs": [
        {
          "output_type": "stream",
          "name": "stdout",
          "text": [
            "Downloading data from https://www.cs.toronto.edu/~kriz/cifar-10-python.tar.gz\n",
            "170500096/170498071 [==============================] - 12s 0us/step\n",
            "170508288/170498071 [==============================] - 12s 0us/step\n"
          ]
        }
      ]
    },
    {
      "cell_type": "code",
      "source": [
        "# X_data : scaling\n",
        "X_train = X_train / 255.\n",
        "X_test = X_test / 255."
      ],
      "metadata": {
        "id": "S-NV88BE8w1V"
      },
      "execution_count": 3,
      "outputs": []
    },
    {
      "cell_type": "code",
      "source": [
        "from tensorflow.keras.utils import to_categorical\n",
        "Y_train = to_categorical(y_train)\n",
        "Y_test = to_categorical(y_test)"
      ],
      "metadata": {
        "id": "D2KYC6ow8xZg"
      },
      "execution_count": 4,
      "outputs": []
    },
    {
      "cell_type": "markdown",
      "source": [
        "- 모델 정의/설정"
      ],
      "metadata": {
        "id": "k-QgsxKH8jqE"
      }
    },
    {
      "cell_type": "code",
      "source": [
        "from tensorflow.keras.models import Sequential, load_model\n",
        "from tensorflow.keras.layers import Dense, Conv2D, Flatten, MaxPooling2D, Dropout\n",
        "from tensorflow.keras.callbacks import ModelCheckpoint, EarlyStopping\n",
        "from tensorflow.keras.optimizers import RMSprop"
      ],
      "metadata": {
        "id": "vyGma-db8zkj"
      },
      "execution_count": 5,
      "outputs": []
    },
    {
      "cell_type": "code",
      "source": [
        "model = Sequential([\n",
        "    Conv2D(32, (3, 3), input_shape=X_train.shape[1:], padding='same',activation='relu'),\n",
        "    Conv2D(32, (3, 3), activation='relu'),\n",
        "    MaxPooling2D(),\n",
        "    Dropout(0.25),\n",
        "    Conv2D(64, (3, 3), padding='same', activation='relu'),\n",
        "    Conv2D(64, (3, 3), activation='relu'),\n",
        "    MaxPooling2D(),\n",
        "    Dropout(0.25),\n",
        "    Flatten(),\n",
        "    Dense(512, activation='relu'),\n",
        "    Dropout(0.5),\n",
        "    Dense(10, activation='softmax')\n",
        "])\n",
        "\n",
        "model.summary()"
      ],
      "metadata": {
        "colab": {
          "base_uri": "https://localhost:8080/"
        },
        "id": "SYr4L8Nt803E",
        "outputId": "778bbdfe-aa8d-4848-fde8-b2180879cb8e"
      },
      "execution_count": 6,
      "outputs": [
        {
          "output_type": "stream",
          "name": "stdout",
          "text": [
            "Model: \"sequential\"\n",
            "_________________________________________________________________\n",
            " Layer (type)                Output Shape              Param #   \n",
            "=================================================================\n",
            " conv2d (Conv2D)             (None, 32, 32, 32)        896       \n",
            "                                                                 \n",
            " conv2d_1 (Conv2D)           (None, 30, 30, 32)        9248      \n",
            "                                                                 \n",
            " max_pooling2d (MaxPooling2D  (None, 15, 15, 32)       0         \n",
            " )                                                               \n",
            "                                                                 \n",
            " dropout (Dropout)           (None, 15, 15, 32)        0         \n",
            "                                                                 \n",
            " conv2d_2 (Conv2D)           (None, 15, 15, 64)        18496     \n",
            "                                                                 \n",
            " conv2d_3 (Conv2D)           (None, 13, 13, 64)        36928     \n",
            "                                                                 \n",
            " max_pooling2d_1 (MaxPooling  (None, 6, 6, 64)         0         \n",
            " 2D)                                                             \n",
            "                                                                 \n",
            " dropout_1 (Dropout)         (None, 6, 6, 64)          0         \n",
            "                                                                 \n",
            " flatten (Flatten)           (None, 2304)              0         \n",
            "                                                                 \n",
            " dense (Dense)               (None, 512)               1180160   \n",
            "                                                                 \n",
            " dropout_2 (Dropout)         (None, 512)               0         \n",
            "                                                                 \n",
            " dense_1 (Dense)             (None, 10)                5130      \n",
            "                                                                 \n",
            "=================================================================\n",
            "Total params: 1,250,858\n",
            "Trainable params: 1,250,858\n",
            "Non-trainable params: 0\n",
            "_________________________________________________________________\n"
          ]
        }
      ]
    },
    {
      "cell_type": "code",
      "source": [
        "model.compile(\n",
        "    optimizer=RMSprop(learning_rate = 0.0001, decay=1e-6),\n",
        "    loss ='categorical_crossentropy',\n",
        "    metrics = ['accuracy']\n",
        ")"
      ],
      "metadata": {
        "id": "Zp0SNoKc83Ye"
      },
      "execution_count": 7,
      "outputs": []
    },
    {
      "cell_type": "code",
      "source": [
        "model_path = 'best-cifar10-v1.h5'\n",
        "mc = ModelCheckpoint(model_path, verbose=1, save_best_only=True)\n",
        "es = EarlyStopping(patience=10)"
      ],
      "metadata": {
        "id": "DVXRRobH83zZ"
      },
      "execution_count": 8,
      "outputs": []
    },
    {
      "cell_type": "markdown",
      "source": [
        "- 데이터 부풀리기"
      ],
      "metadata": {
        "id": "0HK_sn4r9JB1"
      }
    },
    {
      "cell_type": "code",
      "source": [
        "# valid\n",
        "from sklearn.model_selection import train_test_split\n",
        "X_train, X_valid, Y_train, Y_valid = train_test_split(\n",
        "    X_train, Y_train, stratify=Y_train, test_size=0.2,\n",
        "    random_state=seed\n",
        ")"
      ],
      "metadata": {
        "id": "Z_N4stWB9MJr"
      },
      "execution_count": 9,
      "outputs": []
    },
    {
      "cell_type": "code",
      "source": [
        "from tensorflow.keras.preprocessing.image import ImageDataGenerator\n",
        "\n",
        "datagen = ImageDataGenerator(\n",
        "    rotation_range = 10,         # randomly rotate images in the range (deg 0 to 180) width_shift_range=0.1, \n",
        "    width_shift_range = 0.1,     # randomly shift images horizontally height_shift_range=0.1, \n",
        "    height_shift_range = 0.1,    # randomly shift images vertically\n",
        "    shear_range = 0.1,           # 도형의 기울기\n",
        "    zoom_range= [0.8, 1.2],      # set range for random zoom\n",
        "    horizontal_flip=True,        # randomly flip images \n",
        "    vertical_flip=False,         # randomly flip images\n",
        "    fill_mode='nearest',         # set mode for filling points outside the input boundaries\n",
        ")\n"
      ],
      "metadata": {
        "id": "Dm_Rp9Xj9MTu"
      },
      "execution_count": 10,
      "outputs": []
    },
    {
      "cell_type": "code",
      "source": [
        "datagen.fit(X_train)"
      ],
      "metadata": {
        "id": "ul-RtfVo9MeW"
      },
      "execution_count": 11,
      "outputs": []
    },
    {
      "cell_type": "markdown",
      "source": [
        "- 데이터 부풀리기를 한 결과로 학습"
      ],
      "metadata": {
        "id": "giJxI-7W-nhp"
      }
    },
    {
      "cell_type": "code",
      "source": [
        "hist = model.fit(\n",
        "    datagen.flow(X_train, Y_train, batch_size=32), \n",
        "    validation_data = (X_valid, Y_valid), \n",
        "    epochs=100, batch_size=32, \n",
        "    callbacks=[mc, es])"
      ],
      "metadata": {
        "colab": {
          "base_uri": "https://localhost:8080/"
        },
        "id": "pPoDfCqv8470",
        "outputId": "1661553e-be12-40c3-8e40-887de6bd4031"
      },
      "execution_count": 12,
      "outputs": [
        {
          "output_type": "stream",
          "name": "stdout",
          "text": [
            "Epoch 1/100\n",
            "1248/1250 [============================>.] - ETA: 0s - loss: 1.8949 - accuracy: 0.3013\n",
            "Epoch 1: val_loss improved from inf to 1.60240, saving model to best-cifar10-v1.h5\n",
            "1250/1250 [==============================] - 39s 22ms/step - loss: 1.8946 - accuracy: 0.3014 - val_loss: 1.6024 - val_accuracy: 0.4130\n",
            "Epoch 2/100\n",
            "1249/1250 [============================>.] - ETA: 0s - loss: 1.6406 - accuracy: 0.3988\n",
            "Epoch 2: val_loss improved from 1.60240 to 1.46992, saving model to best-cifar10-v1.h5\n",
            "1250/1250 [==============================] - 26s 21ms/step - loss: 1.6405 - accuracy: 0.3988 - val_loss: 1.4699 - val_accuracy: 0.4640\n",
            "Epoch 3/100\n",
            "1248/1250 [============================>.] - ETA: 0s - loss: 1.5379 - accuracy: 0.4421\n",
            "Epoch 3: val_loss improved from 1.46992 to 1.38163, saving model to best-cifar10-v1.h5\n",
            "1250/1250 [==============================] - 25s 20ms/step - loss: 1.5379 - accuracy: 0.4421 - val_loss: 1.3816 - val_accuracy: 0.5010\n",
            "Epoch 4/100\n",
            "1250/1250 [==============================] - ETA: 0s - loss: 1.4579 - accuracy: 0.4739\n",
            "Epoch 4: val_loss improved from 1.38163 to 1.31715, saving model to best-cifar10-v1.h5\n",
            "1250/1250 [==============================] - 25s 20ms/step - loss: 1.4579 - accuracy: 0.4739 - val_loss: 1.3171 - val_accuracy: 0.5292\n",
            "Epoch 5/100\n",
            "1249/1250 [============================>.] - ETA: 0s - loss: 1.4057 - accuracy: 0.4967\n",
            "Epoch 5: val_loss improved from 1.31715 to 1.20126, saving model to best-cifar10-v1.h5\n",
            "1250/1250 [==============================] - 24s 20ms/step - loss: 1.4055 - accuracy: 0.4969 - val_loss: 1.2013 - val_accuracy: 0.5755\n",
            "Epoch 6/100\n",
            "1248/1250 [============================>.] - ETA: 0s - loss: 1.3496 - accuracy: 0.5158\n",
            "Epoch 6: val_loss improved from 1.20126 to 1.19048, saving model to best-cifar10-v1.h5\n",
            "1250/1250 [==============================] - 24s 19ms/step - loss: 1.3493 - accuracy: 0.5159 - val_loss: 1.1905 - val_accuracy: 0.5685\n",
            "Epoch 7/100\n",
            "1248/1250 [============================>.] - ETA: 0s - loss: 1.3068 - accuracy: 0.5359\n",
            "Epoch 7: val_loss did not improve from 1.19048\n",
            "1250/1250 [==============================] - 24s 19ms/step - loss: 1.3070 - accuracy: 0.5358 - val_loss: 1.2804 - val_accuracy: 0.5572\n",
            "Epoch 8/100\n",
            "1250/1250 [==============================] - ETA: 0s - loss: 1.2701 - accuracy: 0.5503\n",
            "Epoch 8: val_loss improved from 1.19048 to 1.13525, saving model to best-cifar10-v1.h5\n",
            "1250/1250 [==============================] - 24s 19ms/step - loss: 1.2701 - accuracy: 0.5503 - val_loss: 1.1353 - val_accuracy: 0.5987\n",
            "Epoch 9/100\n",
            "1248/1250 [============================>.] - ETA: 0s - loss: 1.2348 - accuracy: 0.5630\n",
            "Epoch 9: val_loss did not improve from 1.13525\n",
            "1250/1250 [==============================] - 24s 19ms/step - loss: 1.2347 - accuracy: 0.5631 - val_loss: 1.1692 - val_accuracy: 0.5912\n",
            "Epoch 10/100\n",
            "1250/1250 [==============================] - ETA: 0s - loss: 1.2012 - accuracy: 0.5762\n",
            "Epoch 10: val_loss improved from 1.13525 to 1.02933, saving model to best-cifar10-v1.h5\n",
            "1250/1250 [==============================] - 23s 19ms/step - loss: 1.2012 - accuracy: 0.5762 - val_loss: 1.0293 - val_accuracy: 0.6334\n",
            "Epoch 11/100\n",
            "1250/1250 [==============================] - ETA: 0s - loss: 1.1789 - accuracy: 0.5822\n",
            "Epoch 11: val_loss improved from 1.02933 to 0.97937, saving model to best-cifar10-v1.h5\n",
            "1250/1250 [==============================] - 24s 19ms/step - loss: 1.1789 - accuracy: 0.5822 - val_loss: 0.9794 - val_accuracy: 0.6527\n",
            "Epoch 12/100\n",
            "1249/1250 [============================>.] - ETA: 0s - loss: 1.1521 - accuracy: 0.5931\n",
            "Epoch 12: val_loss improved from 0.97937 to 0.96208, saving model to best-cifar10-v1.h5\n",
            "1250/1250 [==============================] - 24s 19ms/step - loss: 1.1523 - accuracy: 0.5931 - val_loss: 0.9621 - val_accuracy: 0.6618\n",
            "Epoch 13/100\n",
            "1250/1250 [==============================] - ETA: 0s - loss: 1.1303 - accuracy: 0.6003\n",
            "Epoch 13: val_loss did not improve from 0.96208\n",
            "1250/1250 [==============================] - 24s 19ms/step - loss: 1.1303 - accuracy: 0.6003 - val_loss: 1.0377 - val_accuracy: 0.6402\n",
            "Epoch 14/100\n",
            "1248/1250 [============================>.] - ETA: 0s - loss: 1.1077 - accuracy: 0.6097\n",
            "Epoch 14: val_loss improved from 0.96208 to 0.95725, saving model to best-cifar10-v1.h5\n",
            "1250/1250 [==============================] - 24s 19ms/step - loss: 1.1077 - accuracy: 0.6098 - val_loss: 0.9573 - val_accuracy: 0.6626\n",
            "Epoch 15/100\n",
            "1249/1250 [============================>.] - ETA: 0s - loss: 1.0927 - accuracy: 0.6136\n",
            "Epoch 15: val_loss did not improve from 0.95725\n",
            "1250/1250 [==============================] - 24s 19ms/step - loss: 1.0926 - accuracy: 0.6137 - val_loss: 0.9878 - val_accuracy: 0.6559\n",
            "Epoch 16/100\n",
            "1250/1250 [==============================] - ETA: 0s - loss: 1.0789 - accuracy: 0.6192\n",
            "Epoch 16: val_loss did not improve from 0.95725\n",
            "1250/1250 [==============================] - 24s 19ms/step - loss: 1.0789 - accuracy: 0.6192 - val_loss: 0.9999 - val_accuracy: 0.6484\n",
            "Epoch 17/100\n",
            "1249/1250 [============================>.] - ETA: 0s - loss: 1.0591 - accuracy: 0.6300\n",
            "Epoch 17: val_loss improved from 0.95725 to 0.91295, saving model to best-cifar10-v1.h5\n",
            "1250/1250 [==============================] - 24s 19ms/step - loss: 1.0587 - accuracy: 0.6302 - val_loss: 0.9129 - val_accuracy: 0.6790\n",
            "Epoch 18/100\n",
            "1250/1250 [==============================] - ETA: 0s - loss: 1.0494 - accuracy: 0.6306\n",
            "Epoch 18: val_loss improved from 0.91295 to 0.88509, saving model to best-cifar10-v1.h5\n",
            "1250/1250 [==============================] - 24s 19ms/step - loss: 1.0494 - accuracy: 0.6306 - val_loss: 0.8851 - val_accuracy: 0.6879\n",
            "Epoch 19/100\n",
            "1247/1250 [============================>.] - ETA: 0s - loss: 1.0329 - accuracy: 0.6386\n",
            "Epoch 19: val_loss improved from 0.88509 to 0.84715, saving model to best-cifar10-v1.h5\n",
            "1250/1250 [==============================] - 24s 19ms/step - loss: 1.0329 - accuracy: 0.6385 - val_loss: 0.8471 - val_accuracy: 0.7025\n",
            "Epoch 20/100\n",
            "1250/1250 [==============================] - ETA: 0s - loss: 1.0158 - accuracy: 0.6461\n",
            "Epoch 20: val_loss did not improve from 0.84715\n",
            "1250/1250 [==============================] - 24s 19ms/step - loss: 1.0158 - accuracy: 0.6461 - val_loss: 0.9777 - val_accuracy: 0.6602\n",
            "Epoch 21/100\n",
            "1249/1250 [============================>.] - ETA: 0s - loss: 1.0117 - accuracy: 0.6467\n",
            "Epoch 21: val_loss did not improve from 0.84715\n",
            "1250/1250 [==============================] - 24s 19ms/step - loss: 1.0119 - accuracy: 0.6466 - val_loss: 0.8754 - val_accuracy: 0.6950\n",
            "Epoch 22/100\n",
            "1250/1250 [==============================] - ETA: 0s - loss: 0.9979 - accuracy: 0.6493\n",
            "Epoch 22: val_loss improved from 0.84715 to 0.83200, saving model to best-cifar10-v1.h5\n",
            "1250/1250 [==============================] - 24s 19ms/step - loss: 0.9979 - accuracy: 0.6493 - val_loss: 0.8320 - val_accuracy: 0.7121\n",
            "Epoch 23/100\n",
            "1249/1250 [============================>.] - ETA: 0s - loss: 0.9899 - accuracy: 0.6543\n",
            "Epoch 23: val_loss did not improve from 0.83200\n",
            "1250/1250 [==============================] - 24s 19ms/step - loss: 0.9899 - accuracy: 0.6543 - val_loss: 0.8498 - val_accuracy: 0.7046\n",
            "Epoch 24/100\n",
            "1250/1250 [==============================] - ETA: 0s - loss: 0.9824 - accuracy: 0.6593\n",
            "Epoch 24: val_loss did not improve from 0.83200\n",
            "1250/1250 [==============================] - 24s 19ms/step - loss: 0.9824 - accuracy: 0.6593 - val_loss: 0.8794 - val_accuracy: 0.6955\n",
            "Epoch 25/100\n",
            "1249/1250 [============================>.] - ETA: 0s - loss: 0.9723 - accuracy: 0.6616\n",
            "Epoch 25: val_loss improved from 0.83200 to 0.83037, saving model to best-cifar10-v1.h5\n",
            "1250/1250 [==============================] - 24s 19ms/step - loss: 0.9721 - accuracy: 0.6616 - val_loss: 0.8304 - val_accuracy: 0.7148\n",
            "Epoch 26/100\n",
            "1250/1250 [==============================] - ETA: 0s - loss: 0.9668 - accuracy: 0.6639\n",
            "Epoch 26: val_loss improved from 0.83037 to 0.82369, saving model to best-cifar10-v1.h5\n",
            "1250/1250 [==============================] - 24s 19ms/step - loss: 0.9668 - accuracy: 0.6639 - val_loss: 0.8237 - val_accuracy: 0.7184\n",
            "Epoch 27/100\n",
            "1250/1250 [==============================] - ETA: 0s - loss: 0.9620 - accuracy: 0.6677\n",
            "Epoch 27: val_loss did not improve from 0.82369\n",
            "1250/1250 [==============================] - 24s 19ms/step - loss: 0.9620 - accuracy: 0.6677 - val_loss: 0.8677 - val_accuracy: 0.7029\n",
            "Epoch 28/100\n",
            "1248/1250 [============================>.] - ETA: 0s - loss: 0.9468 - accuracy: 0.6719\n",
            "Epoch 28: val_loss improved from 0.82369 to 0.80709, saving model to best-cifar10-v1.h5\n",
            "1250/1250 [==============================] - 24s 19ms/step - loss: 0.9469 - accuracy: 0.6718 - val_loss: 0.8071 - val_accuracy: 0.7221\n",
            "Epoch 29/100\n",
            "1248/1250 [============================>.] - ETA: 0s - loss: 0.9536 - accuracy: 0.6694\n",
            "Epoch 29: val_loss did not improve from 0.80709\n",
            "1250/1250 [==============================] - 24s 19ms/step - loss: 0.9540 - accuracy: 0.6692 - val_loss: 0.8332 - val_accuracy: 0.7150\n",
            "Epoch 30/100\n",
            "1249/1250 [============================>.] - ETA: 0s - loss: 0.9383 - accuracy: 0.6757\n",
            "Epoch 30: val_loss did not improve from 0.80709\n",
            "1250/1250 [==============================] - 24s 19ms/step - loss: 0.9380 - accuracy: 0.6758 - val_loss: 0.8749 - val_accuracy: 0.7103\n",
            "Epoch 31/100\n",
            "1250/1250 [==============================] - ETA: 0s - loss: 0.9367 - accuracy: 0.6772\n",
            "Epoch 31: val_loss did not improve from 0.80709\n",
            "1250/1250 [==============================] - 24s 19ms/step - loss: 0.9367 - accuracy: 0.6772 - val_loss: 0.8296 - val_accuracy: 0.7210\n",
            "Epoch 32/100\n",
            "1248/1250 [============================>.] - ETA: 0s - loss: 0.9341 - accuracy: 0.6757\n",
            "Epoch 32: val_loss did not improve from 0.80709\n",
            "1250/1250 [==============================] - 24s 19ms/step - loss: 0.9341 - accuracy: 0.6756 - val_loss: 0.8651 - val_accuracy: 0.7074\n",
            "Epoch 33/100\n",
            "1249/1250 [============================>.] - ETA: 0s - loss: 0.9270 - accuracy: 0.6773\n",
            "Epoch 33: val_loss improved from 0.80709 to 0.80473, saving model to best-cifar10-v1.h5\n",
            "1250/1250 [==============================] - 24s 19ms/step - loss: 0.9271 - accuracy: 0.6772 - val_loss: 0.8047 - val_accuracy: 0.7234\n",
            "Epoch 34/100\n",
            "1250/1250 [==============================] - ETA: 0s - loss: 0.9282 - accuracy: 0.6794\n",
            "Epoch 34: val_loss did not improve from 0.80473\n",
            "1250/1250 [==============================] - 24s 19ms/step - loss: 0.9282 - accuracy: 0.6794 - val_loss: 0.8291 - val_accuracy: 0.7125\n",
            "Epoch 35/100\n",
            "1250/1250 [==============================] - ETA: 0s - loss: 0.9128 - accuracy: 0.6840\n",
            "Epoch 35: val_loss improved from 0.80473 to 0.77498, saving model to best-cifar10-v1.h5\n",
            "1250/1250 [==============================] - 24s 19ms/step - loss: 0.9128 - accuracy: 0.6840 - val_loss: 0.7750 - val_accuracy: 0.7390\n",
            "Epoch 36/100\n",
            "1249/1250 [============================>.] - ETA: 0s - loss: 0.9173 - accuracy: 0.6857\n",
            "Epoch 36: val_loss did not improve from 0.77498\n",
            "1250/1250 [==============================] - 24s 19ms/step - loss: 0.9174 - accuracy: 0.6856 - val_loss: 0.7907 - val_accuracy: 0.7315\n",
            "Epoch 37/100\n",
            "1247/1250 [============================>.] - ETA: 0s - loss: 0.9201 - accuracy: 0.6832\n",
            "Epoch 37: val_loss improved from 0.77498 to 0.76497, saving model to best-cifar10-v1.h5\n",
            "1250/1250 [==============================] - 24s 19ms/step - loss: 0.9204 - accuracy: 0.6832 - val_loss: 0.7650 - val_accuracy: 0.7410\n",
            "Epoch 38/100\n",
            "1250/1250 [==============================] - ETA: 0s - loss: 0.9019 - accuracy: 0.6875\n",
            "Epoch 38: val_loss did not improve from 0.76497\n",
            "1250/1250 [==============================] - 24s 19ms/step - loss: 0.9019 - accuracy: 0.6875 - val_loss: 0.8211 - val_accuracy: 0.7289\n",
            "Epoch 39/100\n",
            "1248/1250 [============================>.] - ETA: 0s - loss: 0.9038 - accuracy: 0.6880\n",
            "Epoch 39: val_loss did not improve from 0.76497\n",
            "1250/1250 [==============================] - 24s 19ms/step - loss: 0.9035 - accuracy: 0.6880 - val_loss: 0.7738 - val_accuracy: 0.7388\n",
            "Epoch 40/100\n",
            "1250/1250 [==============================] - ETA: 0s - loss: 0.9023 - accuracy: 0.6874\n",
            "Epoch 40: val_loss improved from 0.76497 to 0.76007, saving model to best-cifar10-v1.h5\n",
            "1250/1250 [==============================] - 24s 19ms/step - loss: 0.9023 - accuracy: 0.6874 - val_loss: 0.7601 - val_accuracy: 0.7413\n",
            "Epoch 41/100\n",
            "1247/1250 [============================>.] - ETA: 0s - loss: 0.8938 - accuracy: 0.6918\n",
            "Epoch 41: val_loss did not improve from 0.76007\n",
            "1250/1250 [==============================] - 24s 19ms/step - loss: 0.8936 - accuracy: 0.6918 - val_loss: 0.8146 - val_accuracy: 0.7258\n",
            "Epoch 42/100\n",
            "1249/1250 [============================>.] - ETA: 0s - loss: 0.8946 - accuracy: 0.6930\n",
            "Epoch 42: val_loss did not improve from 0.76007\n",
            "1250/1250 [==============================] - 24s 19ms/step - loss: 0.8944 - accuracy: 0.6930 - val_loss: 0.7725 - val_accuracy: 0.7402\n",
            "Epoch 43/100\n",
            "1248/1250 [============================>.] - ETA: 0s - loss: 0.8938 - accuracy: 0.6937\n",
            "Epoch 43: val_loss did not improve from 0.76007\n",
            "1250/1250 [==============================] - 24s 19ms/step - loss: 0.8936 - accuracy: 0.6937 - val_loss: 0.7929 - val_accuracy: 0.7312\n",
            "Epoch 44/100\n",
            "1249/1250 [============================>.] - ETA: 0s - loss: 0.8901 - accuracy: 0.6914\n",
            "Epoch 44: val_loss did not improve from 0.76007\n",
            "1250/1250 [==============================] - 24s 19ms/step - loss: 0.8900 - accuracy: 0.6914 - val_loss: 0.8122 - val_accuracy: 0.7281\n",
            "Epoch 45/100\n",
            "1250/1250 [==============================] - ETA: 0s - loss: 0.8886 - accuracy: 0.6938\n",
            "Epoch 45: val_loss did not improve from 0.76007\n",
            "1250/1250 [==============================] - 24s 19ms/step - loss: 0.8886 - accuracy: 0.6938 - val_loss: 0.7698 - val_accuracy: 0.7399\n",
            "Epoch 46/100\n",
            "1249/1250 [============================>.] - ETA: 0s - loss: 0.8832 - accuracy: 0.7006\n",
            "Epoch 46: val_loss improved from 0.76007 to 0.73077, saving model to best-cifar10-v1.h5\n",
            "1250/1250 [==============================] - 24s 19ms/step - loss: 0.8830 - accuracy: 0.7006 - val_loss: 0.7308 - val_accuracy: 0.7501\n",
            "Epoch 47/100\n",
            "1249/1250 [============================>.] - ETA: 0s - loss: 0.8807 - accuracy: 0.6969\n",
            "Epoch 47: val_loss did not improve from 0.73077\n",
            "1250/1250 [==============================] - 24s 19ms/step - loss: 0.8804 - accuracy: 0.6970 - val_loss: 0.7815 - val_accuracy: 0.7368\n",
            "Epoch 48/100\n",
            "1250/1250 [==============================] - ETA: 0s - loss: 0.8754 - accuracy: 0.6995\n",
            "Epoch 48: val_loss did not improve from 0.73077\n",
            "1250/1250 [==============================] - 24s 19ms/step - loss: 0.8754 - accuracy: 0.6995 - val_loss: 0.7612 - val_accuracy: 0.7439\n",
            "Epoch 49/100\n",
            "1250/1250 [==============================] - ETA: 0s - loss: 0.8748 - accuracy: 0.7020\n",
            "Epoch 49: val_loss did not improve from 0.73077\n",
            "1250/1250 [==============================] - 24s 19ms/step - loss: 0.8748 - accuracy: 0.7020 - val_loss: 0.7458 - val_accuracy: 0.7476\n",
            "Epoch 50/100\n",
            "1250/1250 [==============================] - ETA: 0s - loss: 0.8768 - accuracy: 0.6993\n",
            "Epoch 50: val_loss improved from 0.73077 to 0.70523, saving model to best-cifar10-v1.h5\n",
            "1250/1250 [==============================] - 24s 20ms/step - loss: 0.8768 - accuracy: 0.6993 - val_loss: 0.7052 - val_accuracy: 0.7668\n",
            "Epoch 51/100\n",
            "1248/1250 [============================>.] - ETA: 0s - loss: 0.8710 - accuracy: 0.7017\n",
            "Epoch 51: val_loss did not improve from 0.70523\n",
            "1250/1250 [==============================] - 25s 20ms/step - loss: 0.8710 - accuracy: 0.7016 - val_loss: 0.7056 - val_accuracy: 0.7651\n",
            "Epoch 52/100\n",
            "1248/1250 [============================>.] - ETA: 0s - loss: 0.8703 - accuracy: 0.7048\n",
            "Epoch 52: val_loss did not improve from 0.70523\n",
            "1250/1250 [==============================] - 24s 19ms/step - loss: 0.8703 - accuracy: 0.7049 - val_loss: 0.7249 - val_accuracy: 0.7547\n",
            "Epoch 53/100\n",
            "1250/1250 [==============================] - ETA: 0s - loss: 0.8636 - accuracy: 0.7035\n",
            "Epoch 53: val_loss did not improve from 0.70523\n",
            "1250/1250 [==============================] - 24s 19ms/step - loss: 0.8636 - accuracy: 0.7035 - val_loss: 0.7105 - val_accuracy: 0.7620\n",
            "Epoch 54/100\n",
            "1250/1250 [==============================] - ETA: 0s - loss: 0.8638 - accuracy: 0.7031\n",
            "Epoch 54: val_loss did not improve from 0.70523\n",
            "1250/1250 [==============================] - 25s 20ms/step - loss: 0.8638 - accuracy: 0.7031 - val_loss: 0.7629 - val_accuracy: 0.7480\n",
            "Epoch 55/100\n",
            "1250/1250 [==============================] - ETA: 0s - loss: 0.8664 - accuracy: 0.7031\n",
            "Epoch 55: val_loss did not improve from 0.70523\n",
            "1250/1250 [==============================] - 24s 20ms/step - loss: 0.8664 - accuracy: 0.7031 - val_loss: 0.7758 - val_accuracy: 0.7425\n",
            "Epoch 56/100\n",
            "1248/1250 [============================>.] - ETA: 0s - loss: 0.8598 - accuracy: 0.7064\n",
            "Epoch 56: val_loss did not improve from 0.70523\n",
            "1250/1250 [==============================] - 24s 20ms/step - loss: 0.8597 - accuracy: 0.7064 - val_loss: 0.7266 - val_accuracy: 0.7519\n",
            "Epoch 57/100\n",
            "1250/1250 [==============================] - ETA: 0s - loss: 0.8592 - accuracy: 0.7072\n",
            "Epoch 57: val_loss did not improve from 0.70523\n",
            "1250/1250 [==============================] - 25s 20ms/step - loss: 0.8592 - accuracy: 0.7072 - val_loss: 0.7343 - val_accuracy: 0.7596\n",
            "Epoch 58/100\n",
            "1249/1250 [============================>.] - ETA: 0s - loss: 0.8579 - accuracy: 0.7064\n",
            "Epoch 58: val_loss did not improve from 0.70523\n",
            "1250/1250 [==============================] - 25s 20ms/step - loss: 0.8579 - accuracy: 0.7064 - val_loss: 0.7587 - val_accuracy: 0.7432\n",
            "Epoch 59/100\n",
            "1249/1250 [============================>.] - ETA: 0s - loss: 0.8578 - accuracy: 0.7062\n",
            "Epoch 59: val_loss did not improve from 0.70523\n",
            "1250/1250 [==============================] - 25s 20ms/step - loss: 0.8576 - accuracy: 0.7064 - val_loss: 0.7491 - val_accuracy: 0.7437\n",
            "Epoch 60/100\n",
            "1249/1250 [============================>.] - ETA: 0s - loss: 0.8514 - accuracy: 0.7111\n",
            "Epoch 60: val_loss did not improve from 0.70523\n",
            "1250/1250 [==============================] - 25s 20ms/step - loss: 0.8514 - accuracy: 0.7111 - val_loss: 0.8563 - val_accuracy: 0.7278\n"
          ]
        }
      ]
    },
    {
      "cell_type": "code",
      "source": [
        "best_model = load_model(model_path)\n",
        "best_model.evaluate(X_test, Y_test)"
      ],
      "metadata": {
        "colab": {
          "base_uri": "https://localhost:8080/"
        },
        "id": "DGsC-hUs863w",
        "outputId": "fcdd70bc-7612-465b-fdff-b683c0052de1"
      },
      "execution_count": 13,
      "outputs": [
        {
          "output_type": "stream",
          "name": "stdout",
          "text": [
            "313/313 [==============================] - 1s 4ms/step - loss: 0.7235 - accuracy: 0.7584\n"
          ]
        },
        {
          "output_type": "execute_result",
          "data": {
            "text/plain": [
              "[0.7234826683998108, 0.758400022983551]"
            ]
          },
          "metadata": {},
          "execution_count": 13
        }
      ]
    },
    {
      "cell_type": "code",
      "source": [
        "y_acc1 = hist.history['accuracy']\n",
        "y_vloss1 = hist.history['val_loss']\n",
        "xs1 = np.arange(1, len(y_acc1) + 1)"
      ],
      "metadata": {
        "id": "3opP-9ou88lo"
      },
      "execution_count": 14,
      "outputs": []
    },
    {
      "cell_type": "code",
      "source": [
        "plt.figure(figsize=(20, 8))\n",
        "plt.plot(xs1, y_acc1, label='train.accuracy')\n",
        "plt.plot(xs1, y_vloss1, label='validation loss')\n",
        "plt.legend(), plt.grid()\n",
        "plt.ylim([0,1.2])\n",
        "plt.xlabel('Epoch')\n",
        "plt.show()"
      ],
      "metadata": {
        "colab": {
          "base_uri": "https://localhost:8080/",
          "height": 460
        },
        "id": "3eKp8_sQ89zQ",
        "outputId": "ca5e8248-ca05-483d-d55c-56c4a82d05a4"
      },
      "execution_count": 15,
      "outputs": [
        {
          "output_type": "display_data",
          "data": {
            "text/plain": [
              "<Figure size 1440x576 with 1 Axes>"
            ],
            "image/png": "[encoded data removed]"
          },
          "metadata": {
            "needs_background": "light"
          }
        }
      ]
    }
  ]
}