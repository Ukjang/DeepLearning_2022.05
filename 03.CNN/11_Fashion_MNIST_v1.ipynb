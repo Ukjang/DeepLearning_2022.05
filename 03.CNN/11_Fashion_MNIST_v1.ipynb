{
  "nbformat": 4,
  "nbformat_minor": 0,
  "metadata": {
    "colab": {
      "name": "11_Fashion_MNIST_v1.ipynb",
      "provenance": []
    },
    "kernelspec": {
      "name": "python3",
      "display_name": "Python 3"
    },
    "language_info": {
      "name": "python"
    }
  },
  "cells": [
    {
      "cell_type": "markdown",
      "source": [
        "# Fashion MNIST 손글씨 - CNN v1\n",
        "\n",
        "\n",
        "\n",
        "- 2 x conv2D layers\n",
        "- 1 FCN layer\n",
        "- 1 Dropput\n",
        "- MaxPooling2D\n",
        "- l output layer"
      ],
      "metadata": {
        "id": "zoHWEFn_dzbh"
      }
    },
    {
      "cell_type": "code",
      "source": [
        "import numpy as np\n",
        "import pandas as pd\n",
        "import matplotlib.pyplot as plt\n",
        "import tensorflow as tf\n",
        "seed = 2022\n",
        "np.random.seed(seed)\n",
        "tf.random.set_seed(seed)"
      ],
      "metadata": {
        "id": "fPiV1_t_d-7k"
      },
      "execution_count": 1,
      "outputs": []
    },
    {
      "cell_type": "code",
      "source": [
        "from tensorflow.keras.datasets import fashion_mnist\n",
        "(X_train, Y_train), (X_test, Y_test) = fashion_mnist.load_data()\n",
        "X_train.shape"
      ],
      "metadata": {
        "colab": {
          "base_uri": "https://localhost:8080/"
        },
        "id": "9YvqvxYjeRD-",
        "outputId": "8251ecbd-f113-4590-ecdd-19d10d226961"
      },
      "execution_count": 6,
      "outputs": [
        {
          "output_type": "stream",
          "name": "stdout",
          "text": [
            "Downloading data from https://storage.googleapis.com/tensorflow/tf-keras-datasets/train-labels-idx1-ubyte.gz\n",
            "32768/29515 [=================================] - 0s 0us/step\n",
            "40960/29515 [=========================================] - 0s 1us/step\n",
            "Downloading data from https://storage.googleapis.com/tensorflow/tf-keras-datasets/train-images-idx3-ubyte.gz\n",
            "26427392/26421880 [==============================] - 0s 0us/step\n",
            "26435584/26421880 [==============================] - 0s 0us/step\n",
            "Downloading data from https://storage.googleapis.com/tensorflow/tf-keras-datasets/t10k-labels-idx1-ubyte.gz\n",
            "16384/5148 [===============================================================================================] - 0s 0us/step\n",
            "Downloading data from https://storage.googleapis.com/tensorflow/tf-keras-datasets/t10k-images-idx3-ubyte.gz\n",
            "4423680/4422102 [==============================] - 0s 0us/step\n",
            "4431872/4422102 [==============================] - 0s 0us/step\n"
          ]
        },
        {
          "output_type": "execute_result",
          "data": {
            "text/plain": [
              "(60000, 28, 28)"
            ]
          },
          "metadata": {},
          "execution_count": 6
        }
      ]
    },
    {
      "cell_type": "code",
      "source": [
        "plt.imshow(X_train[0], cmap='Greys')"
      ],
      "metadata": {
        "colab": {
          "base_uri": "https://localhost:8080/",
          "height": 282
        },
        "id": "DuwxmNz8zgKN",
        "outputId": "06137865-4cea-4fb0-a4ca-f46342d14f9d"
      },
      "execution_count": 7,
      "outputs": [
        {
          "output_type": "execute_result",
          "data": {
            "text/plain": [
              "<matplotlib.image.AxesImage at 0x7f791adbded0>"
            ]
          },
          "metadata": {},
          "execution_count": 7
        },
        {
          "output_type": "display_data",
          "data": {
            "text/plain": [
              "<Figure size 432x288 with 1 Axes>"
            ],
            "image/png": "[encoded data removed]"
          },
          "metadata": {
            "needs_background": "light"
          }
        }
      ]
    },
    {
      "cell_type": "code",
      "source": [
        "class_names = ['T-shirt/top', 'Trouser', 'Pullover', 'Dress', 'Coat',\n",
        "               'Sandal', 'Shirt', 'Sneaker', 'Bag', 'Ankle boot']\n"
      ],
      "metadata": {
        "id": "2CLyySGJzsaM"
      },
      "execution_count": 8,
      "outputs": []
    },
    {
      "cell_type": "code",
      "source": [
        "plt.figure(figsize=(13,5))\n",
        "for i in range(1,11):\n",
        "    plt.subplot(2, 5, i)\n",
        "    plt.imshow(X_train[i], cmap='Greys')\n",
        "    plt.title(class_names[Y_train[i]])\n",
        "    plt.xticks([]), plt.yticks([])\n",
        "plt.show()"
      ],
      "metadata": {
        "colab": {
          "base_uri": "https://localhost:8080/",
          "height": 322
        },
        "id": "L-Zy4CK9ztA5",
        "outputId": "3453b60a-84c0-4263-89e9-bb0c1e11ba06"
      },
      "execution_count": 12,
      "outputs": [
        {
          "output_type": "display_data",
          "data": {
            "text/plain": [
              "<Figure size 936x360 with 10 Axes>"
            ],
            "image/png": "[encoded data removed]"
          },
          "metadata": {}
        }
      ]
    },
    {
      "cell_type": "markdown",
      "source": [
        "- 데이터 전처리"
      ],
      "metadata": {
        "id": "cxRKmFJMfNTa"
      }
    },
    {
      "cell_type": "code",
      "source": [
        "# X_train, X_test 정규화(0~1), 이미지 차원 변경\n",
        "\n",
        "X_train = X_train.reshape(-1, 28, 28, 1) / 255.\n",
        "X_test = X_test.reshape(-1, 28, 28, 1) / 255.\n",
        "X_train.shape, X_test.shape"
      ],
      "metadata": {
        "colab": {
          "base_uri": "https://localhost:8080/"
        },
        "id": "bVpYUKEOeSMP",
        "outputId": "ec0861e0-7493-4cee-f77b-f8627b8f7a89"
      },
      "execution_count": 13,
      "outputs": [
        {
          "output_type": "execute_result",
          "data": {
            "text/plain": [
              "((60000, 28, 28, 1), (10000, 28, 28, 1))"
            ]
          },
          "metadata": {},
          "execution_count": 13
        }
      ]
    },
    {
      "cell_type": "code",
      "source": [
        "from tensorflow.keras.utils import to_categorical\n",
        "Y_train = to_categorical(Y_train)\n",
        "Y_test = to_categorical(Y_test)\n",
        "Y_train.shape, Y_test.shape"
      ],
      "metadata": {
        "colab": {
          "base_uri": "https://localhost:8080/"
        },
        "id": "DKb5R_oge485",
        "outputId": "0e49f9d9-643a-4c0a-c529-689d1560bf81"
      },
      "execution_count": 14,
      "outputs": [
        {
          "output_type": "execute_result",
          "data": {
            "text/plain": [
              "((60000, 10), (10000, 10))"
            ]
          },
          "metadata": {},
          "execution_count": 14
        }
      ]
    },
    {
      "cell_type": "markdown",
      "source": [
        " - 모델 정의 / 설정/ 학습 / 평가"
      ],
      "metadata": {
        "id": "owj6mswVfHcc"
      }
    },
    {
      "cell_type": "code",
      "source": [
        "from tensorflow.keras.models import Sequential, load_model\n",
        "from tensorflow.keras.layers import Dense, Conv2D, Flatten, MaxPooling2D, Dropout\n",
        "from tensorflow.keras.callbacks import ModelCheckpoint, EarlyStopping"
      ],
      "metadata": {
        "id": "slZpyfGnfRIc"
      },
      "execution_count": 26,
      "outputs": []
    },
    {
      "cell_type": "code",
      "source": [
        "model = Sequential([\n",
        "    Conv2D(32, kernel_size=(3,3), input_shape=(28,28,1), activation='relu'),\n",
        "    Conv2D(64, (3,3), activation='relu'),\n",
        "    MaxPooling2D(), # MaxPooling2D(poll_size=(2,2))\n",
        "    Dropout(0.25),\n",
        "    Flatten(),\n",
        "    Dense(512, activation='relu'),\n",
        "    Dropout(0.5),\n",
        "    Dense(10, activation='softmax')\n",
        "])\n",
        "\n",
        "model.summary()"
      ],
      "metadata": {
        "colab": {
          "base_uri": "https://localhost:8080/"
        },
        "id": "L04EG_6hf02-",
        "outputId": "6a09c51c-2922-4694-ca4c-b73298e16ed5"
      },
      "execution_count": 16,
      "outputs": [
        {
          "output_type": "stream",
          "name": "stdout",
          "text": [
            "Model: \"sequential\"\n",
            "_________________________________________________________________\n",
            " Layer (type)                Output Shape              Param #   \n",
            "=================================================================\n",
            " conv2d (Conv2D)             (None, 26, 26, 32)        320       \n",
            "                                                                 \n",
            " conv2d_1 (Conv2D)           (None, 24, 24, 64)        18496     \n",
            "                                                                 \n",
            " max_pooling2d (MaxPooling2D  (None, 12, 12, 64)       0         \n",
            " )                                                               \n",
            "                                                                 \n",
            " dropout (Dropout)           (None, 12, 12, 64)        0         \n",
            "                                                                 \n",
            " flatten (Flatten)           (None, 9216)              0         \n",
            "                                                                 \n",
            " dense (Dense)               (None, 512)               4719104   \n",
            "                                                                 \n",
            " dropout_1 (Dropout)         (None, 512)               0         \n",
            "                                                                 \n",
            " dense_1 (Dense)             (None, 10)                5130      \n",
            "                                                                 \n",
            "=================================================================\n",
            "Total params: 4,743,050\n",
            "Trainable params: 4,743,050\n",
            "Non-trainable params: 0\n",
            "_________________________________________________________________\n"
          ]
        }
      ]
    },
    {
      "cell_type": "code",
      "source": [
        "model.compile('adam', 'categorical_crossentropy', ['accuracy'])"
      ],
      "metadata": {
        "id": "A8LUMNNihbS5"
      },
      "execution_count": 17,
      "outputs": []
    },
    {
      "cell_type": "code",
      "source": [
        "model_path = 'best_fashion_mnist_cnn_v1.h5'\n",
        "mc = ModelCheckpoint(model_path, save_best_only=True, verbose=1)\n",
        "es = EarlyStopping(patience=10)"
      ],
      "metadata": {
        "id": "Kqi9ah75lSXs"
      },
      "execution_count": 18,
      "outputs": []
    },
    {
      "cell_type": "code",
      "source": [
        "hist1 = model.fit(X_train, Y_train, validation_split=0.2,\n",
        "          epochs=10000, batch_size=200,\n",
        "          callbacks = [mc,es])"
      ],
      "metadata": {
        "colab": {
          "base_uri": "https://localhost:8080/"
        },
        "id": "NPf9MGIZi3D6",
        "outputId": "236224ef-1ef8-4bbd-f474-d8ae7291bf9f"
      },
      "execution_count": 19,
      "outputs": [
        {
          "output_type": "stream",
          "name": "stdout",
          "text": [
            "Epoch 1/10000\n",
            "237/240 [============================>.] - ETA: 0s - loss: 0.5033 - accuracy: 0.8212\n",
            "Epoch 1: val_loss improved from inf to 0.32688, saving model to best_fashion_mnist_cnn_v1.h5\n",
            "240/240 [==============================] - 15s 15ms/step - loss: 0.5019 - accuracy: 0.8217 - val_loss: 0.3269 - val_accuracy: 0.8800\n",
            "Epoch 2/10000\n",
            "236/240 [============================>.] - ETA: 0s - loss: 0.3145 - accuracy: 0.8863\n",
            "Epoch 2: val_loss improved from 0.32688 to 0.27610, saving model to best_fashion_mnist_cnn_v1.h5\n",
            "240/240 [==============================] - 3s 14ms/step - loss: 0.3142 - accuracy: 0.8864 - val_loss: 0.2761 - val_accuracy: 0.8987\n",
            "Epoch 3/10000\n",
            "239/240 [============================>.] - ETA: 0s - loss: 0.2618 - accuracy: 0.9046\n",
            "Epoch 3: val_loss improved from 0.27610 to 0.23548, saving model to best_fashion_mnist_cnn_v1.h5\n",
            "240/240 [==============================] - 3s 14ms/step - loss: 0.2619 - accuracy: 0.9045 - val_loss: 0.2355 - val_accuracy: 0.9129\n",
            "Epoch 4/10000\n",
            "239/240 [============================>.] - ETA: 0s - loss: 0.2277 - accuracy: 0.9172\n",
            "Epoch 4: val_loss improved from 0.23548 to 0.23246, saving model to best_fashion_mnist_cnn_v1.h5\n",
            "240/240 [==============================] - 3s 14ms/step - loss: 0.2276 - accuracy: 0.9172 - val_loss: 0.2325 - val_accuracy: 0.9124\n",
            "Epoch 5/10000\n",
            "239/240 [============================>.] - ETA: 0s - loss: 0.2031 - accuracy: 0.9256\n",
            "Epoch 5: val_loss improved from 0.23246 to 0.23053, saving model to best_fashion_mnist_cnn_v1.h5\n",
            "240/240 [==============================] - 3s 14ms/step - loss: 0.2031 - accuracy: 0.9255 - val_loss: 0.2305 - val_accuracy: 0.9144\n",
            "Epoch 6/10000\n",
            "240/240 [==============================] - ETA: 0s - loss: 0.1821 - accuracy: 0.9336\n",
            "Epoch 6: val_loss improved from 0.23053 to 0.21441, saving model to best_fashion_mnist_cnn_v1.h5\n",
            "240/240 [==============================] - 3s 14ms/step - loss: 0.1821 - accuracy: 0.9336 - val_loss: 0.2144 - val_accuracy: 0.9221\n",
            "Epoch 7/10000\n",
            "240/240 [==============================] - ETA: 0s - loss: 0.1591 - accuracy: 0.9406\n",
            "Epoch 7: val_loss improved from 0.21441 to 0.20316, saving model to best_fashion_mnist_cnn_v1.h5\n",
            "240/240 [==============================] - 3s 14ms/step - loss: 0.1591 - accuracy: 0.9406 - val_loss: 0.2032 - val_accuracy: 0.9277\n",
            "Epoch 8/10000\n",
            "237/240 [============================>.] - ETA: 0s - loss: 0.1402 - accuracy: 0.9478\n",
            "Epoch 8: val_loss did not improve from 0.20316\n",
            "240/240 [==============================] - 3s 13ms/step - loss: 0.1409 - accuracy: 0.9476 - val_loss: 0.2066 - val_accuracy: 0.9275\n",
            "Epoch 9/10000\n",
            "240/240 [==============================] - ETA: 0s - loss: 0.1292 - accuracy: 0.9514\n",
            "Epoch 9: val_loss did not improve from 0.20316\n",
            "240/240 [==============================] - 3s 14ms/step - loss: 0.1292 - accuracy: 0.9514 - val_loss: 0.2135 - val_accuracy: 0.9261\n",
            "Epoch 10/10000\n",
            "236/240 [============================>.] - ETA: 0s - loss: 0.1107 - accuracy: 0.9584\n",
            "Epoch 10: val_loss did not improve from 0.20316\n",
            "240/240 [==============================] - 3s 14ms/step - loss: 0.1106 - accuracy: 0.9585 - val_loss: 0.2165 - val_accuracy: 0.9252\n",
            "Epoch 11/10000\n",
            "236/240 [============================>.] - ETA: 0s - loss: 0.0998 - accuracy: 0.9625\n",
            "Epoch 11: val_loss did not improve from 0.20316\n",
            "240/240 [==============================] - 3s 13ms/step - loss: 0.1000 - accuracy: 0.9624 - val_loss: 0.2118 - val_accuracy: 0.9304\n",
            "Epoch 12/10000\n",
            "239/240 [============================>.] - ETA: 0s - loss: 0.0889 - accuracy: 0.9667\n",
            "Epoch 12: val_loss did not improve from 0.20316\n",
            "240/240 [==============================] - 3s 13ms/step - loss: 0.0890 - accuracy: 0.9666 - val_loss: 0.2122 - val_accuracy: 0.9283\n",
            "Epoch 13/10000\n",
            "240/240 [==============================] - ETA: 0s - loss: 0.0789 - accuracy: 0.9715\n",
            "Epoch 13: val_loss did not improve from 0.20316\n",
            "240/240 [==============================] - 3s 13ms/step - loss: 0.0789 - accuracy: 0.9715 - val_loss: 0.2176 - val_accuracy: 0.9314\n",
            "Epoch 14/10000\n",
            "238/240 [============================>.] - ETA: 0s - loss: 0.0743 - accuracy: 0.9728\n",
            "Epoch 14: val_loss did not improve from 0.20316\n",
            "240/240 [==============================] - 3s 13ms/step - loss: 0.0742 - accuracy: 0.9729 - val_loss: 0.2246 - val_accuracy: 0.9317\n",
            "Epoch 15/10000\n",
            "238/240 [============================>.] - ETA: 0s - loss: 0.0675 - accuracy: 0.9758\n",
            "Epoch 15: val_loss did not improve from 0.20316\n",
            "240/240 [==============================] - 3s 13ms/step - loss: 0.0678 - accuracy: 0.9757 - val_loss: 0.2307 - val_accuracy: 0.9302\n",
            "Epoch 16/10000\n",
            "237/240 [============================>.] - ETA: 0s - loss: 0.0623 - accuracy: 0.9774\n",
            "Epoch 16: val_loss did not improve from 0.20316\n",
            "240/240 [==============================] - 3s 13ms/step - loss: 0.0624 - accuracy: 0.9773 - val_loss: 0.2389 - val_accuracy: 0.9302\n",
            "Epoch 17/10000\n",
            "240/240 [==============================] - ETA: 0s - loss: 0.0547 - accuracy: 0.9797\n",
            "Epoch 17: val_loss did not improve from 0.20316\n",
            "240/240 [==============================] - 3s 14ms/step - loss: 0.0547 - accuracy: 0.9797 - val_loss: 0.2378 - val_accuracy: 0.9306\n"
          ]
        }
      ]
    },
    {
      "cell_type": "code",
      "source": [
        "model.evaluate(X_test, Y_test)"
      ],
      "metadata": {
        "colab": {
          "base_uri": "https://localhost:8080/"
        },
        "id": "JBD0xowHllOK",
        "outputId": "e725f9f0-8948-4d2e-ace3-ee92dfac30a9"
      },
      "execution_count": 20,
      "outputs": [
        {
          "output_type": "stream",
          "name": "stdout",
          "text": [
            "313/313 [==============================] - 1s 4ms/step - loss: 0.2538 - accuracy: 0.9273\n"
          ]
        },
        {
          "output_type": "execute_result",
          "data": {
            "text/plain": [
              "[0.25378164649009705, 0.927299976348877]"
            ]
          },
          "metadata": {},
          "execution_count": 20
        }
      ]
    },
    {
      "cell_type": "code",
      "source": [
        "best_model = load_model(model_path)\n",
        "best_model.evaluate(X_test, Y_test)"
      ],
      "metadata": {
        "colab": {
          "base_uri": "https://localhost:8080/"
        },
        "id": "nPhVw0oY1Gk0",
        "outputId": "de2e5566-ced9-48a1-8eda-8d64ee969d6c"
      },
      "execution_count": 27,
      "outputs": [
        {
          "output_type": "stream",
          "name": "stdout",
          "text": [
            "313/313 [==============================] - 1s 3ms/step - loss: 0.2187 - accuracy: 0.9232\n"
          ]
        },
        {
          "output_type": "execute_result",
          "data": {
            "text/plain": [
              "[0.2186710685491562, 0.9232000112533569]"
            ]
          },
          "metadata": {},
          "execution_count": 27
        }
      ]
    },
    {
      "cell_type": "code",
      "source": [
        "model.summary()"
      ],
      "metadata": {
        "colab": {
          "base_uri": "https://localhost:8080/"
        },
        "id": "Mi236Ad4m4iO",
        "outputId": "706f4045-344b-4d91-8775-d1578907635b"
      },
      "execution_count": 21,
      "outputs": [
        {
          "output_type": "stream",
          "name": "stdout",
          "text": [
            "Model: \"sequential\"\n",
            "_________________________________________________________________\n",
            " Layer (type)                Output Shape              Param #   \n",
            "=================================================================\n",
            " conv2d (Conv2D)             (None, 26, 26, 32)        320       \n",
            "                                                                 \n",
            " conv2d_1 (Conv2D)           (None, 24, 24, 64)        18496     \n",
            "                                                                 \n",
            " max_pooling2d (MaxPooling2D  (None, 12, 12, 64)       0         \n",
            " )                                                               \n",
            "                                                                 \n",
            " dropout (Dropout)           (None, 12, 12, 64)        0         \n",
            "                                                                 \n",
            " flatten (Flatten)           (None, 9216)              0         \n",
            "                                                                 \n",
            " dense (Dense)               (None, 512)               4719104   \n",
            "                                                                 \n",
            " dropout_1 (Dropout)         (None, 512)               0         \n",
            "                                                                 \n",
            " dense_1 (Dense)             (None, 10)                5130      \n",
            "                                                                 \n",
            "=================================================================\n",
            "Total params: 4,743,050\n",
            "Trainable params: 4,743,050\n",
            "Non-trainable params: 0\n",
            "_________________________________________________________________\n"
          ]
        }
      ]
    },
    {
      "cell_type": "code",
      "source": [
        "y_acc1 = hist1.history['accuracy']\n",
        "y_vloss1 = hist1.history['val_loss']\n",
        "xs1 = np.arange(1, len(y_acc1) + 1)"
      ],
      "metadata": {
        "id": "RYVfDKKDnc1y"
      },
      "execution_count": 22,
      "outputs": []
    },
    {
      "cell_type": "code",
      "source": [
        "plt.figure(figsize=(20, 8))\n",
        "plt.plot(xs1, y_acc1, label='train.accuracy')\n",
        "plt.plot(xs1, y_vloss1, label='validation loss')\n",
        "plt.legend(), plt.grid()\n",
        "plt.ylim([0,1.2])\n",
        "plt.xlabel('Epoch')\n",
        "plt.show()"
      ],
      "metadata": {
        "colab": {
          "base_uri": "https://localhost:8080/",
          "height": 472
        },
        "id": "x86MBV2onftz",
        "outputId": "0436c6f8-0461-482c-9783-68295ecb83e8"
      },
      "execution_count": 23,
      "outputs": [
        {
          "output_type": "display_data",
          "data": {
            "text/plain": [
              "<Figure size 1440x576 with 1 Axes>"
            ],
            "image/png": "[encoded data removed]"
          },
          "metadata": {
            "needs_background": "light"
          }
        }
      ]
    },
    {
      "cell_type": "code",
      "source": [
        ""
      ],
      "metadata": {
        "id": "avCe8J_Xniyp"
      },
      "execution_count": null,
      "outputs": []
    }
  ]
}