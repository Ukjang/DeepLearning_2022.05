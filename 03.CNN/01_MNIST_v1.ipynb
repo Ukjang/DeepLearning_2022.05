{
  "nbformat": 4,
  "nbformat_minor": 0,
  "metadata": {
    "colab": {
      "name": "01_MNIST_v1.ipynb",
      "provenance": []
    },
    "kernelspec": {
      "name": "python3",
      "display_name": "Python 3"
    },
    "language_info": {
      "name": "python"
    },
    "accelerator": "GPU"
  },
  "cells": [
    {
      "cell_type": "markdown",
      "source": [
        "# MNIST 손글씨 - CNN v1\n",
        "- 2 x conv2D layers\n",
        "- 1 FCN layer\n",
        "- l output layer"
      ],
      "metadata": {
        "id": "zoHWEFn_dzbh"
      }
    },
    {
      "cell_type": "code",
      "source": [
        "import numpy as np\n",
        "import pandas as pd\n",
        "import matplotlib.pyplot as plt\n",
        "import tensorflow as tf\n",
        "seed = 2022\n",
        "np.random.seed(seed)\n",
        "tf.random.set_seed(seed)"
      ],
      "metadata": {
        "id": "fPiV1_t_d-7k"
      },
      "execution_count": 12,
      "outputs": []
    },
    {
      "cell_type": "code",
      "source": [
        "from tensorflow.keras.datasets import mnist\n",
        "(X_train, Y_train), (X_test, Y_test) = mnist.load_data()\n",
        "X_train.shape"
      ],
      "metadata": {
        "colab": {
          "base_uri": "https://localhost:8080/"
        },
        "id": "9YvqvxYjeRD-",
        "outputId": "22f3cd5e-4bd4-4bdd-c42f-d5c562b18ced"
      },
      "execution_count": 13,
      "outputs": [
        {
          "output_type": "execute_result",
          "data": {
            "text/plain": [
              "(60000, 28, 28)"
            ]
          },
          "metadata": {},
          "execution_count": 13
        }
      ]
    },
    {
      "cell_type": "markdown",
      "source": [
        "- 데이터 전처리"
      ],
      "metadata": {
        "id": "cxRKmFJMfNTa"
      }
    },
    {
      "cell_type": "code",
      "source": [
        "# X_train, X_test 정규화(0~1), 이미지 차원 변경\n",
        "\n",
        "X_train = X_train.reshape(-1, 28, 28, 1) / 255.\n",
        "X_test = X_test.reshape(-1, 28, 28, 1) / 255.\n",
        "X_train.shape, X_test.shape"
      ],
      "metadata": {
        "colab": {
          "base_uri": "https://localhost:8080/"
        },
        "id": "bVpYUKEOeSMP",
        "outputId": "e3df123b-d129-4cd0-ee2a-5a3ceb5008c3"
      },
      "execution_count": 14,
      "outputs": [
        {
          "output_type": "execute_result",
          "data": {
            "text/plain": [
              "((60000, 28, 28, 1), (10000, 28, 28, 1))"
            ]
          },
          "metadata": {},
          "execution_count": 14
        }
      ]
    },
    {
      "cell_type": "code",
      "source": [
        "from tensorflow.keras.utils import to_categorical\n",
        "Y_train = to_categorical(Y_train)\n",
        "Y_test = to_categorical(Y_test)\n",
        "Y_train.shape, Y_test.shape"
      ],
      "metadata": {
        "colab": {
          "base_uri": "https://localhost:8080/"
        },
        "id": "DKb5R_oge485",
        "outputId": "33ae19f0-8452-4f3f-eb9d-98ca347b6a10"
      },
      "execution_count": 15,
      "outputs": [
        {
          "output_type": "execute_result",
          "data": {
            "text/plain": [
              "((60000, 10), (10000, 10))"
            ]
          },
          "metadata": {},
          "execution_count": 15
        }
      ]
    },
    {
      "cell_type": "markdown",
      "source": [
        " - 모델 정의 / 설정/ 학습 / 평가"
      ],
      "metadata": {
        "id": "owj6mswVfHcc"
      }
    },
    {
      "cell_type": "code",
      "source": [
        "from tensorflow.keras.models import Sequential\n",
        "from tensorflow.keras.layers import Dense, Conv2D, Flatten\n",
        "from tensorflow.keras.callbacks import ModelCheckpoint, EarlyStopping"
      ],
      "metadata": {
        "id": "slZpyfGnfRIc"
      },
      "execution_count": 16,
      "outputs": []
    },
    {
      "cell_type": "code",
      "source": [
        "model = Sequential([\n",
        "    Conv2D(32, kernel_size=(3,3), input_shape=(28,28,1), activation='relu'),\n",
        "    Conv2D(64, (3,3), activation='relu'),\n",
        "    Flatten(),\n",
        "    Dense(512, activation='relu'),\n",
        "    Dense(10, activation='softmax')\n",
        "])\n",
        "\n",
        "model.summary()"
      ],
      "metadata": {
        "colab": {
          "base_uri": "https://localhost:8080/"
        },
        "id": "L04EG_6hf02-",
        "outputId": "13ce1e4a-e69c-4048-dd1b-2075698f63f9"
      },
      "execution_count": 17,
      "outputs": [
        {
          "output_type": "stream",
          "name": "stdout",
          "text": [
            "Model: \"sequential_1\"\n",
            "_________________________________________________________________\n",
            " Layer (type)                Output Shape              Param #   \n",
            "=================================================================\n",
            " conv2d_2 (Conv2D)           (None, 26, 26, 32)        320       \n",
            "                                                                 \n",
            " conv2d_3 (Conv2D)           (None, 24, 24, 64)        18496     \n",
            "                                                                 \n",
            " flatten_1 (Flatten)         (None, 36864)             0         \n",
            "                                                                 \n",
            " dense_2 (Dense)             (None, 512)               18874880  \n",
            "                                                                 \n",
            " dense_3 (Dense)             (None, 10)                5130      \n",
            "                                                                 \n",
            "=================================================================\n",
            "Total params: 18,898,826\n",
            "Trainable params: 18,898,826\n",
            "Non-trainable params: 0\n",
            "_________________________________________________________________\n"
          ]
        }
      ]
    },
    {
      "cell_type": "code",
      "source": [
        "model.compile('adam', 'categorical_crossentropy', ['accuracy'])"
      ],
      "metadata": {
        "id": "A8LUMNNihbS5"
      },
      "execution_count": 18,
      "outputs": []
    },
    {
      "cell_type": "code",
      "source": [
        "model_path = 'best_mnist_cnn_v1.h5'\n",
        "mc = ModelCheckpoint(model_path, save_best_only=True, verbose=1)\n",
        "es = EarlyStopping(patience=10)"
      ],
      "metadata": {
        "id": "Kqi9ah75lSXs"
      },
      "execution_count": 19,
      "outputs": []
    },
    {
      "cell_type": "code",
      "source": [
        "hist1 = model.fit(X_train, Y_train, validation_split=0.2,\n",
        "          epochs=10000, batch_size=200,\n",
        "          callbacks = [mc,es])"
      ],
      "metadata": {
        "colab": {
          "base_uri": "https://localhost:8080/"
        },
        "id": "NPf9MGIZi3D6",
        "outputId": "ca8ea5fe-56a8-49a1-c33a-093fa05bc37a"
      },
      "execution_count": 20,
      "outputs": [
        {
          "output_type": "stream",
          "name": "stdout",
          "text": [
            "Epoch 1/10000\n",
            "238/240 [============================>.] - ETA: 0s - loss: 0.1528 - accuracy: 0.9530\n",
            "Epoch 1: val_loss improved from inf to 0.05601, saving model to best_mnist_cnn_v1.h5\n",
            "240/240 [==============================] - 7s 26ms/step - loss: 0.1520 - accuracy: 0.9532 - val_loss: 0.0560 - val_accuracy: 0.9836\n",
            "Epoch 2/10000\n",
            "240/240 [==============================] - ETA: 0s - loss: 0.0351 - accuracy: 0.9891\n",
            "Epoch 2: val_loss improved from 0.05601 to 0.05528, saving model to best_mnist_cnn_v1.h5\n",
            "240/240 [==============================] - 6s 26ms/step - loss: 0.0351 - accuracy: 0.9891 - val_loss: 0.0553 - val_accuracy: 0.9847\n",
            "Epoch 3/10000\n",
            "238/240 [============================>.] - ETA: 0s - loss: 0.0177 - accuracy: 0.9945\n",
            "Epoch 3: val_loss improved from 0.05528 to 0.04583, saving model to best_mnist_cnn_v1.h5\n",
            "240/240 [==============================] - 5s 22ms/step - loss: 0.0176 - accuracy: 0.9945 - val_loss: 0.0458 - val_accuracy: 0.9867\n",
            "Epoch 4/10000\n",
            "238/240 [============================>.] - ETA: 0s - loss: 0.0104 - accuracy: 0.9968\n",
            "Epoch 4: val_loss did not improve from 0.04583\n",
            "240/240 [==============================] - 5s 20ms/step - loss: 0.0103 - accuracy: 0.9968 - val_loss: 0.0467 - val_accuracy: 0.9877\n",
            "Epoch 5/10000\n",
            "238/240 [============================>.] - ETA: 0s - loss: 0.0067 - accuracy: 0.9981\n",
            "Epoch 5: val_loss did not improve from 0.04583\n",
            "240/240 [==============================] - 5s 21ms/step - loss: 0.0067 - accuracy: 0.9980 - val_loss: 0.0581 - val_accuracy: 0.9860\n",
            "Epoch 6/10000\n",
            "238/240 [============================>.] - ETA: 0s - loss: 0.0061 - accuracy: 0.9981\n",
            "Epoch 6: val_loss did not improve from 0.04583\n",
            "240/240 [==============================] - 5s 20ms/step - loss: 0.0061 - accuracy: 0.9981 - val_loss: 0.0514 - val_accuracy: 0.9876\n",
            "Epoch 7/10000\n",
            "238/240 [============================>.] - ETA: 0s - loss: 0.0051 - accuracy: 0.9984\n",
            "Epoch 7: val_loss did not improve from 0.04583\n",
            "240/240 [==============================] - 5s 21ms/step - loss: 0.0051 - accuracy: 0.9984 - val_loss: 0.0531 - val_accuracy: 0.9883\n",
            "Epoch 8/10000\n",
            "238/240 [============================>.] - ETA: 0s - loss: 0.0050 - accuracy: 0.9982\n",
            "Epoch 8: val_loss did not improve from 0.04583\n",
            "240/240 [==============================] - 5s 21ms/step - loss: 0.0050 - accuracy: 0.9982 - val_loss: 0.0548 - val_accuracy: 0.9882\n",
            "Epoch 9/10000\n",
            "238/240 [============================>.] - ETA: 0s - loss: 0.0030 - accuracy: 0.9991\n",
            "Epoch 9: val_loss did not improve from 0.04583\n",
            "240/240 [==============================] - 5s 20ms/step - loss: 0.0030 - accuracy: 0.9991 - val_loss: 0.0513 - val_accuracy: 0.9895\n",
            "Epoch 10/10000\n",
            "238/240 [============================>.] - ETA: 0s - loss: 0.0030 - accuracy: 0.9991\n",
            "Epoch 10: val_loss did not improve from 0.04583\n",
            "240/240 [==============================] - 5s 21ms/step - loss: 0.0031 - accuracy: 0.9990 - val_loss: 0.0596 - val_accuracy: 0.9877\n",
            "Epoch 11/10000\n",
            "238/240 [============================>.] - ETA: 0s - loss: 0.0052 - accuracy: 0.9982\n",
            "Epoch 11: val_loss did not improve from 0.04583\n",
            "240/240 [==============================] - 5s 20ms/step - loss: 0.0052 - accuracy: 0.9982 - val_loss: 0.0568 - val_accuracy: 0.9883\n",
            "Epoch 12/10000\n",
            "238/240 [============================>.] - ETA: 0s - loss: 0.0019 - accuracy: 0.9994\n",
            "Epoch 12: val_loss did not improve from 0.04583\n",
            "240/240 [==============================] - 5s 20ms/step - loss: 0.0019 - accuracy: 0.9994 - val_loss: 0.0577 - val_accuracy: 0.9894\n",
            "Epoch 13/10000\n",
            "238/240 [============================>.] - ETA: 0s - loss: 0.0028 - accuracy: 0.9991\n",
            "Epoch 13: val_loss did not improve from 0.04583\n",
            "240/240 [==============================] - 5s 20ms/step - loss: 0.0028 - accuracy: 0.9991 - val_loss: 0.0692 - val_accuracy: 0.9876\n"
          ]
        }
      ]
    },
    {
      "cell_type": "code",
      "source": [
        "model.evaluate(X_test, Y_test)"
      ],
      "metadata": {
        "colab": {
          "base_uri": "https://localhost:8080/"
        },
        "id": "JBD0xowHllOK",
        "outputId": "63a55482-7487-40ef-8771-016c4e86406f"
      },
      "execution_count": 21,
      "outputs": [
        {
          "output_type": "stream",
          "name": "stdout",
          "text": [
            "313/313 [==============================] - 1s 4ms/step - loss: 0.0552 - accuracy: 0.9872\n"
          ]
        },
        {
          "output_type": "execute_result",
          "data": {
            "text/plain": [
              "[0.05524921789765358, 0.9872000217437744]"
            ]
          },
          "metadata": {},
          "execution_count": 21
        }
      ]
    },
    {
      "cell_type": "code",
      "source": [
        "model.summary()"
      ],
      "metadata": {
        "colab": {
          "base_uri": "https://localhost:8080/"
        },
        "id": "Mi236Ad4m4iO",
        "outputId": "8b1574b0-aa65-41c1-a41c-ed948d6616cd"
      },
      "execution_count": 22,
      "outputs": [
        {
          "output_type": "stream",
          "name": "stdout",
          "text": [
            "Model: \"sequential_1\"\n",
            "_________________________________________________________________\n",
            " Layer (type)                Output Shape              Param #   \n",
            "=================================================================\n",
            " conv2d_2 (Conv2D)           (None, 26, 26, 32)        320       \n",
            "                                                                 \n",
            " conv2d_3 (Conv2D)           (None, 24, 24, 64)        18496     \n",
            "                                                                 \n",
            " flatten_1 (Flatten)         (None, 36864)             0         \n",
            "                                                                 \n",
            " dense_2 (Dense)             (None, 512)               18874880  \n",
            "                                                                 \n",
            " dense_3 (Dense)             (None, 10)                5130      \n",
            "                                                                 \n",
            "=================================================================\n",
            "Total params: 18,898,826\n",
            "Trainable params: 18,898,826\n",
            "Non-trainable params: 0\n",
            "_________________________________________________________________\n"
          ]
        }
      ]
    },
    {
      "cell_type": "code",
      "source": [
        "y_acc1 = hist1.history['accuracy']\n",
        "y_vloss1 = hist1.history['val_loss']\n",
        "xs1 = np.arange(1, len(y_acc1) + 1)"
      ],
      "metadata": {
        "id": "RYVfDKKDnc1y"
      },
      "execution_count": 23,
      "outputs": []
    },
    {
      "cell_type": "code",
      "source": [
        "plt.figure(figsize=(20, 8))\n",
        "plt.plot(xs1, y_acc1, label='train.accuracy')\n",
        "plt.plot(xs1, y_vloss1, label='validation loss')\n",
        "plt.legend(), plt.grid()\n",
        "plt.ylim([0,1.2])\n",
        "plt.xlabel('Epoch')\n",
        "plt.show()"
      ],
      "metadata": {
        "colab": {
          "base_uri": "https://localhost:8080/",
          "height": 290
        },
        "id": "x86MBV2onftz",
        "outputId": "3b90a8fc-f69f-407f-f3b5-1fa2d1989624"
      },
      "execution_count": 24,
      "outputs": [
        {
          "output_type": "display_data",
          "data": {
            "text/plain": [
              "<Figure size 1440x576 with 1 Axes>"
            ],
            "image/png": "[encoded data removed]"
          },
          "metadata": {
            "needs_background": "light"
          }
        }
      ]
    },
    {
      "cell_type": "code",
      "source": [
        ""
      ],
      "metadata": {
        "id": "avCe8J_Xniyp"
      },
      "execution_count": 24,
      "outputs": []
    }
  ]
}