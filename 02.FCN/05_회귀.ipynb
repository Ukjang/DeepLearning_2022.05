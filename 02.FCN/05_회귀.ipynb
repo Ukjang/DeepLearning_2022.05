{
  "nbformat": 4,
  "nbformat_minor": 0,
  "metadata": {
    "colab": {
      "name": "05_회귀.ipynb",
      "provenance": []
    },
    "kernelspec": {
      "name": "python3",
      "display_name": "Python 3"
    },
    "language_info": {
      "name": "python"
    }
  },
  "cells": [
    {
      "cell_type": "markdown",
      "source": [
        "회귀 - 캘리포니아 하우징"
      ],
      "metadata": {
        "id": "hxmdyaMHb82Q"
      }
    },
    {
      "cell_type": "code",
      "source": [
        "import numpy as np\n",
        "import pandas as pd\n",
        "import matplotlib.pyplot as plt\n",
        "import tensorflow as tf\n",
        "seed = 2022\n",
        "np.random.seed(seed)\n",
        "tf.random.set_seed(seed)"
      ],
      "metadata": {
        "id": "wPENn2cicCi3"
      },
      "execution_count": 1,
      "outputs": []
    },
    {
      "cell_type": "code",
      "source": [
        "from sklearn.datasets import fetch_california_housing\n",
        "house = fetch_california_housing()"
      ],
      "metadata": {
        "id": "YS76xqyMcHwi"
      },
      "execution_count": 2,
      "outputs": []
    },
    {
      "cell_type": "code",
      "source": [
        "df = pd.DataFrame(house.data, columns = house.feature_names)\n",
        "df['target'] = house.target\n",
        "df.head()"
      ],
      "metadata": {
        "colab": {
          "base_uri": "https://localhost:8080/",
          "height": 206
        },
        "id": "c_DCPJwpcVsy",
        "outputId": "6e4a1270-c195-440b-917c-b00ad9bf635a"
      },
      "execution_count": 3,
      "outputs": [
        {
          "output_type": "execute_result",
          "data": {
            "text/plain": [
              "   MedInc  HouseAge  AveRooms  AveBedrms  Population  AveOccup  Latitude  \\\n",
              "0  8.3252      41.0  6.984127   1.023810       322.0  2.555556     37.88   \n",
              "1  8.3014      21.0  6.238137   0.971880      2401.0  2.109842     37.86   \n",
              "2  7.2574      52.0  8.288136   1.073446       496.0  2.802260     37.85   \n",
              "3  5.6431      52.0  5.817352   1.073059       558.0  2.547945     37.85   \n",
              "4  3.8462      52.0  6.281853   1.081081       565.0  2.181467     37.85   \n",
              "\n",
              "   Longitude  target  \n",
              "0    -122.23   4.526  \n",
              "1    -122.22   3.585  \n",
              "2    -122.24   3.521  \n",
              "3    -122.25   3.413  \n",
              "4    -122.25   3.422  "
            ],
            "text/html": [
              "\n",
              "  <div id=\"df-33780440-8c5d-4fa8-bd95-510918e03d7f\">\n",
              "    <div class=\"colab-df-container\">\n",
              "      <div>\n",
              "<style scoped>\n",
              "    .dataframe tbody tr th:only-of-type {\n",
              "        vertical-align: middle;\n",
              "    }\n",
              "\n",
              "    .dataframe tbody tr th {\n",
              "        vertical-align: top;\n",
              "    }\n",
              "\n",
              "    .dataframe thead th {\n",
              "        text-align: right;\n",
              "    }\n",
              "</style>\n",
              "<table border=\"1\" class=\"dataframe\">\n",
              "  <thead>\n",
              "    <tr style=\"text-align: right;\">\n",
              "      <th></th>\n",
              "      <th>MedInc</th>\n",
              "      <th>HouseAge</th>\n",
              "      <th>AveRooms</th>\n",
              "      <th>AveBedrms</th>\n",
              "      <th>Population</th>\n",
              "      <th>AveOccup</th>\n",
              "      <th>Latitude</th>\n",
              "      <th>Longitude</th>\n",
              "      <th>target</th>\n",
              "    </tr>\n",
              "  </thead>\n",
              "  <tbody>\n",
              "    <tr>\n",
              "      <th>0</th>\n",
              "      <td>8.3252</td>\n",
              "      <td>41.0</td>\n",
              "      <td>6.984127</td>\n",
              "      <td>1.023810</td>\n",
              "      <td>322.0</td>\n",
              "      <td>2.555556</td>\n",
              "      <td>37.88</td>\n",
              "      <td>-122.23</td>\n",
              "      <td>4.526</td>\n",
              "    </tr>\n",
              "    <tr>\n",
              "      <th>1</th>\n",
              "      <td>8.3014</td>\n",
              "      <td>21.0</td>\n",
              "      <td>6.238137</td>\n",
              "      <td>0.971880</td>\n",
              "      <td>2401.0</td>\n",
              "      <td>2.109842</td>\n",
              "      <td>37.86</td>\n",
              "      <td>-122.22</td>\n",
              "      <td>3.585</td>\n",
              "    </tr>\n",
              "    <tr>\n",
              "      <th>2</th>\n",
              "      <td>7.2574</td>\n",
              "      <td>52.0</td>\n",
              "      <td>8.288136</td>\n",
              "      <td>1.073446</td>\n",
              "      <td>496.0</td>\n",
              "      <td>2.802260</td>\n",
              "      <td>37.85</td>\n",
              "      <td>-122.24</td>\n",
              "      <td>3.521</td>\n",
              "    </tr>\n",
              "    <tr>\n",
              "      <th>3</th>\n",
              "      <td>5.6431</td>\n",
              "      <td>52.0</td>\n",
              "      <td>5.817352</td>\n",
              "      <td>1.073059</td>\n",
              "      <td>558.0</td>\n",
              "      <td>2.547945</td>\n",
              "      <td>37.85</td>\n",
              "      <td>-122.25</td>\n",
              "      <td>3.413</td>\n",
              "    </tr>\n",
              "    <tr>\n",
              "      <th>4</th>\n",
              "      <td>3.8462</td>\n",
              "      <td>52.0</td>\n",
              "      <td>6.281853</td>\n",
              "      <td>1.081081</td>\n",
              "      <td>565.0</td>\n",
              "      <td>2.181467</td>\n",
              "      <td>37.85</td>\n",
              "      <td>-122.25</td>\n",
              "      <td>3.422</td>\n",
              "    </tr>\n",
              "  </tbody>\n",
              "</table>\n",
              "</div>\n",
              "      <button class=\"colab-df-convert\" onclick=\"convertToInteractive('df-33780440-8c5d-4fa8-bd95-510918e03d7f')\"\n",
              "              title=\"Convert this dataframe to an interactive table.\"\n",
              "              style=\"display:none;\">\n",
              "        \n",
              "  <svg xmlns=\"http://www.w3.org/2000/svg\" height=\"24px\"viewBox=\"0 0 24 24\"\n",
              "       width=\"24px\">\n",
              "    <path d=\"M0 0h24v24H0V0z\" fill=\"none\"/>\n",
              "    <path d=\"M18.56 5.44l.94 2.06.94-2.06 2.06-.94-2.06-.94-.94-2.06-.94 2.06-2.06.94zm-11 1L8.5 8.5l.94-2.06 2.06-.94-2.06-.94L8.5 2.5l-.94 2.06-2.06.94zm10 10l.94 2.06.94-2.06 2.06-.94-2.06-.94-.94-2.06-.94 2.06-2.06.94z\"/><path d=\"M17.41 7.96l-1.37-1.37c-.4-.4-.92-.59-1.43-.59-.52 0-1.04.2-1.43.59L10.3 9.45l-7.72 7.72c-.78.78-.78 2.05 0 2.83L4 21.41c.39.39.9.59 1.41.59.51 0 1.02-.2 1.41-.59l7.78-7.78 2.81-2.81c.8-.78.8-2.07 0-2.86zM5.41 20L4 18.59l7.72-7.72 1.47 1.35L5.41 20z\"/>\n",
              "  </svg>\n",
              "      </button>\n",
              "      \n",
              "  <style>\n",
              "    .colab-df-container {\n",
              "      display:flex;\n",
              "      flex-wrap:wrap;\n",
              "      gap: 12px;\n",
              "    }\n",
              "\n",
              "    .colab-df-convert {\n",
              "      background-color: #E8F0FE;\n",
              "      border: none;\n",
              "      border-radius: 50%;\n",
              "      cursor: pointer;\n",
              "      display: none;\n",
              "      fill: #1967D2;\n",
              "      height: 32px;\n",
              "      padding: 0 0 0 0;\n",
              "      width: 32px;\n",
              "    }\n",
              "\n",
              "    .colab-df-convert:hover {\n",
              "      background-color: #E2EBFA;\n",
              "      box-shadow: 0px 1px 2px rgba(60, 64, 67, 0.3), 0px 1px 3px 1px rgba(60, 64, 67, 0.15);\n",
              "      fill: #174EA6;\n",
              "    }\n",
              "\n",
              "    [theme=dark] .colab-df-convert {\n",
              "      background-color: #3B4455;\n",
              "      fill: #D2E3FC;\n",
              "    }\n",
              "\n",
              "    [theme=dark] .colab-df-convert:hover {\n",
              "      background-color: #434B5C;\n",
              "      box-shadow: 0px 1px 3px 1px rgba(0, 0, 0, 0.15);\n",
              "      filter: drop-shadow(0px 1px 2px rgba(0, 0, 0, 0.3));\n",
              "      fill: #FFFFFF;\n",
              "    }\n",
              "  </style>\n",
              "\n",
              "      <script>\n",
              "        const buttonEl =\n",
              "          document.querySelector('#df-33780440-8c5d-4fa8-bd95-510918e03d7f button.colab-df-convert');\n",
              "        buttonEl.style.display =\n",
              "          google.colab.kernel.accessAllowed ? 'block' : 'none';\n",
              "\n",
              "        async function convertToInteractive(key) {\n",
              "          const element = document.querySelector('#df-33780440-8c5d-4fa8-bd95-510918e03d7f');\n",
              "          const dataTable =\n",
              "            await google.colab.kernel.invokeFunction('convertToInteractive',\n",
              "                                                     [key], {});\n",
              "          if (!dataTable) return;\n",
              "\n",
              "          const docLinkHtml = 'Like what you see? Visit the ' +\n",
              "            '<a target=\"_blank\" href=https://colab.research.google.com/notebooks/data_table.ipynb>data table notebook</a>'\n",
              "            + ' to learn more about interactive tables.';\n",
              "          element.innerHTML = '';\n",
              "          dataTable['output_type'] = 'display_data';\n",
              "          await google.colab.output.renderOutput(dataTable, element);\n",
              "          const docLink = document.createElement('div');\n",
              "          docLink.innerHTML = docLinkHtml;\n",
              "          element.appendChild(docLink);\n",
              "        }\n",
              "      </script>\n",
              "    </div>\n",
              "  </div>\n",
              "  "
            ]
          },
          "metadata": {},
          "execution_count": 3
        }
      ]
    },
    {
      "cell_type": "code",
      "source": [
        "df.shape"
      ],
      "metadata": {
        "colab": {
          "base_uri": "https://localhost:8080/"
        },
        "id": "4hMazbpNcdTD",
        "outputId": "f1b68c9b-a74f-461a-875e-79838b68ebea"
      },
      "execution_count": 4,
      "outputs": [
        {
          "output_type": "execute_result",
          "data": {
            "text/plain": [
              "(20640, 9)"
            ]
          },
          "metadata": {},
          "execution_count": 4
        }
      ]
    },
    {
      "cell_type": "code",
      "source": [
        "from sklearn.model_selection import train_test_split\n",
        "\n",
        "X_train, X_test, y_train, y_test = train_test_split(\n",
        "    house.data, house.target, test_size=0.1, random_state=seed\n",
        ")"
      ],
      "metadata": {
        "id": "NbZ70v6ddEPM"
      },
      "execution_count": 6,
      "outputs": []
    },
    {
      "cell_type": "code",
      "source": [
        "from tensorflow.keras.models import Sequential\n",
        "from tensorflow.keras.layers import Dense\n",
        "\n",
        "model = Sequential([\n",
        "    Dense(20, input_dim=8, activation='relu'),\n",
        "    Dense(8, activation='relu'),\n",
        "    Dense(1),   # 회귀에서는 출력층에 활성화 함수 사용 X\n",
        "\n",
        "])"
      ],
      "metadata": {
        "id": "PmjzXm8gdS-0"
      },
      "execution_count": 8,
      "outputs": []
    },
    {
      "cell_type": "code",
      "source": [
        "model.compile('rmsprop', 'mean_squared_error')  # 회귀에서는 metrics 사용하지 않음"
      ],
      "metadata": {
        "id": "_hFaJXFwd3ap"
      },
      "execution_count": 9,
      "outputs": []
    },
    {
      "cell_type": "code",
      "source": [
        "hist1 = model.fit(X_train, y_train, validation_split=0.1,\n",
        "                  epochs=100, batch_size=256)"
      ],
      "metadata": {
        "colab": {
          "base_uri": "https://localhost:8080/"
        },
        "id": "3vsv72T_eZsZ",
        "outputId": "d68b184e-c535-4867-fddf-f1d8cd4b2b2e"
      },
      "execution_count": 11,
      "outputs": [
        {
          "output_type": "stream",
          "name": "stdout",
          "text": [
            "Epoch 1/100\n",
            "66/66 [==============================] - 0s 3ms/step - loss: 14.9843 - val_loss: 29.1249\n",
            "Epoch 2/100\n",
            "66/66 [==============================] - 0s 4ms/step - loss: 12.7390 - val_loss: 7.6283\n",
            "Epoch 3/100\n",
            "66/66 [==============================] - 0s 4ms/step - loss: 14.2678 - val_loss: 5.8920\n",
            "Epoch 4/100\n",
            "66/66 [==============================] - 0s 4ms/step - loss: 14.2939 - val_loss: 1.1102\n",
            "Epoch 5/100\n",
            "66/66 [==============================] - 0s 4ms/step - loss: 12.5139 - val_loss: 0.7231\n",
            "Epoch 6/100\n",
            "66/66 [==============================] - 0s 3ms/step - loss: 16.9404 - val_loss: 0.7059\n",
            "Epoch 7/100\n",
            "66/66 [==============================] - 0s 4ms/step - loss: 12.0525 - val_loss: 0.7116\n",
            "Epoch 8/100\n",
            "66/66 [==============================] - 0s 4ms/step - loss: 13.4763 - val_loss: 0.6939\n",
            "Epoch 9/100\n",
            "66/66 [==============================] - 0s 5ms/step - loss: 12.7016 - val_loss: 55.2430\n",
            "Epoch 10/100\n",
            "66/66 [==============================] - 0s 4ms/step - loss: 13.5291 - val_loss: 7.8515\n",
            "Epoch 11/100\n",
            "66/66 [==============================] - 0s 5ms/step - loss: 13.2385 - val_loss: 13.6577\n",
            "Epoch 12/100\n",
            "66/66 [==============================] - 0s 4ms/step - loss: 12.8529 - val_loss: 0.7030\n",
            "Epoch 13/100\n",
            "66/66 [==============================] - 0s 5ms/step - loss: 11.4945 - val_loss: 10.8598\n",
            "Epoch 14/100\n",
            "66/66 [==============================] - 0s 5ms/step - loss: 14.1959 - val_loss: 1.2197\n",
            "Epoch 15/100\n",
            "66/66 [==============================] - 0s 4ms/step - loss: 13.2085 - val_loss: 0.9111\n",
            "Epoch 16/100\n",
            "66/66 [==============================] - 0s 4ms/step - loss: 12.6953 - val_loss: 12.5152\n",
            "Epoch 17/100\n",
            "66/66 [==============================] - 0s 4ms/step - loss: 13.0555 - val_loss: 7.5436\n",
            "Epoch 18/100\n",
            "66/66 [==============================] - 0s 4ms/step - loss: 12.7968 - val_loss: 4.3174\n",
            "Epoch 19/100\n",
            "66/66 [==============================] - 0s 4ms/step - loss: 14.1740 - val_loss: 0.6898\n",
            "Epoch 20/100\n",
            "66/66 [==============================] - 0s 4ms/step - loss: 11.6412 - val_loss: 0.8447\n",
            "Epoch 21/100\n",
            "66/66 [==============================] - 0s 4ms/step - loss: 12.2199 - val_loss: 4.7942\n",
            "Epoch 22/100\n",
            "66/66 [==============================] - 0s 5ms/step - loss: 12.6695 - val_loss: 7.4109\n",
            "Epoch 23/100\n",
            "66/66 [==============================] - 0s 4ms/step - loss: 12.8683 - val_loss: 0.9945\n",
            "Epoch 24/100\n",
            "66/66 [==============================] - 0s 4ms/step - loss: 12.0437 - val_loss: 3.1000\n",
            "Epoch 25/100\n",
            "66/66 [==============================] - 0s 3ms/step - loss: 11.3242 - val_loss: 10.3405\n",
            "Epoch 26/100\n",
            "66/66 [==============================] - 0s 4ms/step - loss: 12.9232 - val_loss: 9.8996\n",
            "Epoch 27/100\n",
            "66/66 [==============================] - 0s 4ms/step - loss: 13.1855 - val_loss: 0.9494\n",
            "Epoch 28/100\n",
            "66/66 [==============================] - 0s 4ms/step - loss: 11.5456 - val_loss: 0.7799\n",
            "Epoch 29/100\n",
            "66/66 [==============================] - 0s 4ms/step - loss: 13.1640 - val_loss: 0.6988\n",
            "Epoch 30/100\n",
            "66/66 [==============================] - 0s 4ms/step - loss: 10.6852 - val_loss: 16.0350\n",
            "Epoch 31/100\n",
            "66/66 [==============================] - 0s 4ms/step - loss: 11.6464 - val_loss: 52.6159\n",
            "Epoch 32/100\n",
            "66/66 [==============================] - 0s 4ms/step - loss: 11.7283 - val_loss: 0.9285\n",
            "Epoch 33/100\n",
            "66/66 [==============================] - 0s 5ms/step - loss: 12.2136 - val_loss: 0.7007\n",
            "Epoch 34/100\n",
            "66/66 [==============================] - 0s 4ms/step - loss: 12.1269 - val_loss: 5.5666\n",
            "Epoch 35/100\n",
            "66/66 [==============================] - 0s 4ms/step - loss: 11.0909 - val_loss: 2.5795\n",
            "Epoch 36/100\n",
            "66/66 [==============================] - 0s 4ms/step - loss: 12.3970 - val_loss: 0.6768\n",
            "Epoch 37/100\n",
            "66/66 [==============================] - 0s 4ms/step - loss: 10.9191 - val_loss: 0.9853\n",
            "Epoch 38/100\n",
            "66/66 [==============================] - 0s 3ms/step - loss: 11.8124 - val_loss: 10.6229\n",
            "Epoch 39/100\n",
            "66/66 [==============================] - 0s 4ms/step - loss: 11.2415 - val_loss: 15.6268\n",
            "Epoch 40/100\n",
            "66/66 [==============================] - 0s 4ms/step - loss: 10.1651 - val_loss: 2.6217\n",
            "Epoch 41/100\n",
            "66/66 [==============================] - 0s 4ms/step - loss: 12.9075 - val_loss: 1.0035\n",
            "Epoch 42/100\n",
            "66/66 [==============================] - 0s 4ms/step - loss: 10.2347 - val_loss: 1.9683\n",
            "Epoch 43/100\n",
            "66/66 [==============================] - 0s 4ms/step - loss: 10.8963 - val_loss: 45.7639\n",
            "Epoch 44/100\n",
            "66/66 [==============================] - 0s 4ms/step - loss: 11.3734 - val_loss: 3.5662\n",
            "Epoch 45/100\n",
            "66/66 [==============================] - 0s 4ms/step - loss: 11.8333 - val_loss: 2.0142\n",
            "Epoch 46/100\n",
            "66/66 [==============================] - 0s 4ms/step - loss: 9.3622 - val_loss: 1.4766\n",
            "Epoch 47/100\n",
            "66/66 [==============================] - 0s 5ms/step - loss: 10.4846 - val_loss: 2.4538\n",
            "Epoch 48/100\n",
            "66/66 [==============================] - 0s 4ms/step - loss: 10.5569 - val_loss: 0.6818\n",
            "Epoch 49/100\n",
            "66/66 [==============================] - 0s 4ms/step - loss: 11.1991 - val_loss: 1.1418\n",
            "Epoch 50/100\n",
            "66/66 [==============================] - 0s 4ms/step - loss: 10.7566 - val_loss: 1.4381\n",
            "Epoch 51/100\n",
            "66/66 [==============================] - 0s 4ms/step - loss: 12.5725 - val_loss: 0.7039\n",
            "Epoch 52/100\n",
            "66/66 [==============================] - 0s 4ms/step - loss: 9.2935 - val_loss: 2.7122\n",
            "Epoch 53/100\n",
            "66/66 [==============================] - 0s 4ms/step - loss: 10.2904 - val_loss: 51.5869\n",
            "Epoch 54/100\n",
            "66/66 [==============================] - 0s 4ms/step - loss: 10.3546 - val_loss: 47.9495\n",
            "Epoch 55/100\n",
            "66/66 [==============================] - 0s 4ms/step - loss: 9.9217 - val_loss: 11.1535\n",
            "Epoch 56/100\n",
            "66/66 [==============================] - 0s 4ms/step - loss: 10.2740 - val_loss: 14.0231\n",
            "Epoch 57/100\n",
            "66/66 [==============================] - 0s 4ms/step - loss: 9.5771 - val_loss: 0.6703\n",
            "Epoch 58/100\n",
            "66/66 [==============================] - 0s 4ms/step - loss: 9.4927 - val_loss: 11.4168\n",
            "Epoch 59/100\n",
            "66/66 [==============================] - 0s 4ms/step - loss: 11.0488 - val_loss: 2.1863\n",
            "Epoch 60/100\n",
            "66/66 [==============================] - 0s 4ms/step - loss: 9.8794 - val_loss: 12.4202\n",
            "Epoch 61/100\n",
            "66/66 [==============================] - 0s 4ms/step - loss: 9.2261 - val_loss: 5.6358\n",
            "Epoch 62/100\n",
            "66/66 [==============================] - 0s 4ms/step - loss: 10.5932 - val_loss: 4.5721\n",
            "Epoch 63/100\n",
            "66/66 [==============================] - 0s 4ms/step - loss: 9.8517 - val_loss: 3.1796\n",
            "Epoch 64/100\n",
            "66/66 [==============================] - 0s 4ms/step - loss: 9.3206 - val_loss: 0.7226\n",
            "Epoch 65/100\n",
            "66/66 [==============================] - 0s 4ms/step - loss: 9.6951 - val_loss: 0.9504\n",
            "Epoch 66/100\n",
            "66/66 [==============================] - 0s 4ms/step - loss: 8.5692 - val_loss: 5.0218\n",
            "Epoch 67/100\n",
            "66/66 [==============================] - 0s 4ms/step - loss: 10.3169 - val_loss: 3.9392\n",
            "Epoch 68/100\n",
            "66/66 [==============================] - 0s 4ms/step - loss: 10.1942 - val_loss: 1.4955\n",
            "Epoch 69/100\n",
            "66/66 [==============================] - 0s 4ms/step - loss: 9.4987 - val_loss: 7.9417\n",
            "Epoch 70/100\n",
            "66/66 [==============================] - 0s 4ms/step - loss: 9.5002 - val_loss: 0.7395\n",
            "Epoch 71/100\n",
            "66/66 [==============================] - 0s 4ms/step - loss: 9.6479 - val_loss: 0.6953\n",
            "Epoch 72/100\n",
            "66/66 [==============================] - 0s 4ms/step - loss: 8.9303 - val_loss: 16.7130\n",
            "Epoch 73/100\n",
            "66/66 [==============================] - 0s 4ms/step - loss: 8.9872 - val_loss: 10.5922\n",
            "Epoch 74/100\n",
            "66/66 [==============================] - 0s 4ms/step - loss: 8.7409 - val_loss: 4.7228\n",
            "Epoch 75/100\n",
            "66/66 [==============================] - 0s 4ms/step - loss: 9.5668 - val_loss: 12.1084\n",
            "Epoch 76/100\n",
            "66/66 [==============================] - 0s 5ms/step - loss: 7.9413 - val_loss: 2.3988\n",
            "Epoch 77/100\n",
            "66/66 [==============================] - 0s 4ms/step - loss: 9.8457 - val_loss: 15.1725\n",
            "Epoch 78/100\n",
            "66/66 [==============================] - 0s 4ms/step - loss: 8.8100 - val_loss: 0.7507\n",
            "Epoch 79/100\n",
            "66/66 [==============================] - 0s 3ms/step - loss: 8.8921 - val_loss: 2.2750\n",
            "Epoch 80/100\n",
            "66/66 [==============================] - 0s 4ms/step - loss: 9.2793 - val_loss: 17.3188\n",
            "Epoch 81/100\n",
            "66/66 [==============================] - 0s 4ms/step - loss: 8.1157 - val_loss: 3.6097\n",
            "Epoch 82/100\n",
            "66/66 [==============================] - 1s 9ms/step - loss: 9.0229 - val_loss: 0.6909\n",
            "Epoch 83/100\n",
            "66/66 [==============================] - 0s 4ms/step - loss: 9.6934 - val_loss: 0.6733\n",
            "Epoch 84/100\n",
            "66/66 [==============================] - 0s 4ms/step - loss: 7.8249 - val_loss: 0.7716\n",
            "Epoch 85/100\n",
            "66/66 [==============================] - 1s 10ms/step - loss: 8.6024 - val_loss: 3.3291\n",
            "Epoch 86/100\n",
            "66/66 [==============================] - 0s 4ms/step - loss: 7.9090 - val_loss: 37.0790\n",
            "Epoch 87/100\n",
            "66/66 [==============================] - 0s 3ms/step - loss: 9.2165 - val_loss: 0.7009\n",
            "Epoch 88/100\n",
            "66/66 [==============================] - 0s 4ms/step - loss: 8.0950 - val_loss: 10.6674\n",
            "Epoch 89/100\n",
            "66/66 [==============================] - 0s 4ms/step - loss: 8.6005 - val_loss: 65.5725\n",
            "Epoch 90/100\n",
            "66/66 [==============================] - 0s 5ms/step - loss: 7.8607 - val_loss: 0.9881\n",
            "Epoch 91/100\n",
            "66/66 [==============================] - 0s 4ms/step - loss: 8.8783 - val_loss: 141.8834\n",
            "Epoch 92/100\n",
            "66/66 [==============================] - 0s 4ms/step - loss: 9.1968 - val_loss: 1.1992\n",
            "Epoch 93/100\n",
            "66/66 [==============================] - 0s 4ms/step - loss: 7.6672 - val_loss: 3.3191\n",
            "Epoch 94/100\n",
            "66/66 [==============================] - 0s 4ms/step - loss: 8.9417 - val_loss: 11.9998\n",
            "Epoch 95/100\n",
            "66/66 [==============================] - 0s 4ms/step - loss: 8.1344 - val_loss: 7.1351\n",
            "Epoch 96/100\n",
            "66/66 [==============================] - 0s 5ms/step - loss: 8.6580 - val_loss: 0.7470\n",
            "Epoch 97/100\n",
            "66/66 [==============================] - 0s 4ms/step - loss: 7.9703 - val_loss: 1.7575\n",
            "Epoch 98/100\n",
            "66/66 [==============================] - 0s 5ms/step - loss: 7.4870 - val_loss: 8.1215\n",
            "Epoch 99/100\n",
            "66/66 [==============================] - 0s 5ms/step - loss: 8.4242 - val_loss: 0.6590\n",
            "Epoch 100/100\n",
            "66/66 [==============================] - 0s 5ms/step - loss: 7.4985 - val_loss: 0.8565\n"
          ]
        }
      ]
    },
    {
      "cell_type": "code",
      "source": [
        "model.evaluate(X_test, y_test)"
      ],
      "metadata": {
        "colab": {
          "base_uri": "https://localhost:8080/"
        },
        "id": "7C6txYlvej9n",
        "outputId": "2f3efb25-f7b6-4f4c-e431-e84b956e3bc6"
      },
      "execution_count": 12,
      "outputs": [
        {
          "output_type": "stream",
          "name": "stdout",
          "text": [
            "65/65 [==============================] - 0s 2ms/step - loss: 0.9026\n"
          ]
        },
        {
          "output_type": "execute_result",
          "data": {
            "text/plain": [
              "0.90257728099823"
            ]
          },
          "metadata": {},
          "execution_count": 12
        }
      ]
    },
    {
      "cell_type": "code",
      "source": [
        "y_loss = hist1.history['loss']\n",
        "y_vloss = hist1.history['val_loss']\n",
        "xs = np.arange(1, len(y_loss) + 1)\n",
        "plt.figure(figsize=(12, 8))\n",
        "plt.plot(xs, y_loss, label='loss')\n",
        "plt.plot(xs, y_vloss, label='validation loss')\n",
        "plt.legend(), plt.grid()\n",
        "# plt.ylim([0,1.2])\n",
        "plt.xlabel('Epoch')\n",
        "plt.title('No feature transform')\n",
        "plt.show()"
      ],
      "metadata": {
        "colab": {
          "base_uri": "https://localhost:8080/",
          "height": 513
        },
        "id": "i2rrM37Fe28G",
        "outputId": "7798befd-b751-4a9d-de54-b51ad33c9faa"
      },
      "execution_count": 18,
      "outputs": [
        {
          "output_type": "display_data",
          "data": {
            "text/plain": [
              "<Figure size 864x576 with 1 Axes>"
            ],
            "image/png": "[encoded data removed]"
          },
          "metadata": {
            "needs_background": "light"
          }
        }
      ]
    },
    {
      "cell_type": "code",
      "source": [
        "pred = model.predict(X_test)\n",
        "from sklearn.metrics import r2_score\n",
        "r2_score(y_test, pred)"
      ],
      "metadata": {
        "colab": {
          "base_uri": "https://localhost:8080/"
        },
        "id": "O4D3prDnf66w",
        "outputId": "48280a1d-8cca-42a0-9693-6cfbf1f80a3a"
      },
      "execution_count": 19,
      "outputs": [
        {
          "output_type": "execute_result",
          "data": {
            "text/plain": [
              "0.29674103073743396"
            ]
          },
          "metadata": {},
          "execution_count": 19
        }
      ]
    },
    {
      "cell_type": "code",
      "source": [
        "from sklearn.metrics import r2_score, mean_squared_error\n",
        "mean_squared_error(y_test, pred)"
      ],
      "metadata": {
        "colab": {
          "base_uri": "https://localhost:8080/"
        },
        "id": "btW9GxlHgedv",
        "outputId": "29e90b1d-76f2-413d-a0b8-4ad24d8caf92"
      },
      "execution_count": 22,
      "outputs": [
        {
          "output_type": "execute_result",
          "data": {
            "text/plain": [
              "0.9025771070622197"
            ]
          },
          "metadata": {},
          "execution_count": 22
        }
      ]
    },
    {
      "cell_type": "code",
      "source": [
        "dft = pd.DataFrame({'y_test' : y_test, 'pred': pred.reshape(-1)})\n",
        "dft.head()"
      ],
      "metadata": {
        "colab": {
          "base_uri": "https://localhost:8080/",
          "height": 206
        },
        "id": "nVknYIlggFwc",
        "outputId": "2d6205d5-560a-4c57-8dbd-073c6f9ccf65"
      },
      "execution_count": 21,
      "outputs": [
        {
          "output_type": "execute_result",
          "data": {
            "text/plain": [
              "   y_test      pred\n",
              "0   4.771  3.662968\n",
              "1   1.371  1.330570\n",
              "2   1.233  1.178135\n",
              "3   0.938  1.430783\n",
              "4   3.260  2.616162"
            ],
            "text/html": [
              "\n",
              "  <div id=\"df-3b75b2c1-6832-4c68-a771-be6d5e1b75e5\">\n",
              "    <div class=\"colab-df-container\">\n",
              "      <div>\n",
              "<style scoped>\n",
              "    .dataframe tbody tr th:only-of-type {\n",
              "        vertical-align: middle;\n",
              "    }\n",
              "\n",
              "    .dataframe tbody tr th {\n",
              "        vertical-align: top;\n",
              "    }\n",
              "\n",
              "    .dataframe thead th {\n",
              "        text-align: right;\n",
              "    }\n",
              "</style>\n",
              "<table border=\"1\" class=\"dataframe\">\n",
              "  <thead>\n",
              "    <tr style=\"text-align: right;\">\n",
              "      <th></th>\n",
              "      <th>y_test</th>\n",
              "      <th>pred</th>\n",
              "    </tr>\n",
              "  </thead>\n",
              "  <tbody>\n",
              "    <tr>\n",
              "      <th>0</th>\n",
              "      <td>4.771</td>\n",
              "      <td>3.662968</td>\n",
              "    </tr>\n",
              "    <tr>\n",
              "      <th>1</th>\n",
              "      <td>1.371</td>\n",
              "      <td>1.330570</td>\n",
              "    </tr>\n",
              "    <tr>\n",
              "      <th>2</th>\n",
              "      <td>1.233</td>\n",
              "      <td>1.178135</td>\n",
              "    </tr>\n",
              "    <tr>\n",
              "      <th>3</th>\n",
              "      <td>0.938</td>\n",
              "      <td>1.430783</td>\n",
              "    </tr>\n",
              "    <tr>\n",
              "      <th>4</th>\n",
              "      <td>3.260</td>\n",
              "      <td>2.616162</td>\n",
              "    </tr>\n",
              "  </tbody>\n",
              "</table>\n",
              "</div>\n",
              "      <button class=\"colab-df-convert\" onclick=\"convertToInteractive('df-3b75b2c1-6832-4c68-a771-be6d5e1b75e5')\"\n",
              "              title=\"Convert this dataframe to an interactive table.\"\n",
              "              style=\"display:none;\">\n",
              "        \n",
              "  <svg xmlns=\"http://www.w3.org/2000/svg\" height=\"24px\"viewBox=\"0 0 24 24\"\n",
              "       width=\"24px\">\n",
              "    <path d=\"M0 0h24v24H0V0z\" fill=\"none\"/>\n",
              "    <path d=\"M18.56 5.44l.94 2.06.94-2.06 2.06-.94-2.06-.94-.94-2.06-.94 2.06-2.06.94zm-11 1L8.5 8.5l.94-2.06 2.06-.94-2.06-.94L8.5 2.5l-.94 2.06-2.06.94zm10 10l.94 2.06.94-2.06 2.06-.94-2.06-.94-.94-2.06-.94 2.06-2.06.94z\"/><path d=\"M17.41 7.96l-1.37-1.37c-.4-.4-.92-.59-1.43-.59-.52 0-1.04.2-1.43.59L10.3 9.45l-7.72 7.72c-.78.78-.78 2.05 0 2.83L4 21.41c.39.39.9.59 1.41.59.51 0 1.02-.2 1.41-.59l7.78-7.78 2.81-2.81c.8-.78.8-2.07 0-2.86zM5.41 20L4 18.59l7.72-7.72 1.47 1.35L5.41 20z\"/>\n",
              "  </svg>\n",
              "      </button>\n",
              "      \n",
              "  <style>\n",
              "    .colab-df-container {\n",
              "      display:flex;\n",
              "      flex-wrap:wrap;\n",
              "      gap: 12px;\n",
              "    }\n",
              "\n",
              "    .colab-df-convert {\n",
              "      background-color: #E8F0FE;\n",
              "      border: none;\n",
              "      border-radius: 50%;\n",
              "      cursor: pointer;\n",
              "      display: none;\n",
              "      fill: #1967D2;\n",
              "      height: 32px;\n",
              "      padding: 0 0 0 0;\n",
              "      width: 32px;\n",
              "    }\n",
              "\n",
              "    .colab-df-convert:hover {\n",
              "      background-color: #E2EBFA;\n",
              "      box-shadow: 0px 1px 2px rgba(60, 64, 67, 0.3), 0px 1px 3px 1px rgba(60, 64, 67, 0.15);\n",
              "      fill: #174EA6;\n",
              "    }\n",
              "\n",
              "    [theme=dark] .colab-df-convert {\n",
              "      background-color: #3B4455;\n",
              "      fill: #D2E3FC;\n",
              "    }\n",
              "\n",
              "    [theme=dark] .colab-df-convert:hover {\n",
              "      background-color: #434B5C;\n",
              "      box-shadow: 0px 1px 3px 1px rgba(0, 0, 0, 0.15);\n",
              "      filter: drop-shadow(0px 1px 2px rgba(0, 0, 0, 0.3));\n",
              "      fill: #FFFFFF;\n",
              "    }\n",
              "  </style>\n",
              "\n",
              "      <script>\n",
              "        const buttonEl =\n",
              "          document.querySelector('#df-3b75b2c1-6832-4c68-a771-be6d5e1b75e5 button.colab-df-convert');\n",
              "        buttonEl.style.display =\n",
              "          google.colab.kernel.accessAllowed ? 'block' : 'none';\n",
              "\n",
              "        async function convertToInteractive(key) {\n",
              "          const element = document.querySelector('#df-3b75b2c1-6832-4c68-a771-be6d5e1b75e5');\n",
              "          const dataTable =\n",
              "            await google.colab.kernel.invokeFunction('convertToInteractive',\n",
              "                                                     [key], {});\n",
              "          if (!dataTable) return;\n",
              "\n",
              "          const docLinkHtml = 'Like what you see? Visit the ' +\n",
              "            '<a target=\"_blank\" href=https://colab.research.google.com/notebooks/data_table.ipynb>data table notebook</a>'\n",
              "            + ' to learn more about interactive tables.';\n",
              "          element.innerHTML = '';\n",
              "          dataTable['output_type'] = 'display_data';\n",
              "          await google.colab.output.renderOutput(dataTable, element);\n",
              "          const docLink = document.createElement('div');\n",
              "          docLink.innerHTML = docLinkHtml;\n",
              "          element.appendChild(docLink);\n",
              "        }\n",
              "      </script>\n",
              "    </div>\n",
              "  </div>\n",
              "  "
            ]
          },
          "metadata": {},
          "execution_count": 21
        }
      ]
    },
    {
      "cell_type": "code",
      "source": [
        ""
      ],
      "metadata": {
        "id": "1sQYWiaFgKwo"
      },
      "execution_count": null,
      "outputs": []
    }
  ]
}