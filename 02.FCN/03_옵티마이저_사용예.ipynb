{
  "nbformat": 4,
  "nbformat_minor": 0,
  "metadata": {
    "colab": {
      "name": "03_옵티마이저_사용예.ipynb",
      "provenance": [],
      "collapsed_sections": []
    },
    "kernelspec": {
      "name": "python3",
      "display_name": "Python 3"
    },
    "language_info": {
      "name": "python"
    }
  },
  "cells": [
    {
      "cell_type": "markdown",
      "source": [
        "### 신경망 모델에서 옵티마이저 사용법"
      ],
      "metadata": {
        "id": "6tBOG8gSXQV5"
      }
    },
    {
      "cell_type": "markdown",
      "source": [
        "- 이진분류 : 유방암 예측 사례"
      ],
      "metadata": {
        "id": "ZGe8BbmfXZ-N"
      }
    },
    {
      "cell_type": "code",
      "source": [
        "import numpy as np\n",
        "import matplotlib.pyplot as plt\n",
        "from sklearn.datasets import load_breast_cancer\n",
        "from sklearn.preprocessing import StandardScaler\n",
        "from sklearn.model_selection import train_test_split\n"
      ],
      "metadata": {
        "id": "-YkD_H9jXb5d"
      },
      "execution_count": 1,
      "outputs": []
    },
    {
      "cell_type": "code",
      "source": [
        "cancer = load_breast_cancer()\n",
        "cancer_std = StandardScaler().fit_transform(cancer.data)\n",
        "X_train, X_test, y_train, y_test = train_test_split(\n",
        "    cancer_std, cancer.target, stratify=cancer.target,\n",
        "    test_size=0.2, random_state=2022\n",
        ")"
      ],
      "metadata": {
        "id": "0QRvUjuwXfXE"
      },
      "execution_count": 2,
      "outputs": []
    },
    {
      "cell_type": "markdown",
      "source": [
        "### 1. Adam optimizer"
      ],
      "metadata": {
        "id": "oElAUu60Xzfa"
      }
    },
    {
      "cell_type": "code",
      "source": [
        "from tensorflow.keras.models import Sequential\n",
        "from tensorflow.keras.layers import Dense"
      ],
      "metadata": {
        "id": "zOmGrsqaX8Ow"
      },
      "execution_count": 3,
      "outputs": []
    },
    {
      "cell_type": "code",
      "source": [
        "model = Sequential([\n",
        "    Dense(100, input_dim=30, activation='relu'),\n",
        "    Dense(24, activation='relu'),\n",
        "    Dense(1, activation='sigmoid')\n",
        "])"
      ],
      "metadata": {
        "id": "Wuiq9Tf2YEKS"
      },
      "execution_count": 4,
      "outputs": []
    },
    {
      "cell_type": "markdown",
      "source": [
        "- Adam 하이퍼 파라메터"
      ],
      "metadata": {
        "id": "w6tRwkuxYxcQ"
      }
    },
    {
      "cell_type": "markdown",
      "source": [
        "### Adam 하이퍼 파라메터\n",
        "- learning_rate: 0보다 크거나 같은 float 값. 학습률.\n",
        "- beta_1: 0보다 크고 1보다 작은 float 값. 일반적으로 1에 가깝게 - 설정됩니다.\n",
        "- beta_2: 0보다 크고 1보다 작은 float 값. 일반적으로 1에 가깝게 설정됩니다.\n",
        "- epsilon: 0보다 크거나 같은 float형 fuzz factor. None인 경우 K.- - epsilon()이 사용됩니다.\n",
        "- decay: 0보다 크거나 같은 float 값. 업데이트마다 적용되는 학습률의 감소율입니다.\n",
        "- amsgrad: 불리언. Adam의 변형인 AMSGrad의 적용 여부를 설정합니다\n"
      ],
      "metadata": {
        "id": "dFhmbJ-3Y0E9"
      }
    },
    {
      "cell_type": "code",
      "source": [
        "from tensorflow.keras.optimizers import Adam\n",
        "adam = Adam(learning_rate=0.001, beta_1=0.9, beta_2=0.999,\n",
        "            epsilon=None, decay=0.0, amsgrad=False)\n",
        "\n"
      ],
      "metadata": {
        "id": "zIMmfpp2Yzbj"
      },
      "execution_count": 5,
      "outputs": []
    },
    {
      "cell_type": "code",
      "source": [
        "\n",
        "model.compile(optimizer=adam, loss='binary_crossentropy', metrics=['accuracy'])"
      ],
      "metadata": {
        "id": "3Go6dfZjYXG6"
      },
      "execution_count": 6,
      "outputs": []
    },
    {
      "cell_type": "code",
      "source": [
        "hist = model.fit(X_train, y_train, validation_split=0.2,\n",
        "                 epochs=100, batch_size=100, verbose=0)  # verbose=0이면 결과값 안보여줌"
      ],
      "metadata": {
        "id": "tH3CR4WLaioS"
      },
      "execution_count": 7,
      "outputs": []
    },
    {
      "cell_type": "code",
      "source": [
        "model.evaluate(X_test, y_test)"
      ],
      "metadata": {
        "colab": {
          "base_uri": "https://localhost:8080/"
        },
        "id": "ojKQ31YNap8c",
        "outputId": "4a761b13-5ea6-4a1d-cd33-4b44095b6779"
      },
      "execution_count": 8,
      "outputs": [
        {
          "output_type": "stream",
          "name": "stdout",
          "text": [
            "4/4 [==============================] - 0s 6ms/step - loss: 0.0843 - accuracy: 0.9825\n"
          ]
        },
        {
          "output_type": "execute_result",
          "data": {
            "text/plain": [
              "[0.08433707058429718, 0.9824561476707458]"
            ]
          },
          "metadata": {},
          "execution_count": 8
        }
      ]
    },
    {
      "cell_type": "code",
      "source": [
        "y_acc = hist.history['accuracy']\n",
        "y_vloss = hist.history['val_loss']\n",
        "xs = np.arange(1, len(y_acc)+1)\n",
        "\n"
      ],
      "metadata": {
        "id": "kpNJ1AseliKc"
      },
      "execution_count": 9,
      "outputs": []
    },
    {
      "cell_type": "code",
      "source": [
        "plt.figure(figsize=(12,8))\n",
        "plt.plot(xs, y_acc, label='train accuracy')\n",
        "plt.plot(xs, y_vloss, label='validation loss')\n",
        "plt.legend()\n",
        "plt.grid()\n",
        "plt.ylim([0,1.1])\n",
        "plt.xlabel('Epoch')\n",
        "plt.title('Adam optimizer')\n",
        "plt.show()\n"
      ],
      "metadata": {
        "colab": {
          "base_uri": "https://localhost:8080/",
          "height": 513
        },
        "id": "2D1V6FRSa4Px",
        "outputId": "b6b9d463-62cb-4375-aa7f-6b3b80bc5f64"
      },
      "execution_count": 10,
      "outputs": [
        {
          "output_type": "display_data",
          "data": {
            "text/plain": [
              "<Figure size 864x576 with 1 Axes>"
            ],
            "image/png": "[encoded data removed]"
          },
          "metadata": {
            "needs_background": "light"
          }
        }
      ]
    },
    {
      "cell_type": "markdown",
      "source": [
        "#### RMSProp 하이퍼 파라메터\n",
        "- lr: 0보다 크거나 같은 float 값. 학습률.\n",
        "- rho: 0보다 크거나 같은 float 값.\n",
        "- epsilon: 0보다 크거나 같은 float형 fuzz factor. None인 경우 K.epsilon()이 사용됩니다.\n",
        "- decay: 0보다 크거나 같은 float 값. 업데이트마다 적용되는 학습률의 감소율입니다.\n"
      ],
      "metadata": {
        "id": "ke2hRz2ZcBk5"
      }
    },
    {
      "cell_type": "code",
      "source": [
        "model2 = Sequential([\n",
        "    Dense(100, input_dim=30, activation='relu'),\n",
        "    Dense(24, activation='relu'),\n",
        "    Dense(1, activation='sigmoid')\n",
        "])\n",
        "model2.summary()"
      ],
      "metadata": {
        "colab": {
          "base_uri": "https://localhost:8080/"
        },
        "id": "f_nEDIzebq8p",
        "outputId": "6de5c368-9ff9-49a7-8d20-1ca37828664d"
      },
      "execution_count": 11,
      "outputs": [
        {
          "output_type": "stream",
          "name": "stdout",
          "text": [
            "Model: \"sequential_1\"\n",
            "_________________________________________________________________\n",
            " Layer (type)                Output Shape              Param #   \n",
            "=================================================================\n",
            " dense_3 (Dense)             (None, 100)               3100      \n",
            "                                                                 \n",
            " dense_4 (Dense)             (None, 24)                2424      \n",
            "                                                                 \n",
            " dense_5 (Dense)             (None, 1)                 25        \n",
            "                                                                 \n",
            "=================================================================\n",
            "Total params: 5,549\n",
            "Trainable params: 5,549\n",
            "Non-trainable params: 0\n",
            "_________________________________________________________________\n"
          ]
        }
      ]
    },
    {
      "cell_type": "code",
      "source": [
        "from tensorflow.keras.optimizers import RMSprop\n",
        "rmsp = RMSprop(learning_rate=0.001, rho=0.9, epsilon=None, decay=0.0)"
      ],
      "metadata": {
        "id": "nvpgkELdcHS1"
      },
      "execution_count": 12,
      "outputs": []
    },
    {
      "cell_type": "code",
      "source": [
        "model2.compile(rmsp, 'binary_crossentropy', ['accuracy'])"
      ],
      "metadata": {
        "id": "uYkIJbiafbYZ"
      },
      "execution_count": 13,
      "outputs": []
    },
    {
      "cell_type": "code",
      "source": [
        "hist2 = model2.fit(X_train, y_train, validation_split=0.2,\n",
        "                   epochs=100, batch_size=100, verbose=2)"
      ],
      "metadata": {
        "colab": {
          "base_uri": "https://localhost:8080/"
        },
        "id": "Tn_XJS00fpqU",
        "outputId": "cce353eb-dadf-439f-ff21-a21389672b95"
      },
      "execution_count": 14,
      "outputs": [
        {
          "output_type": "stream",
          "name": "stdout",
          "text": [
            "Epoch 1/100\n",
            "4/4 - 2s - loss: 0.5711 - accuracy: 0.7802 - val_loss: 0.4519 - val_accuracy: 0.9231 - 2s/epoch - 565ms/step\n",
            "Epoch 2/100\n",
            "4/4 - 0s - loss: 0.3810 - accuracy: 0.9423 - val_loss: 0.3500 - val_accuracy: 0.9341 - 166ms/epoch - 42ms/step\n",
            "Epoch 3/100\n",
            "4/4 - 0s - loss: 0.2923 - accuracy: 0.9423 - val_loss: 0.2860 - val_accuracy: 0.9231 - 172ms/epoch - 43ms/step\n",
            "Epoch 4/100\n",
            "4/4 - 0s - loss: 0.2355 - accuracy: 0.9451 - val_loss: 0.2460 - val_accuracy: 0.9231 - 93ms/epoch - 23ms/step\n",
            "Epoch 5/100\n",
            "4/4 - 0s - loss: 0.1969 - accuracy: 0.9478 - val_loss: 0.2158 - val_accuracy: 0.9231 - 60ms/epoch - 15ms/step\n",
            "Epoch 6/100\n",
            "4/4 - 0s - loss: 0.1685 - accuracy: 0.9588 - val_loss: 0.1942 - val_accuracy: 0.9231 - 66ms/epoch - 16ms/step\n",
            "Epoch 7/100\n",
            "4/4 - 0s - loss: 0.1473 - accuracy: 0.9643 - val_loss: 0.1793 - val_accuracy: 0.9341 - 82ms/epoch - 21ms/step\n",
            "Epoch 8/100\n",
            "4/4 - 0s - loss: 0.1306 - accuracy: 0.9670 - val_loss: 0.1663 - val_accuracy: 0.9451 - 58ms/epoch - 15ms/step\n",
            "Epoch 9/100\n",
            "4/4 - 0s - loss: 0.1174 - accuracy: 0.9670 - val_loss: 0.1573 - val_accuracy: 0.9341 - 104ms/epoch - 26ms/step\n",
            "Epoch 10/100\n",
            "4/4 - 0s - loss: 0.1048 - accuracy: 0.9698 - val_loss: 0.1499 - val_accuracy: 0.9451 - 131ms/epoch - 33ms/step\n",
            "Epoch 11/100\n",
            "4/4 - 0s - loss: 0.0951 - accuracy: 0.9725 - val_loss: 0.1425 - val_accuracy: 0.9451 - 131ms/epoch - 33ms/step\n",
            "Epoch 12/100\n",
            "4/4 - 0s - loss: 0.0859 - accuracy: 0.9780 - val_loss: 0.1377 - val_accuracy: 0.9341 - 94ms/epoch - 23ms/step\n",
            "Epoch 13/100\n",
            "4/4 - 0s - loss: 0.0791 - accuracy: 0.9808 - val_loss: 0.1341 - val_accuracy: 0.9341 - 91ms/epoch - 23ms/step\n",
            "Epoch 14/100\n",
            "4/4 - 0s - loss: 0.0732 - accuracy: 0.9780 - val_loss: 0.1320 - val_accuracy: 0.9341 - 59ms/epoch - 15ms/step\n",
            "Epoch 15/100\n",
            "4/4 - 0s - loss: 0.0680 - accuracy: 0.9808 - val_loss: 0.1267 - val_accuracy: 0.9341 - 120ms/epoch - 30ms/step\n",
            "Epoch 16/100\n",
            "4/4 - 0s - loss: 0.0635 - accuracy: 0.9863 - val_loss: 0.1231 - val_accuracy: 0.9451 - 77ms/epoch - 19ms/step\n",
            "Epoch 17/100\n",
            "4/4 - 0s - loss: 0.0604 - accuracy: 0.9835 - val_loss: 0.1245 - val_accuracy: 0.9341 - 59ms/epoch - 15ms/step\n",
            "Epoch 18/100\n",
            "4/4 - 0s - loss: 0.0560 - accuracy: 0.9808 - val_loss: 0.1215 - val_accuracy: 0.9341 - 73ms/epoch - 18ms/step\n",
            "Epoch 19/100\n",
            "4/4 - 0s - loss: 0.0525 - accuracy: 0.9863 - val_loss: 0.1198 - val_accuracy: 0.9341 - 72ms/epoch - 18ms/step\n",
            "Epoch 20/100\n",
            "4/4 - 0s - loss: 0.0495 - accuracy: 0.9863 - val_loss: 0.1181 - val_accuracy: 0.9341 - 93ms/epoch - 23ms/step\n",
            "Epoch 21/100\n",
            "4/4 - 0s - loss: 0.0469 - accuracy: 0.9863 - val_loss: 0.1159 - val_accuracy: 0.9451 - 109ms/epoch - 27ms/step\n",
            "Epoch 22/100\n",
            "4/4 - 0s - loss: 0.0450 - accuracy: 0.9863 - val_loss: 0.1171 - val_accuracy: 0.9451 - 76ms/epoch - 19ms/step\n",
            "Epoch 23/100\n",
            "4/4 - 0s - loss: 0.0422 - accuracy: 0.9863 - val_loss: 0.1157 - val_accuracy: 0.9451 - 59ms/epoch - 15ms/step\n",
            "Epoch 24/100\n",
            "4/4 - 0s - loss: 0.0414 - accuracy: 0.9835 - val_loss: 0.1149 - val_accuracy: 0.9451 - 71ms/epoch - 18ms/step\n",
            "Epoch 25/100\n",
            "4/4 - 0s - loss: 0.0377 - accuracy: 0.9890 - val_loss: 0.1158 - val_accuracy: 0.9341 - 88ms/epoch - 22ms/step\n",
            "Epoch 26/100\n",
            "4/4 - 0s - loss: 0.0361 - accuracy: 0.9890 - val_loss: 0.1136 - val_accuracy: 0.9451 - 72ms/epoch - 18ms/step\n",
            "Epoch 27/100\n",
            "4/4 - 0s - loss: 0.0350 - accuracy: 0.9863 - val_loss: 0.1167 - val_accuracy: 0.9341 - 72ms/epoch - 18ms/step\n",
            "Epoch 28/100\n",
            "4/4 - 0s - loss: 0.0322 - accuracy: 0.9890 - val_loss: 0.1191 - val_accuracy: 0.9341 - 100ms/epoch - 25ms/step\n",
            "Epoch 29/100\n",
            "4/4 - 0s - loss: 0.0299 - accuracy: 0.9890 - val_loss: 0.1174 - val_accuracy: 0.9341 - 94ms/epoch - 24ms/step\n",
            "Epoch 30/100\n",
            "4/4 - 0s - loss: 0.0285 - accuracy: 0.9918 - val_loss: 0.1192 - val_accuracy: 0.9341 - 84ms/epoch - 21ms/step\n",
            "Epoch 31/100\n",
            "4/4 - 0s - loss: 0.0271 - accuracy: 0.9890 - val_loss: 0.1194 - val_accuracy: 0.9560 - 67ms/epoch - 17ms/step\n",
            "Epoch 32/100\n",
            "4/4 - 0s - loss: 0.0250 - accuracy: 0.9918 - val_loss: 0.1185 - val_accuracy: 0.9560 - 62ms/epoch - 16ms/step\n",
            "Epoch 33/100\n",
            "4/4 - 0s - loss: 0.0239 - accuracy: 0.9945 - val_loss: 0.1235 - val_accuracy: 0.9451 - 58ms/epoch - 15ms/step\n",
            "Epoch 34/100\n",
            "4/4 - 0s - loss: 0.0218 - accuracy: 0.9945 - val_loss: 0.1255 - val_accuracy: 0.9451 - 79ms/epoch - 20ms/step\n",
            "Epoch 35/100\n",
            "4/4 - 0s - loss: 0.0211 - accuracy: 0.9945 - val_loss: 0.1216 - val_accuracy: 0.9560 - 114ms/epoch - 28ms/step\n",
            "Epoch 36/100\n",
            "4/4 - 0s - loss: 0.0194 - accuracy: 0.9945 - val_loss: 0.1281 - val_accuracy: 0.9451 - 70ms/epoch - 18ms/step\n",
            "Epoch 37/100\n",
            "4/4 - 0s - loss: 0.0182 - accuracy: 0.9945 - val_loss: 0.1319 - val_accuracy: 0.9341 - 81ms/epoch - 20ms/step\n",
            "Epoch 38/100\n",
            "4/4 - 0s - loss: 0.0169 - accuracy: 0.9973 - val_loss: 0.1322 - val_accuracy: 0.9451 - 68ms/epoch - 17ms/step\n",
            "Epoch 39/100\n",
            "4/4 - 0s - loss: 0.0154 - accuracy: 0.9973 - val_loss: 0.1309 - val_accuracy: 0.9451 - 66ms/epoch - 17ms/step\n",
            "Epoch 40/100\n",
            "4/4 - 0s - loss: 0.0150 - accuracy: 0.9945 - val_loss: 0.1388 - val_accuracy: 0.9451 - 53ms/epoch - 13ms/step\n",
            "Epoch 41/100\n",
            "4/4 - 0s - loss: 0.0134 - accuracy: 0.9973 - val_loss: 0.1338 - val_accuracy: 0.9451 - 116ms/epoch - 29ms/step\n",
            "Epoch 42/100\n",
            "4/4 - 0s - loss: 0.0128 - accuracy: 0.9973 - val_loss: 0.1412 - val_accuracy: 0.9451 - 82ms/epoch - 20ms/step\n",
            "Epoch 43/100\n",
            "4/4 - 0s - loss: 0.0118 - accuracy: 0.9973 - val_loss: 0.1413 - val_accuracy: 0.9451 - 64ms/epoch - 16ms/step\n",
            "Epoch 44/100\n",
            "4/4 - 0s - loss: 0.0107 - accuracy: 0.9973 - val_loss: 0.1453 - val_accuracy: 0.9451 - 52ms/epoch - 13ms/step\n",
            "Epoch 45/100\n",
            "4/4 - 0s - loss: 0.0101 - accuracy: 0.9973 - val_loss: 0.1455 - val_accuracy: 0.9451 - 68ms/epoch - 17ms/step\n",
            "Epoch 46/100\n",
            "4/4 - 0s - loss: 0.0094 - accuracy: 0.9973 - val_loss: 0.1551 - val_accuracy: 0.9451 - 56ms/epoch - 14ms/step\n",
            "Epoch 47/100\n",
            "4/4 - 0s - loss: 0.0083 - accuracy: 1.0000 - val_loss: 0.1478 - val_accuracy: 0.9451 - 78ms/epoch - 20ms/step\n",
            "Epoch 48/100\n",
            "4/4 - 0s - loss: 0.0080 - accuracy: 0.9973 - val_loss: 0.1590 - val_accuracy: 0.9451 - 61ms/epoch - 15ms/step\n",
            "Epoch 49/100\n",
            "4/4 - 0s - loss: 0.0076 - accuracy: 1.0000 - val_loss: 0.1615 - val_accuracy: 0.9451 - 58ms/epoch - 14ms/step\n",
            "Epoch 50/100\n",
            "4/4 - 0s - loss: 0.0067 - accuracy: 1.0000 - val_loss: 0.1551 - val_accuracy: 0.9451 - 59ms/epoch - 15ms/step\n",
            "Epoch 51/100\n",
            "4/4 - 0s - loss: 0.0065 - accuracy: 1.0000 - val_loss: 0.1674 - val_accuracy: 0.9451 - 54ms/epoch - 14ms/step\n",
            "Epoch 52/100\n",
            "4/4 - 0s - loss: 0.0054 - accuracy: 1.0000 - val_loss: 0.1676 - val_accuracy: 0.9451 - 84ms/epoch - 21ms/step\n",
            "Epoch 53/100\n",
            "4/4 - 0s - loss: 0.0052 - accuracy: 1.0000 - val_loss: 0.1734 - val_accuracy: 0.9451 - 63ms/epoch - 16ms/step\n",
            "Epoch 54/100\n",
            "4/4 - 0s - loss: 0.0048 - accuracy: 1.0000 - val_loss: 0.1793 - val_accuracy: 0.9451 - 55ms/epoch - 14ms/step\n",
            "Epoch 55/100\n",
            "4/4 - 0s - loss: 0.0043 - accuracy: 1.0000 - val_loss: 0.1800 - val_accuracy: 0.9451 - 63ms/epoch - 16ms/step\n",
            "Epoch 56/100\n",
            "4/4 - 0s - loss: 0.0039 - accuracy: 1.0000 - val_loss: 0.1791 - val_accuracy: 0.9451 - 65ms/epoch - 16ms/step\n",
            "Epoch 57/100\n",
            "4/4 - 0s - loss: 0.0035 - accuracy: 1.0000 - val_loss: 0.1865 - val_accuracy: 0.9451 - 66ms/epoch - 17ms/step\n",
            "Epoch 58/100\n",
            "4/4 - 0s - loss: 0.0032 - accuracy: 1.0000 - val_loss: 0.1988 - val_accuracy: 0.9451 - 70ms/epoch - 18ms/step\n",
            "Epoch 59/100\n",
            "4/4 - 0s - loss: 0.0031 - accuracy: 1.0000 - val_loss: 0.1918 - val_accuracy: 0.9451 - 72ms/epoch - 18ms/step\n",
            "Epoch 60/100\n",
            "4/4 - 0s - loss: 0.0026 - accuracy: 1.0000 - val_loss: 0.1989 - val_accuracy: 0.9451 - 69ms/epoch - 17ms/step\n",
            "Epoch 61/100\n",
            "4/4 - 0s - loss: 0.0022 - accuracy: 1.0000 - val_loss: 0.2033 - val_accuracy: 0.9451 - 112ms/epoch - 28ms/step\n",
            "Epoch 62/100\n",
            "4/4 - 0s - loss: 0.0019 - accuracy: 1.0000 - val_loss: 0.1995 - val_accuracy: 0.9451 - 100ms/epoch - 25ms/step\n",
            "Epoch 63/100\n",
            "4/4 - 0s - loss: 0.0019 - accuracy: 1.0000 - val_loss: 0.2010 - val_accuracy: 0.9560 - 88ms/epoch - 22ms/step\n",
            "Epoch 64/100\n",
            "4/4 - 0s - loss: 0.0017 - accuracy: 1.0000 - val_loss: 0.2054 - val_accuracy: 0.9451 - 89ms/epoch - 22ms/step\n",
            "Epoch 65/100\n",
            "4/4 - 0s - loss: 0.0015 - accuracy: 1.0000 - val_loss: 0.2214 - val_accuracy: 0.9451 - 94ms/epoch - 24ms/step\n",
            "Epoch 66/100\n",
            "4/4 - 0s - loss: 0.0013 - accuracy: 1.0000 - val_loss: 0.2174 - val_accuracy: 0.9451 - 106ms/epoch - 26ms/step\n",
            "Epoch 67/100\n",
            "4/4 - 0s - loss: 0.0012 - accuracy: 1.0000 - val_loss: 0.2225 - val_accuracy: 0.9451 - 61ms/epoch - 15ms/step\n",
            "Epoch 68/100\n",
            "4/4 - 0s - loss: 0.0011 - accuracy: 1.0000 - val_loss: 0.2262 - val_accuracy: 0.9451 - 58ms/epoch - 15ms/step\n",
            "Epoch 69/100\n",
            "4/4 - 0s - loss: 9.2576e-04 - accuracy: 1.0000 - val_loss: 0.2312 - val_accuracy: 0.9560 - 80ms/epoch - 20ms/step\n",
            "Epoch 70/100\n",
            "4/4 - 0s - loss: 8.8388e-04 - accuracy: 1.0000 - val_loss: 0.2368 - val_accuracy: 0.9451 - 62ms/epoch - 15ms/step\n",
            "Epoch 71/100\n",
            "4/4 - 0s - loss: 8.0264e-04 - accuracy: 1.0000 - val_loss: 0.2486 - val_accuracy: 0.9560 - 70ms/epoch - 18ms/step\n",
            "Epoch 72/100\n",
            "4/4 - 0s - loss: 6.4298e-04 - accuracy: 1.0000 - val_loss: 0.2379 - val_accuracy: 0.9560 - 119ms/epoch - 30ms/step\n",
            "Epoch 73/100\n",
            "4/4 - 0s - loss: 5.7777e-04 - accuracy: 1.0000 - val_loss: 0.2458 - val_accuracy: 0.9451 - 126ms/epoch - 31ms/step\n",
            "Epoch 74/100\n",
            "4/4 - 0s - loss: 5.1855e-04 - accuracy: 1.0000 - val_loss: 0.2484 - val_accuracy: 0.9560 - 104ms/epoch - 26ms/step\n",
            "Epoch 75/100\n",
            "4/4 - 0s - loss: 4.7498e-04 - accuracy: 1.0000 - val_loss: 0.2474 - val_accuracy: 0.9560 - 67ms/epoch - 17ms/step\n",
            "Epoch 76/100\n",
            "4/4 - 0s - loss: 4.0741e-04 - accuracy: 1.0000 - val_loss: 0.2510 - val_accuracy: 0.9560 - 100ms/epoch - 25ms/step\n",
            "Epoch 77/100\n",
            "4/4 - 0s - loss: 3.5706e-04 - accuracy: 1.0000 - val_loss: 0.2547 - val_accuracy: 0.9560 - 108ms/epoch - 27ms/step\n",
            "Epoch 78/100\n",
            "4/4 - 0s - loss: 3.0674e-04 - accuracy: 1.0000 - val_loss: 0.2482 - val_accuracy: 0.9560 - 110ms/epoch - 27ms/step\n",
            "Epoch 79/100\n",
            "4/4 - 0s - loss: 3.0497e-04 - accuracy: 1.0000 - val_loss: 0.2566 - val_accuracy: 0.9560 - 123ms/epoch - 31ms/step\n",
            "Epoch 80/100\n",
            "4/4 - 0s - loss: 2.6763e-04 - accuracy: 1.0000 - val_loss: 0.2667 - val_accuracy: 0.9560 - 57ms/epoch - 14ms/step\n",
            "Epoch 81/100\n",
            "4/4 - 0s - loss: 2.2758e-04 - accuracy: 1.0000 - val_loss: 0.2767 - val_accuracy: 0.9560 - 62ms/epoch - 15ms/step\n",
            "Epoch 82/100\n",
            "4/4 - 0s - loss: 2.1482e-04 - accuracy: 1.0000 - val_loss: 0.2789 - val_accuracy: 0.9560 - 58ms/epoch - 14ms/step\n",
            "Epoch 83/100\n",
            "4/4 - 0s - loss: 1.7898e-04 - accuracy: 1.0000 - val_loss: 0.2858 - val_accuracy: 0.9560 - 130ms/epoch - 32ms/step\n",
            "Epoch 84/100\n",
            "4/4 - 0s - loss: 1.6761e-04 - accuracy: 1.0000 - val_loss: 0.2751 - val_accuracy: 0.9560 - 81ms/epoch - 20ms/step\n",
            "Epoch 85/100\n",
            "4/4 - 0s - loss: 1.4634e-04 - accuracy: 1.0000 - val_loss: 0.2785 - val_accuracy: 0.9560 - 63ms/epoch - 16ms/step\n",
            "Epoch 86/100\n",
            "4/4 - 0s - loss: 1.1470e-04 - accuracy: 1.0000 - val_loss: 0.2828 - val_accuracy: 0.9560 - 80ms/epoch - 20ms/step\n",
            "Epoch 87/100\n",
            "4/4 - 0s - loss: 1.1170e-04 - accuracy: 1.0000 - val_loss: 0.2918 - val_accuracy: 0.9560 - 66ms/epoch - 16ms/step\n",
            "Epoch 88/100\n",
            "4/4 - 0s - loss: 8.8338e-05 - accuracy: 1.0000 - val_loss: 0.2918 - val_accuracy: 0.9560 - 64ms/epoch - 16ms/step\n",
            "Epoch 89/100\n",
            "4/4 - 0s - loss: 9.2100e-05 - accuracy: 1.0000 - val_loss: 0.2965 - val_accuracy: 0.9560 - 79ms/epoch - 20ms/step\n",
            "Epoch 90/100\n",
            "4/4 - 0s - loss: 8.6814e-05 - accuracy: 1.0000 - val_loss: 0.2954 - val_accuracy: 0.9560 - 204ms/epoch - 51ms/step\n",
            "Epoch 91/100\n",
            "4/4 - 0s - loss: 5.8777e-05 - accuracy: 1.0000 - val_loss: 0.2933 - val_accuracy: 0.9560 - 94ms/epoch - 24ms/step\n",
            "Epoch 92/100\n",
            "4/4 - 0s - loss: 6.6713e-05 - accuracy: 1.0000 - val_loss: 0.3064 - val_accuracy: 0.9560 - 56ms/epoch - 14ms/step\n",
            "Epoch 93/100\n",
            "4/4 - 0s - loss: 5.3779e-05 - accuracy: 1.0000 - val_loss: 0.3109 - val_accuracy: 0.9560 - 51ms/epoch - 13ms/step\n",
            "Epoch 94/100\n",
            "4/4 - 0s - loss: 5.4959e-05 - accuracy: 1.0000 - val_loss: 0.3234 - val_accuracy: 0.9560 - 55ms/epoch - 14ms/step\n",
            "Epoch 95/100\n",
            "4/4 - 0s - loss: 3.5635e-05 - accuracy: 1.0000 - val_loss: 0.3226 - val_accuracy: 0.9560 - 62ms/epoch - 16ms/step\n",
            "Epoch 96/100\n",
            "4/4 - 0s - loss: 3.5806e-05 - accuracy: 1.0000 - val_loss: 0.3352 - val_accuracy: 0.9560 - 85ms/epoch - 21ms/step\n",
            "Epoch 97/100\n",
            "4/4 - 0s - loss: 2.8543e-05 - accuracy: 1.0000 - val_loss: 0.3254 - val_accuracy: 0.9560 - 65ms/epoch - 16ms/step\n",
            "Epoch 98/100\n",
            "4/4 - 0s - loss: 2.7187e-05 - accuracy: 1.0000 - val_loss: 0.3223 - val_accuracy: 0.9560 - 78ms/epoch - 20ms/step\n",
            "Epoch 99/100\n",
            "4/4 - 0s - loss: 2.4270e-05 - accuracy: 1.0000 - val_loss: 0.3275 - val_accuracy: 0.9560 - 88ms/epoch - 22ms/step\n",
            "Epoch 100/100\n",
            "4/4 - 0s - loss: 1.9089e-05 - accuracy: 1.0000 - val_loss: 0.3357 - val_accuracy: 0.9560 - 62ms/epoch - 15ms/step\n"
          ]
        }
      ]
    },
    {
      "cell_type": "code",
      "source": [
        "model2.evaluate(X_test, y_test)"
      ],
      "metadata": {
        "colab": {
          "base_uri": "https://localhost:8080/"
        },
        "id": "XiEFUoangR-3",
        "outputId": "261e9b4f-839b-4b20-fc7d-a37d21bea926"
      },
      "execution_count": 15,
      "outputs": [
        {
          "output_type": "stream",
          "name": "stdout",
          "text": [
            "4/4 [==============================] - 0s 3ms/step - loss: 0.1177 - accuracy: 0.9737\n"
          ]
        },
        {
          "output_type": "execute_result",
          "data": {
            "text/plain": [
              "[0.11771054565906525, 0.9736841917037964]"
            ]
          },
          "metadata": {},
          "execution_count": 15
        }
      ]
    },
    {
      "cell_type": "code",
      "source": [
        "y_acc2 = hist2.history['accuracy']\n",
        "y_vloss2 = hist2.history['val_loss']\n",
        "xs = np.arange(1, len(y_acc)+1)"
      ],
      "metadata": {
        "id": "7q2O5d-Ufro9"
      },
      "execution_count": 16,
      "outputs": []
    },
    {
      "cell_type": "code",
      "source": [
        "y_acc = hist.history['accuracy']\n",
        "y_vloss = hist.history['val_loss']\n",
        "xs = np.arange(1, len(y_acc)+1)\n"
      ],
      "metadata": {
        "id": "m-XLjoQugd_5"
      },
      "execution_count": 17,
      "outputs": []
    },
    {
      "cell_type": "code",
      "source": [
        "plt.figure(figsize=(12, 8))\n",
        "plt.subplot(121)\n",
        "plt.plot(xs, y_acc2, label='train.accuracy')\n",
        "plt.plot(xs, y_vloss2, label='validation loss')\n",
        "plt.legend(), plt.grid()\n",
        "plt.ylim([0,1.2])\n",
        "plt.xlabel('Epoch')\n",
        "plt.title('Adam optimizer')\n",
        "\n",
        "\n",
        "plt.subplot(122)\n",
        "plt.plot(xs, y_acc, label='train.accuracy')\n",
        "plt.plot(xs, y_vloss, label='validation loss')\n",
        "plt.legend(), plt.grid()\n",
        "plt.ylim([0,1.2])\n",
        "plt.xlabel('Epoch')\n",
        "plt.title('RMSprop optimizer')\n",
        "plt.show()"
      ],
      "metadata": {
        "colab": {
          "base_uri": "https://localhost:8080/",
          "height": 513
        },
        "id": "ssL-a4WMgAe2",
        "outputId": "864d2b17-77be-4259-f995-32aa32f40a53"
      },
      "execution_count": 18,
      "outputs": [
        {
          "output_type": "display_data",
          "data": {
            "text/plain": [
              "<Figure size 864x576 with 2 Axes>"
            ],
            "image/png": "[encoded data removed]"
          },
          "metadata": {
            "needs_background": "light"
          }
        }
      ]
    }
  ]
}