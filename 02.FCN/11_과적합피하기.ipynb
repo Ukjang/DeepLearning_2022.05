{
  "nbformat": 4,
  "nbformat_minor": 0,
  "metadata": {
    "colab": {
      "name": "11_과적합피하기.ipynb",
      "provenance": []
    },
    "kernelspec": {
      "name": "python3",
      "display_name": "Python 3"
    },
    "language_info": {
      "name": "python"
    }
  },
  "cells": [
    {
      "cell_type": "markdown",
      "source": [
        "### 과적합 피하기 - 초음파 광물 데이터"
      ],
      "metadata": {
        "id": "-pLTJxx0phCP"
      }
    },
    {
      "cell_type": "code",
      "source": [
        "import numpy as np\n",
        "import pandas as pd\n",
        "import matplotlib.pyplot as plt\n",
        "import tensorflow as tf\n",
        "seed = 2022\n",
        "np.random.seed(seed)\n",
        "tf.random.set_seed(seed)"
      ],
      "metadata": {
        "id": "H7FatzTmplyk"
      },
      "execution_count": 1,
      "outputs": []
    },
    {
      "cell_type": "code",
      "source": [
        "from google.colab import files\n",
        "up = files.upload()"
      ],
      "metadata": {
        "colab": {
          "resources": {
            "http://localhost:8080/nbextensions/google.colab/files.js": {
              "data": "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",
              "ok": true,
              "headers": [
                [
                  "content-type",
                  "application/javascript"
                ]
              ],
              "status": 200,
              "status_text": ""
            }
          },
          "base_uri": "https://localhost:8080/",
          "height": 73
        },
        "id": "B5Vb6Ek5pol7",
        "outputId": "1e8ea72d-86a7-44c5-c274-86c9b3a737f2"
      },
      "execution_count": 3,
      "outputs": [
        {
          "output_type": "display_data",
          "data": {
            "text/plain": [
              "<IPython.core.display.HTML object>"
            ],
            "text/html": [
              "\n",
              "     <input type=\"file\" id=\"files-6dcebedf-1cde-463d-8dd5-a7eef5a2b9c8\" name=\"files[]\" multiple disabled\n",
              "        style=\"border:none\" />\n",
              "     <output id=\"result-6dcebedf-1cde-463d-8dd5-a7eef5a2b9c8\">\n",
              "      Upload widget is only available when the cell has been executed in the\n",
              "      current browser session. Please rerun this cell to enable.\n",
              "      </output>\n",
              "      <script src=\"/nbextensions/google.colab/files.js\"></script> "
            ]
          },
          "metadata": {}
        },
        {
          "output_type": "stream",
          "name": "stdout",
          "text": [
            "Saving sonar.csv to sonar.csv\n"
          ]
        }
      ]
    },
    {
      "cell_type": "code",
      "source": [
        "df = pd.read_csv('sonar.csv', header=None)\n",
        "df.head()"
      ],
      "metadata": {
        "colab": {
          "base_uri": "https://localhost:8080/",
          "height": 300
        },
        "id": "BOKl4C-TqKn3",
        "outputId": "9a9c4798-fcfc-409d-ecc8-49f03a4c58ca"
      },
      "execution_count": 5,
      "outputs": [
        {
          "output_type": "execute_result",
          "data": {
            "text/plain": [
              "       0       1       2       3       4       5       6       7       8   \\\n",
              "0  0.0200  0.0371  0.0428  0.0207  0.0954  0.0986  0.1539  0.1601  0.3109   \n",
              "1  0.0453  0.0523  0.0843  0.0689  0.1183  0.2583  0.2156  0.3481  0.3337   \n",
              "2  0.0262  0.0582  0.1099  0.1083  0.0974  0.2280  0.2431  0.3771  0.5598   \n",
              "3  0.0100  0.0171  0.0623  0.0205  0.0205  0.0368  0.1098  0.1276  0.0598   \n",
              "4  0.0762  0.0666  0.0481  0.0394  0.0590  0.0649  0.1209  0.2467  0.3564   \n",
              "\n",
              "       9   ...      51      52      53      54      55      56      57  \\\n",
              "0  0.2111  ...  0.0027  0.0065  0.0159  0.0072  0.0167  0.0180  0.0084   \n",
              "1  0.2872  ...  0.0084  0.0089  0.0048  0.0094  0.0191  0.0140  0.0049   \n",
              "2  0.6194  ...  0.0232  0.0166  0.0095  0.0180  0.0244  0.0316  0.0164   \n",
              "3  0.1264  ...  0.0121  0.0036  0.0150  0.0085  0.0073  0.0050  0.0044   \n",
              "4  0.4459  ...  0.0031  0.0054  0.0105  0.0110  0.0015  0.0072  0.0048   \n",
              "\n",
              "       58      59  60  \n",
              "0  0.0090  0.0032   R  \n",
              "1  0.0052  0.0044   R  \n",
              "2  0.0095  0.0078   R  \n",
              "3  0.0040  0.0117   R  \n",
              "4  0.0107  0.0094   R  \n",
              "\n",
              "[5 rows x 61 columns]"
            ],
            "text/html": [
              "\n",
              "  <div id=\"df-1f2ab223-a5d9-4134-ae97-8fddd5921511\">\n",
              "    <div class=\"colab-df-container\">\n",
              "      <div>\n",
              "<style scoped>\n",
              "    .dataframe tbody tr th:only-of-type {\n",
              "        vertical-align: middle;\n",
              "    }\n",
              "\n",
              "    .dataframe tbody tr th {\n",
              "        vertical-align: top;\n",
              "    }\n",
              "\n",
              "    .dataframe thead th {\n",
              "        text-align: right;\n",
              "    }\n",
              "</style>\n",
              "<table border=\"1\" class=\"dataframe\">\n",
              "  <thead>\n",
              "    <tr style=\"text-align: right;\">\n",
              "      <th></th>\n",
              "      <th>0</th>\n",
              "      <th>1</th>\n",
              "      <th>2</th>\n",
              "      <th>3</th>\n",
              "      <th>4</th>\n",
              "      <th>5</th>\n",
              "      <th>6</th>\n",
              "      <th>7</th>\n",
              "      <th>8</th>\n",
              "      <th>9</th>\n",
              "      <th>...</th>\n",
              "      <th>51</th>\n",
              "      <th>52</th>\n",
              "      <th>53</th>\n",
              "      <th>54</th>\n",
              "      <th>55</th>\n",
              "      <th>56</th>\n",
              "      <th>57</th>\n",
              "      <th>58</th>\n",
              "      <th>59</th>\n",
              "      <th>60</th>\n",
              "    </tr>\n",
              "  </thead>\n",
              "  <tbody>\n",
              "    <tr>\n",
              "      <th>0</th>\n",
              "      <td>0.0200</td>\n",
              "      <td>0.0371</td>\n",
              "      <td>0.0428</td>\n",
              "      <td>0.0207</td>\n",
              "      <td>0.0954</td>\n",
              "      <td>0.0986</td>\n",
              "      <td>0.1539</td>\n",
              "      <td>0.1601</td>\n",
              "      <td>0.3109</td>\n",
              "      <td>0.2111</td>\n",
              "      <td>...</td>\n",
              "      <td>0.0027</td>\n",
              "      <td>0.0065</td>\n",
              "      <td>0.0159</td>\n",
              "      <td>0.0072</td>\n",
              "      <td>0.0167</td>\n",
              "      <td>0.0180</td>\n",
              "      <td>0.0084</td>\n",
              "      <td>0.0090</td>\n",
              "      <td>0.0032</td>\n",
              "      <td>R</td>\n",
              "    </tr>\n",
              "    <tr>\n",
              "      <th>1</th>\n",
              "      <td>0.0453</td>\n",
              "      <td>0.0523</td>\n",
              "      <td>0.0843</td>\n",
              "      <td>0.0689</td>\n",
              "      <td>0.1183</td>\n",
              "      <td>0.2583</td>\n",
              "      <td>0.2156</td>\n",
              "      <td>0.3481</td>\n",
              "      <td>0.3337</td>\n",
              "      <td>0.2872</td>\n",
              "      <td>...</td>\n",
              "      <td>0.0084</td>\n",
              "      <td>0.0089</td>\n",
              "      <td>0.0048</td>\n",
              "      <td>0.0094</td>\n",
              "      <td>0.0191</td>\n",
              "      <td>0.0140</td>\n",
              "      <td>0.0049</td>\n",
              "      <td>0.0052</td>\n",
              "      <td>0.0044</td>\n",
              "      <td>R</td>\n",
              "    </tr>\n",
              "    <tr>\n",
              "      <th>2</th>\n",
              "      <td>0.0262</td>\n",
              "      <td>0.0582</td>\n",
              "      <td>0.1099</td>\n",
              "      <td>0.1083</td>\n",
              "      <td>0.0974</td>\n",
              "      <td>0.2280</td>\n",
              "      <td>0.2431</td>\n",
              "      <td>0.3771</td>\n",
              "      <td>0.5598</td>\n",
              "      <td>0.6194</td>\n",
              "      <td>...</td>\n",
              "      <td>0.0232</td>\n",
              "      <td>0.0166</td>\n",
              "      <td>0.0095</td>\n",
              "      <td>0.0180</td>\n",
              "      <td>0.0244</td>\n",
              "      <td>0.0316</td>\n",
              "      <td>0.0164</td>\n",
              "      <td>0.0095</td>\n",
              "      <td>0.0078</td>\n",
              "      <td>R</td>\n",
              "    </tr>\n",
              "    <tr>\n",
              "      <th>3</th>\n",
              "      <td>0.0100</td>\n",
              "      <td>0.0171</td>\n",
              "      <td>0.0623</td>\n",
              "      <td>0.0205</td>\n",
              "      <td>0.0205</td>\n",
              "      <td>0.0368</td>\n",
              "      <td>0.1098</td>\n",
              "      <td>0.1276</td>\n",
              "      <td>0.0598</td>\n",
              "      <td>0.1264</td>\n",
              "      <td>...</td>\n",
              "      <td>0.0121</td>\n",
              "      <td>0.0036</td>\n",
              "      <td>0.0150</td>\n",
              "      <td>0.0085</td>\n",
              "      <td>0.0073</td>\n",
              "      <td>0.0050</td>\n",
              "      <td>0.0044</td>\n",
              "      <td>0.0040</td>\n",
              "      <td>0.0117</td>\n",
              "      <td>R</td>\n",
              "    </tr>\n",
              "    <tr>\n",
              "      <th>4</th>\n",
              "      <td>0.0762</td>\n",
              "      <td>0.0666</td>\n",
              "      <td>0.0481</td>\n",
              "      <td>0.0394</td>\n",
              "      <td>0.0590</td>\n",
              "      <td>0.0649</td>\n",
              "      <td>0.1209</td>\n",
              "      <td>0.2467</td>\n",
              "      <td>0.3564</td>\n",
              "      <td>0.4459</td>\n",
              "      <td>...</td>\n",
              "      <td>0.0031</td>\n",
              "      <td>0.0054</td>\n",
              "      <td>0.0105</td>\n",
              "      <td>0.0110</td>\n",
              "      <td>0.0015</td>\n",
              "      <td>0.0072</td>\n",
              "      <td>0.0048</td>\n",
              "      <td>0.0107</td>\n",
              "      <td>0.0094</td>\n",
              "      <td>R</td>\n",
              "    </tr>\n",
              "  </tbody>\n",
              "</table>\n",
              "<p>5 rows × 61 columns</p>\n",
              "</div>\n",
              "      <button class=\"colab-df-convert\" onclick=\"convertToInteractive('df-1f2ab223-a5d9-4134-ae97-8fddd5921511')\"\n",
              "              title=\"Convert this dataframe to an interactive table.\"\n",
              "              style=\"display:none;\">\n",
              "        \n",
              "  <svg xmlns=\"http://www.w3.org/2000/svg\" height=\"24px\"viewBox=\"0 0 24 24\"\n",
              "       width=\"24px\">\n",
              "    <path d=\"M0 0h24v24H0V0z\" fill=\"none\"/>\n",
              "    <path d=\"M18.56 5.44l.94 2.06.94-2.06 2.06-.94-2.06-.94-.94-2.06-.94 2.06-2.06.94zm-11 1L8.5 8.5l.94-2.06 2.06-.94-2.06-.94L8.5 2.5l-.94 2.06-2.06.94zm10 10l.94 2.06.94-2.06 2.06-.94-2.06-.94-.94-2.06-.94 2.06-2.06.94z\"/><path d=\"M17.41 7.96l-1.37-1.37c-.4-.4-.92-.59-1.43-.59-.52 0-1.04.2-1.43.59L10.3 9.45l-7.72 7.72c-.78.78-.78 2.05 0 2.83L4 21.41c.39.39.9.59 1.41.59.51 0 1.02-.2 1.41-.59l7.78-7.78 2.81-2.81c.8-.78.8-2.07 0-2.86zM5.41 20L4 18.59l7.72-7.72 1.47 1.35L5.41 20z\"/>\n",
              "  </svg>\n",
              "      </button>\n",
              "      \n",
              "  <style>\n",
              "    .colab-df-container {\n",
              "      display:flex;\n",
              "      flex-wrap:wrap;\n",
              "      gap: 12px;\n",
              "    }\n",
              "\n",
              "    .colab-df-convert {\n",
              "      background-color: #E8F0FE;\n",
              "      border: none;\n",
              "      border-radius: 50%;\n",
              "      cursor: pointer;\n",
              "      display: none;\n",
              "      fill: #1967D2;\n",
              "      height: 32px;\n",
              "      padding: 0 0 0 0;\n",
              "      width: 32px;\n",
              "    }\n",
              "\n",
              "    .colab-df-convert:hover {\n",
              "      background-color: #E2EBFA;\n",
              "      box-shadow: 0px 1px 2px rgba(60, 64, 67, 0.3), 0px 1px 3px 1px rgba(60, 64, 67, 0.15);\n",
              "      fill: #174EA6;\n",
              "    }\n",
              "\n",
              "    [theme=dark] .colab-df-convert {\n",
              "      background-color: #3B4455;\n",
              "      fill: #D2E3FC;\n",
              "    }\n",
              "\n",
              "    [theme=dark] .colab-df-convert:hover {\n",
              "      background-color: #434B5C;\n",
              "      box-shadow: 0px 1px 3px 1px rgba(0, 0, 0, 0.15);\n",
              "      filter: drop-shadow(0px 1px 2px rgba(0, 0, 0, 0.3));\n",
              "      fill: #FFFFFF;\n",
              "    }\n",
              "  </style>\n",
              "\n",
              "      <script>\n",
              "        const buttonEl =\n",
              "          document.querySelector('#df-1f2ab223-a5d9-4134-ae97-8fddd5921511 button.colab-df-convert');\n",
              "        buttonEl.style.display =\n",
              "          google.colab.kernel.accessAllowed ? 'block' : 'none';\n",
              "\n",
              "        async function convertToInteractive(key) {\n",
              "          const element = document.querySelector('#df-1f2ab223-a5d9-4134-ae97-8fddd5921511');\n",
              "          const dataTable =\n",
              "            await google.colab.kernel.invokeFunction('convertToInteractive',\n",
              "                                                     [key], {});\n",
              "          if (!dataTable) return;\n",
              "\n",
              "          const docLinkHtml = 'Like what you see? Visit the ' +\n",
              "            '<a target=\"_blank\" href=https://colab.research.google.com/notebooks/data_table.ipynb>data table notebook</a>'\n",
              "            + ' to learn more about interactive tables.';\n",
              "          element.innerHTML = '';\n",
              "          dataTable['output_type'] = 'display_data';\n",
              "          await google.colab.output.renderOutput(dataTable, element);\n",
              "          const docLink = document.createElement('div');\n",
              "          docLink.innerHTML = docLinkHtml;\n",
              "          element.appendChild(docLink);\n",
              "        }\n",
              "      </script>\n",
              "    </div>\n",
              "  </div>\n",
              "  "
            ]
          },
          "metadata": {},
          "execution_count": 5
        }
      ]
    },
    {
      "cell_type": "code",
      "source": [
        "df[60].value_counts()"
      ],
      "metadata": {
        "colab": {
          "base_uri": "https://localhost:8080/"
        },
        "id": "AMAY-r8pqTpj",
        "outputId": "4661c983-2c58-4414-aec9-b9f33cdc35cd"
      },
      "execution_count": 6,
      "outputs": [
        {
          "output_type": "execute_result",
          "data": {
            "text/plain": [
              "M    111\n",
              "R     97\n",
              "Name: 60, dtype: int64"
            ]
          },
          "metadata": {},
          "execution_count": 6
        }
      ]
    },
    {
      "cell_type": "code",
      "source": [
        "# X data : scaling\n",
        "from sklearn.preprocessing import StandardScaler\n",
        "X_scaled = StandardScaler().fit_transform(df[df.columns[:-1]].values)"
      ],
      "metadata": {
        "id": "Aaav_8UTqpiG"
      },
      "execution_count": 8,
      "outputs": []
    },
    {
      "cell_type": "code",
      "source": [
        "# Y data : label encoding\n",
        "from sklearn.preprocessing import LabelEncoder\n",
        "y_labeled = LabelEncoder().fit_transform(df[60].values)"
      ],
      "metadata": {
        "id": "Mjk3BzsqrYHI"
      },
      "execution_count": 9,
      "outputs": []
    },
    {
      "cell_type": "code",
      "source": [
        "from sklearn.model_selection import train_test_split\n",
        "X_train, X_test, y_train, y_test = train_test_split(\n",
        "    X_scaled, y_labeled, stratify=y_labeled, test_size=0.2,\n",
        "    random_state=seed\n",
        ")"
      ],
      "metadata": {
        "id": "u0NOmdbesA1E"
      },
      "execution_count": 10,
      "outputs": []
    },
    {
      "cell_type": "markdown",
      "source": [
        "### 모델 정의/설정/학습/결과"
      ],
      "metadata": {
        "id": "Isgbi9s7s7bj"
      }
    },
    {
      "cell_type": "code",
      "source": [
        "from tensorflow.keras.models import Sequential\n",
        "from tensorflow.keras.layers import Dense"
      ],
      "metadata": {
        "id": "JVKw8b2VsMlQ"
      },
      "execution_count": 11,
      "outputs": []
    },
    {
      "cell_type": "markdown",
      "source": [
        "- case 1) 은닉층 2개"
      ],
      "metadata": {
        "id": "OOjY8ZQns5Zz"
      }
    },
    {
      "cell_type": "code",
      "source": [
        "model = Sequential([\n",
        "    Dense(80, input_dim=60, activation='relu'),\n",
        "    Dense(12, activation='relu'),\n",
        "    Dense(1, activation='sigmoid'),  \n",
        "])"
      ],
      "metadata": {
        "id": "WFaSrIUhs6rZ"
      },
      "execution_count": 12,
      "outputs": []
    },
    {
      "cell_type": "code",
      "source": [
        "model.summary()"
      ],
      "metadata": {
        "colab": {
          "base_uri": "https://localhost:8080/"
        },
        "id": "Xt2T-H3ItM_j",
        "outputId": "af6dae00-6d73-4051-95c9-b7a21fab746d"
      },
      "execution_count": 15,
      "outputs": [
        {
          "output_type": "stream",
          "name": "stdout",
          "text": [
            "Model: \"sequential\"\n",
            "_________________________________________________________________\n",
            " Layer (type)                Output Shape              Param #   \n",
            "=================================================================\n",
            " dense (Dense)               (None, 80)                4880      \n",
            "                                                                 \n",
            " dense_1 (Dense)             (None, 12)                972       \n",
            "                                                                 \n",
            " dense_2 (Dense)             (None, 1)                 13        \n",
            "                                                                 \n",
            "=================================================================\n",
            "Total params: 5,865\n",
            "Trainable params: 5,865\n",
            "Non-trainable params: 0\n",
            "_________________________________________________________________\n"
          ]
        }
      ]
    },
    {
      "cell_type": "code",
      "source": [
        "model.compile('adam', 'binary_crossentropy', ['accuracy'])\n",
        "hist1 = model.fit(X_train, y_train, validation_split=0.2,\n",
        "          epochs=200, batch_size=100, verbose=0)"
      ],
      "metadata": {
        "id": "QENmZ2W4tOBD"
      },
      "execution_count": 17,
      "outputs": []
    },
    {
      "cell_type": "code",
      "source": [
        "model.evaluate(X_test, y_test)"
      ],
      "metadata": {
        "colab": {
          "base_uri": "https://localhost:8080/"
        },
        "id": "dHzWY0MFuVz4",
        "outputId": "ad53e000-d29c-47d2-fbe8-db61ec2fce08"
      },
      "execution_count": 18,
      "outputs": [
        {
          "output_type": "stream",
          "name": "stdout",
          "text": [
            "2/2 [==============================] - 0s 10ms/step - loss: 0.3303 - accuracy: 0.9048\n"
          ]
        },
        {
          "output_type": "execute_result",
          "data": {
            "text/plain": [
              "[0.33029451966285706, 0.9047619104385376]"
            ]
          },
          "metadata": {},
          "execution_count": 18
        }
      ]
    },
    {
      "cell_type": "code",
      "source": [
        "params1, acc1 = 5865, 0.9048"
      ],
      "metadata": {
        "id": "2sKYy1WwtVBZ"
      },
      "execution_count": 31,
      "outputs": []
    },
    {
      "cell_type": "code",
      "source": [
        "model2 = Sequential([\n",
        "    Dense(80, input_dim=60, activation='relu'),\n",
        "    Dense(48, activation='relu'),\n",
        "    Dense(20, activation='relu'),\n",
        "    Dense(8, activation='relu'),\n",
        "    Dense(1, activation='sigmoid'),  \n",
        "])"
      ],
      "metadata": {
        "id": "utPG3uLEuaa5"
      },
      "execution_count": 20,
      "outputs": []
    },
    {
      "cell_type": "code",
      "source": [
        "model2.summary()"
      ],
      "metadata": {
        "colab": {
          "base_uri": "https://localhost:8080/"
        },
        "id": "C48et3ZPvCRc",
        "outputId": "bab0e5b3-618c-4fd4-d61e-ec0db2eaa140"
      },
      "execution_count": 21,
      "outputs": [
        {
          "output_type": "stream",
          "name": "stdout",
          "text": [
            "Model: \"sequential_1\"\n",
            "_________________________________________________________________\n",
            " Layer (type)                Output Shape              Param #   \n",
            "=================================================================\n",
            " dense_3 (Dense)             (None, 80)                4880      \n",
            "                                                                 \n",
            " dense_4 (Dense)             (None, 48)                3888      \n",
            "                                                                 \n",
            " dense_5 (Dense)             (None, 20)                980       \n",
            "                                                                 \n",
            " dense_6 (Dense)             (None, 8)                 168       \n",
            "                                                                 \n",
            " dense_7 (Dense)             (None, 1)                 9         \n",
            "                                                                 \n",
            "=================================================================\n",
            "Total params: 9,925\n",
            "Trainable params: 9,925\n",
            "Non-trainable params: 0\n",
            "_________________________________________________________________\n"
          ]
        }
      ]
    },
    {
      "cell_type": "code",
      "source": [
        "model2.compile('adam', 'binary_crossentropy', ['accuracy'])\n",
        "hist2 = model2.fit(X_train, y_train, validation_split=0.2,\n",
        "          epochs=200, batch_size=100, verbose=0)"
      ],
      "metadata": {
        "id": "tLtA4Lcru_i9"
      },
      "execution_count": 22,
      "outputs": []
    },
    {
      "cell_type": "code",
      "source": [
        "model2.evaluate(X_test, y_test)"
      ],
      "metadata": {
        "colab": {
          "base_uri": "https://localhost:8080/"
        },
        "id": "rBEMpD7cvKbQ",
        "outputId": "12eb66a8-b858-4371-9c36-11cb1df4554e"
      },
      "execution_count": 28,
      "outputs": [
        {
          "output_type": "stream",
          "name": "stdout",
          "text": [
            "2/2 [==============================] - 0s 9ms/step - loss: 0.4749 - accuracy: 0.8571\n"
          ]
        },
        {
          "output_type": "execute_result",
          "data": {
            "text/plain": [
              "[0.4749058187007904, 0.8571428656578064]"
            ]
          },
          "metadata": {},
          "execution_count": 28
        }
      ]
    },
    {
      "cell_type": "code",
      "source": [
        "params2, acc2 = 9925, 0.8571"
      ],
      "metadata": {
        "id": "wfntQ1xPvK1e"
      },
      "execution_count": 24,
      "outputs": []
    },
    {
      "cell_type": "markdown",
      "source": [
        "- Case3) 은닉층 6개"
      ],
      "metadata": {
        "id": "D0xud0AEvbXc"
      }
    },
    {
      "cell_type": "code",
      "source": [
        "model3 = Sequential([\n",
        "    Dense(80, input_dim=60, activation='relu'),\n",
        "    Dense(64, activation='relu'),\n",
        "    Dense(40, activation='relu'),        \n",
        "    Dense(24, activation='relu'),\n",
        "    Dense(10, activation='relu'),\n",
        "    Dense(4, activation='relu'),\n",
        "    Dense(1, activation='sigmoid'),  \n",
        "])"
      ],
      "metadata": {
        "id": "0RuQd0ydvm8u"
      },
      "execution_count": 36,
      "outputs": []
    },
    {
      "cell_type": "code",
      "source": [
        "model3.summary()"
      ],
      "metadata": {
        "colab": {
          "base_uri": "https://localhost:8080/"
        },
        "id": "kKfMqkIqvwsw",
        "outputId": "c7a0aa66-17ca-4fa1-a287-7354f7901ccc"
      },
      "execution_count": 37,
      "outputs": [
        {
          "output_type": "stream",
          "name": "stdout",
          "text": [
            "Model: \"sequential_4\"\n",
            "_________________________________________________________________\n",
            " Layer (type)                Output Shape              Param #   \n",
            "=================================================================\n",
            " dense_23 (Dense)            (None, 80)                4880      \n",
            "                                                                 \n",
            " dense_24 (Dense)            (None, 64)                5184      \n",
            "                                                                 \n",
            " dense_25 (Dense)            (None, 40)                2600      \n",
            "                                                                 \n",
            " dense_26 (Dense)            (None, 24)                984       \n",
            "                                                                 \n",
            " dense_27 (Dense)            (None, 10)                250       \n",
            "                                                                 \n",
            " dense_28 (Dense)            (None, 4)                 44        \n",
            "                                                                 \n",
            " dense_29 (Dense)            (None, 1)                 5         \n",
            "                                                                 \n",
            "=================================================================\n",
            "Total params: 13,947\n",
            "Trainable params: 13,947\n",
            "Non-trainable params: 0\n",
            "_________________________________________________________________\n"
          ]
        }
      ]
    },
    {
      "cell_type": "code",
      "source": [
        "model3.compile('adam', 'binary_crossentropy', ['accuracy'])\n",
        "hist3 = model3.fit(X_train, y_train, validation_split=0.2,\n",
        "          epochs=200, batch_size=100, verbose=0)"
      ],
      "metadata": {
        "id": "r0X9iZHcvzDe"
      },
      "execution_count": 38,
      "outputs": []
    },
    {
      "cell_type": "code",
      "source": [
        "model3.evaluate(X_test, y_test)"
      ],
      "metadata": {
        "colab": {
          "base_uri": "https://localhost:8080/"
        },
        "id": "uVBK5mcmv1Wz",
        "outputId": "97bc3b75-4dfd-495f-e0cb-de7e014bcd18"
      },
      "execution_count": 39,
      "outputs": [
        {
          "output_type": "stream",
          "name": "stdout",
          "text": [
            "2/2 [==============================] - 0s 5ms/step - loss: 0.9334 - accuracy: 0.8095\n"
          ]
        },
        {
          "output_type": "execute_result",
          "data": {
            "text/plain": [
              "[0.933374285697937, 0.8095238208770752]"
            ]
          },
          "metadata": {},
          "execution_count": 39
        }
      ]
    },
    {
      "cell_type": "code",
      "source": [
        "params3, acc3 = 13947, 0.8571"
      ],
      "metadata": {
        "id": "uzGx-3zbv7Tt"
      },
      "execution_count": 30,
      "outputs": []
    },
    {
      "cell_type": "markdown",
      "source": [
        " - Case4) 은닉층 8개"
      ],
      "metadata": {
        "id": "gGE5KH70wBhL"
      }
    },
    {
      "cell_type": "code",
      "source": [
        "model4 = Sequential([\n",
        "    Dense(80, input_dim=60, activation='relu'),\n",
        "    Dense(64, activation='relu'),\n",
        "    Dense(48, activation='relu'),    \n",
        "    Dense(36, activation='relu'),        \n",
        "    Dense(28, activation='relu'),\n",
        "    Dense(16, activation='relu'),\n",
        "    Dense(4, activation='relu'),\n",
        "    Dense(1, activation='sigmoid'),  \n",
        "])\n",
        "model4.summary()"
      ],
      "metadata": {
        "colab": {
          "base_uri": "https://localhost:8080/"
        },
        "id": "gbXZMR9hwKI8",
        "outputId": "5b1f1161-fb57-4ff6-acad-c5501056479f"
      },
      "execution_count": 40,
      "outputs": [
        {
          "output_type": "stream",
          "name": "stdout",
          "text": [
            "Model: \"sequential_5\"\n",
            "_________________________________________________________________\n",
            " Layer (type)                Output Shape              Param #   \n",
            "=================================================================\n",
            " dense_30 (Dense)            (None, 80)                4880      \n",
            "                                                                 \n",
            " dense_31 (Dense)            (None, 64)                5184      \n",
            "                                                                 \n",
            " dense_32 (Dense)            (None, 48)                3120      \n",
            "                                                                 \n",
            " dense_33 (Dense)            (None, 36)                1764      \n",
            "                                                                 \n",
            " dense_34 (Dense)            (None, 28)                1036      \n",
            "                                                                 \n",
            " dense_35 (Dense)            (None, 16)                464       \n",
            "                                                                 \n",
            " dense_36 (Dense)            (None, 4)                 68        \n",
            "                                                                 \n",
            " dense_37 (Dense)            (None, 1)                 5         \n",
            "                                                                 \n",
            "=================================================================\n",
            "Total params: 16,521\n",
            "Trainable params: 16,521\n",
            "Non-trainable params: 0\n",
            "_________________________________________________________________\n"
          ]
        }
      ]
    },
    {
      "cell_type": "code",
      "source": [
        "model4.compile('adam', 'binary_crossentropy', ['accuracy'])\n",
        "hist4 = model4.fit(X_train, y_train, validation_split=0.2,\n",
        "          epochs=200, batch_size=100, verbose=0)"
      ],
      "metadata": {
        "id": "15fTcIWQwd9S"
      },
      "execution_count": 41,
      "outputs": []
    },
    {
      "cell_type": "code",
      "source": [
        "model4.evaluate(X_test, y_test)"
      ],
      "metadata": {
        "colab": {
          "base_uri": "https://localhost:8080/"
        },
        "id": "SDW7RuFowgGu",
        "outputId": "ecf23bf7-010d-4d0f-9886-5257447ebee7"
      },
      "execution_count": 42,
      "outputs": [
        {
          "output_type": "stream",
          "name": "stdout",
          "text": [
            "2/2 [==============================] - 0s 16ms/step - loss: 0.9673 - accuracy: 0.8095\n"
          ]
        },
        {
          "output_type": "execute_result",
          "data": {
            "text/plain": [
              "[0.9673464894294739, 0.8095238208770752]"
            ]
          },
          "metadata": {},
          "execution_count": 42
        }
      ]
    },
    {
      "cell_type": "code",
      "source": [
        "params3, acc3 = 16,521, 0.8571"
      ],
      "metadata": {
        "id": "dZy3LkQjwjeX"
      },
      "execution_count": null,
      "outputs": []
    },
    {
      "cell_type": "code",
      "source": [
        "y_acc1 = hist1.history['accuracy']\n",
        "y_acc2 = hist2.history['accuracy']\n",
        "y_acc3 = hist3.history['accuracy']\n",
        "y_acc4 = hist4.history['accuracy']\n",
        "y_vloss1 = hist1.history['val_loss']\n",
        "y_vloss2 = hist2.history['val_loss']\n",
        "y_vloss3 = hist3.history['val_loss']\n",
        "y_vloss4 = hist4.history['val_loss']\n",
        "xs = np.arange(1, len(y_acc1) + 1)"
      ],
      "metadata": {
        "id": "XCVOJs3pxyno"
      },
      "execution_count": 44,
      "outputs": []
    },
    {
      "cell_type": "code",
      "source": [
        "plt.figure(figsize=(12, 8))\n",
        "\n",
        "plt.plot(xs, y_acc1, label='case1')\n",
        "\n",
        "\n",
        "\n",
        "plt.plot(xs, y_acc2, label='case2')\n",
        "\n",
        "\n",
        "\n",
        "plt.plot(xs, y_acc3, label='case3')\n",
        "\n",
        "plt.legend(), plt.grid()\n",
        "\n",
        "\n",
        "plt.plot(xs, y_acc4, label='case4')\n",
        "\n",
        "plt.legend(), plt.grid()\n",
        "\n",
        "plt.ylim([0,1.2])\n",
        "plt.xlabel('Epoch')\n",
        "plt.title('acc')\n",
        "\n",
        "\n",
        "\n",
        "plt.show()"
      ],
      "metadata": {
        "colab": {
          "base_uri": "https://localhost:8080/",
          "height": 513
        },
        "id": "FDk6ZIlAyD2B",
        "outputId": "d9598050-9ce1-4672-c201-ab93b59eb9ec"
      },
      "execution_count": 47,
      "outputs": [
        {
          "output_type": "display_data",
          "data": {
            "text/plain": [
              "<Figure size 864x576 with 1 Axes>"
            ],
            "image/png": "[encoded data removed]"
          },
          "metadata": {
            "needs_background": "light"
          }
        }
      ]
    },
    {
      "cell_type": "code",
      "source": [
        "plt.figure(figsize=(12, 8))\n",
        "\n",
        "\n",
        "plt.plot(xs, y_vloss1, label='case1')\n",
        "\n",
        "\n",
        "\n",
        "plt.plot(xs, y_vloss2, label='case2')\n",
        "\n",
        "\n",
        "\n",
        "plt.plot(xs, y_vloss3, label='case3')\n",
        "plt.legend(), plt.grid()\n",
        "\n",
        "\n",
        "\n",
        "plt.plot(xs, y_vloss4, label='case4')\n",
        "plt.legend(), plt.grid()\n",
        "\n",
        "plt.ylim([0,1.2])\n",
        "plt.xlabel('Epoch')\n",
        "plt.title('vloss')\n",
        "\n",
        "\n",
        "\n",
        "plt.show()"
      ],
      "metadata": {
        "colab": {
          "base_uri": "https://localhost:8080/",
          "height": 513
        },
        "id": "X0SYVp9nynQx",
        "outputId": "a679f4ac-bebc-448a-98ec-7ba462c6c68f"
      },
      "execution_count": 48,
      "outputs": [
        {
          "output_type": "display_data",
          "data": {
            "text/plain": [
              "<Figure size 864x576 with 1 Axes>"
            ],
            "image/png": "[encoded data removed]"
          },
          "metadata": {
            "needs_background": "light"
          }
        }
      ]
    },
    {
      "cell_type": "markdown",
      "source": [
        " - case2 model"
      ],
      "metadata": {
        "id": "dauuzF3wHo0o"
      }
    },
    {
      "cell_type": "code",
      "source": [
        "model = Sequential([\n",
        "    Dense(80, input_dim=60, activation='relu'),\n",
        "    Dense(48, activation='relu'),\n",
        "    Dense(20, activation='relu'),\n",
        "    Dense(8, activation='relu'),\n",
        "    Dense(1, activation='sigmoid'),  \n",
        "])"
      ],
      "metadata": {
        "id": "zsQ74ZtIH3ZN"
      },
      "execution_count": 86,
      "outputs": []
    },
    {
      "cell_type": "code",
      "source": [
        "model.compile('adam', 'binary_crossentropy', ['accuracy'])"
      ],
      "metadata": {
        "id": "-2E1FnkHGV6g"
      },
      "execution_count": 87,
      "outputs": []
    },
    {
      "cell_type": "markdown",
      "source": [
        "- 베스트 모델만 저장하는 콜백 함수"
      ],
      "metadata": {
        "id": "WVV0EhTPGb7C"
      }
    },
    {
      "cell_type": "code",
      "source": [
        "from tensorflow.keras.callbacks import ModelCheckpoint\n",
        "mc = ModelCheckpoint('sonar_best.h5', monitor='val_loss',\n",
        "                     verbose=1, save_best_only=True)"
      ],
      "metadata": {
        "id": "O2WxwVUIGfW3"
      },
      "execution_count": 88,
      "outputs": []
    },
    {
      "cell_type": "code",
      "source": [
        "# epoch가 종료될 때 마다 callback 함수를 실행하도록 설정\n",
        "hist = model.fit(X_train, y_train, validation_split=0.2,\n",
        "          epochs=200, batch_size=100, verbose=0,\n",
        "          callbacks=[mc])"
      ],
      "metadata": {
        "colab": {
          "base_uri": "https://localhost:8080/"
        },
        "id": "3rwb4NayGsfC",
        "outputId": "dfc3961f-01f6-441d-dc30-7bfee909d5da"
      },
      "execution_count": 89,
      "outputs": [
        {
          "output_type": "stream",
          "name": "stdout",
          "text": [
            "\n",
            "Epoch 1: val_loss improved from inf to 0.68776, saving model to sonar_best.h5\n",
            "\n",
            "Epoch 2: val_loss improved from 0.68776 to 0.65990, saving model to sonar_best.h5\n",
            "\n",
            "Epoch 3: val_loss improved from 0.65990 to 0.63526, saving model to sonar_best.h5\n",
            "\n",
            "Epoch 4: val_loss improved from 0.63526 to 0.61386, saving model to sonar_best.h5\n",
            "\n",
            "Epoch 5: val_loss improved from 0.61386 to 0.59457, saving model to sonar_best.h5\n",
            "\n",
            "Epoch 6: val_loss improved from 0.59457 to 0.57560, saving model to sonar_best.h5\n",
            "\n",
            "Epoch 7: val_loss improved from 0.57560 to 0.55782, saving model to sonar_best.h5\n",
            "\n",
            "Epoch 8: val_loss improved from 0.55782 to 0.54056, saving model to sonar_best.h5\n",
            "\n",
            "Epoch 9: val_loss improved from 0.54056 to 0.52352, saving model to sonar_best.h5\n",
            "\n",
            "Epoch 10: val_loss improved from 0.52352 to 0.50621, saving model to sonar_best.h5\n",
            "\n",
            "Epoch 11: val_loss improved from 0.50621 to 0.48877, saving model to sonar_best.h5\n",
            "\n",
            "Epoch 12: val_loss improved from 0.48877 to 0.47211, saving model to sonar_best.h5\n",
            "\n",
            "Epoch 13: val_loss improved from 0.47211 to 0.45510, saving model to sonar_best.h5\n",
            "\n",
            "Epoch 14: val_loss improved from 0.45510 to 0.43792, saving model to sonar_best.h5\n",
            "\n",
            "Epoch 15: val_loss improved from 0.43792 to 0.42258, saving model to sonar_best.h5\n",
            "\n",
            "Epoch 16: val_loss improved from 0.42258 to 0.40886, saving model to sonar_best.h5\n",
            "\n",
            "Epoch 17: val_loss improved from 0.40886 to 0.39627, saving model to sonar_best.h5\n",
            "\n",
            "Epoch 18: val_loss improved from 0.39627 to 0.38467, saving model to sonar_best.h5\n",
            "\n",
            "Epoch 19: val_loss improved from 0.38467 to 0.37392, saving model to sonar_best.h5\n",
            "\n",
            "Epoch 20: val_loss improved from 0.37392 to 0.36475, saving model to sonar_best.h5\n",
            "\n",
            "Epoch 21: val_loss improved from 0.36475 to 0.35693, saving model to sonar_best.h5\n",
            "\n",
            "Epoch 22: val_loss improved from 0.35693 to 0.35015, saving model to sonar_best.h5\n",
            "\n",
            "Epoch 23: val_loss improved from 0.35015 to 0.34443, saving model to sonar_best.h5\n",
            "\n",
            "Epoch 24: val_loss improved from 0.34443 to 0.33911, saving model to sonar_best.h5\n",
            "\n",
            "Epoch 25: val_loss improved from 0.33911 to 0.33317, saving model to sonar_best.h5\n",
            "\n",
            "Epoch 26: val_loss improved from 0.33317 to 0.32890, saving model to sonar_best.h5\n",
            "\n",
            "Epoch 27: val_loss improved from 0.32890 to 0.32881, saving model to sonar_best.h5\n",
            "\n",
            "Epoch 28: val_loss did not improve from 0.32881\n",
            "\n",
            "Epoch 29: val_loss did not improve from 0.32881\n",
            "\n",
            "Epoch 30: val_loss did not improve from 0.32881\n",
            "\n",
            "Epoch 31: val_loss did not improve from 0.32881\n",
            "\n",
            "Epoch 32: val_loss did not improve from 0.32881\n",
            "\n",
            "Epoch 33: val_loss did not improve from 0.32881\n",
            "\n",
            "Epoch 34: val_loss did not improve from 0.32881\n",
            "\n",
            "Epoch 35: val_loss did not improve from 0.32881\n",
            "\n",
            "Epoch 36: val_loss did not improve from 0.32881\n",
            "\n",
            "Epoch 37: val_loss did not improve from 0.32881\n",
            "\n",
            "Epoch 38: val_loss did not improve from 0.32881\n",
            "\n",
            "Epoch 39: val_loss improved from 0.32881 to 0.32112, saving model to sonar_best.h5\n",
            "\n",
            "Epoch 40: val_loss improved from 0.32112 to 0.31414, saving model to sonar_best.h5\n",
            "\n",
            "Epoch 41: val_loss improved from 0.31414 to 0.31101, saving model to sonar_best.h5\n",
            "\n",
            "Epoch 42: val_loss improved from 0.31101 to 0.31077, saving model to sonar_best.h5\n",
            "\n",
            "Epoch 43: val_loss did not improve from 0.31077\n",
            "\n",
            "Epoch 44: val_loss did not improve from 0.31077\n",
            "\n",
            "Epoch 45: val_loss did not improve from 0.31077\n",
            "\n",
            "Epoch 46: val_loss did not improve from 0.31077\n",
            "\n",
            "Epoch 47: val_loss did not improve from 0.31077\n",
            "\n",
            "Epoch 48: val_loss did not improve from 0.31077\n",
            "\n",
            "Epoch 49: val_loss did not improve from 0.31077\n",
            "\n",
            "Epoch 50: val_loss did not improve from 0.31077\n",
            "\n",
            "Epoch 51: val_loss did not improve from 0.31077\n",
            "\n",
            "Epoch 52: val_loss did not improve from 0.31077\n",
            "\n",
            "Epoch 53: val_loss did not improve from 0.31077\n",
            "\n",
            "Epoch 54: val_loss did not improve from 0.31077\n",
            "\n",
            "Epoch 55: val_loss did not improve from 0.31077\n",
            "\n",
            "Epoch 56: val_loss did not improve from 0.31077\n",
            "\n",
            "Epoch 57: val_loss did not improve from 0.31077\n",
            "\n",
            "Epoch 58: val_loss did not improve from 0.31077\n",
            "\n",
            "Epoch 59: val_loss did not improve from 0.31077\n",
            "\n",
            "Epoch 60: val_loss did not improve from 0.31077\n",
            "\n",
            "Epoch 61: val_loss did not improve from 0.31077\n",
            "\n",
            "Epoch 62: val_loss did not improve from 0.31077\n",
            "\n",
            "Epoch 63: val_loss did not improve from 0.31077\n",
            "\n",
            "Epoch 64: val_loss did not improve from 0.31077\n",
            "\n",
            "Epoch 65: val_loss did not improve from 0.31077\n",
            "\n",
            "Epoch 66: val_loss did not improve from 0.31077\n",
            "\n",
            "Epoch 67: val_loss did not improve from 0.31077\n",
            "\n",
            "Epoch 68: val_loss did not improve from 0.31077\n",
            "\n",
            "Epoch 69: val_loss did not improve from 0.31077\n",
            "\n",
            "Epoch 70: val_loss did not improve from 0.31077\n",
            "\n",
            "Epoch 71: val_loss did not improve from 0.31077\n",
            "\n",
            "Epoch 72: val_loss did not improve from 0.31077\n",
            "\n",
            "Epoch 73: val_loss did not improve from 0.31077\n",
            "\n",
            "Epoch 74: val_loss did not improve from 0.31077\n",
            "\n",
            "Epoch 75: val_loss did not improve from 0.31077\n",
            "\n",
            "Epoch 76: val_loss did not improve from 0.31077\n",
            "\n",
            "Epoch 77: val_loss did not improve from 0.31077\n",
            "\n",
            "Epoch 78: val_loss did not improve from 0.31077\n",
            "\n",
            "Epoch 79: val_loss did not improve from 0.31077\n",
            "\n",
            "Epoch 80: val_loss did not improve from 0.31077\n",
            "\n",
            "Epoch 81: val_loss did not improve from 0.31077\n",
            "\n",
            "Epoch 82: val_loss did not improve from 0.31077\n",
            "\n",
            "Epoch 83: val_loss did not improve from 0.31077\n",
            "\n",
            "Epoch 84: val_loss did not improve from 0.31077\n",
            "\n",
            "Epoch 85: val_loss did not improve from 0.31077\n",
            "\n",
            "Epoch 86: val_loss did not improve from 0.31077\n",
            "\n",
            "Epoch 87: val_loss did not improve from 0.31077\n",
            "\n",
            "Epoch 88: val_loss did not improve from 0.31077\n",
            "\n",
            "Epoch 89: val_loss did not improve from 0.31077\n",
            "\n",
            "Epoch 90: val_loss did not improve from 0.31077\n",
            "\n",
            "Epoch 91: val_loss did not improve from 0.31077\n",
            "\n",
            "Epoch 92: val_loss did not improve from 0.31077\n",
            "\n",
            "Epoch 93: val_loss did not improve from 0.31077\n",
            "\n",
            "Epoch 94: val_loss did not improve from 0.31077\n",
            "\n",
            "Epoch 95: val_loss did not improve from 0.31077\n",
            "\n",
            "Epoch 96: val_loss did not improve from 0.31077\n",
            "\n",
            "Epoch 97: val_loss did not improve from 0.31077\n",
            "\n",
            "Epoch 98: val_loss did not improve from 0.31077\n",
            "\n",
            "Epoch 99: val_loss did not improve from 0.31077\n",
            "\n",
            "Epoch 100: val_loss did not improve from 0.31077\n",
            "\n",
            "Epoch 101: val_loss did not improve from 0.31077\n",
            "\n",
            "Epoch 102: val_loss did not improve from 0.31077\n",
            "\n",
            "Epoch 103: val_loss did not improve from 0.31077\n",
            "\n",
            "Epoch 104: val_loss did not improve from 0.31077\n",
            "\n",
            "Epoch 105: val_loss did not improve from 0.31077\n",
            "\n",
            "Epoch 106: val_loss did not improve from 0.31077\n",
            "\n",
            "Epoch 107: val_loss did not improve from 0.31077\n",
            "\n",
            "Epoch 108: val_loss did not improve from 0.31077\n",
            "\n",
            "Epoch 109: val_loss did not improve from 0.31077\n",
            "\n",
            "Epoch 110: val_loss did not improve from 0.31077\n",
            "\n",
            "Epoch 111: val_loss did not improve from 0.31077\n",
            "\n",
            "Epoch 112: val_loss did not improve from 0.31077\n",
            "\n",
            "Epoch 113: val_loss did not improve from 0.31077\n",
            "\n",
            "Epoch 114: val_loss did not improve from 0.31077\n",
            "\n",
            "Epoch 115: val_loss did not improve from 0.31077\n",
            "\n",
            "Epoch 116: val_loss did not improve from 0.31077\n",
            "\n",
            "Epoch 117: val_loss did not improve from 0.31077\n",
            "\n",
            "Epoch 118: val_loss did not improve from 0.31077\n",
            "\n",
            "Epoch 119: val_loss did not improve from 0.31077\n",
            "\n",
            "Epoch 120: val_loss did not improve from 0.31077\n",
            "\n",
            "Epoch 121: val_loss did not improve from 0.31077\n",
            "\n",
            "Epoch 122: val_loss did not improve from 0.31077\n",
            "\n",
            "Epoch 123: val_loss did not improve from 0.31077\n",
            "\n",
            "Epoch 124: val_loss did not improve from 0.31077\n",
            "\n",
            "Epoch 125: val_loss did not improve from 0.31077\n",
            "\n",
            "Epoch 126: val_loss did not improve from 0.31077\n",
            "\n",
            "Epoch 127: val_loss did not improve from 0.31077\n",
            "\n",
            "Epoch 128: val_loss did not improve from 0.31077\n",
            "\n",
            "Epoch 129: val_loss did not improve from 0.31077\n",
            "\n",
            "Epoch 130: val_loss did not improve from 0.31077\n",
            "\n",
            "Epoch 131: val_loss did not improve from 0.31077\n",
            "\n",
            "Epoch 132: val_loss did not improve from 0.31077\n",
            "\n",
            "Epoch 133: val_loss did not improve from 0.31077\n",
            "\n",
            "Epoch 134: val_loss did not improve from 0.31077\n",
            "\n",
            "Epoch 135: val_loss did not improve from 0.31077\n",
            "\n",
            "Epoch 136: val_loss did not improve from 0.31077\n",
            "\n",
            "Epoch 137: val_loss did not improve from 0.31077\n",
            "\n",
            "Epoch 138: val_loss did not improve from 0.31077\n",
            "\n",
            "Epoch 139: val_loss did not improve from 0.31077\n",
            "\n",
            "Epoch 140: val_loss did not improve from 0.31077\n",
            "\n",
            "Epoch 141: val_loss did not improve from 0.31077\n",
            "\n",
            "Epoch 142: val_loss did not improve from 0.31077\n",
            "\n",
            "Epoch 143: val_loss did not improve from 0.31077\n",
            "\n",
            "Epoch 144: val_loss did not improve from 0.31077\n",
            "\n",
            "Epoch 145: val_loss did not improve from 0.31077\n",
            "\n",
            "Epoch 146: val_loss did not improve from 0.31077\n",
            "\n",
            "Epoch 147: val_loss did not improve from 0.31077\n",
            "\n",
            "Epoch 148: val_loss did not improve from 0.31077\n",
            "\n",
            "Epoch 149: val_loss did not improve from 0.31077\n",
            "\n",
            "Epoch 150: val_loss did not improve from 0.31077\n",
            "\n",
            "Epoch 151: val_loss did not improve from 0.31077\n",
            "\n",
            "Epoch 152: val_loss did not improve from 0.31077\n",
            "\n",
            "Epoch 153: val_loss did not improve from 0.31077\n",
            "\n",
            "Epoch 154: val_loss did not improve from 0.31077\n",
            "\n",
            "Epoch 155: val_loss did not improve from 0.31077\n",
            "\n",
            "Epoch 156: val_loss did not improve from 0.31077\n",
            "\n",
            "Epoch 157: val_loss did not improve from 0.31077\n",
            "\n",
            "Epoch 158: val_loss did not improve from 0.31077\n",
            "\n",
            "Epoch 159: val_loss did not improve from 0.31077\n",
            "\n",
            "Epoch 160: val_loss did not improve from 0.31077\n",
            "\n",
            "Epoch 161: val_loss did not improve from 0.31077\n",
            "\n",
            "Epoch 162: val_loss did not improve from 0.31077\n",
            "\n",
            "Epoch 163: val_loss did not improve from 0.31077\n",
            "\n",
            "Epoch 164: val_loss did not improve from 0.31077\n",
            "\n",
            "Epoch 165: val_loss did not improve from 0.31077\n",
            "\n",
            "Epoch 166: val_loss did not improve from 0.31077\n",
            "\n",
            "Epoch 167: val_loss did not improve from 0.31077\n",
            "\n",
            "Epoch 168: val_loss did not improve from 0.31077\n",
            "\n",
            "Epoch 169: val_loss did not improve from 0.31077\n",
            "\n",
            "Epoch 170: val_loss did not improve from 0.31077\n",
            "\n",
            "Epoch 171: val_loss did not improve from 0.31077\n",
            "\n",
            "Epoch 172: val_loss did not improve from 0.31077\n",
            "\n",
            "Epoch 173: val_loss did not improve from 0.31077\n",
            "\n",
            "Epoch 174: val_loss did not improve from 0.31077\n",
            "\n",
            "Epoch 175: val_loss did not improve from 0.31077\n",
            "\n",
            "Epoch 176: val_loss did not improve from 0.31077\n",
            "\n",
            "Epoch 177: val_loss did not improve from 0.31077\n",
            "\n",
            "Epoch 178: val_loss did not improve from 0.31077\n",
            "\n",
            "Epoch 179: val_loss did not improve from 0.31077\n",
            "\n",
            "Epoch 180: val_loss did not improve from 0.31077\n",
            "\n",
            "Epoch 181: val_loss did not improve from 0.31077\n",
            "\n",
            "Epoch 182: val_loss did not improve from 0.31077\n",
            "\n",
            "Epoch 183: val_loss did not improve from 0.31077\n",
            "\n",
            "Epoch 184: val_loss did not improve from 0.31077\n",
            "\n",
            "Epoch 185: val_loss did not improve from 0.31077\n",
            "\n",
            "Epoch 186: val_loss did not improve from 0.31077\n",
            "\n",
            "Epoch 187: val_loss did not improve from 0.31077\n",
            "\n",
            "Epoch 188: val_loss did not improve from 0.31077\n",
            "\n",
            "Epoch 189: val_loss did not improve from 0.31077\n",
            "\n",
            "Epoch 190: val_loss did not improve from 0.31077\n",
            "\n",
            "Epoch 191: val_loss did not improve from 0.31077\n",
            "\n",
            "Epoch 192: val_loss did not improve from 0.31077\n",
            "\n",
            "Epoch 193: val_loss did not improve from 0.31077\n",
            "\n",
            "Epoch 194: val_loss did not improve from 0.31077\n",
            "\n",
            "Epoch 195: val_loss did not improve from 0.31077\n",
            "\n",
            "Epoch 196: val_loss did not improve from 0.31077\n",
            "\n",
            "Epoch 197: val_loss did not improve from 0.31077\n",
            "\n",
            "Epoch 198: val_loss did not improve from 0.31077\n",
            "\n",
            "Epoch 199: val_loss did not improve from 0.31077\n",
            "\n",
            "Epoch 200: val_loss did not improve from 0.31077\n"
          ]
        }
      ]
    },
    {
      "cell_type": "code",
      "source": [
        "from tensorflow.keras.models import load_model\n",
        "\n",
        "best_model = load_model('sonar_best.h5')\n",
        "\n",
        "best_model.evaluate(X_test, y_test)"
      ],
      "metadata": {
        "colab": {
          "base_uri": "https://localhost:8080/"
        },
        "id": "TzOwDJAoIDRI",
        "outputId": "31b82264-7270-4d90-d470-9ee779183958"
      },
      "execution_count": 90,
      "outputs": [
        {
          "output_type": "stream",
          "name": "stdout",
          "text": [
            "2/2 [==============================] - 0s 4ms/step - loss: 0.3697 - accuracy: 0.7857\n"
          ]
        },
        {
          "output_type": "execute_result",
          "data": {
            "text/plain": [
              "[0.36972105503082275, 0.7857142686843872]"
            ]
          },
          "metadata": {},
          "execution_count": 90
        }
      ]
    },
    {
      "cell_type": "code",
      "source": [
        "del model"
      ],
      "metadata": {
        "id": "tyqf5-NXHgJp"
      },
      "execution_count": 93,
      "outputs": []
    },
    {
      "cell_type": "code",
      "source": [
        "y_acc = hist.history['accuracy']\n",
        "y_vloss = hist.history['val_loss']\n",
        "xs = np.arange(1, len(y_acc) + 1)"
      ],
      "metadata": {
        "id": "KGAjdjjMIzeV"
      },
      "execution_count": 91,
      "outputs": []
    },
    {
      "cell_type": "code",
      "source": [
        "plt.figure(figsize=(12, 8))\n",
        "plt.plot(xs, y_acc, label='train.accuracy')\n",
        "plt.plot(xs, y_vloss, label='validation loss')\n",
        "plt.legend(), plt.grid()\n",
        "plt.ylim([0,1.2])\n",
        "plt.xlabel('Epoch')\n",
        "plt.title('No feature transform')\n",
        "plt.show()"
      ],
      "metadata": {
        "colab": {
          "base_uri": "https://localhost:8080/",
          "height": 513
        },
        "id": "M4I4gyakJBrS",
        "outputId": "5453bf5c-66d4-41db-a7a8-d24ac55a0aae"
      },
      "execution_count": 92,
      "outputs": [
        {
          "output_type": "display_data",
          "data": {
            "text/plain": [
              "<Figure size 864x576 with 1 Axes>"
            ],
            "image/png": "[encoded data removed]"
          },
          "metadata": {
            "needs_background": "light"
          }
        }
      ]
    },
    {
      "cell_type": "code",
      "source": [
        "model = Sequential([\n",
        "    Dense(80, input_dim=60, activation='relu'),\n",
        "    Dense(48, activation='relu'),\n",
        "    Dense(20, activation='relu'),\n",
        "    Dense(8, activation='relu'),\n",
        "    Dense(1, activation='sigmoid'),  \n",
        "])"
      ],
      "metadata": {
        "id": "qh1w-2ltJXAx"
      },
      "execution_count": 94,
      "outputs": []
    },
    {
      "cell_type": "code",
      "source": [
        "model.compile('adam', 'binary_crossentropy', ['accuracy'])"
      ],
      "metadata": {
        "id": "DkNINuw0J6jA"
      },
      "execution_count": 95,
      "outputs": []
    },
    {
      "cell_type": "code",
      "source": [
        "from tensorflow.keras.callbacks import ModelCheckpoint, EarlyStopping\n",
        "mc = ModelCheckpoint('sonar_best.h5', monitor='val_loss',\n",
        "                     verbose=1, save_best_only=True)\n",
        "es = EarlyStopping(patience = 20)"
      ],
      "metadata": {
        "id": "dcGSof-8J8ng"
      },
      "execution_count": 98,
      "outputs": []
    },
    {
      "cell_type": "code",
      "source": [
        "# epoch가 종료될 때 마다 callback 함수를 실행하도록 설정\n",
        "hist = model.fit(X_train, y_train, validation_split=0.2,\n",
        "          epochs=200, batch_size=100, verbose=1,\n",
        "          callbacks=[mc, es])"
      ],
      "metadata": {
        "colab": {
          "base_uri": "https://localhost:8080/"
        },
        "id": "eSS0Wgq2Kbiw",
        "outputId": "1ae8d66c-ccaf-4205-ad99-625cd1c71323"
      },
      "execution_count": 99,
      "outputs": [
        {
          "output_type": "stream",
          "name": "stdout",
          "text": [
            "Epoch 1/200\n",
            "1/2 [==============>...............] - ETA: 0s - loss: 0.7072 - accuracy: 0.4500\n",
            "Epoch 1: val_loss improved from inf to 0.71217, saving model to sonar_best.h5\n",
            "2/2 [==============================] - 1s 199ms/step - loss: 0.7107 - accuracy: 0.4621 - val_loss: 0.7122 - val_accuracy: 0.4706\n",
            "Epoch 2/200\n",
            "1/2 [==============>...............] - ETA: 0s - loss: 0.6753 - accuracy: 0.5800\n",
            "Epoch 2: val_loss improved from 0.71217 to 0.68478, saving model to sonar_best.h5\n",
            "2/2 [==============================] - 0s 52ms/step - loss: 0.6688 - accuracy: 0.5985 - val_loss: 0.6848 - val_accuracy: 0.5294\n",
            "Epoch 3/200\n",
            "1/2 [==============>...............] - ETA: 0s - loss: 0.6316 - accuracy: 0.7300\n",
            "Epoch 3: val_loss improved from 0.68478 to 0.66146, saving model to sonar_best.h5\n",
            "2/2 [==============================] - 0s 53ms/step - loss: 0.6337 - accuracy: 0.7348 - val_loss: 0.6615 - val_accuracy: 0.7059\n",
            "Epoch 4/200\n",
            "1/2 [==============>...............] - ETA: 0s - loss: 0.6078 - accuracy: 0.7900\n",
            "Epoch 4: val_loss improved from 0.66146 to 0.64270, saving model to sonar_best.h5\n",
            "2/2 [==============================] - 0s 53ms/step - loss: 0.6027 - accuracy: 0.7955 - val_loss: 0.6427 - val_accuracy: 0.7059\n",
            "Epoch 5/200\n",
            "1/2 [==============>...............] - ETA: 0s - loss: 0.5787 - accuracy: 0.8200\n",
            "Epoch 5: val_loss improved from 0.64270 to 0.62436, saving model to sonar_best.h5\n",
            "2/2 [==============================] - 0s 59ms/step - loss: 0.5744 - accuracy: 0.8258 - val_loss: 0.6244 - val_accuracy: 0.7353\n",
            "Epoch 6/200\n",
            "1/2 [==============>...............] - ETA: 0s - loss: 0.5506 - accuracy: 0.8400\n",
            "Epoch 6: val_loss improved from 0.62436 to 0.60394, saving model to sonar_best.h5\n",
            "2/2 [==============================] - 0s 52ms/step - loss: 0.5458 - accuracy: 0.8561 - val_loss: 0.6039 - val_accuracy: 0.7647\n",
            "Epoch 7/200\n",
            "1/2 [==============>...............] - ETA: 0s - loss: 0.5286 - accuracy: 0.8100\n",
            "Epoch 7: val_loss improved from 0.60394 to 0.58270, saving model to sonar_best.h5\n",
            "2/2 [==============================] - 0s 61ms/step - loss: 0.5189 - accuracy: 0.8409 - val_loss: 0.5827 - val_accuracy: 0.7647\n",
            "Epoch 8/200\n",
            "1/2 [==============>...............] - ETA: 0s - loss: 0.4983 - accuracy: 0.8300\n",
            "Epoch 8: val_loss improved from 0.58270 to 0.56125, saving model to sonar_best.h5\n",
            "2/2 [==============================] - 0s 51ms/step - loss: 0.4925 - accuracy: 0.8485 - val_loss: 0.5613 - val_accuracy: 0.7647\n",
            "Epoch 9/200\n",
            "1/2 [==============>...............] - ETA: 0s - loss: 0.4741 - accuracy: 0.8700\n",
            "Epoch 9: val_loss improved from 0.56125 to 0.54071, saving model to sonar_best.h5\n",
            "2/2 [==============================] - 0s 60ms/step - loss: 0.4652 - accuracy: 0.8712 - val_loss: 0.5407 - val_accuracy: 0.7647\n",
            "Epoch 10/200\n",
            "1/2 [==============>...............] - ETA: 0s - loss: 0.4290 - accuracy: 0.8800\n",
            "Epoch 10: val_loss improved from 0.54071 to 0.52090, saving model to sonar_best.h5\n",
            "2/2 [==============================] - 0s 51ms/step - loss: 0.4381 - accuracy: 0.8712 - val_loss: 0.5209 - val_accuracy: 0.7647\n",
            "Epoch 11/200\n",
            "1/2 [==============>...............] - ETA: 0s - loss: 0.4272 - accuracy: 0.8700\n",
            "Epoch 11: val_loss improved from 0.52090 to 0.50236, saving model to sonar_best.h5\n",
            "2/2 [==============================] - 0s 54ms/step - loss: 0.4102 - accuracy: 0.8788 - val_loss: 0.5024 - val_accuracy: 0.7647\n",
            "Epoch 12/200\n",
            "1/2 [==============>...............] - ETA: 0s - loss: 0.3864 - accuracy: 0.9300\n",
            "Epoch 12: val_loss improved from 0.50236 to 0.48526, saving model to sonar_best.h5\n",
            "2/2 [==============================] - 0s 51ms/step - loss: 0.3826 - accuracy: 0.9167 - val_loss: 0.4853 - val_accuracy: 0.7941\n",
            "Epoch 13/200\n",
            "1/2 [==============>...............] - ETA: 0s - loss: 0.3752 - accuracy: 0.9100\n",
            "Epoch 13: val_loss improved from 0.48526 to 0.46787, saving model to sonar_best.h5\n",
            "2/2 [==============================] - 0s 56ms/step - loss: 0.3562 - accuracy: 0.9318 - val_loss: 0.4679 - val_accuracy: 0.8235\n",
            "Epoch 14/200\n",
            "1/2 [==============>...............] - ETA: 0s - loss: 0.3346 - accuracy: 0.9200\n",
            "Epoch 14: val_loss improved from 0.46787 to 0.45058, saving model to sonar_best.h5\n",
            "2/2 [==============================] - 0s 58ms/step - loss: 0.3302 - accuracy: 0.9318 - val_loss: 0.4506 - val_accuracy: 0.8235\n",
            "Epoch 15/200\n",
            "1/2 [==============>...............] - ETA: 0s - loss: 0.3116 - accuracy: 0.9400\n",
            "Epoch 15: val_loss improved from 0.45058 to 0.43432, saving model to sonar_best.h5\n",
            "2/2 [==============================] - 0s 63ms/step - loss: 0.3050 - accuracy: 0.9394 - val_loss: 0.4343 - val_accuracy: 0.8529\n",
            "Epoch 16/200\n",
            "1/2 [==============>...............] - ETA: 0s - loss: 0.2853 - accuracy: 0.9300\n",
            "Epoch 16: val_loss improved from 0.43432 to 0.41965, saving model to sonar_best.h5\n",
            "2/2 [==============================] - 0s 56ms/step - loss: 0.2803 - accuracy: 0.9394 - val_loss: 0.4197 - val_accuracy: 0.8529\n",
            "Epoch 17/200\n",
            "1/2 [==============>...............] - ETA: 0s - loss: 0.2626 - accuracy: 0.9600\n",
            "Epoch 17: val_loss improved from 0.41965 to 0.40464, saving model to sonar_best.h5\n",
            "2/2 [==============================] - 0s 69ms/step - loss: 0.2574 - accuracy: 0.9621 - val_loss: 0.4046 - val_accuracy: 0.8529\n",
            "Epoch 18/200\n",
            "1/2 [==============>...............] - ETA: 0s - loss: 0.2503 - accuracy: 0.9600\n",
            "Epoch 18: val_loss improved from 0.40464 to 0.39096, saving model to sonar_best.h5\n",
            "2/2 [==============================] - 0s 63ms/step - loss: 0.2367 - accuracy: 0.9621 - val_loss: 0.3910 - val_accuracy: 0.8529\n",
            "Epoch 19/200\n",
            "1/2 [==============>...............] - ETA: 0s - loss: 0.2111 - accuracy: 0.9500\n",
            "Epoch 19: val_loss improved from 0.39096 to 0.37931, saving model to sonar_best.h5\n",
            "2/2 [==============================] - 0s 60ms/step - loss: 0.2171 - accuracy: 0.9545 - val_loss: 0.3793 - val_accuracy: 0.8529\n",
            "Epoch 20/200\n",
            "1/2 [==============>...............] - ETA: 0s - loss: 0.1995 - accuracy: 0.9500\n",
            "Epoch 20: val_loss improved from 0.37931 to 0.36894, saving model to sonar_best.h5\n",
            "2/2 [==============================] - 0s 62ms/step - loss: 0.1990 - accuracy: 0.9545 - val_loss: 0.3689 - val_accuracy: 0.8529\n",
            "Epoch 21/200\n",
            "1/2 [==============>...............] - ETA: 0s - loss: 0.1937 - accuracy: 0.9400\n",
            "Epoch 21: val_loss improved from 0.36894 to 0.36099, saving model to sonar_best.h5\n",
            "2/2 [==============================] - 0s 64ms/step - loss: 0.1818 - accuracy: 0.9545 - val_loss: 0.3610 - val_accuracy: 0.8235\n",
            "Epoch 22/200\n",
            "1/2 [==============>...............] - ETA: 0s - loss: 0.1504 - accuracy: 0.9700\n",
            "Epoch 22: val_loss improved from 0.36099 to 0.35407, saving model to sonar_best.h5\n",
            "2/2 [==============================] - 0s 74ms/step - loss: 0.1665 - accuracy: 0.9545 - val_loss: 0.3541 - val_accuracy: 0.8235\n",
            "Epoch 23/200\n",
            "1/2 [==============>...............] - ETA: 0s - loss: 0.1467 - accuracy: 0.9600\n",
            "Epoch 23: val_loss improved from 0.35407 to 0.34782, saving model to sonar_best.h5\n",
            "2/2 [==============================] - 0s 64ms/step - loss: 0.1532 - accuracy: 0.9545 - val_loss: 0.3478 - val_accuracy: 0.8235\n",
            "Epoch 24/200\n",
            "1/2 [==============>...............] - ETA: 0s - loss: 0.1444 - accuracy: 0.9500\n",
            "Epoch 24: val_loss improved from 0.34782 to 0.34149, saving model to sonar_best.h5\n",
            "2/2 [==============================] - 0s 58ms/step - loss: 0.1403 - accuracy: 0.9621 - val_loss: 0.3415 - val_accuracy: 0.8235\n",
            "Epoch 25/200\n",
            "1/2 [==============>...............] - ETA: 0s - loss: 0.1427 - accuracy: 0.9600\n",
            "Epoch 25: val_loss improved from 0.34149 to 0.33632, saving model to sonar_best.h5\n",
            "2/2 [==============================] - 0s 64ms/step - loss: 0.1282 - accuracy: 0.9697 - val_loss: 0.3363 - val_accuracy: 0.8529\n",
            "Epoch 26/200\n",
            "1/2 [==============>...............] - ETA: 0s - loss: 0.1148 - accuracy: 0.9700\n",
            "Epoch 26: val_loss improved from 0.33632 to 0.33446, saving model to sonar_best.h5\n",
            "2/2 [==============================] - 0s 71ms/step - loss: 0.1167 - accuracy: 0.9697 - val_loss: 0.3345 - val_accuracy: 0.8529\n",
            "Epoch 27/200\n",
            "1/2 [==============>...............] - ETA: 0s - loss: 0.1168 - accuracy: 0.9800\n",
            "Epoch 27: val_loss did not improve from 0.33446\n",
            "2/2 [==============================] - 0s 34ms/step - loss: 0.1064 - accuracy: 0.9848 - val_loss: 0.3358 - val_accuracy: 0.8529\n",
            "Epoch 28/200\n",
            "1/2 [==============>...............] - ETA: 0s - loss: 0.1003 - accuracy: 1.0000\n",
            "Epoch 28: val_loss did not improve from 0.33446\n",
            "2/2 [==============================] - 0s 36ms/step - loss: 0.0971 - accuracy: 1.0000 - val_loss: 0.3362 - val_accuracy: 0.8529\n",
            "Epoch 29/200\n",
            "1/2 [==============>...............] - ETA: 0s - loss: 0.0978 - accuracy: 1.0000\n",
            "Epoch 29: val_loss did not improve from 0.33446\n",
            "2/2 [==============================] - 0s 31ms/step - loss: 0.0888 - accuracy: 1.0000 - val_loss: 0.3350 - val_accuracy: 0.8529\n",
            "Epoch 30/200\n",
            "1/2 [==============>...............] - ETA: 0s - loss: 0.0804 - accuracy: 1.0000\n",
            "Epoch 30: val_loss improved from 0.33446 to 0.33370, saving model to sonar_best.h5\n",
            "2/2 [==============================] - 0s 66ms/step - loss: 0.0808 - accuracy: 1.0000 - val_loss: 0.3337 - val_accuracy: 0.8529\n",
            "Epoch 31/200\n",
            "1/2 [==============>...............] - ETA: 0s - loss: 0.0817 - accuracy: 1.0000\n",
            "Epoch 31: val_loss improved from 0.33370 to 0.33307, saving model to sonar_best.h5\n",
            "2/2 [==============================] - 0s 67ms/step - loss: 0.0743 - accuracy: 1.0000 - val_loss: 0.3331 - val_accuracy: 0.8529\n",
            "Epoch 32/200\n",
            "1/2 [==============>...............] - ETA: 0s - loss: 0.0779 - accuracy: 1.0000\n",
            "Epoch 32: val_loss did not improve from 0.33307\n",
            "2/2 [==============================] - 0s 35ms/step - loss: 0.0677 - accuracy: 1.0000 - val_loss: 0.3343 - val_accuracy: 0.8529\n",
            "Epoch 33/200\n",
            "1/2 [==============>...............] - ETA: 0s - loss: 0.0529 - accuracy: 1.0000\n",
            "Epoch 33: val_loss did not improve from 0.33307\n",
            "2/2 [==============================] - 0s 36ms/step - loss: 0.0611 - accuracy: 1.0000 - val_loss: 0.3356 - val_accuracy: 0.8529\n",
            "Epoch 34/200\n",
            "1/2 [==============>...............] - ETA: 0s - loss: 0.0581 - accuracy: 1.0000\n",
            "Epoch 34: val_loss did not improve from 0.33307\n",
            "2/2 [==============================] - 0s 40ms/step - loss: 0.0558 - accuracy: 1.0000 - val_loss: 0.3365 - val_accuracy: 0.8529\n",
            "Epoch 35/200\n",
            "1/2 [==============>...............] - ETA: 0s - loss: 0.0469 - accuracy: 1.0000\n",
            "Epoch 35: val_loss did not improve from 0.33307\n",
            "2/2 [==============================] - 0s 34ms/step - loss: 0.0506 - accuracy: 1.0000 - val_loss: 0.3354 - val_accuracy: 0.8529\n",
            "Epoch 36/200\n",
            "1/2 [==============>...............] - ETA: 0s - loss: 0.0476 - accuracy: 1.0000\n",
            "Epoch 36: val_loss improved from 0.33307 to 0.33064, saving model to sonar_best.h5\n",
            "2/2 [==============================] - 0s 61ms/step - loss: 0.0462 - accuracy: 1.0000 - val_loss: 0.3306 - val_accuracy: 0.8824\n",
            "Epoch 37/200\n",
            "1/2 [==============>...............] - ETA: 0s - loss: 0.0448 - accuracy: 1.0000\n",
            "Epoch 37: val_loss improved from 0.33064 to 0.31991, saving model to sonar_best.h5\n",
            "2/2 [==============================] - 0s 67ms/step - loss: 0.0416 - accuracy: 1.0000 - val_loss: 0.3199 - val_accuracy: 0.8824\n",
            "Epoch 38/200\n",
            "1/2 [==============>...............] - ETA: 0s - loss: 0.0398 - accuracy: 1.0000\n",
            "Epoch 38: val_loss improved from 0.31991 to 0.30914, saving model to sonar_best.h5\n",
            "2/2 [==============================] - 0s 75ms/step - loss: 0.0370 - accuracy: 1.0000 - val_loss: 0.3091 - val_accuracy: 0.8824\n",
            "Epoch 39/200\n",
            "1/2 [==============>...............] - ETA: 0s - loss: 0.0359 - accuracy: 1.0000\n",
            "Epoch 39: val_loss improved from 0.30914 to 0.29907, saving model to sonar_best.h5\n",
            "2/2 [==============================] - 0s 61ms/step - loss: 0.0330 - accuracy: 1.0000 - val_loss: 0.2991 - val_accuracy: 0.8824\n",
            "Epoch 40/200\n",
            "1/2 [==============>...............] - ETA: 0s - loss: 0.0294 - accuracy: 1.0000\n",
            "Epoch 40: val_loss improved from 0.29907 to 0.29124, saving model to sonar_best.h5\n",
            "2/2 [==============================] - 0s 63ms/step - loss: 0.0293 - accuracy: 1.0000 - val_loss: 0.2912 - val_accuracy: 0.8824\n",
            "Epoch 41/200\n",
            "1/2 [==============>...............] - ETA: 0s - loss: 0.0269 - accuracy: 1.0000\n",
            "Epoch 41: val_loss improved from 0.29124 to 0.28618, saving model to sonar_best.h5\n",
            "2/2 [==============================] - 0s 65ms/step - loss: 0.0259 - accuracy: 1.0000 - val_loss: 0.2862 - val_accuracy: 0.8824\n",
            "Epoch 42/200\n",
            "1/2 [==============>...............] - ETA: 0s - loss: 0.0234 - accuracy: 1.0000\n",
            "Epoch 42: val_loss improved from 0.28618 to 0.28264, saving model to sonar_best.h5\n",
            "2/2 [==============================] - 0s 66ms/step - loss: 0.0230 - accuracy: 1.0000 - val_loss: 0.2826 - val_accuracy: 0.8824\n",
            "Epoch 43/200\n",
            "1/2 [==============>...............] - ETA: 0s - loss: 0.0220 - accuracy: 1.0000\n",
            "Epoch 43: val_loss improved from 0.28264 to 0.27991, saving model to sonar_best.h5\n",
            "2/2 [==============================] - 0s 56ms/step - loss: 0.0207 - accuracy: 1.0000 - val_loss: 0.2799 - val_accuracy: 0.8824\n",
            "Epoch 44/200\n",
            "1/2 [==============>...............] - ETA: 0s - loss: 0.0203 - accuracy: 1.0000\n",
            "Epoch 44: val_loss did not improve from 0.27991\n",
            "2/2 [==============================] - 0s 27ms/step - loss: 0.0187 - accuracy: 1.0000 - val_loss: 0.2800 - val_accuracy: 0.8824\n",
            "Epoch 45/200\n",
            "1/2 [==============>...............] - ETA: 0s - loss: 0.0161 - accuracy: 1.0000\n",
            "Epoch 45: val_loss did not improve from 0.27991\n",
            "2/2 [==============================] - 0s 28ms/step - loss: 0.0168 - accuracy: 1.0000 - val_loss: 0.2808 - val_accuracy: 0.8824\n",
            "Epoch 46/200\n",
            "1/2 [==============>...............] - ETA: 0s - loss: 0.0165 - accuracy: 1.0000\n",
            "Epoch 46: val_loss did not improve from 0.27991\n",
            "2/2 [==============================] - 0s 30ms/step - loss: 0.0153 - accuracy: 1.0000 - val_loss: 0.2809 - val_accuracy: 0.8824\n",
            "Epoch 47/200\n",
            "1/2 [==============>...............] - ETA: 0s - loss: 0.0158 - accuracy: 1.0000\n",
            "Epoch 47: val_loss did not improve from 0.27991\n",
            "2/2 [==============================] - 0s 34ms/step - loss: 0.0139 - accuracy: 1.0000 - val_loss: 0.2822 - val_accuracy: 0.8824\n",
            "Epoch 48/200\n",
            "1/2 [==============>...............] - ETA: 0s - loss: 0.0110 - accuracy: 1.0000\n",
            "Epoch 48: val_loss did not improve from 0.27991\n",
            "2/2 [==============================] - 0s 32ms/step - loss: 0.0125 - accuracy: 1.0000 - val_loss: 0.2826 - val_accuracy: 0.8824\n",
            "Epoch 49/200\n",
            "1/2 [==============>...............] - ETA: 0s - loss: 0.0128 - accuracy: 1.0000\n",
            "Epoch 49: val_loss did not improve from 0.27991\n",
            "2/2 [==============================] - 0s 28ms/step - loss: 0.0115 - accuracy: 1.0000 - val_loss: 0.2812 - val_accuracy: 0.8824\n",
            "Epoch 50/200\n",
            "1/2 [==============>...............] - ETA: 0s - loss: 0.0116 - accuracy: 1.0000\n",
            "Epoch 50: val_loss did not improve from 0.27991\n",
            "2/2 [==============================] - 0s 29ms/step - loss: 0.0104 - accuracy: 1.0000 - val_loss: 0.2804 - val_accuracy: 0.8824\n",
            "Epoch 51/200\n",
            "1/2 [==============>...............] - ETA: 0s - loss: 0.0091 - accuracy: 1.0000\n",
            "Epoch 51: val_loss did not improve from 0.27991\n",
            "2/2 [==============================] - 0s 30ms/step - loss: 0.0095 - accuracy: 1.0000 - val_loss: 0.2800 - val_accuracy: 0.9118\n",
            "Epoch 52/200\n",
            "1/2 [==============>...............] - ETA: 0s - loss: 0.0083 - accuracy: 1.0000\n",
            "Epoch 52: val_loss improved from 0.27991 to 0.27868, saving model to sonar_best.h5\n",
            "2/2 [==============================] - 0s 59ms/step - loss: 0.0088 - accuracy: 1.0000 - val_loss: 0.2787 - val_accuracy: 0.9118\n",
            "Epoch 53/200\n",
            "1/2 [==============>...............] - ETA: 0s - loss: 0.0066 - accuracy: 1.0000\n",
            "Epoch 53: val_loss improved from 0.27868 to 0.27747, saving model to sonar_best.h5\n",
            "2/2 [==============================] - 0s 55ms/step - loss: 0.0081 - accuracy: 1.0000 - val_loss: 0.2775 - val_accuracy: 0.9118\n",
            "Epoch 54/200\n",
            "1/2 [==============>...............] - ETA: 0s - loss: 0.0072 - accuracy: 1.0000\n",
            "Epoch 54: val_loss improved from 0.27747 to 0.27501, saving model to sonar_best.h5\n",
            "2/2 [==============================] - 0s 61ms/step - loss: 0.0075 - accuracy: 1.0000 - val_loss: 0.2750 - val_accuracy: 0.9118\n",
            "Epoch 55/200\n",
            "1/2 [==============>...............] - ETA: 0s - loss: 0.0074 - accuracy: 1.0000\n",
            "Epoch 55: val_loss improved from 0.27501 to 0.27246, saving model to sonar_best.h5\n",
            "2/2 [==============================] - 0s 69ms/step - loss: 0.0069 - accuracy: 1.0000 - val_loss: 0.2725 - val_accuracy: 0.9118\n",
            "Epoch 56/200\n",
            "1/2 [==============>...............] - ETA: 0s - loss: 0.0063 - accuracy: 1.0000\n",
            "Epoch 56: val_loss improved from 0.27246 to 0.26999, saving model to sonar_best.h5\n",
            "2/2 [==============================] - 0s 64ms/step - loss: 0.0064 - accuracy: 1.0000 - val_loss: 0.2700 - val_accuracy: 0.9118\n",
            "Epoch 57/200\n",
            "1/2 [==============>...............] - ETA: 0s - loss: 0.0060 - accuracy: 1.0000\n",
            "Epoch 57: val_loss improved from 0.26999 to 0.26756, saving model to sonar_best.h5\n",
            "2/2 [==============================] - 0s 56ms/step - loss: 0.0059 - accuracy: 1.0000 - val_loss: 0.2676 - val_accuracy: 0.9118\n",
            "Epoch 58/200\n",
            "1/2 [==============>...............] - ETA: 0s - loss: 0.0054 - accuracy: 1.0000\n",
            "Epoch 58: val_loss improved from 0.26756 to 0.26465, saving model to sonar_best.h5\n",
            "2/2 [==============================] - 0s 54ms/step - loss: 0.0055 - accuracy: 1.0000 - val_loss: 0.2646 - val_accuracy: 0.9118\n",
            "Epoch 59/200\n",
            "1/2 [==============>...............] - ETA: 0s - loss: 0.0054 - accuracy: 1.0000\n",
            "Epoch 59: val_loss improved from 0.26465 to 0.26150, saving model to sonar_best.h5\n",
            "2/2 [==============================] - 0s 52ms/step - loss: 0.0052 - accuracy: 1.0000 - val_loss: 0.2615 - val_accuracy: 0.9118\n",
            "Epoch 60/200\n",
            "1/2 [==============>...............] - ETA: 0s - loss: 0.0050 - accuracy: 1.0000\n",
            "Epoch 60: val_loss improved from 0.26150 to 0.25947, saving model to sonar_best.h5\n",
            "2/2 [==============================] - 0s 58ms/step - loss: 0.0048 - accuracy: 1.0000 - val_loss: 0.2595 - val_accuracy: 0.9118\n",
            "Epoch 61/200\n",
            "1/2 [==============>...............] - ETA: 0s - loss: 0.0045 - accuracy: 1.0000\n",
            "Epoch 61: val_loss improved from 0.25947 to 0.25706, saving model to sonar_best.h5\n",
            "2/2 [==============================] - 0s 56ms/step - loss: 0.0046 - accuracy: 1.0000 - val_loss: 0.2571 - val_accuracy: 0.9118\n",
            "Epoch 62/200\n",
            "1/2 [==============>...............] - ETA: 0s - loss: 0.0045 - accuracy: 1.0000\n",
            "Epoch 62: val_loss improved from 0.25706 to 0.25441, saving model to sonar_best.h5\n",
            "2/2 [==============================] - 0s 51ms/step - loss: 0.0043 - accuracy: 1.0000 - val_loss: 0.2544 - val_accuracy: 0.9118\n",
            "Epoch 63/200\n",
            "1/2 [==============>...............] - ETA: 0s - loss: 0.0037 - accuracy: 1.0000\n",
            "Epoch 63: val_loss improved from 0.25441 to 0.25225, saving model to sonar_best.h5\n",
            "2/2 [==============================] - 0s 56ms/step - loss: 0.0041 - accuracy: 1.0000 - val_loss: 0.2523 - val_accuracy: 0.9118\n",
            "Epoch 64/200\n",
            "1/2 [==============>...............] - ETA: 0s - loss: 0.0043 - accuracy: 1.0000\n",
            "Epoch 64: val_loss improved from 0.25225 to 0.25021, saving model to sonar_best.h5\n",
            "2/2 [==============================] - 0s 70ms/step - loss: 0.0039 - accuracy: 1.0000 - val_loss: 0.2502 - val_accuracy: 0.9118\n",
            "Epoch 65/200\n",
            "1/2 [==============>...............] - ETA: 0s - loss: 0.0030 - accuracy: 1.0000\n",
            "Epoch 65: val_loss improved from 0.25021 to 0.24932, saving model to sonar_best.h5\n",
            "2/2 [==============================] - 0s 54ms/step - loss: 0.0037 - accuracy: 1.0000 - val_loss: 0.2493 - val_accuracy: 0.9118\n",
            "Epoch 66/200\n",
            "1/2 [==============>...............] - ETA: 0s - loss: 0.0039 - accuracy: 1.0000\n",
            "Epoch 66: val_loss did not improve from 0.24932\n",
            "2/2 [==============================] - 0s 29ms/step - loss: 0.0035 - accuracy: 1.0000 - val_loss: 0.2500 - val_accuracy: 0.9118\n",
            "Epoch 67/200\n",
            "1/2 [==============>...............] - ETA: 0s - loss: 0.0036 - accuracy: 1.0000\n",
            "Epoch 67: val_loss did not improve from 0.24932\n",
            "2/2 [==============================] - 0s 27ms/step - loss: 0.0033 - accuracy: 1.0000 - val_loss: 0.2513 - val_accuracy: 0.9118\n",
            "Epoch 68/200\n",
            "1/2 [==============>...............] - ETA: 0s - loss: 0.0031 - accuracy: 1.0000\n",
            "Epoch 68: val_loss did not improve from 0.24932\n",
            "2/2 [==============================] - 0s 31ms/step - loss: 0.0031 - accuracy: 1.0000 - val_loss: 0.2528 - val_accuracy: 0.9118\n",
            "Epoch 69/200\n",
            "1/2 [==============>...............] - ETA: 0s - loss: 0.0029 - accuracy: 1.0000\n",
            "Epoch 69: val_loss did not improve from 0.24932\n",
            "2/2 [==============================] - 0s 30ms/step - loss: 0.0030 - accuracy: 1.0000 - val_loss: 0.2543 - val_accuracy: 0.9118\n",
            "Epoch 70/200\n",
            "1/2 [==============>...............] - ETA: 0s - loss: 0.0031 - accuracy: 1.0000\n",
            "Epoch 70: val_loss did not improve from 0.24932\n",
            "2/2 [==============================] - 0s 28ms/step - loss: 0.0029 - accuracy: 1.0000 - val_loss: 0.2555 - val_accuracy: 0.9412\n",
            "Epoch 71/200\n",
            "1/2 [==============>...............] - ETA: 0s - loss: 0.0031 - accuracy: 1.0000\n",
            "Epoch 71: val_loss did not improve from 0.24932\n",
            "2/2 [==============================] - 0s 31ms/step - loss: 0.0028 - accuracy: 1.0000 - val_loss: 0.2567 - val_accuracy: 0.9412\n",
            "Epoch 72/200\n",
            "1/2 [==============>...............] - ETA: 0s - loss: 0.0027 - accuracy: 1.0000\n",
            "Epoch 72: val_loss did not improve from 0.24932\n",
            "2/2 [==============================] - 0s 33ms/step - loss: 0.0026 - accuracy: 1.0000 - val_loss: 0.2579 - val_accuracy: 0.9412\n",
            "Epoch 73/200\n",
            "1/2 [==============>...............] - ETA: 0s - loss: 0.0028 - accuracy: 1.0000\n",
            "Epoch 73: val_loss did not improve from 0.24932\n",
            "2/2 [==============================] - 0s 36ms/step - loss: 0.0025 - accuracy: 1.0000 - val_loss: 0.2593 - val_accuracy: 0.9412\n",
            "Epoch 74/200\n",
            "1/2 [==============>...............] - ETA: 0s - loss: 0.0023 - accuracy: 1.0000\n",
            "Epoch 74: val_loss did not improve from 0.24932\n",
            "2/2 [==============================] - 0s 34ms/step - loss: 0.0024 - accuracy: 1.0000 - val_loss: 0.2602 - val_accuracy: 0.9412\n",
            "Epoch 75/200\n",
            "1/2 [==============>...............] - ETA: 0s - loss: 0.0025 - accuracy: 1.0000\n",
            "Epoch 75: val_loss did not improve from 0.24932\n",
            "2/2 [==============================] - 0s 27ms/step - loss: 0.0024 - accuracy: 1.0000 - val_loss: 0.2604 - val_accuracy: 0.9412\n",
            "Epoch 76/200\n",
            "1/2 [==============>...............] - ETA: 0s - loss: 0.0022 - accuracy: 1.0000\n",
            "Epoch 76: val_loss did not improve from 0.24932\n",
            "2/2 [==============================] - 0s 32ms/step - loss: 0.0023 - accuracy: 1.0000 - val_loss: 0.2604 - val_accuracy: 0.9412\n",
            "Epoch 77/200\n",
            "1/2 [==============>...............] - ETA: 0s - loss: 0.0021 - accuracy: 1.0000\n",
            "Epoch 77: val_loss did not improve from 0.24932\n",
            "2/2 [==============================] - 0s 28ms/step - loss: 0.0022 - accuracy: 1.0000 - val_loss: 0.2602 - val_accuracy: 0.9412\n",
            "Epoch 78/200\n",
            "1/2 [==============>...............] - ETA: 0s - loss: 0.0024 - accuracy: 1.0000\n",
            "Epoch 78: val_loss did not improve from 0.24932\n",
            "2/2 [==============================] - 0s 32ms/step - loss: 0.0021 - accuracy: 1.0000 - val_loss: 0.2599 - val_accuracy: 0.9412\n",
            "Epoch 79/200\n",
            "1/2 [==============>...............] - ETA: 0s - loss: 0.0020 - accuracy: 1.0000\n",
            "Epoch 79: val_loss did not improve from 0.24932\n",
            "2/2 [==============================] - 0s 32ms/step - loss: 0.0020 - accuracy: 1.0000 - val_loss: 0.2597 - val_accuracy: 0.9412\n",
            "Epoch 80/200\n",
            "1/2 [==============>...............] - ETA: 0s - loss: 0.0022 - accuracy: 1.0000\n",
            "Epoch 80: val_loss did not improve from 0.24932\n",
            "2/2 [==============================] - 0s 34ms/step - loss: 0.0020 - accuracy: 1.0000 - val_loss: 0.2598 - val_accuracy: 0.9412\n",
            "Epoch 81/200\n",
            "1/2 [==============>...............] - ETA: 0s - loss: 0.0020 - accuracy: 1.0000\n",
            "Epoch 81: val_loss did not improve from 0.24932\n",
            "2/2 [==============================] - 0s 31ms/step - loss: 0.0019 - accuracy: 1.0000 - val_loss: 0.2597 - val_accuracy: 0.9412\n",
            "Epoch 82/200\n",
            "1/2 [==============>...............] - ETA: 0s - loss: 0.0016 - accuracy: 1.0000\n",
            "Epoch 82: val_loss did not improve from 0.24932\n",
            "2/2 [==============================] - 0s 31ms/step - loss: 0.0018 - accuracy: 1.0000 - val_loss: 0.2594 - val_accuracy: 0.9412\n",
            "Epoch 83/200\n",
            "1/2 [==============>...............] - ETA: 0s - loss: 0.0018 - accuracy: 1.0000\n",
            "Epoch 83: val_loss did not improve from 0.24932\n",
            "2/2 [==============================] - 0s 30ms/step - loss: 0.0018 - accuracy: 1.0000 - val_loss: 0.2587 - val_accuracy: 0.9412\n",
            "Epoch 84/200\n",
            "1/2 [==============>...............] - ETA: 0s - loss: 0.0019 - accuracy: 1.0000\n",
            "Epoch 84: val_loss did not improve from 0.24932\n",
            "2/2 [==============================] - 0s 34ms/step - loss: 0.0017 - accuracy: 1.0000 - val_loss: 0.2582 - val_accuracy: 0.9412\n",
            "Epoch 85/200\n",
            "1/2 [==============>...............] - ETA: 0s - loss: 0.0015 - accuracy: 1.0000\n",
            "Epoch 85: val_loss did not improve from 0.24932\n",
            "2/2 [==============================] - 0s 28ms/step - loss: 0.0017 - accuracy: 1.0000 - val_loss: 0.2578 - val_accuracy: 0.9412\n"
          ]
        }
      ]
    },
    {
      "cell_type": "code",
      "source": [
        "from tensorflow.keras.models import load_model\n",
        "\n",
        "best_model = load_model('sonar_best.h5')\n",
        "\n",
        "best_model.evaluate(X_test, y_test)"
      ],
      "metadata": {
        "colab": {
          "base_uri": "https://localhost:8080/"
        },
        "id": "7r0yf-cFKAoR",
        "outputId": "9ae9d183-5356-4e8e-96e8-1e3666482c8f"
      },
      "execution_count": 100,
      "outputs": [
        {
          "output_type": "stream",
          "name": "stdout",
          "text": [
            "2/2 [==============================] - 0s 7ms/step - loss: 0.5780 - accuracy: 0.8571\n"
          ]
        },
        {
          "output_type": "execute_result",
          "data": {
            "text/plain": [
              "[0.5780331492424011, 0.8571428656578064]"
            ]
          },
          "metadata": {},
          "execution_count": 100
        }
      ]
    },
    {
      "cell_type": "code",
      "source": [
        "y_acc = hist.history['accuracy']\n",
        "y_vloss = hist.history['val_loss']\n",
        "xs = np.arange(1, len(y_acc) + 1)\n",
        "\n",
        "\n",
        "plt.figure(figsize=(12, 8))\n",
        "plt.plot(xs, y_acc, label='train.accuracy')\n",
        "plt.plot(xs, y_vloss, label='validation loss')\n",
        "plt.legend(), plt.grid()\n",
        "plt.ylim([0,1.2])\n",
        "plt.xlabel('Epoch')\n",
        "plt.title('No feature transform')\n",
        "plt.show()"
      ],
      "metadata": {
        "colab": {
          "base_uri": "https://localhost:8080/",
          "height": 513
        },
        "id": "RDXETsTQKylR",
        "outputId": "dfe83133-8aba-45fc-bdc3-827f69cd7e0a"
      },
      "execution_count": 101,
      "outputs": [
        {
          "output_type": "display_data",
          "data": {
            "text/plain": [
              "<Figure size 864x576 with 1 Axes>"
            ],
            "image/png": "[encoded data removed]"
          },
          "metadata": {
            "needs_background": "light"
          }
        }
      ]
    }
  ]
}