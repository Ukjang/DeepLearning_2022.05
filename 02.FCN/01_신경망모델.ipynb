{
  "nbformat": 4,
  "nbformat_minor": 0,
  "metadata": {
    "colab": {
      "name": "01_신경망모델.ipynb",
      "provenance": []
    },
    "kernelspec": {
      "name": "python3",
      "display_name": "Python 3"
    },
    "language_info": {
      "name": "python"
    }
  },
  "cells": [
    {
      "cell_type": "markdown",
      "source": [
        "### 신경망 모델"
      ],
      "metadata": {
        "id": "IrVx3wfgA6pR"
      }
    },
    {
      "cell_type": "markdown",
      "source": [
        "- 이진 분류 : 유방암 예측 사례"
      ],
      "metadata": {
        "id": "lOdkeB7CA-II"
      }
    },
    {
      "cell_type": "code",
      "source": [
        "import numpy as np\n",
        "import pandas as pd\n",
        "import matplotlib.pyplot as plt"
      ],
      "metadata": {
        "id": "IG0iut9CBBfX"
      },
      "execution_count": null,
      "outputs": []
    },
    {
      "cell_type": "code",
      "source": [
        "from sklearn.datasets import load_breast_cancer\n",
        "cancer = load_breast_cancer()"
      ],
      "metadata": {
        "id": "c54L7pBJDhbu"
      },
      "execution_count": null,
      "outputs": []
    },
    {
      "cell_type": "code",
      "source": [
        "df = pd.DataFrame(cancer.data, columns = cancer.feature_names)\n",
        "df['target'] = cancer.target\n",
        "df.head()"
      ],
      "metadata": {
        "colab": {
          "base_uri": "https://localhost:8080/",
          "height": 334
        },
        "id": "bJOY6kuwDmyO",
        "outputId": "370ece15-b9a5-4ce7-adfd-7f5019967533"
      },
      "execution_count": null,
      "outputs": [
        {
          "output_type": "execute_result",
          "data": {
            "text/plain": [
              "   mean radius  mean texture  mean perimeter  mean area  mean smoothness  \\\n",
              "0        17.99         10.38          122.80     1001.0          0.11840   \n",
              "1        20.57         17.77          132.90     1326.0          0.08474   \n",
              "2        19.69         21.25          130.00     1203.0          0.10960   \n",
              "3        11.42         20.38           77.58      386.1          0.14250   \n",
              "4        20.29         14.34          135.10     1297.0          0.10030   \n",
              "\n",
              "   mean compactness  mean concavity  mean concave points  mean symmetry  \\\n",
              "0           0.27760          0.3001              0.14710         0.2419   \n",
              "1           0.07864          0.0869              0.07017         0.1812   \n",
              "2           0.15990          0.1974              0.12790         0.2069   \n",
              "3           0.28390          0.2414              0.10520         0.2597   \n",
              "4           0.13280          0.1980              0.10430         0.1809   \n",
              "\n",
              "   mean fractal dimension  ...  worst texture  worst perimeter  worst area  \\\n",
              "0                 0.07871  ...          17.33           184.60      2019.0   \n",
              "1                 0.05667  ...          23.41           158.80      1956.0   \n",
              "2                 0.05999  ...          25.53           152.50      1709.0   \n",
              "3                 0.09744  ...          26.50            98.87       567.7   \n",
              "4                 0.05883  ...          16.67           152.20      1575.0   \n",
              "\n",
              "   worst smoothness  worst compactness  worst concavity  worst concave points  \\\n",
              "0            0.1622             0.6656           0.7119                0.2654   \n",
              "1            0.1238             0.1866           0.2416                0.1860   \n",
              "2            0.1444             0.4245           0.4504                0.2430   \n",
              "3            0.2098             0.8663           0.6869                0.2575   \n",
              "4            0.1374             0.2050           0.4000                0.1625   \n",
              "\n",
              "   worst symmetry  worst fractal dimension  target  \n",
              "0          0.4601                  0.11890       0  \n",
              "1          0.2750                  0.08902       0  \n",
              "2          0.3613                  0.08758       0  \n",
              "3          0.6638                  0.17300       0  \n",
              "4          0.2364                  0.07678       0  \n",
              "\n",
              "[5 rows x 31 columns]"
            ],
            "text/html": [
              "\n",
              "  <div id=\"df-dc12b792-bb8f-4f67-8c32-b4d47c8f1d62\">\n",
              "    <div class=\"colab-df-container\">\n",
              "      <div>\n",
              "<style scoped>\n",
              "    .dataframe tbody tr th:only-of-type {\n",
              "        vertical-align: middle;\n",
              "    }\n",
              "\n",
              "    .dataframe tbody tr th {\n",
              "        vertical-align: top;\n",
              "    }\n",
              "\n",
              "    .dataframe thead th {\n",
              "        text-align: right;\n",
              "    }\n",
              "</style>\n",
              "<table border=\"1\" class=\"dataframe\">\n",
              "  <thead>\n",
              "    <tr style=\"text-align: right;\">\n",
              "      <th></th>\n",
              "      <th>mean radius</th>\n",
              "      <th>mean texture</th>\n",
              "      <th>mean perimeter</th>\n",
              "      <th>mean area</th>\n",
              "      <th>mean smoothness</th>\n",
              "      <th>mean compactness</th>\n",
              "      <th>mean concavity</th>\n",
              "      <th>mean concave points</th>\n",
              "      <th>mean symmetry</th>\n",
              "      <th>mean fractal dimension</th>\n",
              "      <th>...</th>\n",
              "      <th>worst texture</th>\n",
              "      <th>worst perimeter</th>\n",
              "      <th>worst area</th>\n",
              "      <th>worst smoothness</th>\n",
              "      <th>worst compactness</th>\n",
              "      <th>worst concavity</th>\n",
              "      <th>worst concave points</th>\n",
              "      <th>worst symmetry</th>\n",
              "      <th>worst fractal dimension</th>\n",
              "      <th>target</th>\n",
              "    </tr>\n",
              "  </thead>\n",
              "  <tbody>\n",
              "    <tr>\n",
              "      <th>0</th>\n",
              "      <td>17.99</td>\n",
              "      <td>10.38</td>\n",
              "      <td>122.80</td>\n",
              "      <td>1001.0</td>\n",
              "      <td>0.11840</td>\n",
              "      <td>0.27760</td>\n",
              "      <td>0.3001</td>\n",
              "      <td>0.14710</td>\n",
              "      <td>0.2419</td>\n",
              "      <td>0.07871</td>\n",
              "      <td>...</td>\n",
              "      <td>17.33</td>\n",
              "      <td>184.60</td>\n",
              "      <td>2019.0</td>\n",
              "      <td>0.1622</td>\n",
              "      <td>0.6656</td>\n",
              "      <td>0.7119</td>\n",
              "      <td>0.2654</td>\n",
              "      <td>0.4601</td>\n",
              "      <td>0.11890</td>\n",
              "      <td>0</td>\n",
              "    </tr>\n",
              "    <tr>\n",
              "      <th>1</th>\n",
              "      <td>20.57</td>\n",
              "      <td>17.77</td>\n",
              "      <td>132.90</td>\n",
              "      <td>1326.0</td>\n",
              "      <td>0.08474</td>\n",
              "      <td>0.07864</td>\n",
              "      <td>0.0869</td>\n",
              "      <td>0.07017</td>\n",
              "      <td>0.1812</td>\n",
              "      <td>0.05667</td>\n",
              "      <td>...</td>\n",
              "      <td>23.41</td>\n",
              "      <td>158.80</td>\n",
              "      <td>1956.0</td>\n",
              "      <td>0.1238</td>\n",
              "      <td>0.1866</td>\n",
              "      <td>0.2416</td>\n",
              "      <td>0.1860</td>\n",
              "      <td>0.2750</td>\n",
              "      <td>0.08902</td>\n",
              "      <td>0</td>\n",
              "    </tr>\n",
              "    <tr>\n",
              "      <th>2</th>\n",
              "      <td>19.69</td>\n",
              "      <td>21.25</td>\n",
              "      <td>130.00</td>\n",
              "      <td>1203.0</td>\n",
              "      <td>0.10960</td>\n",
              "      <td>0.15990</td>\n",
              "      <td>0.1974</td>\n",
              "      <td>0.12790</td>\n",
              "      <td>0.2069</td>\n",
              "      <td>0.05999</td>\n",
              "      <td>...</td>\n",
              "      <td>25.53</td>\n",
              "      <td>152.50</td>\n",
              "      <td>1709.0</td>\n",
              "      <td>0.1444</td>\n",
              "      <td>0.4245</td>\n",
              "      <td>0.4504</td>\n",
              "      <td>0.2430</td>\n",
              "      <td>0.3613</td>\n",
              "      <td>0.08758</td>\n",
              "      <td>0</td>\n",
              "    </tr>\n",
              "    <tr>\n",
              "      <th>3</th>\n",
              "      <td>11.42</td>\n",
              "      <td>20.38</td>\n",
              "      <td>77.58</td>\n",
              "      <td>386.1</td>\n",
              "      <td>0.14250</td>\n",
              "      <td>0.28390</td>\n",
              "      <td>0.2414</td>\n",
              "      <td>0.10520</td>\n",
              "      <td>0.2597</td>\n",
              "      <td>0.09744</td>\n",
              "      <td>...</td>\n",
              "      <td>26.50</td>\n",
              "      <td>98.87</td>\n",
              "      <td>567.7</td>\n",
              "      <td>0.2098</td>\n",
              "      <td>0.8663</td>\n",
              "      <td>0.6869</td>\n",
              "      <td>0.2575</td>\n",
              "      <td>0.6638</td>\n",
              "      <td>0.17300</td>\n",
              "      <td>0</td>\n",
              "    </tr>\n",
              "    <tr>\n",
              "      <th>4</th>\n",
              "      <td>20.29</td>\n",
              "      <td>14.34</td>\n",
              "      <td>135.10</td>\n",
              "      <td>1297.0</td>\n",
              "      <td>0.10030</td>\n",
              "      <td>0.13280</td>\n",
              "      <td>0.1980</td>\n",
              "      <td>0.10430</td>\n",
              "      <td>0.1809</td>\n",
              "      <td>0.05883</td>\n",
              "      <td>...</td>\n",
              "      <td>16.67</td>\n",
              "      <td>152.20</td>\n",
              "      <td>1575.0</td>\n",
              "      <td>0.1374</td>\n",
              "      <td>0.2050</td>\n",
              "      <td>0.4000</td>\n",
              "      <td>0.1625</td>\n",
              "      <td>0.2364</td>\n",
              "      <td>0.07678</td>\n",
              "      <td>0</td>\n",
              "    </tr>\n",
              "  </tbody>\n",
              "</table>\n",
              "<p>5 rows × 31 columns</p>\n",
              "</div>\n",
              "      <button class=\"colab-df-convert\" onclick=\"convertToInteractive('df-dc12b792-bb8f-4f67-8c32-b4d47c8f1d62')\"\n",
              "              title=\"Convert this dataframe to an interactive table.\"\n",
              "              style=\"display:none;\">\n",
              "        \n",
              "  <svg xmlns=\"http://www.w3.org/2000/svg\" height=\"24px\"viewBox=\"0 0 24 24\"\n",
              "       width=\"24px\">\n",
              "    <path d=\"M0 0h24v24H0V0z\" fill=\"none\"/>\n",
              "    <path d=\"M18.56 5.44l.94 2.06.94-2.06 2.06-.94-2.06-.94-.94-2.06-.94 2.06-2.06.94zm-11 1L8.5 8.5l.94-2.06 2.06-.94-2.06-.94L8.5 2.5l-.94 2.06-2.06.94zm10 10l.94 2.06.94-2.06 2.06-.94-2.06-.94-.94-2.06-.94 2.06-2.06.94z\"/><path d=\"M17.41 7.96l-1.37-1.37c-.4-.4-.92-.59-1.43-.59-.52 0-1.04.2-1.43.59L10.3 9.45l-7.72 7.72c-.78.78-.78 2.05 0 2.83L4 21.41c.39.39.9.59 1.41.59.51 0 1.02-.2 1.41-.59l7.78-7.78 2.81-2.81c.8-.78.8-2.07 0-2.86zM5.41 20L4 18.59l7.72-7.72 1.47 1.35L5.41 20z\"/>\n",
              "  </svg>\n",
              "      </button>\n",
              "      \n",
              "  <style>\n",
              "    .colab-df-container {\n",
              "      display:flex;\n",
              "      flex-wrap:wrap;\n",
              "      gap: 12px;\n",
              "    }\n",
              "\n",
              "    .colab-df-convert {\n",
              "      background-color: #E8F0FE;\n",
              "      border: none;\n",
              "      border-radius: 50%;\n",
              "      cursor: pointer;\n",
              "      display: none;\n",
              "      fill: #1967D2;\n",
              "      height: 32px;\n",
              "      padding: 0 0 0 0;\n",
              "      width: 32px;\n",
              "    }\n",
              "\n",
              "    .colab-df-convert:hover {\n",
              "      background-color: #E2EBFA;\n",
              "      box-shadow: 0px 1px 2px rgba(60, 64, 67, 0.3), 0px 1px 3px 1px rgba(60, 64, 67, 0.15);\n",
              "      fill: #174EA6;\n",
              "    }\n",
              "\n",
              "    [theme=dark] .colab-df-convert {\n",
              "      background-color: #3B4455;\n",
              "      fill: #D2E3FC;\n",
              "    }\n",
              "\n",
              "    [theme=dark] .colab-df-convert:hover {\n",
              "      background-color: #434B5C;\n",
              "      box-shadow: 0px 1px 3px 1px rgba(0, 0, 0, 0.15);\n",
              "      filter: drop-shadow(0px 1px 2px rgba(0, 0, 0, 0.3));\n",
              "      fill: #FFFFFF;\n",
              "    }\n",
              "  </style>\n",
              "\n",
              "      <script>\n",
              "        const buttonEl =\n",
              "          document.querySelector('#df-dc12b792-bb8f-4f67-8c32-b4d47c8f1d62 button.colab-df-convert');\n",
              "        buttonEl.style.display =\n",
              "          google.colab.kernel.accessAllowed ? 'block' : 'none';\n",
              "\n",
              "        async function convertToInteractive(key) {\n",
              "          const element = document.querySelector('#df-dc12b792-bb8f-4f67-8c32-b4d47c8f1d62');\n",
              "          const dataTable =\n",
              "            await google.colab.kernel.invokeFunction('convertToInteractive',\n",
              "                                                     [key], {});\n",
              "          if (!dataTable) return;\n",
              "\n",
              "          const docLinkHtml = 'Like what you see? Visit the ' +\n",
              "            '<a target=\"_blank\" href=https://colab.research.google.com/notebooks/data_table.ipynb>data table notebook</a>'\n",
              "            + ' to learn more about interactive tables.';\n",
              "          element.innerHTML = '';\n",
              "          dataTable['output_type'] = 'display_data';\n",
              "          await google.colab.output.renderOutput(dataTable, element);\n",
              "          const docLink = document.createElement('div');\n",
              "          docLink.innerHTML = docLinkHtml;\n",
              "          element.appendChild(docLink);\n",
              "        }\n",
              "      </script>\n",
              "    </div>\n",
              "  </div>\n",
              "  "
            ]
          },
          "metadata": {},
          "execution_count": 8
        }
      ]
    },
    {
      "cell_type": "markdown",
      "source": [
        "### 1. 데이터를 정규/표준화 하지 않은 경우"
      ],
      "metadata": {
        "id": "P7jheaLdD30Z"
      }
    },
    {
      "cell_type": "code",
      "source": [
        "from sklearn.model_selection import train_test_split\n",
        "X_train, X_test, y_train, y_test = train_test_split(\n",
        "    cancer.data, cancer.target, test_size=0.2, stratify=cancer.target,\n",
        "    random_state=2022\n",
        ")"
      ],
      "metadata": {
        "id": "3tX81CP7EO8m"
      },
      "execution_count": null,
      "outputs": []
    },
    {
      "cell_type": "code",
      "source": [
        "from tensorflow.keras.models import Sequential\n",
        "from tensorflow.keras.layers import Dense        # Fully connectes network"
      ],
      "metadata": {
        "id": "1Zxmj3sJFNfX"
      },
      "execution_count": null,
      "outputs": []
    },
    {
      "cell_type": "code",
      "source": [
        "model = Sequential([\n",
        "    Dense(100, input_shape=(30,), activation='relu'),        # 은닉층  노드 갯수, 레이어\n",
        "    Dense(24, activation='relu'),\n",
        "    Dense(1, activation='sigmoid')\n",
        "\n",
        "    # 100개 -> 24개 -> 1개로 연결되는 모양\n",
        "])\n",
        "model.summary()"
      ],
      "metadata": {
        "colab": {
          "base_uri": "https://localhost:8080/"
        },
        "id": "L0dFU8IaFYT1",
        "outputId": "826f3a62-76f7-448f-85d3-d3e2f60899c5"
      },
      "execution_count": null,
      "outputs": [
        {
          "output_type": "stream",
          "name": "stdout",
          "text": [
            "Model: \"sequential\"\n",
            "_________________________________________________________________\n",
            " Layer (type)                Output Shape              Param #   \n",
            "=================================================================\n",
            " dense (Dense)               (None, 100)               3100      \n",
            "                                                                 \n",
            " dense_1 (Dense)             (None, 24)                2424      \n",
            "                                                                 \n",
            " dense_2 (Dense)             (None, 1)                 25        \n",
            "                                                                 \n",
            "=================================================================\n",
            "Total params: 5,549\n",
            "Trainable params: 5,549\n",
            "Non-trainable params: 0\n",
            "_________________________________________________________________\n"
          ]
        }
      ]
    },
    {
      "cell_type": "code",
      "source": [
        "# 가중치 30 * 100개 + bias 100개 해서 3100개\n",
        "# 가중치 100 * 24 + bias 24 2424개\n",
        "# 가중치 24 * 1 + bias 1 25개"
      ],
      "metadata": {
        "id": "yD53y8-6GeVE"
      },
      "execution_count": null,
      "outputs": []
    },
    {
      "cell_type": "markdown",
      "source": [
        "- 모델 설정(컴파일)"
      ],
      "metadata": {
        "id": "UnAbDqDRGxg8"
      }
    },
    {
      "cell_type": "code",
      "source": [
        "model.compile(optimizer='adam', loss='binary_crossentropy', metrics=['accuracy'])"
      ],
      "metadata": {
        "id": "sQsdTHFJG2sy"
      },
      "execution_count": 41,
      "outputs": []
    },
    {
      "cell_type": "markdown",
      "source": [
        "- 모델학습"
      ],
      "metadata": {
        "id": "v9CmnuT6G5WA"
      }
    },
    {
      "cell_type": "code",
      "source": [
        "history = model.fit(X_train, y_train, validation_split=0.2, \n",
        "          epochs= 100, batch_size=100)"
      ],
      "metadata": {
        "colab": {
          "base_uri": "https://localhost:8080/"
        },
        "id": "U1vrhvmqHVQW",
        "outputId": "5fc9722c-7334-4376-e668-6a045f6fa95a"
      },
      "execution_count": 42,
      "outputs": [
        {
          "output_type": "stream",
          "name": "stdout",
          "text": [
            "Epoch 1/100\n",
            "4/4 [==============================] - 1s 95ms/step - loss: 3.0993 - accuracy: 0.6291 - val_loss: 2.8812 - val_accuracy: 0.7143\n",
            "Epoch 2/100\n",
            "4/4 [==============================] - 0s 18ms/step - loss: 1.4062 - accuracy: 0.8077 - val_loss: 1.7960 - val_accuracy: 0.5824\n",
            "Epoch 3/100\n",
            "4/4 [==============================] - 0s 29ms/step - loss: 0.8573 - accuracy: 0.7692 - val_loss: 0.4936 - val_accuracy: 0.9121\n",
            "Epoch 4/100\n",
            "4/4 [==============================] - 0s 19ms/step - loss: 0.8537 - accuracy: 0.8654 - val_loss: 0.3778 - val_accuracy: 0.9231\n",
            "Epoch 5/100\n",
            "4/4 [==============================] - 0s 18ms/step - loss: 0.3710 - accuracy: 0.8901 - val_loss: 0.9051 - val_accuracy: 0.7912\n",
            "Epoch 6/100\n",
            "4/4 [==============================] - 0s 16ms/step - loss: 0.4443 - accuracy: 0.8681 - val_loss: 0.3517 - val_accuracy: 0.9231\n",
            "Epoch 7/100\n",
            "4/4 [==============================] - 0s 19ms/step - loss: 0.4267 - accuracy: 0.9093 - val_loss: 0.3037 - val_accuracy: 0.9121\n",
            "Epoch 8/100\n",
            "4/4 [==============================] - 0s 16ms/step - loss: 0.2407 - accuracy: 0.9313 - val_loss: 0.5455 - val_accuracy: 0.8681\n",
            "Epoch 9/100\n",
            "4/4 [==============================] - 0s 30ms/step - loss: 0.2594 - accuracy: 0.9176 - val_loss: 0.2639 - val_accuracy: 0.9231\n",
            "Epoch 10/100\n",
            "4/4 [==============================] - 0s 29ms/step - loss: 0.3011 - accuracy: 0.9341 - val_loss: 0.2694 - val_accuracy: 0.9231\n",
            "Epoch 11/100\n",
            "4/4 [==============================] - 0s 17ms/step - loss: 0.1654 - accuracy: 0.9341 - val_loss: 0.4028 - val_accuracy: 0.9121\n",
            "Epoch 12/100\n",
            "4/4 [==============================] - 0s 23ms/step - loss: 0.2035 - accuracy: 0.9231 - val_loss: 0.2412 - val_accuracy: 0.9231\n",
            "Epoch 13/100\n",
            "4/4 [==============================] - 0s 15ms/step - loss: 0.1792 - accuracy: 0.9505 - val_loss: 0.2490 - val_accuracy: 0.9231\n",
            "Epoch 14/100\n",
            "4/4 [==============================] - 0s 19ms/step - loss: 0.1302 - accuracy: 0.9478 - val_loss: 0.3282 - val_accuracy: 0.9231\n",
            "Epoch 15/100\n",
            "4/4 [==============================] - 0s 18ms/step - loss: 0.1317 - accuracy: 0.9478 - val_loss: 0.2566 - val_accuracy: 0.9231\n",
            "Epoch 16/100\n",
            "4/4 [==============================] - 0s 10ms/step - loss: 0.1542 - accuracy: 0.9396 - val_loss: 0.2949 - val_accuracy: 0.9231\n",
            "Epoch 17/100\n",
            "4/4 [==============================] - 0s 10ms/step - loss: 0.1228 - accuracy: 0.9451 - val_loss: 0.2539 - val_accuracy: 0.9231\n",
            "Epoch 18/100\n",
            "4/4 [==============================] - 0s 10ms/step - loss: 0.1195 - accuracy: 0.9588 - val_loss: 0.2775 - val_accuracy: 0.9231\n",
            "Epoch 19/100\n",
            "4/4 [==============================] - 0s 11ms/step - loss: 0.1266 - accuracy: 0.9451 - val_loss: 0.2487 - val_accuracy: 0.9231\n",
            "Epoch 20/100\n",
            "4/4 [==============================] - 0s 10ms/step - loss: 0.1190 - accuracy: 0.9505 - val_loss: 0.2383 - val_accuracy: 0.9231\n",
            "Epoch 21/100\n",
            "4/4 [==============================] - 0s 11ms/step - loss: 0.1250 - accuracy: 0.9588 - val_loss: 0.2526 - val_accuracy: 0.9231\n",
            "Epoch 22/100\n",
            "4/4 [==============================] - 0s 11ms/step - loss: 0.1246 - accuracy: 0.9451 - val_loss: 0.2437 - val_accuracy: 0.9231\n",
            "Epoch 23/100\n",
            "4/4 [==============================] - 0s 10ms/step - loss: 0.1178 - accuracy: 0.9560 - val_loss: 0.2338 - val_accuracy: 0.9231\n",
            "Epoch 24/100\n",
            "4/4 [==============================] - 0s 10ms/step - loss: 0.1148 - accuracy: 0.9423 - val_loss: 0.2253 - val_accuracy: 0.9231\n",
            "Epoch 25/100\n",
            "4/4 [==============================] - 0s 11ms/step - loss: 0.1100 - accuracy: 0.9588 - val_loss: 0.2420 - val_accuracy: 0.9121\n",
            "Epoch 26/100\n",
            "4/4 [==============================] - 0s 11ms/step - loss: 0.1170 - accuracy: 0.9533 - val_loss: 0.2205 - val_accuracy: 0.9231\n",
            "Epoch 27/100\n",
            "4/4 [==============================] - 0s 11ms/step - loss: 0.1045 - accuracy: 0.9560 - val_loss: 0.2373 - val_accuracy: 0.9121\n",
            "Epoch 28/100\n",
            "4/4 [==============================] - 0s 10ms/step - loss: 0.1129 - accuracy: 0.9560 - val_loss: 0.2142 - val_accuracy: 0.9121\n",
            "Epoch 29/100\n",
            "4/4 [==============================] - 0s 16ms/step - loss: 0.1034 - accuracy: 0.9588 - val_loss: 0.2556 - val_accuracy: 0.9231\n",
            "Epoch 30/100\n",
            "4/4 [==============================] - 0s 10ms/step - loss: 0.1087 - accuracy: 0.9560 - val_loss: 0.2133 - val_accuracy: 0.9231\n",
            "Epoch 31/100\n",
            "4/4 [==============================] - 0s 11ms/step - loss: 0.0976 - accuracy: 0.9588 - val_loss: 0.2715 - val_accuracy: 0.9121\n",
            "Epoch 32/100\n",
            "4/4 [==============================] - 0s 12ms/step - loss: 0.1028 - accuracy: 0.9533 - val_loss: 0.2054 - val_accuracy: 0.9121\n",
            "Epoch 33/100\n",
            "4/4 [==============================] - 0s 11ms/step - loss: 0.1178 - accuracy: 0.9588 - val_loss: 0.2496 - val_accuracy: 0.9121\n",
            "Epoch 34/100\n",
            "4/4 [==============================] - 0s 11ms/step - loss: 0.1116 - accuracy: 0.9588 - val_loss: 0.2065 - val_accuracy: 0.9121\n",
            "Epoch 35/100\n",
            "4/4 [==============================] - 0s 11ms/step - loss: 0.1062 - accuracy: 0.9588 - val_loss: 0.2136 - val_accuracy: 0.9121\n",
            "Epoch 36/100\n",
            "4/4 [==============================] - 0s 11ms/step - loss: 0.1063 - accuracy: 0.9615 - val_loss: 0.2216 - val_accuracy: 0.9121\n",
            "Epoch 37/100\n",
            "4/4 [==============================] - 0s 11ms/step - loss: 0.1022 - accuracy: 0.9560 - val_loss: 0.1985 - val_accuracy: 0.9121\n",
            "Epoch 38/100\n",
            "4/4 [==============================] - 0s 10ms/step - loss: 0.0996 - accuracy: 0.9615 - val_loss: 0.2297 - val_accuracy: 0.9231\n",
            "Epoch 39/100\n",
            "4/4 [==============================] - 0s 10ms/step - loss: 0.0967 - accuracy: 0.9643 - val_loss: 0.2063 - val_accuracy: 0.9121\n",
            "Epoch 40/100\n",
            "4/4 [==============================] - 0s 13ms/step - loss: 0.0935 - accuracy: 0.9588 - val_loss: 0.2336 - val_accuracy: 0.9121\n",
            "Epoch 41/100\n",
            "4/4 [==============================] - 0s 11ms/step - loss: 0.0984 - accuracy: 0.9560 - val_loss: 0.2033 - val_accuracy: 0.9121\n",
            "Epoch 42/100\n",
            "4/4 [==============================] - 0s 11ms/step - loss: 0.1048 - accuracy: 0.9533 - val_loss: 0.1928 - val_accuracy: 0.9121\n",
            "Epoch 43/100\n",
            "4/4 [==============================] - 0s 11ms/step - loss: 0.0969 - accuracy: 0.9643 - val_loss: 0.2443 - val_accuracy: 0.9231\n",
            "Epoch 44/100\n",
            "4/4 [==============================] - 0s 14ms/step - loss: 0.1095 - accuracy: 0.9560 - val_loss: 0.1906 - val_accuracy: 0.9121\n",
            "Epoch 45/100\n",
            "4/4 [==============================] - 0s 11ms/step - loss: 0.0954 - accuracy: 0.9725 - val_loss: 0.3120 - val_accuracy: 0.8901\n",
            "Epoch 46/100\n",
            "4/4 [==============================] - 0s 11ms/step - loss: 0.1328 - accuracy: 0.9505 - val_loss: 0.1919 - val_accuracy: 0.9121\n",
            "Epoch 47/100\n",
            "4/4 [==============================] - 0s 12ms/step - loss: 0.1133 - accuracy: 0.9560 - val_loss: 0.2260 - val_accuracy: 0.9231\n",
            "Epoch 48/100\n",
            "4/4 [==============================] - 0s 11ms/step - loss: 0.1353 - accuracy: 0.9478 - val_loss: 0.2497 - val_accuracy: 0.9231\n",
            "Epoch 49/100\n",
            "4/4 [==============================] - 0s 10ms/step - loss: 0.1080 - accuracy: 0.9505 - val_loss: 0.1771 - val_accuracy: 0.9121\n",
            "Epoch 50/100\n",
            "4/4 [==============================] - 0s 11ms/step - loss: 0.1150 - accuracy: 0.9533 - val_loss: 0.2292 - val_accuracy: 0.9231\n",
            "Epoch 51/100\n",
            "4/4 [==============================] - 0s 12ms/step - loss: 0.1022 - accuracy: 0.9533 - val_loss: 0.1773 - val_accuracy: 0.9121\n",
            "Epoch 52/100\n",
            "4/4 [==============================] - 0s 13ms/step - loss: 0.0918 - accuracy: 0.9615 - val_loss: 0.2521 - val_accuracy: 0.9231\n",
            "Epoch 53/100\n",
            "4/4 [==============================] - 0s 12ms/step - loss: 0.1079 - accuracy: 0.9588 - val_loss: 0.1796 - val_accuracy: 0.9121\n",
            "Epoch 54/100\n",
            "4/4 [==============================] - 0s 11ms/step - loss: 0.1055 - accuracy: 0.9615 - val_loss: 0.1892 - val_accuracy: 0.9121\n",
            "Epoch 55/100\n",
            "4/4 [==============================] - 0s 13ms/step - loss: 0.0934 - accuracy: 0.9588 - val_loss: 0.1867 - val_accuracy: 0.9121\n",
            "Epoch 56/100\n",
            "4/4 [==============================] - 0s 11ms/step - loss: 0.0946 - accuracy: 0.9560 - val_loss: 0.2263 - val_accuracy: 0.9231\n",
            "Epoch 57/100\n",
            "4/4 [==============================] - 0s 12ms/step - loss: 0.0920 - accuracy: 0.9588 - val_loss: 0.1896 - val_accuracy: 0.9121\n",
            "Epoch 58/100\n",
            "4/4 [==============================] - 0s 11ms/step - loss: 0.0915 - accuracy: 0.9615 - val_loss: 0.1833 - val_accuracy: 0.9121\n",
            "Epoch 59/100\n",
            "4/4 [==============================] - 0s 11ms/step - loss: 0.0975 - accuracy: 0.9615 - val_loss: 0.2163 - val_accuracy: 0.9231\n",
            "Epoch 60/100\n",
            "4/4 [==============================] - 0s 11ms/step - loss: 0.0977 - accuracy: 0.9588 - val_loss: 0.2001 - val_accuracy: 0.9451\n",
            "Epoch 61/100\n",
            "4/4 [==============================] - 0s 10ms/step - loss: 0.1303 - accuracy: 0.9396 - val_loss: 0.2017 - val_accuracy: 0.9341\n",
            "Epoch 62/100\n",
            "4/4 [==============================] - 0s 11ms/step - loss: 0.1118 - accuracy: 0.9560 - val_loss: 0.2361 - val_accuracy: 0.9231\n",
            "Epoch 63/100\n",
            "4/4 [==============================] - 0s 17ms/step - loss: 0.1018 - accuracy: 0.9588 - val_loss: 0.1770 - val_accuracy: 0.9231\n",
            "Epoch 64/100\n",
            "4/4 [==============================] - 0s 11ms/step - loss: 0.1228 - accuracy: 0.9560 - val_loss: 0.3952 - val_accuracy: 0.8571\n",
            "Epoch 65/100\n",
            "4/4 [==============================] - 0s 10ms/step - loss: 0.1612 - accuracy: 0.9368 - val_loss: 0.1713 - val_accuracy: 0.9121\n",
            "Epoch 66/100\n",
            "4/4 [==============================] - 0s 11ms/step - loss: 0.1056 - accuracy: 0.9588 - val_loss: 0.1714 - val_accuracy: 0.9231\n",
            "Epoch 67/100\n",
            "4/4 [==============================] - 0s 11ms/step - loss: 0.1096 - accuracy: 0.9643 - val_loss: 0.2153 - val_accuracy: 0.9231\n",
            "Epoch 68/100\n",
            "4/4 [==============================] - 0s 10ms/step - loss: 0.1119 - accuracy: 0.9533 - val_loss: 0.2177 - val_accuracy: 0.9451\n",
            "Epoch 69/100\n",
            "4/4 [==============================] - 0s 11ms/step - loss: 0.1539 - accuracy: 0.9478 - val_loss: 0.3060 - val_accuracy: 0.9231\n",
            "Epoch 70/100\n",
            "4/4 [==============================] - 0s 11ms/step - loss: 0.1141 - accuracy: 0.9505 - val_loss: 0.1812 - val_accuracy: 0.9451\n",
            "Epoch 71/100\n",
            "4/4 [==============================] - 0s 10ms/step - loss: 0.1269 - accuracy: 0.9478 - val_loss: 0.1719 - val_accuracy: 0.9231\n",
            "Epoch 72/100\n",
            "4/4 [==============================] - 0s 10ms/step - loss: 0.1025 - accuracy: 0.9615 - val_loss: 0.1762 - val_accuracy: 0.9231\n",
            "Epoch 73/100\n",
            "4/4 [==============================] - 0s 11ms/step - loss: 0.0947 - accuracy: 0.9588 - val_loss: 0.1606 - val_accuracy: 0.9121\n",
            "Epoch 74/100\n",
            "4/4 [==============================] - 0s 13ms/step - loss: 0.1086 - accuracy: 0.9588 - val_loss: 0.2144 - val_accuracy: 0.9341\n",
            "Epoch 75/100\n",
            "4/4 [==============================] - 0s 11ms/step - loss: 0.1338 - accuracy: 0.9505 - val_loss: 0.2447 - val_accuracy: 0.9231\n",
            "Epoch 76/100\n",
            "4/4 [==============================] - 0s 10ms/step - loss: 0.1224 - accuracy: 0.9396 - val_loss: 0.1929 - val_accuracy: 0.9451\n",
            "Epoch 77/100\n",
            "4/4 [==============================] - 0s 11ms/step - loss: 0.1236 - accuracy: 0.9643 - val_loss: 0.2277 - val_accuracy: 0.9231\n",
            "Epoch 78/100\n",
            "4/4 [==============================] - 0s 10ms/step - loss: 0.1038 - accuracy: 0.9505 - val_loss: 0.1535 - val_accuracy: 0.9231\n",
            "Epoch 79/100\n",
            "4/4 [==============================] - 0s 11ms/step - loss: 0.0888 - accuracy: 0.9615 - val_loss: 0.1972 - val_accuracy: 0.9231\n",
            "Epoch 80/100\n",
            "4/4 [==============================] - 0s 11ms/step - loss: 0.0895 - accuracy: 0.9643 - val_loss: 0.1674 - val_accuracy: 0.9231\n",
            "Epoch 81/100\n",
            "4/4 [==============================] - 0s 13ms/step - loss: 0.1174 - accuracy: 0.9533 - val_loss: 0.1909 - val_accuracy: 0.9451\n",
            "Epoch 82/100\n",
            "4/4 [==============================] - 0s 11ms/step - loss: 0.1290 - accuracy: 0.9505 - val_loss: 0.3456 - val_accuracy: 0.9121\n",
            "Epoch 83/100\n",
            "4/4 [==============================] - 0s 12ms/step - loss: 0.1037 - accuracy: 0.9560 - val_loss: 0.1602 - val_accuracy: 0.9231\n",
            "Epoch 84/100\n",
            "4/4 [==============================] - 0s 11ms/step - loss: 0.1049 - accuracy: 0.9560 - val_loss: 0.2344 - val_accuracy: 0.9231\n",
            "Epoch 85/100\n",
            "4/4 [==============================] - 0s 10ms/step - loss: 0.0979 - accuracy: 0.9533 - val_loss: 0.1575 - val_accuracy: 0.9341\n",
            "Epoch 86/100\n",
            "4/4 [==============================] - 0s 11ms/step - loss: 0.0838 - accuracy: 0.9615 - val_loss: 0.3244 - val_accuracy: 0.9121\n",
            "Epoch 87/100\n",
            "4/4 [==============================] - 0s 11ms/step - loss: 0.1158 - accuracy: 0.9505 - val_loss: 0.2246 - val_accuracy: 0.9451\n",
            "Epoch 88/100\n",
            "4/4 [==============================] - 0s 12ms/step - loss: 0.1511 - accuracy: 0.9423 - val_loss: 0.1827 - val_accuracy: 0.9341\n",
            "Epoch 89/100\n",
            "4/4 [==============================] - 0s 13ms/step - loss: 0.1332 - accuracy: 0.9533 - val_loss: 0.3129 - val_accuracy: 0.9121\n",
            "Epoch 90/100\n",
            "4/4 [==============================] - 0s 11ms/step - loss: 0.1377 - accuracy: 0.9478 - val_loss: 0.2531 - val_accuracy: 0.9341\n",
            "Epoch 91/100\n",
            "4/4 [==============================] - 0s 11ms/step - loss: 0.1744 - accuracy: 0.9286 - val_loss: 0.1578 - val_accuracy: 0.9341\n",
            "Epoch 92/100\n",
            "4/4 [==============================] - 0s 11ms/step - loss: 0.2167 - accuracy: 0.9313 - val_loss: 0.5383 - val_accuracy: 0.8132\n",
            "Epoch 93/100\n",
            "4/4 [==============================] - 0s 12ms/step - loss: 0.2696 - accuracy: 0.9121 - val_loss: 0.3064 - val_accuracy: 0.9341\n",
            "Epoch 94/100\n",
            "4/4 [==============================] - 0s 10ms/step - loss: 0.2111 - accuracy: 0.9093 - val_loss: 0.1635 - val_accuracy: 0.9341\n",
            "Epoch 95/100\n",
            "4/4 [==============================] - 0s 11ms/step - loss: 0.1575 - accuracy: 0.9533 - val_loss: 0.2103 - val_accuracy: 0.9231\n",
            "Epoch 96/100\n",
            "4/4 [==============================] - 0s 14ms/step - loss: 0.1618 - accuracy: 0.9396 - val_loss: 0.1711 - val_accuracy: 0.9341\n",
            "Epoch 97/100\n",
            "4/4 [==============================] - 0s 11ms/step - loss: 0.1205 - accuracy: 0.9588 - val_loss: 0.2603 - val_accuracy: 0.9341\n",
            "Epoch 98/100\n",
            "4/4 [==============================] - 0s 12ms/step - loss: 0.1052 - accuracy: 0.9478 - val_loss: 0.1623 - val_accuracy: 0.9231\n",
            "Epoch 99/100\n",
            "4/4 [==============================] - 0s 11ms/step - loss: 0.0955 - accuracy: 0.9615 - val_loss: 0.1704 - val_accuracy: 0.9231\n",
            "Epoch 100/100\n",
            "4/4 [==============================] - 0s 12ms/step - loss: 0.1148 - accuracy: 0.9560 - val_loss: 0.3252 - val_accuracy: 0.9011\n"
          ]
        }
      ]
    },
    {
      "cell_type": "code",
      "source": [
        "history"
      ],
      "metadata": {
        "colab": {
          "base_uri": "https://localhost:8080/"
        },
        "id": "h80PybOdHW1A",
        "outputId": "89b1c983-038d-40a3-e3f5-3e78b61b95a5"
      },
      "execution_count": null,
      "outputs": [
        {
          "output_type": "execute_result",
          "data": {
            "text/plain": [
              "<keras.callbacks.History at 0x7f2a237ce590>"
            ]
          },
          "metadata": {},
          "execution_count": 20
        }
      ]
    },
    {
      "cell_type": "markdown",
      "source": [
        "- 모델평가"
      ],
      "metadata": {
        "id": "AG_hCR_0H_Hv"
      }
    },
    {
      "cell_type": "code",
      "source": [
        "model.evaluate(X_test, y_test)"
      ],
      "metadata": {
        "colab": {
          "base_uri": "https://localhost:8080/"
        },
        "id": "FDRfQ-T0IAdd",
        "outputId": "cf8e7235-f56f-4197-aed4-dbf6c4073d5e"
      },
      "execution_count": 43,
      "outputs": [
        {
          "output_type": "stream",
          "name": "stdout",
          "text": [
            "4/4 [==============================] - 0s 3ms/step - loss: 0.2795 - accuracy: 0.9211\n"
          ]
        },
        {
          "output_type": "execute_result",
          "data": {
            "text/plain": [
              "[0.27954593300819397, 0.9210526347160339]"
            ]
          },
          "metadata": {},
          "execution_count": 43
        }
      ]
    },
    {
      "cell_type": "markdown",
      "source": [
        "- 훈련과정 시각화 : epoch에 따른 accuracy / val_loss의 변화"
      ],
      "metadata": {
        "id": "9YXJCSW-IZNd"
      }
    },
    {
      "cell_type": "code",
      "source": [
        "y_acc = history.history['accuracy']\n",
        "y_vloss = history.history['val_loss']\n",
        "xs = np.arange(1, len(y_acc)+1)"
      ],
      "metadata": {
        "id": "DlHFKduqIfV5"
      },
      "execution_count": 44,
      "outputs": []
    },
    {
      "cell_type": "code",
      "source": [
        "plt.figure(figsize=(12, 8))\n",
        "plt.plot(xs, y_acc, label='train.accuracy')\n",
        "plt.plot(xs, y_vloss, label='validation loss')\n",
        "plt.legend(), plt.grid()\n",
        "plt.ylim([0,1])\n",
        "plt.xlabel('Epoch')\n",
        "plt.title('No feature transform')\n",
        "plt.show()"
      ],
      "metadata": {
        "colab": {
          "base_uri": "https://localhost:8080/",
          "height": 513
        },
        "id": "2cUpjv9oJTVM",
        "outputId": "2d40d6d8-8d60-4d76-bbde-c5b2afe9d50a"
      },
      "execution_count": 45,
      "outputs": [
        {
          "output_type": "display_data",
          "data": {
            "text/plain": [
              "<Figure size 864x576 with 1 Axes>"
            ],
            "image/png": "[encoded data removed]"
          },
          "metadata": {
            "needs_background": "light"
          }
        }
      ]
    },
    {
      "cell_type": "markdown",
      "source": [
        "### 2. 데이터를 정규 / 표준화한 경우"
      ],
      "metadata": {
        "id": "z28sTQi8KVQy"
      }
    },
    {
      "cell_type": "code",
      "source": [
        "from sklearn.preprocessing import StandardScaler\n",
        "cancer_std = StandardScaler().fit_transform(cancer.data)\n",
        "X_train2, X_test2, y_train2, y_test2 = train_test_split(\n",
        "    cancer_std, cancer.target, test_size=0.2, stratify=cancer.target,\n",
        "    random_state=2022\n",
        ")"
      ],
      "metadata": {
        "id": "SrutKQBTKYrF"
      },
      "execution_count": null,
      "outputs": []
    },
    {
      "cell_type": "markdown",
      "source": [
        "- 모델정의"
      ],
      "metadata": {
        "id": "ds4ZPnKqKlU_"
      }
    },
    {
      "cell_type": "code",
      "source": [
        "model2 = Sequential()\n",
        "model2.add(Dense(100, input_dim=30, activation='relu'))\n",
        "model2.add(Dense(24, activation='relu'))\n",
        "model2.add(Dense(1, activation='sigmoid'))\n",
        "model2.summary()"
      ],
      "metadata": {
        "colab": {
          "base_uri": "https://localhost:8080/"
        },
        "id": "PuIKVXUrK68-",
        "outputId": "bebf9c17-a1c4-4e1a-865d-e5321845f274"
      },
      "execution_count": 46,
      "outputs": [
        {
          "output_type": "stream",
          "name": "stdout",
          "text": [
            "Model: \"sequential_3\"\n",
            "_________________________________________________________________\n",
            " Layer (type)                Output Shape              Param #   \n",
            "=================================================================\n",
            " dense_9 (Dense)             (None, 100)               3100      \n",
            "                                                                 \n",
            " dense_10 (Dense)            (None, 24)                2424      \n",
            "                                                                 \n",
            " dense_11 (Dense)            (None, 1)                 25        \n",
            "                                                                 \n",
            "=================================================================\n",
            "Total params: 5,549\n",
            "Trainable params: 5,549\n",
            "Non-trainable params: 0\n",
            "_________________________________________________________________\n"
          ]
        }
      ]
    },
    {
      "cell_type": "code",
      "source": [
        "model2.compile(optimizer='adam', loss='binary_crossentropy', metrics=['accuracy'])\n"
      ],
      "metadata": {
        "id": "p4kWs3qPLOj0"
      },
      "execution_count": 47,
      "outputs": []
    },
    {
      "cell_type": "code",
      "source": [
        "hist2 = model2.fit(X_train2, y_train2, validation_split=0.2,\n",
        "           epochs=100, batch_size=100)"
      ],
      "metadata": {
        "colab": {
          "base_uri": "https://localhost:8080/"
        },
        "id": "evGdWRQtLnHI",
        "outputId": "dad35f0d-d4c1-41b5-ce3d-bf644c597c92"
      },
      "execution_count": 48,
      "outputs": [
        {
          "output_type": "stream",
          "name": "stdout",
          "text": [
            "Epoch 1/100\n",
            "4/4 [==============================] - 1s 56ms/step - loss: 0.6255 - accuracy: 0.5989 - val_loss: 0.5162 - val_accuracy: 0.8791\n",
            "Epoch 2/100\n",
            "4/4 [==============================] - 0s 17ms/step - loss: 0.4611 - accuracy: 0.8846 - val_loss: 0.4025 - val_accuracy: 0.9121\n",
            "Epoch 3/100\n",
            "4/4 [==============================] - 0s 10ms/step - loss: 0.3528 - accuracy: 0.9368 - val_loss: 0.3197 - val_accuracy: 0.9121\n",
            "Epoch 4/100\n",
            "4/4 [==============================] - 0s 10ms/step - loss: 0.2757 - accuracy: 0.9560 - val_loss: 0.2595 - val_accuracy: 0.9121\n",
            "Epoch 5/100\n",
            "4/4 [==============================] - 0s 11ms/step - loss: 0.2212 - accuracy: 0.9588 - val_loss: 0.2166 - val_accuracy: 0.9341\n",
            "Epoch 6/100\n",
            "4/4 [==============================] - 0s 12ms/step - loss: 0.1838 - accuracy: 0.9588 - val_loss: 0.1869 - val_accuracy: 0.9341\n",
            "Epoch 7/100\n",
            "4/4 [==============================] - 0s 11ms/step - loss: 0.1579 - accuracy: 0.9615 - val_loss: 0.1671 - val_accuracy: 0.9341\n",
            "Epoch 8/100\n",
            "4/4 [==============================] - 0s 11ms/step - loss: 0.1373 - accuracy: 0.9643 - val_loss: 0.1541 - val_accuracy: 0.9341\n",
            "Epoch 9/100\n",
            "4/4 [==============================] - 0s 11ms/step - loss: 0.1239 - accuracy: 0.9670 - val_loss: 0.1451 - val_accuracy: 0.9341\n",
            "Epoch 10/100\n",
            "4/4 [==============================] - 0s 11ms/step - loss: 0.1128 - accuracy: 0.9670 - val_loss: 0.1386 - val_accuracy: 0.9560\n",
            "Epoch 11/100\n",
            "4/4 [==============================] - 0s 15ms/step - loss: 0.1039 - accuracy: 0.9698 - val_loss: 0.1342 - val_accuracy: 0.9451\n",
            "Epoch 12/100\n",
            "4/4 [==============================] - 0s 18ms/step - loss: 0.0964 - accuracy: 0.9725 - val_loss: 0.1312 - val_accuracy: 0.9451\n",
            "Epoch 13/100\n",
            "4/4 [==============================] - 0s 16ms/step - loss: 0.0903 - accuracy: 0.9780 - val_loss: 0.1290 - val_accuracy: 0.9451\n",
            "Epoch 14/100\n",
            "4/4 [==============================] - 0s 18ms/step - loss: 0.0847 - accuracy: 0.9808 - val_loss: 0.1276 - val_accuracy: 0.9451\n",
            "Epoch 15/100\n",
            "4/4 [==============================] - 0s 19ms/step - loss: 0.0805 - accuracy: 0.9808 - val_loss: 0.1269 - val_accuracy: 0.9451\n",
            "Epoch 16/100\n",
            "4/4 [==============================] - 0s 34ms/step - loss: 0.0762 - accuracy: 0.9808 - val_loss: 0.1264 - val_accuracy: 0.9451\n",
            "Epoch 17/100\n",
            "4/4 [==============================] - 0s 26ms/step - loss: 0.0728 - accuracy: 0.9780 - val_loss: 0.1259 - val_accuracy: 0.9560\n",
            "Epoch 18/100\n",
            "4/4 [==============================] - 0s 21ms/step - loss: 0.0696 - accuracy: 0.9863 - val_loss: 0.1259 - val_accuracy: 0.9560\n",
            "Epoch 19/100\n",
            "4/4 [==============================] - 0s 22ms/step - loss: 0.0669 - accuracy: 0.9863 - val_loss: 0.1256 - val_accuracy: 0.9560\n",
            "Epoch 20/100\n",
            "4/4 [==============================] - 0s 40ms/step - loss: 0.0642 - accuracy: 0.9835 - val_loss: 0.1257 - val_accuracy: 0.9560\n",
            "Epoch 21/100\n",
            "4/4 [==============================] - 0s 33ms/step - loss: 0.0620 - accuracy: 0.9835 - val_loss: 0.1262 - val_accuracy: 0.9560\n",
            "Epoch 22/100\n",
            "4/4 [==============================] - 0s 26ms/step - loss: 0.0595 - accuracy: 0.9835 - val_loss: 0.1269 - val_accuracy: 0.9560\n",
            "Epoch 23/100\n",
            "4/4 [==============================] - 0s 18ms/step - loss: 0.0579 - accuracy: 0.9835 - val_loss: 0.1284 - val_accuracy: 0.9560\n",
            "Epoch 24/100\n",
            "4/4 [==============================] - 0s 19ms/step - loss: 0.0557 - accuracy: 0.9835 - val_loss: 0.1284 - val_accuracy: 0.9560\n",
            "Epoch 25/100\n",
            "4/4 [==============================] - 0s 36ms/step - loss: 0.0539 - accuracy: 0.9863 - val_loss: 0.1284 - val_accuracy: 0.9560\n",
            "Epoch 26/100\n",
            "4/4 [==============================] - 0s 34ms/step - loss: 0.0523 - accuracy: 0.9863 - val_loss: 0.1280 - val_accuracy: 0.9560\n",
            "Epoch 27/100\n",
            "4/4 [==============================] - 0s 42ms/step - loss: 0.0508 - accuracy: 0.9890 - val_loss: 0.1275 - val_accuracy: 0.9560\n",
            "Epoch 28/100\n",
            "4/4 [==============================] - 0s 28ms/step - loss: 0.0494 - accuracy: 0.9890 - val_loss: 0.1287 - val_accuracy: 0.9560\n",
            "Epoch 29/100\n",
            "4/4 [==============================] - 0s 20ms/step - loss: 0.0478 - accuracy: 0.9890 - val_loss: 0.1295 - val_accuracy: 0.9560\n",
            "Epoch 30/100\n",
            "4/4 [==============================] - 0s 20ms/step - loss: 0.0464 - accuracy: 0.9890 - val_loss: 0.1295 - val_accuracy: 0.9560\n",
            "Epoch 31/100\n",
            "4/4 [==============================] - 0s 28ms/step - loss: 0.0451 - accuracy: 0.9890 - val_loss: 0.1304 - val_accuracy: 0.9560\n",
            "Epoch 32/100\n",
            "4/4 [==============================] - 0s 17ms/step - loss: 0.0438 - accuracy: 0.9890 - val_loss: 0.1307 - val_accuracy: 0.9560\n",
            "Epoch 33/100\n",
            "4/4 [==============================] - 0s 21ms/step - loss: 0.0425 - accuracy: 0.9890 - val_loss: 0.1314 - val_accuracy: 0.9560\n",
            "Epoch 34/100\n",
            "4/4 [==============================] - 0s 15ms/step - loss: 0.0414 - accuracy: 0.9890 - val_loss: 0.1316 - val_accuracy: 0.9560\n",
            "Epoch 35/100\n",
            "4/4 [==============================] - 0s 34ms/step - loss: 0.0402 - accuracy: 0.9918 - val_loss: 0.1335 - val_accuracy: 0.9560\n",
            "Epoch 36/100\n",
            "4/4 [==============================] - 0s 39ms/step - loss: 0.0390 - accuracy: 0.9918 - val_loss: 0.1339 - val_accuracy: 0.9560\n",
            "Epoch 37/100\n",
            "4/4 [==============================] - 0s 23ms/step - loss: 0.0378 - accuracy: 0.9918 - val_loss: 0.1350 - val_accuracy: 0.9560\n",
            "Epoch 38/100\n",
            "4/4 [==============================] - 0s 26ms/step - loss: 0.0368 - accuracy: 0.9918 - val_loss: 0.1362 - val_accuracy: 0.9560\n",
            "Epoch 39/100\n",
            "4/4 [==============================] - 0s 22ms/step - loss: 0.0356 - accuracy: 0.9918 - val_loss: 0.1373 - val_accuracy: 0.9560\n",
            "Epoch 40/100\n",
            "4/4 [==============================] - 0s 16ms/step - loss: 0.0346 - accuracy: 0.9918 - val_loss: 0.1388 - val_accuracy: 0.9560\n",
            "Epoch 41/100\n",
            "4/4 [==============================] - 0s 14ms/step - loss: 0.0337 - accuracy: 0.9918 - val_loss: 0.1408 - val_accuracy: 0.9670\n",
            "Epoch 42/100\n",
            "4/4 [==============================] - 0s 22ms/step - loss: 0.0327 - accuracy: 0.9918 - val_loss: 0.1418 - val_accuracy: 0.9670\n",
            "Epoch 43/100\n",
            "4/4 [==============================] - 0s 18ms/step - loss: 0.0317 - accuracy: 0.9918 - val_loss: 0.1434 - val_accuracy: 0.9670\n",
            "Epoch 44/100\n",
            "4/4 [==============================] - 0s 16ms/step - loss: 0.0306 - accuracy: 0.9918 - val_loss: 0.1444 - val_accuracy: 0.9670\n",
            "Epoch 45/100\n",
            "4/4 [==============================] - 0s 21ms/step - loss: 0.0297 - accuracy: 0.9918 - val_loss: 0.1450 - val_accuracy: 0.9670\n",
            "Epoch 46/100\n",
            "4/4 [==============================] - 0s 22ms/step - loss: 0.0287 - accuracy: 0.9918 - val_loss: 0.1473 - val_accuracy: 0.9670\n",
            "Epoch 47/100\n",
            "4/4 [==============================] - 0s 22ms/step - loss: 0.0277 - accuracy: 0.9918 - val_loss: 0.1492 - val_accuracy: 0.9670\n",
            "Epoch 48/100\n",
            "4/4 [==============================] - 0s 16ms/step - loss: 0.0271 - accuracy: 0.9918 - val_loss: 0.1509 - val_accuracy: 0.9670\n",
            "Epoch 49/100\n",
            "4/4 [==============================] - 0s 19ms/step - loss: 0.0261 - accuracy: 0.9918 - val_loss: 0.1514 - val_accuracy: 0.9670\n",
            "Epoch 50/100\n",
            "4/4 [==============================] - 0s 16ms/step - loss: 0.0251 - accuracy: 0.9918 - val_loss: 0.1515 - val_accuracy: 0.9670\n",
            "Epoch 51/100\n",
            "4/4 [==============================] - 0s 19ms/step - loss: 0.0245 - accuracy: 0.9918 - val_loss: 0.1514 - val_accuracy: 0.9670\n",
            "Epoch 52/100\n",
            "4/4 [==============================] - 0s 15ms/step - loss: 0.0237 - accuracy: 0.9945 - val_loss: 0.1529 - val_accuracy: 0.9670\n",
            "Epoch 53/100\n",
            "4/4 [==============================] - 0s 16ms/step - loss: 0.0227 - accuracy: 0.9945 - val_loss: 0.1532 - val_accuracy: 0.9670\n",
            "Epoch 54/100\n",
            "4/4 [==============================] - 0s 18ms/step - loss: 0.0221 - accuracy: 0.9945 - val_loss: 0.1554 - val_accuracy: 0.9670\n",
            "Epoch 55/100\n",
            "4/4 [==============================] - 0s 20ms/step - loss: 0.0214 - accuracy: 0.9945 - val_loss: 0.1566 - val_accuracy: 0.9670\n",
            "Epoch 56/100\n",
            "4/4 [==============================] - 0s 16ms/step - loss: 0.0207 - accuracy: 0.9945 - val_loss: 0.1581 - val_accuracy: 0.9670\n",
            "Epoch 57/100\n",
            "4/4 [==============================] - 0s 20ms/step - loss: 0.0200 - accuracy: 0.9945 - val_loss: 0.1604 - val_accuracy: 0.9670\n",
            "Epoch 58/100\n",
            "4/4 [==============================] - 0s 18ms/step - loss: 0.0194 - accuracy: 0.9945 - val_loss: 0.1621 - val_accuracy: 0.9670\n",
            "Epoch 59/100\n",
            "4/4 [==============================] - 0s 17ms/step - loss: 0.0187 - accuracy: 0.9945 - val_loss: 0.1631 - val_accuracy: 0.9670\n",
            "Epoch 60/100\n",
            "4/4 [==============================] - 0s 22ms/step - loss: 0.0181 - accuracy: 0.9945 - val_loss: 0.1629 - val_accuracy: 0.9670\n",
            "Epoch 61/100\n",
            "4/4 [==============================] - 0s 18ms/step - loss: 0.0175 - accuracy: 0.9945 - val_loss: 0.1635 - val_accuracy: 0.9670\n",
            "Epoch 62/100\n",
            "4/4 [==============================] - 0s 15ms/step - loss: 0.0170 - accuracy: 0.9945 - val_loss: 0.1645 - val_accuracy: 0.9670\n",
            "Epoch 63/100\n",
            "4/4 [==============================] - 0s 15ms/step - loss: 0.0164 - accuracy: 0.9945 - val_loss: 0.1660 - val_accuracy: 0.9670\n",
            "Epoch 64/100\n",
            "4/4 [==============================] - 0s 17ms/step - loss: 0.0159 - accuracy: 0.9945 - val_loss: 0.1676 - val_accuracy: 0.9670\n",
            "Epoch 65/100\n",
            "4/4 [==============================] - 0s 19ms/step - loss: 0.0154 - accuracy: 0.9945 - val_loss: 0.1696 - val_accuracy: 0.9670\n",
            "Epoch 66/100\n",
            "4/4 [==============================] - 0s 17ms/step - loss: 0.0149 - accuracy: 0.9945 - val_loss: 0.1714 - val_accuracy: 0.9670\n",
            "Epoch 67/100\n",
            "4/4 [==============================] - 0s 16ms/step - loss: 0.0143 - accuracy: 0.9973 - val_loss: 0.1737 - val_accuracy: 0.9670\n",
            "Epoch 68/100\n",
            "4/4 [==============================] - 0s 16ms/step - loss: 0.0140 - accuracy: 0.9973 - val_loss: 0.1760 - val_accuracy: 0.9670\n",
            "Epoch 69/100\n",
            "4/4 [==============================] - 0s 24ms/step - loss: 0.0135 - accuracy: 1.0000 - val_loss: 0.1777 - val_accuracy: 0.9670\n",
            "Epoch 70/100\n",
            "4/4 [==============================] - 0s 19ms/step - loss: 0.0131 - accuracy: 1.0000 - val_loss: 0.1794 - val_accuracy: 0.9670\n",
            "Epoch 71/100\n",
            "4/4 [==============================] - 0s 16ms/step - loss: 0.0126 - accuracy: 1.0000 - val_loss: 0.1809 - val_accuracy: 0.9670\n",
            "Epoch 72/100\n",
            "4/4 [==============================] - 0s 15ms/step - loss: 0.0121 - accuracy: 1.0000 - val_loss: 0.1820 - val_accuracy: 0.9670\n",
            "Epoch 73/100\n",
            "4/4 [==============================] - 0s 15ms/step - loss: 0.0117 - accuracy: 1.0000 - val_loss: 0.1832 - val_accuracy: 0.9670\n",
            "Epoch 74/100\n",
            "4/4 [==============================] - 0s 14ms/step - loss: 0.0112 - accuracy: 1.0000 - val_loss: 0.1843 - val_accuracy: 0.9670\n",
            "Epoch 75/100\n",
            "4/4 [==============================] - 0s 10ms/step - loss: 0.0109 - accuracy: 1.0000 - val_loss: 0.1862 - val_accuracy: 0.9670\n",
            "Epoch 76/100\n",
            "4/4 [==============================] - 0s 14ms/step - loss: 0.0105 - accuracy: 1.0000 - val_loss: 0.1875 - val_accuracy: 0.9670\n",
            "Epoch 77/100\n",
            "4/4 [==============================] - 0s 12ms/step - loss: 0.0101 - accuracy: 1.0000 - val_loss: 0.1885 - val_accuracy: 0.9670\n",
            "Epoch 78/100\n",
            "4/4 [==============================] - 0s 11ms/step - loss: 0.0099 - accuracy: 1.0000 - val_loss: 0.1895 - val_accuracy: 0.9670\n",
            "Epoch 79/100\n",
            "4/4 [==============================] - 0s 11ms/step - loss: 0.0095 - accuracy: 1.0000 - val_loss: 0.1915 - val_accuracy: 0.9560\n",
            "Epoch 80/100\n",
            "4/4 [==============================] - 0s 18ms/step - loss: 0.0092 - accuracy: 1.0000 - val_loss: 0.1928 - val_accuracy: 0.9560\n",
            "Epoch 81/100\n",
            "4/4 [==============================] - 0s 14ms/step - loss: 0.0089 - accuracy: 1.0000 - val_loss: 0.1932 - val_accuracy: 0.9560\n",
            "Epoch 82/100\n",
            "4/4 [==============================] - 0s 16ms/step - loss: 0.0086 - accuracy: 1.0000 - val_loss: 0.1936 - val_accuracy: 0.9670\n",
            "Epoch 83/100\n",
            "4/4 [==============================] - 0s 16ms/step - loss: 0.0083 - accuracy: 1.0000 - val_loss: 0.1944 - val_accuracy: 0.9670\n",
            "Epoch 84/100\n",
            "4/4 [==============================] - 0s 16ms/step - loss: 0.0081 - accuracy: 1.0000 - val_loss: 0.1950 - val_accuracy: 0.9670\n",
            "Epoch 85/100\n",
            "4/4 [==============================] - 0s 17ms/step - loss: 0.0079 - accuracy: 1.0000 - val_loss: 0.1958 - val_accuracy: 0.9670\n",
            "Epoch 86/100\n",
            "4/4 [==============================] - 0s 18ms/step - loss: 0.0076 - accuracy: 1.0000 - val_loss: 0.1976 - val_accuracy: 0.9670\n",
            "Epoch 87/100\n",
            "4/4 [==============================] - 0s 24ms/step - loss: 0.0074 - accuracy: 1.0000 - val_loss: 0.1998 - val_accuracy: 0.9670\n",
            "Epoch 88/100\n",
            "4/4 [==============================] - 0s 15ms/step - loss: 0.0072 - accuracy: 1.0000 - val_loss: 0.2013 - val_accuracy: 0.9670\n",
            "Epoch 89/100\n",
            "4/4 [==============================] - 0s 17ms/step - loss: 0.0069 - accuracy: 1.0000 - val_loss: 0.2014 - val_accuracy: 0.9670\n",
            "Epoch 90/100\n",
            "4/4 [==============================] - 0s 20ms/step - loss: 0.0068 - accuracy: 1.0000 - val_loss: 0.2015 - val_accuracy: 0.9670\n",
            "Epoch 91/100\n",
            "4/4 [==============================] - 0s 17ms/step - loss: 0.0065 - accuracy: 1.0000 - val_loss: 0.2022 - val_accuracy: 0.9670\n",
            "Epoch 92/100\n",
            "4/4 [==============================] - 0s 17ms/step - loss: 0.0063 - accuracy: 1.0000 - val_loss: 0.2030 - val_accuracy: 0.9670\n",
            "Epoch 93/100\n",
            "4/4 [==============================] - 0s 17ms/step - loss: 0.0062 - accuracy: 1.0000 - val_loss: 0.2050 - val_accuracy: 0.9670\n",
            "Epoch 94/100\n",
            "4/4 [==============================] - 0s 17ms/step - loss: 0.0060 - accuracy: 1.0000 - val_loss: 0.2057 - val_accuracy: 0.9670\n",
            "Epoch 95/100\n",
            "4/4 [==============================] - 0s 15ms/step - loss: 0.0058 - accuracy: 1.0000 - val_loss: 0.2060 - val_accuracy: 0.9670\n",
            "Epoch 96/100\n",
            "4/4 [==============================] - 0s 23ms/step - loss: 0.0057 - accuracy: 1.0000 - val_loss: 0.2067 - val_accuracy: 0.9670\n",
            "Epoch 97/100\n",
            "4/4 [==============================] - 0s 17ms/step - loss: 0.0055 - accuracy: 1.0000 - val_loss: 0.2085 - val_accuracy: 0.9560\n",
            "Epoch 98/100\n",
            "4/4 [==============================] - 0s 21ms/step - loss: 0.0053 - accuracy: 1.0000 - val_loss: 0.2091 - val_accuracy: 0.9560\n",
            "Epoch 99/100\n",
            "4/4 [==============================] - 0s 17ms/step - loss: 0.0052 - accuracy: 1.0000 - val_loss: 0.2104 - val_accuracy: 0.9670\n",
            "Epoch 100/100\n",
            "4/4 [==============================] - 0s 16ms/step - loss: 0.0050 - accuracy: 1.0000 - val_loss: 0.2110 - val_accuracy: 0.9670\n"
          ]
        }
      ]
    },
    {
      "cell_type": "code",
      "source": [
        "model2.evaluate(X_test2, y_test2)"
      ],
      "metadata": {
        "colab": {
          "base_uri": "https://localhost:8080/"
        },
        "id": "SQp4ChaTMFvn",
        "outputId": "1b8ae3b9-b2bf-4878-a8b4-0424a2e0e493"
      },
      "execution_count": 49,
      "outputs": [
        {
          "output_type": "stream",
          "name": "stdout",
          "text": [
            "4/4 [==============================] - 0s 3ms/step - loss: 0.0957 - accuracy: 0.9825\n"
          ]
        },
        {
          "output_type": "execute_result",
          "data": {
            "text/plain": [
              "[0.09572675824165344, 0.9824561476707458]"
            ]
          },
          "metadata": {},
          "execution_count": 49
        }
      ]
    },
    {
      "cell_type": "markdown",
      "source": [
        "- 학습과정 시각화"
      ],
      "metadata": {
        "id": "bNaUF4V3Mfco"
      }
    },
    {
      "cell_type": "code",
      "source": [
        "y_acc = hist2.history['accuracy']\n",
        "y_vloss = hist2.history['val_loss']\n",
        "xs = np.arange(1, len(y_acc)+1)"
      ],
      "metadata": {
        "id": "2AnnWOSyMiW9"
      },
      "execution_count": 50,
      "outputs": []
    },
    {
      "cell_type": "code",
      "source": [
        "plt.figure(figsize=(12, 8))\n",
        "plt.plot(xs, y_acc, label='train.accuracy')\n",
        "plt.plot(xs, y_vloss, label='validation loss')\n",
        "plt.legend(), plt.grid()\n",
        "# plt.ylim([0,1])\n",
        "plt.xlabel('Epoch')\n",
        "plt.title('After feature transform')\n",
        "plt.show()"
      ],
      "metadata": {
        "colab": {
          "base_uri": "https://localhost:8080/",
          "height": 513
        },
        "id": "YuVxQICGMmXP",
        "outputId": "74e48819-0f67-44a5-ce66-f206dfaf866e"
      },
      "execution_count": 51,
      "outputs": [
        {
          "output_type": "display_data",
          "data": {
            "text/plain": [
              "<Figure size 864x576 with 1 Axes>"
            ],
            "image/png": "[encoded data removed]"
          },
          "metadata": {
            "needs_background": "light"
          }
        }
      ]
    },
    {
      "cell_type": "code",
      "source": [
        ""
      ],
      "metadata": {
        "id": "cNITREnai3VI"
      },
      "execution_count": null,
      "outputs": []
    }
  ]
}