{
  "nbformat": 4,
  "nbformat_minor": 0,
  "metadata": {
    "colab": {
      "name": "21_Spam_RNN.ipynb",
      "provenance": []
    },
    "kernelspec": {
      "name": "python3",
      "display_name": "Python 3"
    },
    "language_info": {
      "name": "python"
    },
    "accelerator": "GPU"
  },
  "cells": [
    {
      "cell_type": "markdown",
      "source": [
        "### SimpleRNN을 이용한 SMS Spam 분류\n",
        " - 캐글 데이터 : url = 'https://raw.githubusercontent.com/ukairia777/tensorflow-nlp-tutorial/main/10.%20RNN%20Text%20Classification/dataset/spam.csv'\n"
      ],
      "metadata": {
        "id": "sHD_XRwv-Y6v"
      }
    },
    {
      "cell_type": "code",
      "source": [
        "import pandas as pd\n",
        "url = 'https://raw.githubusercontent.com/ukairia777/tensorflow-nlp-tutorial/main/10.%20RNN%20Text%20Classification/dataset/spam.csv'"
      ],
      "metadata": {
        "id": "Jur7NRt1-kne"
      },
      "execution_count": 2,
      "outputs": []
    },
    {
      "cell_type": "code",
      "source": [
        "df = pd.read_csv(url, encoding='latin1')\n",
        "df.head()"
      ],
      "metadata": {
        "colab": {
          "base_uri": "https://localhost:8080/",
          "height": 206
        },
        "id": "50omx0LH-3v3",
        "outputId": "b8ba9dd3-eb69-4148-bcf5-cca7e0c3f08b"
      },
      "execution_count": 3,
      "outputs": [
        {
          "output_type": "execute_result",
          "data": {
            "text/plain": [
              "     v1                                                 v2 Unnamed: 2  \\\n",
              "0   ham  Go until jurong point, crazy.. Available only ...        NaN   \n",
              "1   ham                      Ok lar... Joking wif u oni...        NaN   \n",
              "2  spam  Free entry in 2 a wkly comp to win FA Cup fina...        NaN   \n",
              "3   ham  U dun say so early hor... U c already then say...        NaN   \n",
              "4   ham  Nah I don't think he goes to usf, he lives aro...        NaN   \n",
              "\n",
              "  Unnamed: 3 Unnamed: 4  \n",
              "0        NaN        NaN  \n",
              "1        NaN        NaN  \n",
              "2        NaN        NaN  \n",
              "3        NaN        NaN  \n",
              "4        NaN        NaN  "
            ],
            "text/html": [
              "\n",
              "  <div id=\"df-a0f00169-6775-45f4-ad65-a5ae951f8cf1\">\n",
              "    <div class=\"colab-df-container\">\n",
              "      <div>\n",
              "<style scoped>\n",
              "    .dataframe tbody tr th:only-of-type {\n",
              "        vertical-align: middle;\n",
              "    }\n",
              "\n",
              "    .dataframe tbody tr th {\n",
              "        vertical-align: top;\n",
              "    }\n",
              "\n",
              "    .dataframe thead th {\n",
              "        text-align: right;\n",
              "    }\n",
              "</style>\n",
              "<table border=\"1\" class=\"dataframe\">\n",
              "  <thead>\n",
              "    <tr style=\"text-align: right;\">\n",
              "      <th></th>\n",
              "      <th>v1</th>\n",
              "      <th>v2</th>\n",
              "      <th>Unnamed: 2</th>\n",
              "      <th>Unnamed: 3</th>\n",
              "      <th>Unnamed: 4</th>\n",
              "    </tr>\n",
              "  </thead>\n",
              "  <tbody>\n",
              "    <tr>\n",
              "      <th>0</th>\n",
              "      <td>ham</td>\n",
              "      <td>Go until jurong point, crazy.. Available only ...</td>\n",
              "      <td>NaN</td>\n",
              "      <td>NaN</td>\n",
              "      <td>NaN</td>\n",
              "    </tr>\n",
              "    <tr>\n",
              "      <th>1</th>\n",
              "      <td>ham</td>\n",
              "      <td>Ok lar... Joking wif u oni...</td>\n",
              "      <td>NaN</td>\n",
              "      <td>NaN</td>\n",
              "      <td>NaN</td>\n",
              "    </tr>\n",
              "    <tr>\n",
              "      <th>2</th>\n",
              "      <td>spam</td>\n",
              "      <td>Free entry in 2 a wkly comp to win FA Cup fina...</td>\n",
              "      <td>NaN</td>\n",
              "      <td>NaN</td>\n",
              "      <td>NaN</td>\n",
              "    </tr>\n",
              "    <tr>\n",
              "      <th>3</th>\n",
              "      <td>ham</td>\n",
              "      <td>U dun say so early hor... U c already then say...</td>\n",
              "      <td>NaN</td>\n",
              "      <td>NaN</td>\n",
              "      <td>NaN</td>\n",
              "    </tr>\n",
              "    <tr>\n",
              "      <th>4</th>\n",
              "      <td>ham</td>\n",
              "      <td>Nah I don't think he goes to usf, he lives aro...</td>\n",
              "      <td>NaN</td>\n",
              "      <td>NaN</td>\n",
              "      <td>NaN</td>\n",
              "    </tr>\n",
              "  </tbody>\n",
              "</table>\n",
              "</div>\n",
              "      <button class=\"colab-df-convert\" onclick=\"convertToInteractive('df-a0f00169-6775-45f4-ad65-a5ae951f8cf1')\"\n",
              "              title=\"Convert this dataframe to an interactive table.\"\n",
              "              style=\"display:none;\">\n",
              "        \n",
              "  <svg xmlns=\"http://www.w3.org/2000/svg\" height=\"24px\"viewBox=\"0 0 24 24\"\n",
              "       width=\"24px\">\n",
              "    <path d=\"M0 0h24v24H0V0z\" fill=\"none\"/>\n",
              "    <path d=\"M18.56 5.44l.94 2.06.94-2.06 2.06-.94-2.06-.94-.94-2.06-.94 2.06-2.06.94zm-11 1L8.5 8.5l.94-2.06 2.06-.94-2.06-.94L8.5 2.5l-.94 2.06-2.06.94zm10 10l.94 2.06.94-2.06 2.06-.94-2.06-.94-.94-2.06-.94 2.06-2.06.94z\"/><path d=\"M17.41 7.96l-1.37-1.37c-.4-.4-.92-.59-1.43-.59-.52 0-1.04.2-1.43.59L10.3 9.45l-7.72 7.72c-.78.78-.78 2.05 0 2.83L4 21.41c.39.39.9.59 1.41.59.51 0 1.02-.2 1.41-.59l7.78-7.78 2.81-2.81c.8-.78.8-2.07 0-2.86zM5.41 20L4 18.59l7.72-7.72 1.47 1.35L5.41 20z\"/>\n",
              "  </svg>\n",
              "      </button>\n",
              "      \n",
              "  <style>\n",
              "    .colab-df-container {\n",
              "      display:flex;\n",
              "      flex-wrap:wrap;\n",
              "      gap: 12px;\n",
              "    }\n",
              "\n",
              "    .colab-df-convert {\n",
              "      background-color: #E8F0FE;\n",
              "      border: none;\n",
              "      border-radius: 50%;\n",
              "      cursor: pointer;\n",
              "      display: none;\n",
              "      fill: #1967D2;\n",
              "      height: 32px;\n",
              "      padding: 0 0 0 0;\n",
              "      width: 32px;\n",
              "    }\n",
              "\n",
              "    .colab-df-convert:hover {\n",
              "      background-color: #E2EBFA;\n",
              "      box-shadow: 0px 1px 2px rgba(60, 64, 67, 0.3), 0px 1px 3px 1px rgba(60, 64, 67, 0.15);\n",
              "      fill: #174EA6;\n",
              "    }\n",
              "\n",
              "    [theme=dark] .colab-df-convert {\n",
              "      background-color: #3B4455;\n",
              "      fill: #D2E3FC;\n",
              "    }\n",
              "\n",
              "    [theme=dark] .colab-df-convert:hover {\n",
              "      background-color: #434B5C;\n",
              "      box-shadow: 0px 1px 3px 1px rgba(0, 0, 0, 0.15);\n",
              "      filter: drop-shadow(0px 1px 2px rgba(0, 0, 0, 0.3));\n",
              "      fill: #FFFFFF;\n",
              "    }\n",
              "  </style>\n",
              "\n",
              "      <script>\n",
              "        const buttonEl =\n",
              "          document.querySelector('#df-a0f00169-6775-45f4-ad65-a5ae951f8cf1 button.colab-df-convert');\n",
              "        buttonEl.style.display =\n",
              "          google.colab.kernel.accessAllowed ? 'block' : 'none';\n",
              "\n",
              "        async function convertToInteractive(key) {\n",
              "          const element = document.querySelector('#df-a0f00169-6775-45f4-ad65-a5ae951f8cf1');\n",
              "          const dataTable =\n",
              "            await google.colab.kernel.invokeFunction('convertToInteractive',\n",
              "                                                     [key], {});\n",
              "          if (!dataTable) return;\n",
              "\n",
              "          const docLinkHtml = 'Like what you see? Visit the ' +\n",
              "            '<a target=\"_blank\" href=https://colab.research.google.com/notebooks/data_table.ipynb>data table notebook</a>'\n",
              "            + ' to learn more about interactive tables.';\n",
              "          element.innerHTML = '';\n",
              "          dataTable['output_type'] = 'display_data';\n",
              "          await google.colab.output.renderOutput(dataTable, element);\n",
              "          const docLink = document.createElement('div');\n",
              "          docLink.innerHTML = docLinkHtml;\n",
              "          element.appendChild(docLink);\n",
              "        }\n",
              "      </script>\n",
              "    </div>\n",
              "  </div>\n",
              "  "
            ]
          },
          "metadata": {},
          "execution_count": 3
        }
      ]
    },
    {
      "cell_type": "markdown",
      "source": [
        "- 데이터 전처리"
      ],
      "metadata": {
        "id": "NQT0VOaT_ARA"
      }
    },
    {
      "cell_type": "code",
      "source": [
        "# Selection\n",
        "df = df[['v1', 'v2']]\n",
        "df.head()"
      ],
      "metadata": {
        "colab": {
          "base_uri": "https://localhost:8080/",
          "height": 206
        },
        "id": "SOFUYUM7_QbS",
        "outputId": "32826138-813f-465c-f8ac-2e3e707e59e3"
      },
      "execution_count": 4,
      "outputs": [
        {
          "output_type": "execute_result",
          "data": {
            "text/plain": [
              "     v1                                                 v2\n",
              "0   ham  Go until jurong point, crazy.. Available only ...\n",
              "1   ham                      Ok lar... Joking wif u oni...\n",
              "2  spam  Free entry in 2 a wkly comp to win FA Cup fina...\n",
              "3   ham  U dun say so early hor... U c already then say...\n",
              "4   ham  Nah I don't think he goes to usf, he lives aro..."
            ],
            "text/html": [
              "\n",
              "  <div id=\"df-9857db15-4553-4b28-9479-571808e4adc9\">\n",
              "    <div class=\"colab-df-container\">\n",
              "      <div>\n",
              "<style scoped>\n",
              "    .dataframe tbody tr th:only-of-type {\n",
              "        vertical-align: middle;\n",
              "    }\n",
              "\n",
              "    .dataframe tbody tr th {\n",
              "        vertical-align: top;\n",
              "    }\n",
              "\n",
              "    .dataframe thead th {\n",
              "        text-align: right;\n",
              "    }\n",
              "</style>\n",
              "<table border=\"1\" class=\"dataframe\">\n",
              "  <thead>\n",
              "    <tr style=\"text-align: right;\">\n",
              "      <th></th>\n",
              "      <th>v1</th>\n",
              "      <th>v2</th>\n",
              "    </tr>\n",
              "  </thead>\n",
              "  <tbody>\n",
              "    <tr>\n",
              "      <th>0</th>\n",
              "      <td>ham</td>\n",
              "      <td>Go until jurong point, crazy.. Available only ...</td>\n",
              "    </tr>\n",
              "    <tr>\n",
              "      <th>1</th>\n",
              "      <td>ham</td>\n",
              "      <td>Ok lar... Joking wif u oni...</td>\n",
              "    </tr>\n",
              "    <tr>\n",
              "      <th>2</th>\n",
              "      <td>spam</td>\n",
              "      <td>Free entry in 2 a wkly comp to win FA Cup fina...</td>\n",
              "    </tr>\n",
              "    <tr>\n",
              "      <th>3</th>\n",
              "      <td>ham</td>\n",
              "      <td>U dun say so early hor... U c already then say...</td>\n",
              "    </tr>\n",
              "    <tr>\n",
              "      <th>4</th>\n",
              "      <td>ham</td>\n",
              "      <td>Nah I don't think he goes to usf, he lives aro...</td>\n",
              "    </tr>\n",
              "  </tbody>\n",
              "</table>\n",
              "</div>\n",
              "      <button class=\"colab-df-convert\" onclick=\"convertToInteractive('df-9857db15-4553-4b28-9479-571808e4adc9')\"\n",
              "              title=\"Convert this dataframe to an interactive table.\"\n",
              "              style=\"display:none;\">\n",
              "        \n",
              "  <svg xmlns=\"http://www.w3.org/2000/svg\" height=\"24px\"viewBox=\"0 0 24 24\"\n",
              "       width=\"24px\">\n",
              "    <path d=\"M0 0h24v24H0V0z\" fill=\"none\"/>\n",
              "    <path d=\"M18.56 5.44l.94 2.06.94-2.06 2.06-.94-2.06-.94-.94-2.06-.94 2.06-2.06.94zm-11 1L8.5 8.5l.94-2.06 2.06-.94-2.06-.94L8.5 2.5l-.94 2.06-2.06.94zm10 10l.94 2.06.94-2.06 2.06-.94-2.06-.94-.94-2.06-.94 2.06-2.06.94z\"/><path d=\"M17.41 7.96l-1.37-1.37c-.4-.4-.92-.59-1.43-.59-.52 0-1.04.2-1.43.59L10.3 9.45l-7.72 7.72c-.78.78-.78 2.05 0 2.83L4 21.41c.39.39.9.59 1.41.59.51 0 1.02-.2 1.41-.59l7.78-7.78 2.81-2.81c.8-.78.8-2.07 0-2.86zM5.41 20L4 18.59l7.72-7.72 1.47 1.35L5.41 20z\"/>\n",
              "  </svg>\n",
              "      </button>\n",
              "      \n",
              "  <style>\n",
              "    .colab-df-container {\n",
              "      display:flex;\n",
              "      flex-wrap:wrap;\n",
              "      gap: 12px;\n",
              "    }\n",
              "\n",
              "    .colab-df-convert {\n",
              "      background-color: #E8F0FE;\n",
              "      border: none;\n",
              "      border-radius: 50%;\n",
              "      cursor: pointer;\n",
              "      display: none;\n",
              "      fill: #1967D2;\n",
              "      height: 32px;\n",
              "      padding: 0 0 0 0;\n",
              "      width: 32px;\n",
              "    }\n",
              "\n",
              "    .colab-df-convert:hover {\n",
              "      background-color: #E2EBFA;\n",
              "      box-shadow: 0px 1px 2px rgba(60, 64, 67, 0.3), 0px 1px 3px 1px rgba(60, 64, 67, 0.15);\n",
              "      fill: #174EA6;\n",
              "    }\n",
              "\n",
              "    [theme=dark] .colab-df-convert {\n",
              "      background-color: #3B4455;\n",
              "      fill: #D2E3FC;\n",
              "    }\n",
              "\n",
              "    [theme=dark] .colab-df-convert:hover {\n",
              "      background-color: #434B5C;\n",
              "      box-shadow: 0px 1px 3px 1px rgba(0, 0, 0, 0.15);\n",
              "      filter: drop-shadow(0px 1px 2px rgba(0, 0, 0, 0.3));\n",
              "      fill: #FFFFFF;\n",
              "    }\n",
              "  </style>\n",
              "\n",
              "      <script>\n",
              "        const buttonEl =\n",
              "          document.querySelector('#df-9857db15-4553-4b28-9479-571808e4adc9 button.colab-df-convert');\n",
              "        buttonEl.style.display =\n",
              "          google.colab.kernel.accessAllowed ? 'block' : 'none';\n",
              "\n",
              "        async function convertToInteractive(key) {\n",
              "          const element = document.querySelector('#df-9857db15-4553-4b28-9479-571808e4adc9');\n",
              "          const dataTable =\n",
              "            await google.colab.kernel.invokeFunction('convertToInteractive',\n",
              "                                                     [key], {});\n",
              "          if (!dataTable) return;\n",
              "\n",
              "          const docLinkHtml = 'Like what you see? Visit the ' +\n",
              "            '<a target=\"_blank\" href=https://colab.research.google.com/notebooks/data_table.ipynb>data table notebook</a>'\n",
              "            + ' to learn more about interactive tables.';\n",
              "          element.innerHTML = '';\n",
              "          dataTable['output_type'] = 'display_data';\n",
              "          await google.colab.output.renderOutput(dataTable, element);\n",
              "          const docLink = document.createElement('div');\n",
              "          docLink.innerHTML = docLinkHtml;\n",
              "          element.appendChild(docLink);\n",
              "        }\n",
              "      </script>\n",
              "    </div>\n",
              "  </div>\n",
              "  "
            ]
          },
          "metadata": {},
          "execution_count": 4
        }
      ]
    },
    {
      "cell_type": "code",
      "source": [
        "df.isna().sum()"
      ],
      "metadata": {
        "colab": {
          "base_uri": "https://localhost:8080/"
        },
        "id": "ZYLnqh_U_Vc6",
        "outputId": "e3cabb59-1e11-4b34-a282-a90c080e9c8b"
      },
      "execution_count": 5,
      "outputs": [
        {
          "output_type": "execute_result",
          "data": {
            "text/plain": [
              "v1    0\n",
              "v2    0\n",
              "dtype: int64"
            ]
          },
          "metadata": {},
          "execution_count": 5
        }
      ]
    },
    {
      "cell_type": "code",
      "source": [
        "# 중복 데이터 확인\n",
        "import numpy as np\n",
        "df.shape, df.v2.nunique()"
      ],
      "metadata": {
        "colab": {
          "base_uri": "https://localhost:8080/"
        },
        "id": "m16ArR6Q_btT",
        "outputId": "029f4697-ab88-45c5-d36c-d54d9028ed2a"
      },
      "execution_count": 6,
      "outputs": [
        {
          "output_type": "execute_result",
          "data": {
            "text/plain": [
              "((5572, 2), 5169)"
            ]
          },
          "metadata": {},
          "execution_count": 6
        }
      ]
    },
    {
      "cell_type": "code",
      "source": [
        "df.drop_duplicates(subset=['v2'], inplace=True)"
      ],
      "metadata": {
        "id": "yDzRoNxT_pov"
      },
      "execution_count": 7,
      "outputs": []
    },
    {
      "cell_type": "code",
      "source": [
        "df.shape, df.v2.nunique()"
      ],
      "metadata": {
        "colab": {
          "base_uri": "https://localhost:8080/"
        },
        "id": "GTd5lEls_4-o",
        "outputId": "2b5f127e-51d4-4f15-e1ec-bb43b30b8699"
      },
      "execution_count": 8,
      "outputs": [
        {
          "output_type": "execute_result",
          "data": {
            "text/plain": [
              "((5169, 2), 5169)"
            ]
          },
          "metadata": {},
          "execution_count": 8
        }
      ]
    },
    {
      "cell_type": "code",
      "source": [
        "# ['ham', 'spam'] > [0, 1]\n",
        "df.v1 = df.v1.replace(['ham', 'spam'], [0, 1])\n",
        "df.head()"
      ],
      "metadata": {
        "colab": {
          "base_uri": "https://localhost:8080/",
          "height": 206
        },
        "id": "OMACKZToAPBB",
        "outputId": "5bcc1022-04ad-43f1-e7b8-a2cb601d110e"
      },
      "execution_count": 9,
      "outputs": [
        {
          "output_type": "execute_result",
          "data": {
            "text/plain": [
              "   v1                                                 v2\n",
              "0   0  Go until jurong point, crazy.. Available only ...\n",
              "1   0                      Ok lar... Joking wif u oni...\n",
              "2   1  Free entry in 2 a wkly comp to win FA Cup fina...\n",
              "3   0  U dun say so early hor... U c already then say...\n",
              "4   0  Nah I don't think he goes to usf, he lives aro..."
            ],
            "text/html": [
              "\n",
              "  <div id=\"df-839a68c6-a8f2-4663-b157-af2502ea3343\">\n",
              "    <div class=\"colab-df-container\">\n",
              "      <div>\n",
              "<style scoped>\n",
              "    .dataframe tbody tr th:only-of-type {\n",
              "        vertical-align: middle;\n",
              "    }\n",
              "\n",
              "    .dataframe tbody tr th {\n",
              "        vertical-align: top;\n",
              "    }\n",
              "\n",
              "    .dataframe thead th {\n",
              "        text-align: right;\n",
              "    }\n",
              "</style>\n",
              "<table border=\"1\" class=\"dataframe\">\n",
              "  <thead>\n",
              "    <tr style=\"text-align: right;\">\n",
              "      <th></th>\n",
              "      <th>v1</th>\n",
              "      <th>v2</th>\n",
              "    </tr>\n",
              "  </thead>\n",
              "  <tbody>\n",
              "    <tr>\n",
              "      <th>0</th>\n",
              "      <td>0</td>\n",
              "      <td>Go until jurong point, crazy.. Available only ...</td>\n",
              "    </tr>\n",
              "    <tr>\n",
              "      <th>1</th>\n",
              "      <td>0</td>\n",
              "      <td>Ok lar... Joking wif u oni...</td>\n",
              "    </tr>\n",
              "    <tr>\n",
              "      <th>2</th>\n",
              "      <td>1</td>\n",
              "      <td>Free entry in 2 a wkly comp to win FA Cup fina...</td>\n",
              "    </tr>\n",
              "    <tr>\n",
              "      <th>3</th>\n",
              "      <td>0</td>\n",
              "      <td>U dun say so early hor... U c already then say...</td>\n",
              "    </tr>\n",
              "    <tr>\n",
              "      <th>4</th>\n",
              "      <td>0</td>\n",
              "      <td>Nah I don't think he goes to usf, he lives aro...</td>\n",
              "    </tr>\n",
              "  </tbody>\n",
              "</table>\n",
              "</div>\n",
              "      <button class=\"colab-df-convert\" onclick=\"convertToInteractive('df-839a68c6-a8f2-4663-b157-af2502ea3343')\"\n",
              "              title=\"Convert this dataframe to an interactive table.\"\n",
              "              style=\"display:none;\">\n",
              "        \n",
              "  <svg xmlns=\"http://www.w3.org/2000/svg\" height=\"24px\"viewBox=\"0 0 24 24\"\n",
              "       width=\"24px\">\n",
              "    <path d=\"M0 0h24v24H0V0z\" fill=\"none\"/>\n",
              "    <path d=\"M18.56 5.44l.94 2.06.94-2.06 2.06-.94-2.06-.94-.94-2.06-.94 2.06-2.06.94zm-11 1L8.5 8.5l.94-2.06 2.06-.94-2.06-.94L8.5 2.5l-.94 2.06-2.06.94zm10 10l.94 2.06.94-2.06 2.06-.94-2.06-.94-.94-2.06-.94 2.06-2.06.94z\"/><path d=\"M17.41 7.96l-1.37-1.37c-.4-.4-.92-.59-1.43-.59-.52 0-1.04.2-1.43.59L10.3 9.45l-7.72 7.72c-.78.78-.78 2.05 0 2.83L4 21.41c.39.39.9.59 1.41.59.51 0 1.02-.2 1.41-.59l7.78-7.78 2.81-2.81c.8-.78.8-2.07 0-2.86zM5.41 20L4 18.59l7.72-7.72 1.47 1.35L5.41 20z\"/>\n",
              "  </svg>\n",
              "      </button>\n",
              "      \n",
              "  <style>\n",
              "    .colab-df-container {\n",
              "      display:flex;\n",
              "      flex-wrap:wrap;\n",
              "      gap: 12px;\n",
              "    }\n",
              "\n",
              "    .colab-df-convert {\n",
              "      background-color: #E8F0FE;\n",
              "      border: none;\n",
              "      border-radius: 50%;\n",
              "      cursor: pointer;\n",
              "      display: none;\n",
              "      fill: #1967D2;\n",
              "      height: 32px;\n",
              "      padding: 0 0 0 0;\n",
              "      width: 32px;\n",
              "    }\n",
              "\n",
              "    .colab-df-convert:hover {\n",
              "      background-color: #E2EBFA;\n",
              "      box-shadow: 0px 1px 2px rgba(60, 64, 67, 0.3), 0px 1px 3px 1px rgba(60, 64, 67, 0.15);\n",
              "      fill: #174EA6;\n",
              "    }\n",
              "\n",
              "    [theme=dark] .colab-df-convert {\n",
              "      background-color: #3B4455;\n",
              "      fill: #D2E3FC;\n",
              "    }\n",
              "\n",
              "    [theme=dark] .colab-df-convert:hover {\n",
              "      background-color: #434B5C;\n",
              "      box-shadow: 0px 1px 3px 1px rgba(0, 0, 0, 0.15);\n",
              "      filter: drop-shadow(0px 1px 2px rgba(0, 0, 0, 0.3));\n",
              "      fill: #FFFFFF;\n",
              "    }\n",
              "  </style>\n",
              "\n",
              "      <script>\n",
              "        const buttonEl =\n",
              "          document.querySelector('#df-839a68c6-a8f2-4663-b157-af2502ea3343 button.colab-df-convert');\n",
              "        buttonEl.style.display =\n",
              "          google.colab.kernel.accessAllowed ? 'block' : 'none';\n",
              "\n",
              "        async function convertToInteractive(key) {\n",
              "          const element = document.querySelector('#df-839a68c6-a8f2-4663-b157-af2502ea3343');\n",
              "          const dataTable =\n",
              "            await google.colab.kernel.invokeFunction('convertToInteractive',\n",
              "                                                     [key], {});\n",
              "          if (!dataTable) return;\n",
              "\n",
              "          const docLinkHtml = 'Like what you see? Visit the ' +\n",
              "            '<a target=\"_blank\" href=https://colab.research.google.com/notebooks/data_table.ipynb>data table notebook</a>'\n",
              "            + ' to learn more about interactive tables.';\n",
              "          element.innerHTML = '';\n",
              "          dataTable['output_type'] = 'display_data';\n",
              "          await google.colab.output.renderOutput(dataTable, element);\n",
              "          const docLink = document.createElement('div');\n",
              "          docLink.innerHTML = docLinkHtml;\n",
              "          element.appendChild(docLink);\n",
              "        }\n",
              "      </script>\n",
              "    </div>\n",
              "  </div>\n",
              "  "
            ]
          },
          "metadata": {},
          "execution_count": 9
        }
      ]
    },
    {
      "cell_type": "code",
      "source": [
        "df.v1.value_counts()"
      ],
      "metadata": {
        "colab": {
          "base_uri": "https://localhost:8080/"
        },
        "id": "tMOcLknZAZID",
        "outputId": "928cc652-ee77-44aa-f3ba-10796acb8bea"
      },
      "execution_count": 10,
      "outputs": [
        {
          "output_type": "execute_result",
          "data": {
            "text/plain": [
              "0    4516\n",
              "1     653\n",
              "Name: v1, dtype: int64"
            ]
          },
          "metadata": {},
          "execution_count": 10
        }
      ]
    },
    {
      "cell_type": "code",
      "source": [
        "# 전처리완료된 파일을 만들어 둔다.\n",
        "df.to_csv('스팸_전처리완료.csv', index=False)\n"
      ],
      "metadata": {
        "id": "Kf8bWlC8A-Ut"
      },
      "execution_count": 11,
      "outputs": []
    },
    {
      "cell_type": "code",
      "source": [
        "x, y = df.v2.values, df.v1.values\n",
        "x.shape, y.shape"
      ],
      "metadata": {
        "colab": {
          "base_uri": "https://localhost:8080/"
        },
        "id": "FhKKQoilBFWX",
        "outputId": "d01fd3be-7e5f-418c-8046-24b3bf64ca56"
      },
      "execution_count": 12,
      "outputs": [
        {
          "output_type": "execute_result",
          "data": {
            "text/plain": [
              "((5169,), (5169,))"
            ]
          },
          "metadata": {},
          "execution_count": 12
        }
      ]
    },
    {
      "cell_type": "markdown",
      "source": [
        "- 텍스트 전처리"
      ],
      "metadata": {
        "id": "4FYoQJ2pBOR7"
      }
    },
    {
      "cell_type": "code",
      "source": [
        "from tensorflow.keras.preprocessing.text import Tokenizer\n",
        "from tensorflow.keras.preprocessing.sequence import pad_sequences"
      ],
      "metadata": {
        "id": "AZCUUTNTBR0C"
      },
      "execution_count": 13,
      "outputs": []
    },
    {
      "cell_type": "code",
      "source": [
        "# encoding, 구둣점 제거, 소문자로 변환\n",
        "import re\n",
        "def preprocessing(s):\n",
        "    s = s.encode('utf8').decode('ascii', 'ignore')\n",
        "    s = re.sub('[^a-z0-9 ]', '', s.lower())\n",
        "    return s"
      ],
      "metadata": {
        "id": "U5V7Mb46B2aE"
      },
      "execution_count": 14,
      "outputs": []
    },
    {
      "cell_type": "code",
      "source": [
        "X_data = [preprocessing(sent) for sent in x]\n",
        "X_data[2]"
      ],
      "metadata": {
        "colab": {
          "base_uri": "https://localhost:8080/",
          "height": 53
        },
        "id": "nOOAQWbfB5_s",
        "outputId": "ceabe06a-398c-4269-9132-b061a0acf503"
      },
      "execution_count": 15,
      "outputs": [
        {
          "output_type": "execute_result",
          "data": {
            "text/plain": [
              "'free entry in 2 a wkly comp to win fa cup final tkts 21st may 2005 text fa to 87121 to receive entry questionstd txt ratetcs apply 08452810075over18s'"
            ],
            "application/vnd.google.colaboratory.intrinsic+json": {
              "type": "string"
            }
          },
          "metadata": {},
          "execution_count": 15
        }
      ]
    },
    {
      "cell_type": "code",
      "source": [
        "t = Tokenizer()\n",
        "t.fit_on_texts(X_data)"
      ],
      "metadata": {
        "id": "_LtV7CcaCXWa"
      },
      "execution_count": 16,
      "outputs": []
    },
    {
      "cell_type": "code",
      "source": [
        "vocab_size = len(t.word_index) + 1\n",
        "vocab_size"
      ],
      "metadata": {
        "colab": {
          "base_uri": "https://localhost:8080/"
        },
        "id": "H5Umj5CtCa54",
        "outputId": "af81bc30-987b-441f-cc15-33d150627201"
      },
      "execution_count": 17,
      "outputs": [
        {
          "output_type": "execute_result",
          "data": {
            "text/plain": [
              "9479"
            ]
          },
          "metadata": {},
          "execution_count": 17
        }
      ]
    },
    {
      "cell_type": "code",
      "source": [
        "print(t.texts_to_sequences(X_data)[2])"
      ],
      "metadata": {
        "colab": {
          "base_uri": "https://localhost:8080/"
        },
        "id": "MsnFPH-DC6Un",
        "outputId": "dcb0aaee-3e15-4f61-f95a-c25b4f5c3cfe"
      },
      "execution_count": 18,
      "outputs": [
        {
          "output_type": "stream",
          "name": "stdout",
          "text": [
            "[54, 508, 8, 22, 4, 959, 960, 2, 217, 2566, 1291, 664, 2567, 2568, 268, 2569, 71, 2566, 2, 2570, 2, 336, 508, 3839, 84, 3840, 424, 3841]\n"
          ]
        }
      ]
    },
    {
      "cell_type": "code",
      "source": [
        "sequences = []\n",
        "for line in X_data:\n",
        "    encoded = t.texts_to_sequences([line])[0]\n",
        "    sequences.append(encoded)\n",
        "    # for i in range(1, len(encoded)):\n",
        "    #     sequences.append(encoded[:i+1])\n",
        "sequences[:15]"
      ],
      "metadata": {
        "colab": {
          "base_uri": "https://localhost:8080/"
        },
        "id": "yy3WoqWwCf_7",
        "outputId": "01ee9d95-62fe-477a-ae8e-aabed26259ae"
      },
      "execution_count": 19,
      "outputs": [
        {
          "output_type": "execute_result",
          "data": {
            "text/plain": [
              "[[43,\n",
              "  410,\n",
              "  3837,\n",
              "  729,\n",
              "  663,\n",
              "  699,\n",
              "  65,\n",
              "  8,\n",
              "  1138,\n",
              "  93,\n",
              "  118,\n",
              "  459,\n",
              "  1139,\n",
              "  146,\n",
              "  2565,\n",
              "  1140,\n",
              "  68,\n",
              "  56,\n",
              "  3838,\n",
              "  133],\n",
              " [51, 281, 1290, 411, 6, 1666],\n",
              " [54,\n",
              "  508,\n",
              "  8,\n",
              "  22,\n",
              "  4,\n",
              "  959,\n",
              "  960,\n",
              "  2,\n",
              "  217,\n",
              "  2566,\n",
              "  1291,\n",
              "  664,\n",
              "  2567,\n",
              "  2568,\n",
              "  268,\n",
              "  2569,\n",
              "  71,\n",
              "  2566,\n",
              "  2,\n",
              "  2570,\n",
              "  2,\n",
              "  336,\n",
              "  508,\n",
              "  3839,\n",
              "  84,\n",
              "  3840,\n",
              "  424,\n",
              "  3841],\n",
              " [6, 211, 144, 24, 325, 2571, 6, 159, 135, 58, 144],\n",
              " [885, 1, 44, 88, 70, 425, 2, 833, 70, 1667, 188, 103, 426],\n",
              " [774,\n",
              "  107,\n",
              "  68,\n",
              "  1449,\n",
              "  42,\n",
              "  100,\n",
              "  182,\n",
              "  579,\n",
              "  23,\n",
              "  7,\n",
              "  40,\n",
              "  362,\n",
              "  82,\n",
              "  363,\n",
              "  57,\n",
              "  105,\n",
              "  364,\n",
              "  3,\n",
              "  41,\n",
              "  12,\n",
              "  14,\n",
              "  83,\n",
              "  1668,\n",
              "  51,\n",
              "  345,\n",
              "  1292,\n",
              "  3842,\n",
              "  2,\n",
              "  72,\n",
              "  365,\n",
              "  2,\n",
              "  2572],\n",
              " [207, 11, 596, 9, 26, 57, 2, 366, 34, 10, 104, 629, 10, 57, 3843, 3844],\n",
              " [78,\n",
              "  229,\n",
              "  13,\n",
              "  1450,\n",
              "  2573,\n",
              "  2573,\n",
              "  2574,\n",
              "  3845,\n",
              "  3846,\n",
              "  3847,\n",
              "  119,\n",
              "  100,\n",
              "  597,\n",
              "  78,\n",
              "  13,\n",
              "  1669,\n",
              "  12,\n",
              "  52,\n",
              "  2575,\n",
              "  1293,\n",
              "  526,\n",
              "  2,\n",
              "  1294,\n",
              "  13,\n",
              "  248,\n",
              "  1669],\n",
              " [730,\n",
              "  78,\n",
              "  4,\n",
              "  961,\n",
              "  427,\n",
              "  240,\n",
              "  3,\n",
              "  16,\n",
              "  100,\n",
              "  460,\n",
              "  2,\n",
              "  3848,\n",
              "  1040,\n",
              "  147,\n",
              "  962,\n",
              "  2,\n",
              "  126,\n",
              "  19,\n",
              "  3849,\n",
              "  126,\n",
              "  396,\n",
              "  3850,\n",
              "  509,\n",
              "  775,\n",
              "  580,\n",
              "  65],\n",
              " [132,\n",
              "  13,\n",
              "  101,\n",
              "  1041,\n",
              "  776,\n",
              "  29,\n",
              "  120,\n",
              "  6,\n",
              "  85,\n",
              "  1295,\n",
              "  2,\n",
              "  551,\n",
              "  2,\n",
              "  5,\n",
              "  337,\n",
              "  598,\n",
              "  963,\n",
              "  34,\n",
              "  428,\n",
              "  12,\n",
              "  54,\n",
              "  19,\n",
              "  5,\n",
              "  101,\n",
              "  551,\n",
              "  1670,\n",
              "  54,\n",
              "  18,\n",
              "  3851],\n",
              " [21,\n",
              "  201,\n",
              "  30,\n",
              "  79,\n",
              "  208,\n",
              "  7,\n",
              "  1,\n",
              "  44,\n",
              "  66,\n",
              "  2,\n",
              "  254,\n",
              "  80,\n",
              "  39,\n",
              "  256,\n",
              "  1042,\n",
              "  197,\n",
              "  172,\n",
              "  154,\n",
              "  3852,\n",
              "  412,\n",
              "  90],\n",
              " [1988,\n",
              "  3853,\n",
              "  2,\n",
              "  217,\n",
              "  183,\n",
              "  45,\n",
              "  338,\n",
              "  2,\n",
              "  3854,\n",
              "  630,\n",
              "  84,\n",
              "  3855,\n",
              "  7,\n",
              "  72,\n",
              "  2,\n",
              "  2576,\n",
              "  383,\n",
              "  3856,\n",
              "  3857,\n",
              "  282,\n",
              "  3858,\n",
              "  424,\n",
              "  91,\n",
              "  1989,\n",
              "  48,\n",
              "  964],\n",
              " [190,\n",
              "  3,\n",
              "  16,\n",
              "  198,\n",
              "  4,\n",
              "  165,\n",
              "  122,\n",
              "  54,\n",
              "  2577,\n",
              "  8,\n",
              "  86,\n",
              "  3859,\n",
              "  147,\n",
              "  3860,\n",
              "  84,\n",
              "  5,\n",
              "  362,\n",
              "  126,\n",
              "  2,\n",
              "  40,\n",
              "  3861,\n",
              "  552,\n",
              "  3862,\n",
              "  3863,\n",
              "  834,\n",
              "  3864],\n",
              " [154,\n",
              "  100,\n",
              "  1671,\n",
              "  12,\n",
              "  5,\n",
              "  148,\n",
              "  553,\n",
              "  2,\n",
              "  397,\n",
              "  3,\n",
              "  12,\n",
              "  39,\n",
              "  3865,\n",
              "  1,\n",
              "  965,\n",
              "  1,\n",
              "  220,\n",
              "  99,\n",
              "  13,\n",
              "  241,\n",
              "  12,\n",
              "  3866,\n",
              "  7,\n",
              "  33,\n",
              "  3867,\n",
              "  11,\n",
              "  965,\n",
              "  3,\n",
              "  16,\n",
              "  100,\n",
              "  665,\n",
              "  7,\n",
              "  4,\n",
              "  2578,\n",
              "  27,\n",
              "  52,\n",
              "  461],\n",
              " [1, 16, 4, 599, 18, 1043, 34, 33]]"
            ]
          },
          "metadata": {},
          "execution_count": 19
        }
      ]
    },
    {
      "cell_type": "code",
      "source": [
        "len(sequences)"
      ],
      "metadata": {
        "colab": {
          "base_uri": "https://localhost:8080/"
        },
        "id": "L8sALUsgExOK",
        "outputId": "11b09b4b-cf4c-4132-fe0d-2667ae5afddb"
      },
      "execution_count": 20,
      "outputs": [
        {
          "output_type": "execute_result",
          "data": {
            "text/plain": [
              "5169"
            ]
          },
          "metadata": {},
          "execution_count": 20
        }
      ]
    },
    {
      "cell_type": "code",
      "source": [
        "max_len = max(len(seq) for seq in sequences)\n",
        "max_len"
      ],
      "metadata": {
        "colab": {
          "base_uri": "https://localhost:8080/"
        },
        "id": "XJQ9hZ_uCjKz",
        "outputId": "230cd305-0935-49f9-fed2-3b844582ff58"
      },
      "execution_count": 21,
      "outputs": [
        {
          "output_type": "execute_result",
          "data": {
            "text/plain": [
              "171"
            ]
          },
          "metadata": {},
          "execution_count": 21
        }
      ]
    },
    {
      "cell_type": "code",
      "source": [
        "# 전체 데이터를 max_len 길이에 맞도록 0 padding\n",
        "data = pad_sequences(sequences, maxlen=max_len)"
      ],
      "metadata": {
        "id": "9Cw6KtDzCm6r"
      },
      "execution_count": 22,
      "outputs": []
    },
    {
      "cell_type": "code",
      "source": [
        "data[:3]"
      ],
      "metadata": {
        "colab": {
          "base_uri": "https://localhost:8080/"
        },
        "id": "7xrL8huvCo3K",
        "outputId": "1b39ce92-d140-4520-9210-89bfe29e53a1"
      },
      "execution_count": 23,
      "outputs": [
        {
          "output_type": "execute_result",
          "data": {
            "text/plain": [
              "array([[   0,    0,    0,    0,    0,    0,    0,    0,    0,    0,    0,\n",
              "           0,    0,    0,    0,    0,    0,    0,    0,    0,    0,    0,\n",
              "           0,    0,    0,    0,    0,    0,    0,    0,    0,    0,    0,\n",
              "           0,    0,    0,    0,    0,    0,    0,    0,    0,    0,    0,\n",
              "           0,    0,    0,    0,    0,    0,    0,    0,    0,    0,    0,\n",
              "           0,    0,    0,    0,    0,    0,    0,    0,    0,    0,    0,\n",
              "           0,    0,    0,    0,    0,    0,    0,    0,    0,    0,    0,\n",
              "           0,    0,    0,    0,    0,    0,    0,    0,    0,    0,    0,\n",
              "           0,    0,    0,    0,    0,    0,    0,    0,    0,    0,    0,\n",
              "           0,    0,    0,    0,    0,    0,    0,    0,    0,    0,    0,\n",
              "           0,    0,    0,    0,    0,    0,    0,    0,    0,    0,    0,\n",
              "           0,    0,    0,    0,    0,    0,    0,    0,    0,    0,    0,\n",
              "           0,    0,    0,    0,    0,    0,    0,    0,    0,    0,    0,\n",
              "           0,    0,    0,    0,    0,    0,    0,    0,   43,  410, 3837,\n",
              "         729,  663,  699,   65,    8, 1138,   93,  118,  459, 1139,  146,\n",
              "        2565, 1140,   68,   56, 3838,  133],\n",
              "       [   0,    0,    0,    0,    0,    0,    0,    0,    0,    0,    0,\n",
              "           0,    0,    0,    0,    0,    0,    0,    0,    0,    0,    0,\n",
              "           0,    0,    0,    0,    0,    0,    0,    0,    0,    0,    0,\n",
              "           0,    0,    0,    0,    0,    0,    0,    0,    0,    0,    0,\n",
              "           0,    0,    0,    0,    0,    0,    0,    0,    0,    0,    0,\n",
              "           0,    0,    0,    0,    0,    0,    0,    0,    0,    0,    0,\n",
              "           0,    0,    0,    0,    0,    0,    0,    0,    0,    0,    0,\n",
              "           0,    0,    0,    0,    0,    0,    0,    0,    0,    0,    0,\n",
              "           0,    0,    0,    0,    0,    0,    0,    0,    0,    0,    0,\n",
              "           0,    0,    0,    0,    0,    0,    0,    0,    0,    0,    0,\n",
              "           0,    0,    0,    0,    0,    0,    0,    0,    0,    0,    0,\n",
              "           0,    0,    0,    0,    0,    0,    0,    0,    0,    0,    0,\n",
              "           0,    0,    0,    0,    0,    0,    0,    0,    0,    0,    0,\n",
              "           0,    0,    0,    0,    0,    0,    0,    0,    0,    0,    0,\n",
              "           0,    0,    0,    0,    0,    0,    0,    0,    0,    0,    0,\n",
              "          51,  281, 1290,  411,    6, 1666],\n",
              "       [   0,    0,    0,    0,    0,    0,    0,    0,    0,    0,    0,\n",
              "           0,    0,    0,    0,    0,    0,    0,    0,    0,    0,    0,\n",
              "           0,    0,    0,    0,    0,    0,    0,    0,    0,    0,    0,\n",
              "           0,    0,    0,    0,    0,    0,    0,    0,    0,    0,    0,\n",
              "           0,    0,    0,    0,    0,    0,    0,    0,    0,    0,    0,\n",
              "           0,    0,    0,    0,    0,    0,    0,    0,    0,    0,    0,\n",
              "           0,    0,    0,    0,    0,    0,    0,    0,    0,    0,    0,\n",
              "           0,    0,    0,    0,    0,    0,    0,    0,    0,    0,    0,\n",
              "           0,    0,    0,    0,    0,    0,    0,    0,    0,    0,    0,\n",
              "           0,    0,    0,    0,    0,    0,    0,    0,    0,    0,    0,\n",
              "           0,    0,    0,    0,    0,    0,    0,    0,    0,    0,    0,\n",
              "           0,    0,    0,    0,    0,    0,    0,    0,    0,    0,    0,\n",
              "           0,    0,    0,    0,    0,    0,    0,    0,    0,    0,    0,\n",
              "          54,  508,    8,   22,    4,  959,  960,    2,  217, 2566, 1291,\n",
              "         664, 2567, 2568,  268, 2569,   71, 2566,    2, 2570,    2,  336,\n",
              "         508, 3839,   84, 3840,  424, 3841]], dtype=int32)"
            ]
          },
          "metadata": {},
          "execution_count": 23
        }
      ]
    },
    {
      "cell_type": "markdown",
      "source": [
        "- train/test data set 분리"
      ],
      "metadata": {
        "id": "xEuREQQnDokj"
      }
    },
    {
      "cell_type": "code",
      "source": [
        "data.shape, y.shape"
      ],
      "metadata": {
        "colab": {
          "base_uri": "https://localhost:8080/"
        },
        "id": "Ga5BVm9NEfnY",
        "outputId": "52d18a33-b97b-43ac-c19e-4e69364ca235"
      },
      "execution_count": 24,
      "outputs": [
        {
          "output_type": "execute_result",
          "data": {
            "text/plain": [
              "((5169, 171), (5169,))"
            ]
          },
          "metadata": {},
          "execution_count": 24
        }
      ]
    },
    {
      "cell_type": "code",
      "source": [
        "from sklearn.model_selection import train_test_split\n",
        "X_train, X_test, y_train, y_test = train_test_split(\n",
        "    data, y, stratify= y, test_size=0.2,\n",
        "\n",
        ")\n",
        "X_train.shape, X_test.shape, y_train.shape, y_test.shape"
      ],
      "metadata": {
        "colab": {
          "base_uri": "https://localhost:8080/"
        },
        "id": "E_TgWX4wDosi",
        "outputId": "69f4ed63-49ac-4823-8e7c-43aaa297e2bd"
      },
      "execution_count": 25,
      "outputs": [
        {
          "output_type": "execute_result",
          "data": {
            "text/plain": [
              "((4135, 171), (1034, 171), (4135,), (1034,))"
            ]
          },
          "metadata": {},
          "execution_count": 25
        }
      ]
    },
    {
      "cell_type": "code",
      "source": [
        "import numpy as np\n",
        "import tensorflow as tf\n",
        "seed = 2022\n",
        "np.random.seed(seed)\n",
        "tf.random.set_seed(seed)"
      ],
      "metadata": {
        "id": "HCYl32-6EEv9"
      },
      "execution_count": 26,
      "outputs": []
    },
    {
      "cell_type": "code",
      "source": [
        "from tensorflow.keras.models import Sequential\n",
        "from tensorflow.keras.layers import Embedding, SimpleRNN, Dense, LSTM, GRU\n",
        "from tensorflow.keras.callbacks import ModelCheckpoint, EarlyStopping"
      ],
      "metadata": {
        "id": "XPh31FKMFYdr"
      },
      "execution_count": 27,
      "outputs": []
    },
    {
      "cell_type": "code",
      "source": [
        "model = Sequential([\n",
        "    Embedding(vocab_size, 32, input_length = max_len),\n",
        "    SimpleRNN(32),\n",
        "    Dense(1, activation='sigmoid')\n",
        "])\n",
        "model.summary()"
      ],
      "metadata": {
        "colab": {
          "base_uri": "https://localhost:8080/"
        },
        "id": "WbCBz1f7Faov",
        "outputId": "b5c5c935-4293-4f1f-fab4-3692d6dea6d1"
      },
      "execution_count": 51,
      "outputs": [
        {
          "output_type": "stream",
          "name": "stdout",
          "text": [
            "Model: \"sequential_6\"\n",
            "_________________________________________________________________\n",
            " Layer (type)                Output Shape              Param #   \n",
            "=================================================================\n",
            " embedding_6 (Embedding)     (None, 171, 32)           303328    \n",
            "                                                                 \n",
            " simple_rnn_6 (SimpleRNN)    (None, 32)                2080      \n",
            "                                                                 \n",
            " dense_6 (Dense)             (None, 1)                 33        \n",
            "                                                                 \n",
            "=================================================================\n",
            "Total params: 305,441\n",
            "Trainable params: 305,441\n",
            "Non-trainable params: 0\n",
            "_________________________________________________________________\n"
          ]
        }
      ]
    },
    {
      "cell_type": "code",
      "source": [
        "model.compile('adam', 'binary_crossentropy', ['accuracy'])"
      ],
      "metadata": {
        "id": "KumkrBVFFef8"
      },
      "execution_count": 52,
      "outputs": []
    },
    {
      "cell_type": "code",
      "source": [
        "model_path = 'best-spam-rnn.h5'\n",
        "mc = ModelCheckpoint(model_path, verbose=1, save_best_only=True)\n",
        "es = EarlyStopping(patience=10)"
      ],
      "metadata": {
        "id": "Xx7n6cDyFxW5"
      },
      "execution_count": 53,
      "outputs": []
    },
    {
      "cell_type": "code",
      "source": [
        "hist1 = model.fit(X_train, y_train, validation_split=0.2, \n",
        "    epochs=200, batch_size=64, \n",
        "    verbose = 1,\n",
        "    callbacks = [mc, es])"
      ],
      "metadata": {
        "colab": {
          "base_uri": "https://localhost:8080/"
        },
        "id": "7ZFp30EcFhUd",
        "outputId": "81d8c37f-4725-45a5-e818-13aa105e59f0"
      },
      "execution_count": 54,
      "outputs": [
        {
          "output_type": "stream",
          "name": "stdout",
          "text": [
            "Epoch 1/200\n",
            "52/52 [==============================] - ETA: 0s - loss: 0.4185 - accuracy: 0.8576\n",
            "Epoch 1: val_loss improved from inf to 0.27469, saving model to best-spam-rnn.h5\n",
            "52/52 [==============================] - 17s 258ms/step - loss: 0.4185 - accuracy: 0.8576 - val_loss: 0.2747 - val_accuracy: 0.9154\n",
            "Epoch 2/200\n",
            "52/52 [==============================] - ETA: 0s - loss: 0.1433 - accuracy: 0.9625\n",
            "Epoch 2: val_loss improved from 0.27469 to 0.10449, saving model to best-spam-rnn.h5\n",
            "52/52 [==============================] - 8s 151ms/step - loss: 0.1433 - accuracy: 0.9625 - val_loss: 0.1045 - val_accuracy: 0.9710\n",
            "Epoch 3/200\n",
            "52/52 [==============================] - ETA: 0s - loss: 0.0718 - accuracy: 0.9813\n",
            "Epoch 3: val_loss did not improve from 0.10449\n",
            "52/52 [==============================] - 8s 158ms/step - loss: 0.0718 - accuracy: 0.9813 - val_loss: 0.1067 - val_accuracy: 0.9649\n",
            "Epoch 4/200\n",
            "52/52 [==============================] - ETA: 0s - loss: 0.0379 - accuracy: 0.9918\n",
            "Epoch 4: val_loss improved from 0.10449 to 0.08266, saving model to best-spam-rnn.h5\n",
            "52/52 [==============================] - 8s 153ms/step - loss: 0.0379 - accuracy: 0.9918 - val_loss: 0.0827 - val_accuracy: 0.9710\n",
            "Epoch 5/200\n",
            "52/52 [==============================] - ETA: 0s - loss: 0.0177 - accuracy: 0.9964\n",
            "Epoch 5: val_loss improved from 0.08266 to 0.07709, saving model to best-spam-rnn.h5\n",
            "52/52 [==============================] - 8s 154ms/step - loss: 0.0177 - accuracy: 0.9964 - val_loss: 0.0771 - val_accuracy: 0.9758\n",
            "Epoch 6/200\n",
            "52/52 [==============================] - ETA: 0s - loss: 0.0114 - accuracy: 0.9979\n",
            "Epoch 6: val_loss did not improve from 0.07709\n",
            "52/52 [==============================] - 8s 150ms/step - loss: 0.0114 - accuracy: 0.9979 - val_loss: 0.0782 - val_accuracy: 0.9758\n",
            "Epoch 7/200\n",
            "52/52 [==============================] - ETA: 0s - loss: 0.0071 - accuracy: 0.9991\n",
            "Epoch 7: val_loss improved from 0.07709 to 0.07343, saving model to best-spam-rnn.h5\n",
            "52/52 [==============================] - 8s 154ms/step - loss: 0.0071 - accuracy: 0.9991 - val_loss: 0.0734 - val_accuracy: 0.9794\n",
            "Epoch 8/200\n",
            "52/52 [==============================] - ETA: 0s - loss: 0.0174 - accuracy: 0.9952\n",
            "Epoch 8: val_loss did not improve from 0.07343\n",
            "52/52 [==============================] - 8s 151ms/step - loss: 0.0174 - accuracy: 0.9952 - val_loss: 0.2965 - val_accuracy: 0.8960\n",
            "Epoch 9/200\n",
            "52/52 [==============================] - ETA: 0s - loss: 0.8203 - accuracy: 0.6563\n",
            "Epoch 9: val_loss did not improve from 0.07343\n",
            "52/52 [==============================] - 8s 151ms/step - loss: 0.8203 - accuracy: 0.6563 - val_loss: 0.4650 - val_accuracy: 0.8706\n",
            "Epoch 10/200\n",
            "52/52 [==============================] - ETA: 0s - loss: 0.4023 - accuracy: 0.8295\n",
            "Epoch 10: val_loss did not improve from 0.07343\n",
            "52/52 [==============================] - 8s 152ms/step - loss: 0.4023 - accuracy: 0.8295 - val_loss: 0.3188 - val_accuracy: 0.8888\n",
            "Epoch 11/200\n",
            "52/52 [==============================] - ETA: 0s - loss: 0.2098 - accuracy: 0.9299\n",
            "Epoch 11: val_loss did not improve from 0.07343\n",
            "52/52 [==============================] - 8s 148ms/step - loss: 0.2098 - accuracy: 0.9299 - val_loss: 0.2977 - val_accuracy: 0.9069\n",
            "Epoch 12/200\n",
            "52/52 [==============================] - ETA: 0s - loss: 0.1517 - accuracy: 0.9544\n",
            "Epoch 12: val_loss did not improve from 0.07343\n",
            "52/52 [==============================] - 8s 148ms/step - loss: 0.1517 - accuracy: 0.9544 - val_loss: 0.2640 - val_accuracy: 0.9093\n",
            "Epoch 13/200\n",
            "52/52 [==============================] - ETA: 0s - loss: 0.1129 - accuracy: 0.9710\n",
            "Epoch 13: val_loss did not improve from 0.07343\n",
            "52/52 [==============================] - 8s 153ms/step - loss: 0.1129 - accuracy: 0.9710 - val_loss: 0.2521 - val_accuracy: 0.9141\n",
            "Epoch 14/200\n",
            "52/52 [==============================] - ETA: 0s - loss: 0.0925 - accuracy: 0.9779\n",
            "Epoch 14: val_loss did not improve from 0.07343\n",
            "52/52 [==============================] - 8s 159ms/step - loss: 0.0925 - accuracy: 0.9779 - val_loss: 0.2437 - val_accuracy: 0.9129\n",
            "Epoch 15/200\n",
            "52/52 [==============================] - ETA: 0s - loss: 0.0679 - accuracy: 0.9843\n",
            "Epoch 15: val_loss did not improve from 0.07343\n",
            "52/52 [==============================] - 8s 150ms/step - loss: 0.0679 - accuracy: 0.9843 - val_loss: 0.2422 - val_accuracy: 0.9081\n",
            "Epoch 16/200\n",
            "52/52 [==============================] - ETA: 0s - loss: 0.0520 - accuracy: 0.9921\n",
            "Epoch 16: val_loss did not improve from 0.07343\n",
            "52/52 [==============================] - 8s 151ms/step - loss: 0.0520 - accuracy: 0.9921 - val_loss: 0.2461 - val_accuracy: 0.9105\n",
            "Epoch 17/200\n",
            "52/52 [==============================] - ETA: 0s - loss: 0.0414 - accuracy: 0.9943\n",
            "Epoch 17: val_loss did not improve from 0.07343\n",
            "52/52 [==============================] - 8s 149ms/step - loss: 0.0414 - accuracy: 0.9943 - val_loss: 0.2344 - val_accuracy: 0.9154\n"
          ]
        }
      ]
    },
    {
      "cell_type": "code",
      "source": [
        "y_acc = hist1.history['accuracy']\n",
        "y_loss = hist1.history['loss']\n",
        "xs = np.arange(1, len(y_acc) + 1)"
      ],
      "metadata": {
        "id": "Q8d5gSPTFhtZ"
      },
      "execution_count": 55,
      "outputs": []
    },
    {
      "cell_type": "code",
      "source": [
        "import matplotlib.pyplot as plt\n",
        "plt.figure(figsize=(12, 8))\n",
        "plt.plot(xs, y_acc, label='accuracy')\n",
        "plt.plot(xs, y_loss, label='loss')\n",
        "plt.legend(), plt.grid()\n",
        "plt.ylim([0, 1.5])\n",
        "plt.show()"
      ],
      "metadata": {
        "colab": {
          "base_uri": "https://localhost:8080/",
          "height": 483
        },
        "id": "89T3PzQGHZ1I",
        "outputId": "17cb7bc2-94dc-4df1-e139-94b26b43f79f"
      },
      "execution_count": 56,
      "outputs": [
        {
          "output_type": "display_data",
          "data": {
            "text/plain": [
              "<Figure size 864x576 with 1 Axes>"
            ],
            "image/png": "[encoded data removed]"
          },
          "metadata": {
            "needs_background": "light"
          }
        }
      ]
    },
    {
      "cell_type": "code",
      "source": [
        ""
      ],
      "metadata": {
        "id": "MaTn0CbvKH3p"
      },
      "execution_count": null,
      "outputs": []
    }
  ]
}