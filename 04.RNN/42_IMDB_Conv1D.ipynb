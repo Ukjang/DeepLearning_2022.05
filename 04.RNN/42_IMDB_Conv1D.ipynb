{
  "nbformat": 4,
  "nbformat_minor": 0,
  "metadata": {
    "colab": {
      "name": "42_IMDB_Conv1D.ipynb",
      "provenance": []
    },
    "kernelspec": {
      "name": "python3",
      "display_name": "Python 3"
    },
    "language_info": {
      "name": "python"
    },
    "accelerator": "GPU"
  },
  "cells": [
    {
      "cell_type": "markdown",
      "source": [
        "### IMDB 영화 리뷰 감성 분석 - Conv1D\n",
        " - Conv1D + Conv1D\n",
        " - Conv1D + LSTM + Dense\n",
        " - Conv1D + Dense + Desne"
      ],
      "metadata": {
        "id": "xglrlBbLCX4f"
      }
    },
    {
      "cell_type": "code",
      "source": [
        "from tensorflow.keras.datasets import imdb\n",
        "from tensorflow.keras.models import Sequential, load_model\n",
        "from tensorflow.keras.layers import Embedding, SimpleRNN, Dense, LSTM, GRU\n",
        "from tensorflow.keras.layers import Conv1D, MaxPool1D, GlobalMaxPooling1D, Dropout\n",
        "from tensorflow.keras.callbacks import ModelCheckpoint, EarlyStopping\n",
        "from tensorflow.keras.preprocessing.sequence import pad_sequences\n",
        "from tensorflow.keras.utils import to_categorical\n",
        "from sklearn.model_selection import train_test_split"
      ],
      "metadata": {
        "id": "kX1XapWSCmga"
      },
      "execution_count": 1,
      "outputs": []
    },
    {
      "cell_type": "code",
      "source": [
        "import numpy as np\n",
        "import tensorflow as tf\n",
        "from tensorflow.keras.datasets import reuters\n",
        "seed = 2022\n",
        "np.random.seed(seed)\n",
        "tf.random.set_seed(seed)"
      ],
      "metadata": {
        "id": "ycoknKAzDzNF"
      },
      "execution_count": 2,
      "outputs": []
    },
    {
      "cell_type": "code",
      "source": [
        "num_words = 10000\n",
        "(X_train, y_train), (_, _) = imdb.load_data(num_words = 10000)"
      ],
      "metadata": {
        "colab": {
          "base_uri": "https://localhost:8080/"
        },
        "id": "RS4x_zyYDA7j",
        "outputId": "e440759a-ad8f-4b7c-893f-b1560b66fd17"
      },
      "execution_count": 3,
      "outputs": [
        {
          "output_type": "stream",
          "name": "stdout",
          "text": [
            "Downloading data from https://storage.googleapis.com/tensorflow/tf-keras-datasets/imdb.npz\n",
            "17465344/17464789 [==============================] - 0s 0us/step\n",
            "17473536/17464789 [==============================] - 0s 0us/step\n"
          ]
        }
      ]
    },
    {
      "cell_type": "code",
      "source": [
        "X_train, X_test, y_train, y_test = train_test_split(\n",
        "    X_train, y_train, stratify=y_train, test_size=0.2,\n",
        "    random_state = seed\n",
        ")"
      ],
      "metadata": {
        "id": "bRrIQANpDwXe"
      },
      "execution_count": 4,
      "outputs": []
    },
    {
      "cell_type": "code",
      "source": [
        "max_len = 500\n",
        "X_train = pad_sequences(X_train, maxlen = max_len)\n",
        "X_test = pad_sequences(X_test, maxlen = max_len)\n",
        "X_train.shape, X_test.shape"
      ],
      "metadata": {
        "colab": {
          "base_uri": "https://localhost:8080/"
        },
        "id": "v8R5vNLcDDJI",
        "outputId": "0d37dbfe-29d5-473f-9283-74f6d73bdfbf"
      },
      "execution_count": 5,
      "outputs": [
        {
          "output_type": "execute_result",
          "data": {
            "text/plain": [
              "((20000, 500), (5000, 500))"
            ]
          },
          "metadata": {},
          "execution_count": 5
        }
      ]
    },
    {
      "cell_type": "markdown",
      "source": [
        "- Case1) Conv1D x 2"
      ],
      "metadata": {
        "id": "KOK2ilrxDEZ4"
      }
    },
    {
      "cell_type": "code",
      "source": [
        "model1 = Sequential([\n",
        "    Embedding(num_words, 100, input_length = max_len),\n",
        "    Dropout(0.5),\n",
        "    Conv1D(64, 7, activation='relu'),\n",
        "    MaxPool1D(7),\n",
        "    Conv1D(64, 5, activation='relu'),\n",
        "    MaxPool1D(5),\n",
        "    GlobalMaxPooling1D(),\n",
        "    Dense(1, activation='sigmoid')\n",
        "])\n",
        "\n",
        "model1.summary()"
      ],
      "metadata": {
        "colab": {
          "base_uri": "https://localhost:8080/"
        },
        "id": "ni2O8e09D3KJ",
        "outputId": "ba7085b3-0b60-43fe-e07b-fb4cf1732b41"
      },
      "execution_count": 6,
      "outputs": [
        {
          "output_type": "stream",
          "name": "stdout",
          "text": [
            "Model: \"sequential\"\n",
            "_________________________________________________________________\n",
            " Layer (type)                Output Shape              Param #   \n",
            "=================================================================\n",
            " embedding (Embedding)       (None, 500, 100)          1000000   \n",
            "                                                                 \n",
            " dropout (Dropout)           (None, 500, 100)          0         \n",
            "                                                                 \n",
            " conv1d (Conv1D)             (None, 494, 64)           44864     \n",
            "                                                                 \n",
            " max_pooling1d (MaxPooling1D  (None, 70, 64)           0         \n",
            " )                                                               \n",
            "                                                                 \n",
            " conv1d_1 (Conv1D)           (None, 66, 64)            20544     \n",
            "                                                                 \n",
            " max_pooling1d_1 (MaxPooling  (None, 13, 64)           0         \n",
            " 1D)                                                             \n",
            "                                                                 \n",
            " global_max_pooling1d (Globa  (None, 64)               0         \n",
            " lMaxPooling1D)                                                  \n",
            "                                                                 \n",
            " dense (Dense)               (None, 1)                 65        \n",
            "                                                                 \n",
            "=================================================================\n",
            "Total params: 1,065,473\n",
            "Trainable params: 1,065,473\n",
            "Non-trainable params: 0\n",
            "_________________________________________________________________\n"
          ]
        }
      ]
    },
    {
      "cell_type": "code",
      "source": [
        "model1.compile('adam', 'binary_crossentropy', ['accuracy'])\n",
        "model_path1 = 'best-imdb-conv1d-conv1d.h5'\n",
        "mc = ModelCheckpoint(model_path1, verbose=1, best_save_only = True)\n",
        "es = EarlyStopping(patience=5)\n",
        "\n",
        "hist1 = model1.fit(X_train, y_train, validation_split = 0.2,\n",
        "          epochs = 100, batch_size = 64, \n",
        "          callbacks=[mc, es])"
      ],
      "metadata": {
        "colab": {
          "base_uri": "https://localhost:8080/"
        },
        "id": "bx2BAtOqIA06",
        "outputId": "3e8eae53-179a-4b6e-b113-7146933c8d4f"
      },
      "execution_count": 9,
      "outputs": [
        {
          "output_type": "stream",
          "name": "stdout",
          "text": [
            "Epoch 1/100\n",
            "247/250 [============================>.] - ETA: 0s - loss: 0.5603 - accuracy: 0.6740\n",
            "Epoch 1: saving model to best-imdb-conv1d-conv1d.h5\n",
            "250/250 [==============================] - 16s 10ms/step - loss: 0.5573 - accuracy: 0.6764 - val_loss: 0.3584 - val_accuracy: 0.8490\n",
            "Epoch 2/100\n",
            "245/250 [============================>.] - ETA: 0s - loss: 0.2877 - accuracy: 0.8827\n",
            "Epoch 2: saving model to best-imdb-conv1d-conv1d.h5\n",
            "250/250 [==============================] - 2s 9ms/step - loss: 0.2884 - accuracy: 0.8824 - val_loss: 0.3217 - val_accuracy: 0.8622\n",
            "Epoch 3/100\n",
            "245/250 [============================>.] - ETA: 0s - loss: 0.1943 - accuracy: 0.9272\n",
            "Epoch 3: saving model to best-imdb-conv1d-conv1d.h5\n",
            "250/250 [==============================] - 2s 9ms/step - loss: 0.1945 - accuracy: 0.9273 - val_loss: 0.3474 - val_accuracy: 0.8568\n",
            "Epoch 4/100\n",
            "249/250 [============================>.] - ETA: 0s - loss: 0.1300 - accuracy: 0.9530\n",
            "Epoch 4: saving model to best-imdb-conv1d-conv1d.h5\n",
            "250/250 [==============================] - 3s 10ms/step - loss: 0.1300 - accuracy: 0.9530 - val_loss: 0.3662 - val_accuracy: 0.8637\n",
            "Epoch 5/100\n",
            "247/250 [============================>.] - ETA: 0s - loss: 0.0859 - accuracy: 0.9687\n",
            "Epoch 5: saving model to best-imdb-conv1d-conv1d.h5\n",
            "250/250 [==============================] - 2s 9ms/step - loss: 0.0867 - accuracy: 0.9684 - val_loss: 0.4444 - val_accuracy: 0.8580\n",
            "Epoch 6/100\n",
            "245/250 [============================>.] - ETA: 0s - loss: 0.0564 - accuracy: 0.9804\n",
            "Epoch 6: saving model to best-imdb-conv1d-conv1d.h5\n",
            "250/250 [==============================] - 3s 10ms/step - loss: 0.0565 - accuracy: 0.9802 - val_loss: 0.5105 - val_accuracy: 0.8608\n",
            "Epoch 7/100\n",
            "247/250 [============================>.] - ETA: 0s - loss: 0.0392 - accuracy: 0.9866\n",
            "Epoch 7: saving model to best-imdb-conv1d-conv1d.h5\n",
            "250/250 [==============================] - 3s 11ms/step - loss: 0.0394 - accuracy: 0.9866 - val_loss: 0.6195 - val_accuracy: 0.8535\n"
          ]
        }
      ]
    },
    {
      "cell_type": "code",
      "source": [
        "best_model1 = load_model(model_path1)\n",
        "best_model1.evaluate(X_test, y_test)"
      ],
      "metadata": {
        "colab": {
          "base_uri": "https://localhost:8080/"
        },
        "id": "G6d9kCHHITxe",
        "outputId": "c059fedd-750d-4aa3-d5f0-89904c88a48f"
      },
      "execution_count": 10,
      "outputs": [
        {
          "output_type": "stream",
          "name": "stdout",
          "text": [
            "157/157 [==============================] - 1s 3ms/step - loss: 0.6030 - accuracy: 0.8590\n"
          ]
        },
        {
          "output_type": "execute_result",
          "data": {
            "text/plain": [
              "[0.6029945015907288, 0.859000027179718]"
            ]
          },
          "metadata": {},
          "execution_count": 10
        }
      ]
    },
    {
      "cell_type": "code",
      "source": [
        "y_acc1 = hist1.history['accuracy']\n",
        "y_loss1 = hist1.history['loss']\n",
        "xs1 = np.arange(1, len(y_acc1) + 1)"
      ],
      "metadata": {
        "id": "vvdxA3HhIVNc"
      },
      "execution_count": 11,
      "outputs": []
    },
    {
      "cell_type": "code",
      "source": [
        "import matplotlib.pyplot as plt\n",
        "plt.figure(figsize=(12, 8))\n",
        "plt.plot(xs1, y_acc1, label='accuracy')\n",
        "plt.plot(xs1, y_loss1, label='loss')\n",
        "plt.legend(), plt.grid()\n",
        "plt.ylim([0, 1.5])\n",
        "plt.show()"
      ],
      "metadata": {
        "colab": {
          "base_uri": "https://localhost:8080/",
          "height": 483
        },
        "id": "6iywqEadIWDb",
        "outputId": "2e6ed53a-82cc-42e9-933c-d714bd4500af"
      },
      "execution_count": 12,
      "outputs": [
        {
          "output_type": "display_data",
          "data": {
            "text/plain": [
              "<Figure size 864x576 with 1 Axes>"
            ],
            "image/png": "[encoded data removed]"
          },
          "metadata": {
            "needs_background": "light"
          }
        }
      ]
    },
    {
      "cell_type": "markdown",
      "source": [
        "- Case2) Conv1D + LSTM"
      ],
      "metadata": {
        "id": "uOcKfZYRH7B8"
      }
    },
    {
      "cell_type": "code",
      "source": [
        "model2 = Sequential([\n",
        "    Embedding(num_words, 100, input_length = max_len),\n",
        "    Dropout(0.5),\n",
        "    Conv1D(64, 5, activation='relu'),\n",
        "    MaxPool1D(5),\n",
        "    LSTM(100),\n",
        "    Dense(1, activation='sigmoid')\n",
        "])\n",
        "\n",
        "model2.summary()"
      ],
      "metadata": {
        "colab": {
          "base_uri": "https://localhost:8080/"
        },
        "id": "uPWIGhetGvUH",
        "outputId": "bf64be3d-4816-41d9-fa1b-eb66a5298413"
      },
      "execution_count": 13,
      "outputs": [
        {
          "output_type": "stream",
          "name": "stdout",
          "text": [
            "Model: \"sequential_1\"\n",
            "_________________________________________________________________\n",
            " Layer (type)                Output Shape              Param #   \n",
            "=================================================================\n",
            " embedding_1 (Embedding)     (None, 500, 100)          1000000   \n",
            "                                                                 \n",
            " dropout_1 (Dropout)         (None, 500, 100)          0         \n",
            "                                                                 \n",
            " conv1d_2 (Conv1D)           (None, 496, 64)           32064     \n",
            "                                                                 \n",
            " max_pooling1d_2 (MaxPooling  (None, 99, 64)           0         \n",
            " 1D)                                                             \n",
            "                                                                 \n",
            " lstm (LSTM)                 (None, 100)               66000     \n",
            "                                                                 \n",
            " dense_1 (Dense)             (None, 1)                 101       \n",
            "                                                                 \n",
            "=================================================================\n",
            "Total params: 1,098,165\n",
            "Trainable params: 1,098,165\n",
            "Non-trainable params: 0\n",
            "_________________________________________________________________\n"
          ]
        }
      ]
    },
    {
      "cell_type": "code",
      "source": [
        "model2.compile('adam', 'binary_crossentropy', ['accuracy'])\n",
        "model2_path = 'best-imdb-conv1d-LSTM.h5'\n",
        "mc = ModelCheckpoint(model2_path, verbose=1, best_save_only = True)\n",
        "es = EarlyStopping(patience=5)\n",
        "\n",
        "hist2 = model2.fit(X_train, y_train, validation_split = 0.2,\n",
        "          epochs = 100, batch_size = 64, \n",
        "          callbacks=[mc, es])"
      ],
      "metadata": {
        "colab": {
          "base_uri": "https://localhost:8080/"
        },
        "id": "d046MGNEIO4T",
        "outputId": "869ca7ff-1d8a-42e1-9110-6828ec554314"
      },
      "execution_count": 14,
      "outputs": [
        {
          "output_type": "stream",
          "name": "stdout",
          "text": [
            "Epoch 1/100\n",
            "247/250 [============================>.] - ETA: 0s - loss: 0.4429 - accuracy: 0.7660\n",
            "Epoch 1: saving model to best-imdb-conv1d-LSTM.h5\n",
            "250/250 [==============================] - 7s 17ms/step - loss: 0.4409 - accuracy: 0.7677 - val_loss: 0.2957 - val_accuracy: 0.8820\n",
            "Epoch 2/100\n",
            "247/250 [============================>.] - ETA: 0s - loss: 0.2159 - accuracy: 0.9155\n",
            "Epoch 2: saving model to best-imdb-conv1d-LSTM.h5\n",
            "250/250 [==============================] - 4s 14ms/step - loss: 0.2167 - accuracy: 0.9152 - val_loss: 0.2654 - val_accuracy: 0.8905\n",
            "Epoch 3/100\n",
            "250/250 [==============================] - ETA: 0s - loss: 0.1416 - accuracy: 0.9489\n",
            "Epoch 3: saving model to best-imdb-conv1d-LSTM.h5\n",
            "250/250 [==============================] - 3s 13ms/step - loss: 0.1416 - accuracy: 0.9489 - val_loss: 0.2951 - val_accuracy: 0.8805\n",
            "Epoch 4/100\n",
            "246/250 [============================>.] - ETA: 0s - loss: 0.0984 - accuracy: 0.9670\n",
            "Epoch 4: saving model to best-imdb-conv1d-LSTM.h5\n",
            "250/250 [==============================] - 3s 13ms/step - loss: 0.0988 - accuracy: 0.9669 - val_loss: 0.3452 - val_accuracy: 0.8805\n",
            "Epoch 5/100\n",
            "249/250 [============================>.] - ETA: 0s - loss: 0.0661 - accuracy: 0.9789\n",
            "Epoch 5: saving model to best-imdb-conv1d-LSTM.h5\n",
            "250/250 [==============================] - 4s 14ms/step - loss: 0.0661 - accuracy: 0.9788 - val_loss: 0.3822 - val_accuracy: 0.8817\n",
            "Epoch 6/100\n",
            "247/250 [============================>.] - ETA: 0s - loss: 0.0612 - accuracy: 0.9793\n",
            "Epoch 6: saving model to best-imdb-conv1d-LSTM.h5\n",
            "250/250 [==============================] - 3s 13ms/step - loss: 0.0614 - accuracy: 0.9791 - val_loss: 0.3698 - val_accuracy: 0.8748\n",
            "Epoch 7/100\n",
            "247/250 [============================>.] - ETA: 0s - loss: 0.0442 - accuracy: 0.9852\n",
            "Epoch 7: saving model to best-imdb-conv1d-LSTM.h5\n",
            "250/250 [==============================] - 3s 13ms/step - loss: 0.0448 - accuracy: 0.9851 - val_loss: 0.4314 - val_accuracy: 0.8705\n"
          ]
        }
      ]
    },
    {
      "cell_type": "code",
      "source": [
        "best_model2 = load_model(model2_path)\n",
        "best_model2.evaluate(X_test, y_test)"
      ],
      "metadata": {
        "colab": {
          "base_uri": "https://localhost:8080/"
        },
        "id": "rMAylnKFIh71",
        "outputId": "03f1c232-ccd3-442b-955e-b5bef957ffb1"
      },
      "execution_count": 16,
      "outputs": [
        {
          "output_type": "stream",
          "name": "stdout",
          "text": [
            "157/157 [==============================] - 1s 5ms/step - loss: 0.4371 - accuracy: 0.8764\n"
          ]
        },
        {
          "output_type": "execute_result",
          "data": {
            "text/plain": [
              "[0.43713638186454773, 0.8763999938964844]"
            ]
          },
          "metadata": {},
          "execution_count": 16
        }
      ]
    },
    {
      "cell_type": "code",
      "source": [
        "y_acc2 = hist1.history['accuracy']\n",
        "y_loss2 = hist1.history['loss']\n",
        "xs2 = np.arange(1, len(y_acc2) + 1)"
      ],
      "metadata": {
        "id": "peVs2FRaIjip"
      },
      "execution_count": 17,
      "outputs": []
    },
    {
      "cell_type": "code",
      "source": [
        "import matplotlib.pyplot as plt\n",
        "plt.figure(figsize=(12, 8))\n",
        "plt.plot(xs2, y_acc2, label='accuracy')\n",
        "plt.plot(xs2, y_loss2, label='loss')\n",
        "plt.legend(), plt.grid()\n",
        "plt.ylim([0, 1.5])\n",
        "plt.show()"
      ],
      "metadata": {
        "colab": {
          "base_uri": "https://localhost:8080/",
          "height": 483
        },
        "id": "06E0UaObIlKE",
        "outputId": "8ecd6519-e207-49ce-f75f-1e4538e379be"
      },
      "execution_count": 18,
      "outputs": [
        {
          "output_type": "display_data",
          "data": {
            "text/plain": [
              "<Figure size 864x576 with 1 Axes>"
            ],
            "image/png": "[encoded data removed]"
          },
          "metadata": {
            "needs_background": "light"
          }
        }
      ]
    },
    {
      "cell_type": "markdown",
      "source": [
        "- Case3) Conv1D + Dense"
      ],
      "metadata": {
        "id": "oB_JdAUTHtKi"
      }
    },
    {
      "cell_type": "code",
      "source": [
        "model3 = Sequential([\n",
        "    Embedding(num_words, 100, input_length = max_len),\n",
        "    Dropout(0.5),\n",
        "    Conv1D(64, 5, activation='relu'),\n",
        "    MaxPool1D(5),\n",
        "    GlobalMaxPooling1D(),\n",
        "    Dense(100, activation='relu'),\n",
        "    Dense(1, activation='sigmoid')\n",
        "])\n",
        "\n",
        "model3.summary()"
      ],
      "metadata": {
        "colab": {
          "base_uri": "https://localhost:8080/"
        },
        "id": "TBEJpyLWEb9K",
        "outputId": "863a2dbf-22d3-4774-8baf-2f475ff98197"
      },
      "execution_count": 24,
      "outputs": [
        {
          "output_type": "stream",
          "name": "stdout",
          "text": [
            "Model: \"sequential_4\"\n",
            "_________________________________________________________________\n",
            " Layer (type)                Output Shape              Param #   \n",
            "=================================================================\n",
            " embedding_4 (Embedding)     (None, 500, 100)          1000000   \n",
            "                                                                 \n",
            " dropout_4 (Dropout)         (None, 500, 100)          0         \n",
            "                                                                 \n",
            " conv1d_5 (Conv1D)           (None, 496, 64)           32064     \n",
            "                                                                 \n",
            " max_pooling1d_5 (MaxPooling  (None, 99, 64)           0         \n",
            " 1D)                                                             \n",
            "                                                                 \n",
            " global_max_pooling1d_1 (Glo  (None, 64)               0         \n",
            " balMaxPooling1D)                                                \n",
            "                                                                 \n",
            " dense_6 (Dense)             (None, 100)               6500      \n",
            "                                                                 \n",
            " dense_7 (Dense)             (None, 1)                 101       \n",
            "                                                                 \n",
            "=================================================================\n",
            "Total params: 1,038,665\n",
            "Trainable params: 1,038,665\n",
            "Non-trainable params: 0\n",
            "_________________________________________________________________\n"
          ]
        }
      ]
    },
    {
      "cell_type": "code",
      "source": [
        "model3.compile('adam', 'binary_crossentropy', ['accuracy'])\n",
        "model3_path = 'best-imdb-conv1d-Dense.h5'\n",
        "mc = ModelCheckpoint(model3_path, verbose=1, best_save_only = True)\n",
        "es = EarlyStopping(patience=5)\n",
        "\n",
        "hist3 = model3.fit(X_train, y_train, validation_split = 0.2,\n",
        "          epochs = 100, batch_size = 64, \n",
        "          callbacks=[mc, es])"
      ],
      "metadata": {
        "colab": {
          "base_uri": "https://localhost:8080/"
        },
        "id": "Z-CsWu00H3KX",
        "outputId": "6b94ab4b-28e9-4d3d-ada7-5084fce42e4c"
      },
      "execution_count": 25,
      "outputs": [
        {
          "output_type": "stream",
          "name": "stdout",
          "text": [
            "Epoch 1/100\n",
            "246/250 [============================>.] - ETA: 0s - loss: 0.5790 - accuracy: 0.6631\n",
            "Epoch 1: saving model to best-imdb-conv1d-Dense.h5\n",
            "250/250 [==============================] - 3s 9ms/step - loss: 0.5759 - accuracy: 0.6658 - val_loss: 0.3881 - val_accuracy: 0.8275\n",
            "Epoch 2/100\n",
            "250/250 [==============================] - ETA: 0s - loss: 0.3112 - accuracy: 0.8684\n",
            "Epoch 2: saving model to best-imdb-conv1d-Dense.h5\n",
            "250/250 [==============================] - 2s 9ms/step - loss: 0.3112 - accuracy: 0.8684 - val_loss: 0.3092 - val_accuracy: 0.8733\n",
            "Epoch 3/100\n",
            "246/250 [============================>.] - ETA: 0s - loss: 0.2054 - accuracy: 0.9204\n",
            "Epoch 3: saving model to best-imdb-conv1d-Dense.h5\n",
            "250/250 [==============================] - 2s 8ms/step - loss: 0.2052 - accuracy: 0.9204 - val_loss: 0.2912 - val_accuracy: 0.8827\n",
            "Epoch 4/100\n",
            "250/250 [==============================] - ETA: 0s - loss: 0.1348 - accuracy: 0.9517\n",
            "Epoch 4: saving model to best-imdb-conv1d-Dense.h5\n",
            "250/250 [==============================] - 2s 8ms/step - loss: 0.1348 - accuracy: 0.9517 - val_loss: 0.3016 - val_accuracy: 0.8873\n",
            "Epoch 5/100\n",
            "248/250 [============================>.] - ETA: 0s - loss: 0.0879 - accuracy: 0.9689\n",
            "Epoch 5: saving model to best-imdb-conv1d-Dense.h5\n",
            "250/250 [==============================] - 2s 8ms/step - loss: 0.0881 - accuracy: 0.9689 - val_loss: 0.3525 - val_accuracy: 0.8810\n",
            "Epoch 6/100\n",
            "247/250 [============================>.] - ETA: 0s - loss: 0.0568 - accuracy: 0.9813\n",
            "Epoch 6: saving model to best-imdb-conv1d-Dense.h5\n",
            "250/250 [==============================] - 2s 9ms/step - loss: 0.0570 - accuracy: 0.9811 - val_loss: 0.3873 - val_accuracy: 0.8802\n",
            "Epoch 7/100\n",
            "249/250 [============================>.] - ETA: 0s - loss: 0.0375 - accuracy: 0.9883\n",
            "Epoch 7: saving model to best-imdb-conv1d-Dense.h5\n",
            "250/250 [==============================] - 2s 8ms/step - loss: 0.0376 - accuracy: 0.9881 - val_loss: 0.4176 - val_accuracy: 0.8838\n",
            "Epoch 8/100\n",
            "245/250 [============================>.] - ETA: 0s - loss: 0.0312 - accuracy: 0.9891\n",
            "Epoch 8: saving model to best-imdb-conv1d-Dense.h5\n",
            "250/250 [==============================] - 2s 9ms/step - loss: 0.0311 - accuracy: 0.9892 - val_loss: 0.4421 - val_accuracy: 0.8795\n"
          ]
        }
      ]
    },
    {
      "cell_type": "code",
      "source": [
        "best_model3 = load_model(model3_path)\n",
        "best_model3.evaluate(X_test, y_test)"
      ],
      "metadata": {
        "colab": {
          "base_uri": "https://localhost:8080/"
        },
        "id": "Y9QcHRPYIsdL",
        "outputId": "e8d95eac-a44b-40e8-c32c-39c8ffa60014"
      },
      "execution_count": 26,
      "outputs": [
        {
          "output_type": "stream",
          "name": "stdout",
          "text": [
            "157/157 [==============================] - 1s 3ms/step - loss: 0.4554 - accuracy: 0.8806\n"
          ]
        },
        {
          "output_type": "execute_result",
          "data": {
            "text/plain": [
              "[0.45538729429244995, 0.8805999755859375]"
            ]
          },
          "metadata": {},
          "execution_count": 26
        }
      ]
    },
    {
      "cell_type": "code",
      "source": [
        "y_acc3 = hist1.history['accuracy']\n",
        "y_loss3 = hist1.history['loss']\n",
        "xs3 = np.arange(1, len(y_acc3) + 1)"
      ],
      "metadata": {
        "id": "K2ipka0PIsfk"
      },
      "execution_count": 27,
      "outputs": []
    },
    {
      "cell_type": "code",
      "source": [
        "import matplotlib.pyplot as plt\n",
        "plt.figure(figsize=(12, 8))\n",
        "plt.plot(xs3, y_acc3, label='accuracy')\n",
        "plt.plot(xs3, y_loss3, label='loss')\n",
        "plt.legend(), plt.grid()\n",
        "plt.ylim([0, 1.5])\n",
        "plt.show()"
      ],
      "metadata": {
        "colab": {
          "base_uri": "https://localhost:8080/",
          "height": 483
        },
        "id": "EUTRvMOkIue9",
        "outputId": "2085c6f9-0bb3-4d64-b96e-1b2e881d622d"
      },
      "execution_count": 28,
      "outputs": [
        {
          "output_type": "display_data",
          "data": {
            "text/plain": [
              "<Figure size 864x576 with 1 Axes>"
            ],
            "image/png": "[encoded data removed]"
          },
          "metadata": {
            "needs_background": "light"
          }
        }
      ]
    },
    {
      "cell_type": "code",
      "source": [
        ""
      ],
      "metadata": {
        "id": "_rGGZ_hZJpNr"
      },
      "execution_count": null,
      "outputs": []
    }
  ]
}