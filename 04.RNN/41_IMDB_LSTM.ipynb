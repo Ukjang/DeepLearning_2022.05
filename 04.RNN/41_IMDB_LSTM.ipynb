{
  "nbformat": 4,
  "nbformat_minor": 0,
  "metadata": {
    "colab": {
      "name": "41_IMDB_LSTM.ipynb",
      "provenance": []
    },
    "kernelspec": {
      "name": "python3",
      "display_name": "Python 3"
    },
    "language_info": {
      "name": "python"
    },
    "accelerator": "GPU"
  },
  "cells": [
    {
      "cell_type": "markdown",
      "source": [
        "### IMDB 영화리뷰 감성분석 - LSTM"
      ],
      "metadata": {
        "id": "almrertE2aro"
      }
    },
    {
      "cell_type": "code",
      "source": [
        "from tensorflow.keras.datasets import imdb\n",
        "(X_train, y_train) , (X_test, y_test) = imdb.load_data()\n",
        "X_train.shape, y_train.shape, X_test.shape, y_test.shape"
      ],
      "metadata": {
        "colab": {
          "base_uri": "https://localhost:8080/"
        },
        "id": "XaYfPkyC2hno",
        "outputId": "499c6b3a-c882-4664-feaa-030918465290"
      },
      "execution_count": 2,
      "outputs": [
        {
          "output_type": "stream",
          "name": "stdout",
          "text": [
            "Downloading data from https://storage.googleapis.com/tensorflow/tf-keras-datasets/imdb.npz\n",
            "17465344/17464789 [==============================] - 0s 0us/step\n",
            "17473536/17464789 [==============================] - 0s 0us/step\n"
          ]
        },
        {
          "output_type": "execute_result",
          "data": {
            "text/plain": [
              "((25000,), (25000,), (25000,), (25000,))"
            ]
          },
          "metadata": {},
          "execution_count": 2
        }
      ]
    },
    {
      "cell_type": "code",
      "source": [
        "print(X_train[0])"
      ],
      "metadata": {
        "colab": {
          "base_uri": "https://localhost:8080/"
        },
        "id": "RLDIRKNG2tHE",
        "outputId": "75970976-7646-4fd5-f341-f04ca701e378"
      },
      "execution_count": 3,
      "outputs": [
        {
          "output_type": "stream",
          "name": "stdout",
          "text": [
            "[1, 14, 22, 16, 43, 530, 973, 1622, 1385, 65, 458, 4468, 66, 3941, 4, 173, 36, 256, 5, 25, 100, 43, 838, 112, 50, 670, 22665, 9, 35, 480, 284, 5, 150, 4, 172, 112, 167, 21631, 336, 385, 39, 4, 172, 4536, 1111, 17, 546, 38, 13, 447, 4, 192, 50, 16, 6, 147, 2025, 19, 14, 22, 4, 1920, 4613, 469, 4, 22, 71, 87, 12, 16, 43, 530, 38, 76, 15, 13, 1247, 4, 22, 17, 515, 17, 12, 16, 626, 18, 19193, 5, 62, 386, 12, 8, 316, 8, 106, 5, 4, 2223, 5244, 16, 480, 66, 3785, 33, 4, 130, 12, 16, 38, 619, 5, 25, 124, 51, 36, 135, 48, 25, 1415, 33, 6, 22, 12, 215, 28, 77, 52, 5, 14, 407, 16, 82, 10311, 8, 4, 107, 117, 5952, 15, 256, 4, 31050, 7, 3766, 5, 723, 36, 71, 43, 530, 476, 26, 400, 317, 46, 7, 4, 12118, 1029, 13, 104, 88, 4, 381, 15, 297, 98, 32, 2071, 56, 26, 141, 6, 194, 7486, 18, 4, 226, 22, 21, 134, 476, 26, 480, 5, 144, 30, 5535, 18, 51, 36, 28, 224, 92, 25, 104, 4, 226, 65, 16, 38, 1334, 88, 12, 16, 283, 5, 16, 4472, 113, 103, 32, 15, 16, 5345, 19, 178, 32]\n"
          ]
        }
      ]
    },
    {
      "cell_type": "code",
      "source": [
        "# 리뷰 최대길이, 평균길이\n",
        "max(len(s) for s in X_train) , sum(map(len, X_train)) / len(X_train)"
      ],
      "metadata": {
        "colab": {
          "base_uri": "https://localhost:8080/"
        },
        "id": "wF6RNtRp2wBE",
        "outputId": "434c3be5-0bac-4b95-bcf7-dcaca3cb3739"
      },
      "execution_count": 4,
      "outputs": [
        {
          "output_type": "execute_result",
          "data": {
            "text/plain": [
              "(2494, 238.71364)"
            ]
          },
          "metadata": {},
          "execution_count": 4
        }
      ]
    },
    {
      "cell_type": "markdown",
      "source": [
        "### LSTM으로 감성 분석\n",
        "- 단어 빈도수 : 10,000 (총 88,584)\n",
        "- 리뷰 단어수 : 500(최대 2494)\n",
        "- 최대 데이터 갯수 => 나중에 해보기!\n",
        "    - train : 25000, valid: 10000, test: 15000\n",
        "- 수업시간 :\n",
        "    - train: 20000, test: 5000(valid:20%)"
      ],
      "metadata": {
        "id": "aTOnC_tB3nu1"
      }
    },
    {
      "cell_type": "code",
      "source": [
        "import numpy as np\n",
        "import tensorflow as tf\n",
        "from tensorflow.keras.datasets import reuters\n",
        "seed = 2022\n",
        "np.random.seed(seed)\n",
        "tf.random.set_seed(seed)"
      ],
      "metadata": {
        "id": "STf58S4F4IrQ"
      },
      "execution_count": 5,
      "outputs": []
    },
    {
      "cell_type": "code",
      "source": [
        "from tensorflow.keras.models import Sequential, load_model\n",
        "from tensorflow.keras.layers import Embedding, SimpleRNN, Dense, LSTM, GRU\n",
        "from tensorflow.keras.callbacks import ModelCheckpoint, EarlyStopping\n",
        "from tensorflow.keras.preprocessing.sequence import pad_sequences\n",
        "from tensorflow.keras.utils import to_categorical\n",
        "from sklearn.model_selection import train_test_split"
      ],
      "metadata": {
        "id": "7VUMTQRv41kh"
      },
      "execution_count": 6,
      "outputs": []
    },
    {
      "cell_type": "code",
      "source": [
        "num_words = 10000\n",
        "(X_train, y_train), (_, _) = imdb.load_data(num_words = 10000)"
      ],
      "metadata": {
        "id": "vGSKHl2b6Xze"
      },
      "execution_count": 7,
      "outputs": []
    },
    {
      "cell_type": "code",
      "source": [
        "X_train, X_test, y_train, y_test = train_test_split(\n",
        "    X_train, y_train, stratify=y_train, test_size=0.2,\n",
        "    random_state = seed\n",
        ")"
      ],
      "metadata": {
        "id": "1OWh0mzQ5NGF"
      },
      "execution_count": 8,
      "outputs": []
    },
    {
      "cell_type": "code",
      "source": [
        "X_train.shape, X_test.shape, y_train.shape, y_test.shape"
      ],
      "metadata": {
        "colab": {
          "base_uri": "https://localhost:8080/"
        },
        "id": "qsPCK0BV5YY8",
        "outputId": "2d07ba40-96b4-490d-fc92-275eaca7c13f"
      },
      "execution_count": 9,
      "outputs": [
        {
          "output_type": "execute_result",
          "data": {
            "text/plain": [
              "((20000,), (5000,), (20000,), (5000,))"
            ]
          },
          "metadata": {},
          "execution_count": 9
        }
      ]
    },
    {
      "cell_type": "code",
      "source": [
        "max_len = 500\n",
        "X_train = pad_sequences(X_train, maxlen = max_len)\n",
        "X_test = pad_sequences(X_test, maxlen = max_len)\n",
        "X_train.shape, X_test.shape"
      ],
      "metadata": {
        "colab": {
          "base_uri": "https://localhost:8080/"
        },
        "id": "PqGo5uAy5bcR",
        "outputId": "a0cdbb3a-197c-4dd6-cbd8-d407791554fe"
      },
      "execution_count": 10,
      "outputs": [
        {
          "output_type": "execute_result",
          "data": {
            "text/plain": [
              "((20000, 500), (5000, 500))"
            ]
          },
          "metadata": {},
          "execution_count": 10
        }
      ]
    },
    {
      "cell_type": "code",
      "source": [
        "model = Sequential([\n",
        "    Embedding(num_words, 100, input_length = max_len),\n",
        "    LSTM(128),\n",
        "    Dense(1, activation='sigmoid')\n",
        "])\n",
        "model.summary()"
      ],
      "metadata": {
        "colab": {
          "base_uri": "https://localhost:8080/"
        },
        "id": "wssMKaJS5_fR",
        "outputId": "71ffa7d5-1419-49a5-e88d-5515bfeaccf7"
      },
      "execution_count": 20,
      "outputs": [
        {
          "output_type": "stream",
          "name": "stdout",
          "text": [
            "Model: \"sequential_1\"\n",
            "_________________________________________________________________\n",
            " Layer (type)                Output Shape              Param #   \n",
            "=================================================================\n",
            " embedding_1 (Embedding)     (None, 500, 100)          1000000   \n",
            "                                                                 \n",
            " lstm_1 (LSTM)               (None, 128)               117248    \n",
            "                                                                 \n",
            " dense_1 (Dense)             (None, 1)                 129       \n",
            "                                                                 \n",
            "=================================================================\n",
            "Total params: 1,117,377\n",
            "Trainable params: 1,117,377\n",
            "Non-trainable params: 0\n",
            "_________________________________________________________________\n"
          ]
        }
      ]
    },
    {
      "cell_type": "code",
      "source": [
        "model.compile('adam', 'binary_crossentropy', ['accuracy'])"
      ],
      "metadata": {
        "id": "WUH8mmLl63m7"
      },
      "execution_count": 21,
      "outputs": []
    },
    {
      "cell_type": "code",
      "source": [
        "model_path = 'best-imdb_lstm.h5'\n",
        "mc = ModelCheckpoint(model_path, verbose=1, best_save_only = True)\n",
        "es = EarlyStopping(patience=5)"
      ],
      "metadata": {
        "id": "IPI0NBh369UZ"
      },
      "execution_count": 22,
      "outputs": []
    },
    {
      "cell_type": "code",
      "source": [
        "hist1 = model.fit(X_train, y_train, validation_split = 0.2,\n",
        "          epochs = 100, batch_size = 64, \n",
        "          callbacks=[mc, es])"
      ],
      "metadata": {
        "colab": {
          "base_uri": "https://localhost:8080/"
        },
        "id": "7Eff00vL7QBM",
        "outputId": "ee180dd6-19b6-44db-f08f-907be54c31d2"
      },
      "execution_count": 23,
      "outputs": [
        {
          "output_type": "stream",
          "name": "stdout",
          "text": [
            "Epoch 1/100\n",
            "249/250 [============================>.] - ETA: 0s - loss: 0.4459 - accuracy: 0.7878\n",
            "Epoch 1: saving model to best-imdb_lstm.h5\n",
            "250/250 [==============================] - 9s 33ms/step - loss: 0.4455 - accuracy: 0.7879 - val_loss: 0.3277 - val_accuracy: 0.8590\n",
            "Epoch 2/100\n",
            "250/250 [==============================] - ETA: 0s - loss: 0.2678 - accuracy: 0.8959\n",
            "Epoch 2: saving model to best-imdb_lstm.h5\n",
            "250/250 [==============================] - 8s 32ms/step - loss: 0.2678 - accuracy: 0.8959 - val_loss: 0.3170 - val_accuracy: 0.8675\n",
            "Epoch 3/100\n",
            "249/250 [============================>.] - ETA: 0s - loss: 0.1896 - accuracy: 0.9315\n",
            "Epoch 3: saving model to best-imdb_lstm.h5\n",
            "250/250 [==============================] - 8s 31ms/step - loss: 0.1897 - accuracy: 0.9314 - val_loss: 0.3342 - val_accuracy: 0.8580\n",
            "Epoch 4/100\n",
            "249/250 [============================>.] - ETA: 0s - loss: 0.1492 - accuracy: 0.9477\n",
            "Epoch 4: saving model to best-imdb_lstm.h5\n",
            "250/250 [==============================] - 8s 31ms/step - loss: 0.1498 - accuracy: 0.9476 - val_loss: 0.3881 - val_accuracy: 0.8468\n",
            "Epoch 5/100\n",
            "249/250 [============================>.] - ETA: 0s - loss: 0.0998 - accuracy: 0.9662\n",
            "Epoch 5: saving model to best-imdb_lstm.h5\n",
            "250/250 [==============================] - 7s 30ms/step - loss: 0.0997 - accuracy: 0.9662 - val_loss: 0.4243 - val_accuracy: 0.8577\n",
            "Epoch 6/100\n",
            "249/250 [============================>.] - ETA: 0s - loss: 0.0929 - accuracy: 0.9672\n",
            "Epoch 6: saving model to best-imdb_lstm.h5\n",
            "250/250 [==============================] - 8s 30ms/step - loss: 0.0928 - accuracy: 0.9673 - val_loss: 0.4869 - val_accuracy: 0.8518\n",
            "Epoch 7/100\n",
            "249/250 [============================>.] - ETA: 0s - loss: 0.0630 - accuracy: 0.9786\n",
            "Epoch 7: saving model to best-imdb_lstm.h5\n",
            "250/250 [==============================] - 8s 31ms/step - loss: 0.0633 - accuracy: 0.9786 - val_loss: 0.5254 - val_accuracy: 0.8633\n"
          ]
        }
      ]
    },
    {
      "cell_type": "code",
      "source": [
        "best_model = load_model(model_path)\n",
        "best_model.evaluate(X_test, y_test)"
      ],
      "metadata": {
        "colab": {
          "base_uri": "https://localhost:8080/"
        },
        "id": "dJcEWFar8AuY",
        "outputId": "87a980ff-99ca-4b5b-b8f4-3648f25d5955"
      },
      "execution_count": 24,
      "outputs": [
        {
          "output_type": "stream",
          "name": "stdout",
          "text": [
            "157/157 [==============================] - 2s 11ms/step - loss: 0.5556 - accuracy: 0.8542\n"
          ]
        },
        {
          "output_type": "execute_result",
          "data": {
            "text/plain": [
              "[0.5556423664093018, 0.854200005531311]"
            ]
          },
          "metadata": {},
          "execution_count": 24
        }
      ]
    },
    {
      "cell_type": "code",
      "source": [
        "y_acc = hist1.history['accuracy']\n",
        "y_loss = hist1.history['loss']\n",
        "xs = np.arange(1, len(y_acc) + 1)"
      ],
      "metadata": {
        "id": "e4dANlb28A4V"
      },
      "execution_count": 25,
      "outputs": []
    },
    {
      "cell_type": "code",
      "source": [
        "import matplotlib.pyplot as plt\n",
        "plt.figure(figsize=(12, 8))\n",
        "plt.plot(xs, y_acc, label='accuracy')\n",
        "plt.plot(xs, y_loss, label='loss')\n",
        "plt.legend(), plt.grid()\n",
        "plt.ylim([0, 1.5])\n",
        "plt.show()"
      ],
      "metadata": {
        "colab": {
          "base_uri": "https://localhost:8080/",
          "height": 483
        },
        "id": "9axsDJg08DiZ",
        "outputId": "158e17bd-1499-4eba-d5c0-5795dc134f6d"
      },
      "execution_count": 26,
      "outputs": [
        {
          "output_type": "display_data",
          "data": {
            "text/plain": [
              "<Figure size 864x576 with 1 Axes>"
            ],
            "image/png": "[encoded data removed]"
          },
          "metadata": {
            "needs_background": "light"
          }
        }
      ]
    },
    {
      "cell_type": "code",
      "source": [
        ""
      ],
      "metadata": {
        "id": "1HXRehP38HIw"
      },
      "execution_count": null,
      "outputs": []
    }
  ]
}